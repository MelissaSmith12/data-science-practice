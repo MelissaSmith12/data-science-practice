{
 "cells": [
  {
   "cell_type": "code",
   "execution_count": null,
   "metadata": {
    "collapsed": false
   },
   "outputs": [],
   "source": [
    "\n"
   ]
  },
  {
   "cell_type": "code",
   "execution_count": 25,
   "metadata": {
    "collapsed": false
   },
   "outputs": [],
   "source": [
    "\n",
    "\n",
    "import time\n",
    "import hashlib\n",
    "import hmac\n",
    "import base64\n",
    "import urllib\n",
    "import pprint\n",
    "import json\n",
    "\n",
    "\n",
    "partner_id = ''                      # ID provided by AB. \n",
    "partner_key = key    # Key provided by AB.\n",
    "expires = str(int(time.time() + 86400))    # Seconds since epoch. Example expires in 24 hours.\n",
    "user_id = '383485'                         # Partner defined. May be an empty string.\n",
    "message = expires + \"\\n\" + user_id\n",
    "digest = hmac.new(partner_key.encode(), message.encode(), digestmod=hashlib.sha256).digest()\n",
    "signature = base64.b64encode(digest).decode()\n",
    "encoded_sig = urllib.quote_plus(signature)\n",
    "parms = 'partner.id=' + partner_id + \\\n",
    "        '&auth.signature=' + encoded_sig + \\\n",
    "        '&auth.expires=' + expires + \\\n",
    "        '&user.id=' + user_id\n",
    "result = urllib.urlopen('http://api.academicbenchmarks.com/rest/v4/standards?' + parms).read()\n",
    "#result = urllib.urlopen('https://api.academicbenchmarks.com/rest/v4/standards?limit=0&filter[standards]=(document.publication.authorities.descr%20eq%20%27Kentucky%20DOE%27)' + parms).read()\n",
    "#pprint.pprint(result)\n",
    "url = 'https://api.academicbenchmarks.com/rest/v4/standards/1F9D5A8A-7053-11DF-8EBF-BE719DFF4B22?'\n",
    "result2 = urllib.urlopen(url + parms).read()"
   ]
  },
  {
   "cell_type": "code",
   "execution_count": 91,
   "metadata": {
    "collapsed": false
   },
   "outputs": [],
   "source": [
    "#print result2"
   ]
  },
  {
   "cell_type": "code",
   "execution_count": 90,
   "metadata": {
    "collapsed": false
   },
   "outputs": [],
   "source": [
    "data = json.loads(result)\n",
    "#pprint.pprint(data)"
   ]
  },
  {
   "cell_type": "code",
   "execution_count": null,
   "metadata": {
    "collapsed": false
   },
   "outputs": [],
   "source": []
  },
  {
   "cell_type": "code",
   "execution_count": null,
   "metadata": {
    "collapsed": false
   },
   "outputs": [],
   "source": []
  },
  {
   "cell_type": "code",
   "execution_count": null,
   "metadata": {
    "collapsed": true
   },
   "outputs": [],
   "source": []
  },
  {
   "cell_type": "code",
   "execution_count": 7,
   "metadata": {
    "collapsed": false
   },
   "outputs": [
    {
     "ename": "AttributeError",
     "evalue": "'str' object has no attribute 'headers'",
     "output_type": "error",
     "traceback": [
      "\u001b[0;31m---------------------------------------------------------------------------\u001b[0m",
      "\u001b[0;31mAttributeError\u001b[0m                            Traceback (most recent call last)",
      "\u001b[0;32m<ipython-input-7-16ddb41b2cbe>\u001b[0m in \u001b[0;36m<module>\u001b[0;34m()\u001b[0m\n\u001b[1;32m      1\u001b[0m \u001b[1;31m# Headers is a dictionary\u001b[0m\u001b[1;33m\u001b[0m\u001b[1;33m\u001b[0m\u001b[0m\n\u001b[0;32m----> 2\u001b[0;31m \u001b[1;32mprint\u001b[0m\u001b[1;33m(\u001b[0m\u001b[0mresult\u001b[0m\u001b[1;33m.\u001b[0m\u001b[0mheaders\u001b[0m\u001b[1;33m)\u001b[0m\u001b[1;33m\u001b[0m\u001b[0m\n\u001b[0m\u001b[1;32m      3\u001b[0m \u001b[1;33m\u001b[0m\u001b[0m\n\u001b[1;32m      4\u001b[0m \u001b[1;31m# Get the content-type from the dictionary.\u001b[0m\u001b[1;33m\u001b[0m\u001b[1;33m\u001b[0m\u001b[0m\n\u001b[1;32m      5\u001b[0m \u001b[1;32mprint\u001b[0m\u001b[1;33m(\u001b[0m\u001b[0mresult\u001b[0m\u001b[1;33m.\u001b[0m\u001b[0mheaders\u001b[0m\u001b[1;33m[\u001b[0m\u001b[1;34m\"content-type\"\u001b[0m\u001b[1;33m]\u001b[0m\u001b[1;33m)\u001b[0m\u001b[1;33m\u001b[0m\u001b[0m\n",
      "\u001b[0;31mAttributeError\u001b[0m: 'str' object has no attribute 'headers'"
     ]
    }
   ],
   "source": [
    "# Headers is a dictionary\n",
    "print(result.headers)\n",
    "\n",
    "# Get the content-type from the dictionary.\n",
    "print(result.headers[\"content-type\"])"
   ]
  },
  {
   "cell_type": "code",
   "execution_count": 39,
   "metadata": {
    "collapsed": true
   },
   "outputs": [],
   "source": [
    "import requests\n",
    "\n",
    "url = 'https://api.academicbenchmarks.com/rest/v4/standards/1F9D5A8A-7053-11DF-8EBF-BE719DFF4B22?'"
   ]
  },
  {
   "cell_type": "code",
   "execution_count": 13,
   "metadata": {
    "collapsed": false
   },
   "outputs": [
    {
     "name": "stdout",
     "output_type": "stream",
     "text": [
      "<Response [401]>\n"
     ]
    }
   ],
   "source": [
    "print test"
   ]
  },
  {
   "cell_type": "code",
   "execution_count": 15,
   "metadata": {
    "collapsed": true
   },
   "outputs": [],
   "source": [
    "test = urllib.urlopen(url + parms).read()"
   ]
  },
  {
   "cell_type": "code",
   "execution_count": 16,
   "metadata": {
    "collapsed": false
   },
   "outputs": [
    {
     "name": "stdout",
     "output_type": "stream",
     "text": [
      "<!DOCTYPE HTML PUBLIC \"-//IETF//DTD HTML 2.0//EN\">\n",
      "<html><head>\n",
      "<title>404 Not Found</title>\n",
      "</head><body>\n",
      "<h1>Not Found</h1>\n",
      "<p>The requested URL /rest/v4/standards/1F9D5A8A-7053-11DF-8EBF-BE719DFF4B22partner.id=ets&amp;auth.signature=NI8J2XdEfVLX3vFbkr38MsLXumvgWxAP/3d86izSzq4=&amp;auth.expires=1488032819&amp;user.id=383485 was not found on this server.</p>\n",
      "<hr>\n",
      "<address>Apache/2.4.7 (Ubuntu) Server at api.academicbenchmarks.com Port 80</address>\n",
      "</body></html>\n",
      "\n"
     ]
    }
   ],
   "source": [
    "print test"
   ]
  },
  {
   "cell_type": "code",
   "execution_count": 49,
   "metadata": {
    "collapsed": false
   },
   "outputs": [
    {
     "name": "stdout",
     "output_type": "stream",
     "text": [
      "<requests.auth.HTTPBasicAuth object at 0x03BFC530>\n",
      "https://api.academicbenchmarks.com/rest/v4/standards/1F9D5A8A-7053-11DF-8EBF-BE719DFF4B22\n"
     ]
    }
   ],
   "source": [
    "\n",
    "\n",
    "from requests.auth import HTTPBasicAuth\n",
    "auth = HTTPBasicAuth(partner_id, partner_key)\n",
    "url = 'https://api.academicbenchmarks.com/rest/v4/standards/1F9D5A8A-7053-11DF-8EBF-BE719DFF4B22'\n",
    "\n",
    "test = requests.get(url=url, params=parms)\n",
    "content = json.loads(test.text)\n",
    "\n",
    "print auth\n",
    "print url"
   ]
  },
  {
   "cell_type": "code",
   "execution_count": 50,
   "metadata": {
    "collapsed": false
   },
   "outputs": [
    {
     "name": "stdout",
     "output_type": "stream",
     "text": [
      "200\n"
     ]
    }
   ],
   "source": [
    "print test.status_code"
   ]
  },
  {
   "cell_type": "code",
   "execution_count": 52,
   "metadata": {
    "collapsed": false
   },
   "outputs": [],
   "source": [
    "content = json.loads(test.text)"
   ]
  },
  {
   "cell_type": "code",
   "execution_count": 89,
   "metadata": {
    "collapsed": false
   },
   "outputs": [],
   "source": [
    "#pprint.pprint(content)"
   ]
  },
  {
   "cell_type": "code",
   "execution_count": 55,
   "metadata": {
    "collapsed": true
   },
   "outputs": [],
   "source": [
    "url = \"https://api.academicbenchmarks.com/rest/v4/standards?filter[standards]=(disciplines.subjects.code%20eq%20%27MATH%27%20and%20education_levels.grades.code%20eq%20%275%27%20and%20document.publication.authorities.descr%20eq%20%27Kentucky%20DOE%27%20and%20utilizations.type%20eq%20%27alignable%27)\"\n",
    "test = requests.get(url=url, params=parms)\n",
    "content = json.loads(test.text)\n"
   ]
  },
  {
   "cell_type": "code",
   "execution_count": 88,
   "metadata": {
    "collapsed": false
   },
   "outputs": [],
   "source": [
    "#pprint.pprint(content)"
   ]
  },
  {
   "cell_type": "code",
   "execution_count": 73,
   "metadata": {
    "collapsed": true
   },
   "outputs": [],
   "source": [
    "base_url = \"https://api.academicbenchmarks.com/rest/v4/\"\n",
    "assets = base_url + \"assets\"\n",
    "test_assets = requests.get(url=assets, params=parms)"
   ]
  },
  {
   "cell_type": "code",
   "execution_count": 87,
   "metadata": {
    "collapsed": false
   },
   "outputs": [],
   "source": [
    "content = json.loads(test_assets.text)\n",
    "#pprint.pprint(content)"
   ]
  },
  {
   "cell_type": "code",
   "execution_count": 83,
   "metadata": {
    "collapsed": false
   },
   "outputs": [],
   "source": [
    "asset_filter = \"filter%5Bassets%5D=(title%20eq%20'Algebra')\"\n",
    "               #filter%5Bassets%5D=(asset_type%20eq%20'article')\n",
    "filter_parms = asset_filter + r\"&\" + parms\n",
    "test_single_assets_filter = requests.get(url = assets, params=filter_parms)"
   ]
  },
  {
   "cell_type": "code",
   "execution_count": 84,
   "metadata": {
    "collapsed": false
   },
   "outputs": [
    {
     "name": "stdout",
     "output_type": "stream",
     "text": [
      "<Response [200]>\n"
     ]
    }
   ],
   "source": [
    "print test_single_assets_filter"
   ]
  },
  {
   "cell_type": "code",
   "execution_count": 86,
   "metadata": {
    "collapsed": false
   },
   "outputs": [],
   "source": [
    "woohoo= json.loads(test_single_assets_filter.text)\n",
    "#pprint.pprint(woohoo)"
   ]
  },
  {
   "cell_type": "code",
   "execution_count": null,
   "metadata": {
    "collapsed": true
   },
   "outputs": [],
   "source": []
  }
 ],
 "metadata": {
  "anaconda-cloud": {},
  "kernelspec": {
   "display_name": "Python [conda root]",
   "language": "python",
   "name": "conda-root-py"
  },
  "language_info": {
   "codemirror_mode": {
    "name": "ipython",
    "version": 2
   },
   "file_extension": ".py",
   "mimetype": "text/x-python",
   "name": "python",
   "nbconvert_exporter": "python",
   "pygments_lexer": "ipython2",
   "version": "2.7.12"
  }
 },
 "nbformat": 4,
 "nbformat_minor": 1
}
