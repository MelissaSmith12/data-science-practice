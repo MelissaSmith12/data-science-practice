{
 "cells": [
  {
   "cell_type": "markdown",
   "metadata": {},
   "source": [
    "The goal of this program is to take a list of search results from Archive of Our Own and return a more customized set of search results. In particular, this program returns the stories with a fic quality rating, simply calculated by dividing the number of reads by the number of kudos. Eventually, this calculation may become more nuanced.\n",
    "\n",
    "Inputs:\n",
    "    AO3 URL"
   ]
  },
  {
   "cell_type": "code",
   "execution_count": 1,
   "metadata": {
    "collapsed": true
   },
   "outputs": [],
   "source": [
    "from urllib import urlopen\n",
    "from bs4 import BeautifulSoup\n",
    "import pandas as pd\n",
    "import requests\n",
    "import string\n",
    "from lxml import html\n",
    "\n",
    "story_list = []\n",
    "base_url = \"http://archiveofourown.org\"\n",
    "link_url = \"http://archiveofourown.org/tags/Sherlock%20Holmes*s*Sarah%20Sawyer*s*John%20Watson/works?page=\"\n",
    "page_number = 1"
   ]
  },
  {
   "cell_type": "code",
   "execution_count": 2,
   "metadata": {
    "collapsed": true
   },
   "outputs": [],
   "source": [
    "file = urlopen(link_url)"
   ]
  },
  {
   "cell_type": "code",
   "execution_count": 3,
   "metadata": {
    "collapsed": false
   },
   "outputs": [
    {
     "name": "stdout",
     "output_type": "stream",
     "text": [
      "<ol class=\"pagination actions\" role=\"navigation\" title=\"pagination\"><li class=\"previous\" title=\"previous\"><span class=\"disabled\">← Previous</span></li> <li><span class=\"current\">1</span></li> <li><a href=\"/tags/Sherlock%20Holmes*s*Sarah%20Sawyer*s*John%20Watson/works?page=2\" rel=\"next\">2</a></li> <li class=\"next\" title=\"next\"><a href=\"/tags/Sherlock%20Holmes*s*Sarah%20Sawyer*s*John%20Watson/works?page=2\" rel=\"next\">Next →</a></li></ol>\n"
     ]
    }
   ],
   "source": [
    "soup = BeautifulSoup(file, \"lxml\")\n",
    "stories = soup.ol\n",
    "\n",
    "print stories"
   ]
  },
  {
   "cell_type": "code",
   "execution_count": 4,
   "metadata": {
    "collapsed": false
   },
   "outputs": [
    {
     "name": "stdout",
     "output_type": "stream",
     "text": [
      "[<li class=\"work blurb group\" id=\"work_6092563\" role=\"article\">\\n<!--title, author, fandom-->\\n<div class=\"header module\">\\n<h4 class=\"heading\">\\n<a href=\"/works/6092563\">Triadverse One-shots</a>\\n      by\\n        \\n      <!-- do not cache -->\\n<a href=\"/users/MelyndaR/pseuds/MelyndaR\" rel=\"author\">MelyndaR</a>\\n</h4>\\n<h5 class=\"fandoms heading\">\\n<span class=\"landmark\">Fandoms:</span>\\n<a class=\"tag\" href=\"/tags/Sherlock%20(TV)/works\">Sherlock (TV)</a>, <a class=\"tag\" href=\"/tags/Sherlock%20Holmes%20*a*%20Related%20Fandoms/works\">Sherlock Holmes &amp; Related Fandoms</a>, <a class=\"tag\" href=\"/tags/Agents%20of%20S*d*H*d*I*d*E*d*L*d*D*d*%20(TV)/works\">Agents of S.H.I.E.L.D. (TV)</a>, <a class=\"tag\" href=\"/tags/Marvel%20Cinematic%20Universe/works\">Marvel Cinematic Universe</a>, <a class=\"tag\" href=\"/tags/Marvel/works\">Marvel</a>\\n      \\xa0\\n    </h5>\\n<!--required tags-->\\n<ul class=\"required-tags\">\\n<li> <a aria-controls=\"#modal\" class=\"help symbol question modal\" href=\"/help/symbols-key.html\" title=\"Symbols key\"><span class=\"rating-general-audience rating\" title=\"General Audiences\"><span class=\"text\">General Audiences</span></span></a></li>\\n<li> <a aria-controls=\"#modal\" class=\"help symbol question modal\" href=\"/help/symbols-key.html\" title=\"Symbols key\"><span class=\"warning-choosenotto warnings\" title=\"Choose Not To Use Archive Warnings\"><span class=\"text\">Choose Not To Use Archive Warnings</span></span></a></li>\\n<li> <a aria-controls=\"#modal\" class=\"help symbol question modal\" href=\"/help/symbols-key.html\" title=\"Symbols key\"><span class=\"category-multi category\" title=\"Multi\"><span class=\"text\">Multi</span></span></a></li>\\n<li> <a aria-controls=\"#modal\" class=\"help symbol question modal\" href=\"/help/symbols-key.html\" title=\"Symbols key\"><span class=\"complete-yes iswip\" title=\"Complete Work\"><span class=\"text\">Complete Work</span></span></a></li>\\n</ul>\\n<p class=\"datetime\">23 Feb 2016</p>\\n</div>\\n<!--warnings again, cast, freeform tags-->\\n<h6 class=\"landmark heading\">Tags</h6>\\n<ul class=\"tags commas\">\\n<li class=\"warnings\"><strong><a class=\"tag\" href=\"/tags/Choose%20Not%20To%20Use%20Archive%20Warnings/works\">Creator Chose Not To Use Archive Warnings</a></strong></li><li class=\"relationships\"><a class=\"tag\" href=\"/tags/Irene%20Adler*s*Sherlock%20Holmes*s*Jim%20Moriarty/works\">Irene Adler/Sherlock Holmes/Jim Moriarty</a></li> <li class=\"relationships\"><a class=\"tag\" href=\"/tags/Anthea*s*Mycroft%20Holmes*s*Greg%20Lestrade/works\">Anthea/Mycroft Holmes/Greg Lestrade</a></li> <li class=\"relationships\"><a class=\"tag\" href=\"/tags/Mycroft%20Holmes*s*Molly%20Hooper*s*Greg%20Lestrade/works\">Mycroft Holmes/Molly Hooper/Greg Lestrade</a></li> <li class=\"relationships\"><a class=\"tag\" href=\"/tags/Sherlock%20Holmes*s*Sarah%20Sawyer*s*John%20Watson/works\">Sherlock Holmes/Sarah Sawyer/John Watson</a></li> <li class=\"relationships\"><a class=\"tag\" href=\"/tags/Molly%20Hooper*s*Sebastian%20Moran*s*Jim%20Moriarty/works\">Molly Hooper/Sebastian Moran/Jim Moriarty</a></li> <li class=\"relationships\"><a class=\"tag\" href=\"/tags/Sherlock%20Holmes*s*Mary%20Morstan*s*John%20Watson/works\">Sherlock Holmes/Mary Morstan/John Watson</a></li> <li class=\"relationships\"><a class=\"tag\" href=\"/tags/Irene%20Adler*s*Sherlock%20Holmes*s*John%20Watson/works\">Irene Adler/Sherlock Holmes/John Watson</a></li> <li class=\"relationships\"><a class=\"tag\" href=\"/tags/Sherlock%20Holmes*s*Molly%20Hooper*s*John%20Watson/works\">Sherlock Holmes/Molly Hooper/John Watson</a></li> <li class=\"relationships\"><a class=\"tag\" href=\"/tags/Molly%20Hooper*s*Greg%20Lestrade*s*John%20Watson/works\">Molly Hooper/Greg Lestrade/John Watson</a></li> <li class=\"relationships\"><a class=\"tag\" href=\"/tags/Irene%20Adler*s*Sherlock%20Holmes*s*Molly%20Hooper/works\">Irene Adler/Sherlock Holmes/Molly Hooper</a></li><li class=\"characters\"><a class=\"tag\" href=\"/tags/Sherlock%20Holmes/works\">Sherlock Holmes</a></li> <li class=\"characters\"><a class=\"tag\" href=\"/tags/Irene%20Adler/works\">Irene Adler</a></li> <li class=\"characters\"><a class=\"tag\" href=\"/tags/Jim%20Moriarty/works\">Jim Moriarty</a></li> <li class=\"characters\"><a class=\"tag\" href=\"/tags/Anthea%20(Sherlock)/works\">Anthea (Sherlock)</a></li> <li class=\"characters\"><a class=\"tag\" href=\"/tags/Mycroft%20Holmes/works\">Mycroft Holmes</a></li> <li class=\"characters\"><a class=\"tag\" href=\"/tags/Greg%20Lestrade/works\">Greg Lestrade</a></li> <li class=\"characters\"><a class=\"tag\" href=\"/tags/Molly%20Hooper/works\">Molly Hooper</a></li> <li class=\"characters\"><a class=\"tag\" href=\"/tags/Sarah%20Sawyer/works\">Sarah Sawyer</a></li> <li class=\"characters\"><a class=\"tag\" href=\"/tags/John%20Watson/works\">John Watson</a></li> <li class=\"characters\"><a class=\"tag\" href=\"/tags/Sebastian%20Moran/works\">Sebastian Moran</a></li> <li class=\"characters\"><a class=\"tag\" href=\"/tags/Mary%20Morstan/works\">Mary Morstan</a></li><li class=\"freeforms\"><a class=\"tag\" href=\"/tags/Polyamory/works\">Polyamory</a></li> <li class=\"freeforms\"><a class=\"tag\" href=\"/tags/Triadverse/works\">Triadverse</a></li>\\n</ul>\\n<!--summary-->\\n<h6 class=\"landmark heading\">Summary</h6>\\n<blockquote class=\"userstuff summary\">\\n<p>A collection of ten Sherlock triadverse one-shots, each being completely individual from the next.</p>\\n</blockquote>\\n<!--stats-->\\n<dl class=\"stats\">\\n<dt class=\"language\">Language:</dt>\\n<dd class=\"language\">English</dd>\\n<dt class=\"words\">Words:</dt>\\n<dd class=\"words\">4,810</dd>\\n<dt class=\"chapters\">Chapters:</dt>\\n<dd class=\"chapters\">10/10</dd>\\n<dt class=\"comments\">Comments:</dt>\\n<dd class=\"comments\"><a href=\"/works/6092563?show_comments=true&amp;view_full_work=true#comments\">13</a></dd>\\n<dt class=\"kudos\">Kudos:</dt>\\n<dd class=\"kudos\"><a href=\"/works/6092563?view_full_work=true#comments\">17</a></dd>\\n<dt class=\"hits\">Hits:</dt>\\n<dd class=\"hits\">379</dd>\\n</dl>\\n</li>, <li class=\"work blurb group\" id=\"work_1059257\" role=\"article\">\\n<!--title, author, fandom-->\\n<div class=\"header module\">\\n<h4 class=\"heading\">\\n<a href=\"/works/1059257\">What Could Go Wrong?</a>\\n      by\\n        \\n      <!-- do not cache -->\\n<a href=\"/users/ShinySherlock/pseuds/ShinySherlock%20ficlets\" rel=\"author\">ShinySherlock ficlets (ShinySherlock)</a>\\n</h4>\\n<h5 class=\"fandoms heading\">\\n<span class=\"landmark\">Fandoms:</span>\\n<a class=\"tag\" href=\"/tags/Sherlock%20(TV)/works\">Sherlock (TV)</a>\\n      \\xa0\\n    </h5>\\n<!--required tags-->\\n<ul class=\"required-tags\">\\n<li> <a aria-controls=\"#modal\" class=\"help symbol question modal\" href=\"/help/symbols-key.html\" title=\"Symbols key\"><span class=\"rating-general-audience rating\" title=\"General Audiences\"><span class=\"text\">General Audiences</span></span></a></li>\\n<li> <a aria-controls=\"#modal\" class=\"help symbol question modal\" href=\"/help/symbols-key.html\" title=\"Symbols key\"><span class=\"warning-no warnings\" title=\"No Archive Warnings Apply\"><span class=\"text\">No Archive Warnings Apply</span></span></a></li>\\n<li> <a aria-controls=\"#modal\" class=\"help symbol question modal\" href=\"/help/symbols-key.html\" title=\"Symbols key\"><span class=\"category-multi category\" title=\"F/M, M/M\"><span class=\"text\">F/M, M/M</span></span></a></li>\\n<li> <a aria-controls=\"#modal\" class=\"help symbol question modal\" href=\"/help/symbols-key.html\" title=\"Symbols key\"><span class=\"complete-yes iswip\" title=\"Complete Work\"><span class=\"text\">Complete Work</span></span></a></li>\\n</ul>\\n<p class=\"datetime\">26 Nov 2013</p>\\n</div>\\n<!--warnings again, cast, freeform tags-->\\n<h6 class=\"landmark heading\">Tags</h6>\\n<ul class=\"tags commas\">\\n<li class=\"warnings\"><strong><a class=\"tag\" href=\"/tags/No%20Archive%20Warnings%20Apply/works\">No Archive Warnings Apply</a></strong></li><li class=\"relationships\"><a class=\"tag\" href=\"/tags/Sherlock%20Holmes*s*Sarah%20Sawyer*s*John%20Watson/works\">Sherlock Holmes/Sarah Sawyer/John Watson</a></li><li class=\"characters\"><a class=\"tag\" href=\"/tags/Sherlock%20Holmes/works\">Sherlock Holmes</a></li> <li class=\"characters\"><a class=\"tag\" href=\"/tags/Sarah%20Sawyer/works\">Sarah Sawyer</a></li> <li class=\"characters\"><a class=\"tag\" href=\"/tags/John%20Watson/works\">John Watson</a></li><li class=\"freeforms\"><a class=\"tag\" href=\"/tags/Truth%20or%20Dare/works\">Truth or Dare</a></li> <li class=\"freeforms\"><a class=\"tag\" href=\"/tags/Snowed%20In/works\">Snowed In</a></li>\\n</ul>\\n<!--summary-->\\n<h6 class=\"landmark heading\">Summary</h6>\\n<blockquote class=\"userstuff summary\">\\n<p>Sherlock, Sarah, and John are snowed in at Baker Street and find a way to pass the time.</p>\\n</blockquote>\\n<h6 class=\"landmark heading\">Series</h6>\\n<ul class=\"series\">\\n<li>\\n          Part <strong>32</strong> of <a href=\"/series/43454\">assorted tumblr ficlets</a>\\n</li>\\n</ul>\\n<!--stats-->\\n<dl class=\"stats\">\\n<dt class=\"language\">Language:</dt>\\n<dd class=\"language\">English</dd>\\n<dt class=\"words\">Words:</dt>\\n<dd class=\"words\">42</dd>\\n<dt class=\"chapters\">Chapters:</dt>\\n<dd class=\"chapters\">1/1</dd>\\n<dt class=\"comments\">Comments:</dt>\\n<dd class=\"comments\"><a href=\"/works/1059257?show_comments=true#comments\">1</a></dd>\\n<dt class=\"kudos\">Kudos:</dt>\\n<dd class=\"kudos\"><a href=\"/works/1059257#comments\">16</a></dd>\\n<dt class=\"hits\">Hits:</dt>\\n<dd class=\"hits\">352</dd>\\n</dl>\\n</li>, <li class=\"work blurb group\" id=\"work_1016599\" role=\"article\">\\n<!--title, author, fandom-->\\n<div class=\"header module\">\\n<h4 class=\"heading\">\\n<a href=\"/works/1016599\">Triangle</a>\\n      by\\n        \\n      <!-- do not cache -->\\n<a href=\"/users/deklava/pseuds/deklava\" rel=\"author\">deklava</a>\\n</h4>\\n<h5 class=\"fandoms heading\">\\n<span class=\"landmark\">Fandoms:</span>\\n<a class=\"tag\" href=\"/tags/Sherlock%20(TV)/works\">Sherlock (TV)</a>\\n      \\xa0\\n    </h5>\\n<!--required tags-->\\n<ul class=\"required-tags\">\\n<li> <a aria-controls=\"#modal\" class=\"help symbol question modal\" href=\"/help/symbols-key.html\" title=\"Symbols key\"><span class=\"rating-explicit rating\" title=\"Explicit\"><span class=\"text\">Explicit</span></span></a></li>\\n<li> <a aria-controls=\"#modal\" class=\"help symbol question modal\" href=\"/help/symbols-key.html\" title=\"Symbols key\"><span class=\"warning-choosenotto warnings\" title=\"Choose Not To Use Archive Warnings\"><span class=\"text\">Choose Not To Use Archive Warnings</span></span></a></li>\\n<li> <a aria-controls=\"#modal\" class=\"help symbol question modal\" href=\"/help/symbols-key.html\" title=\"Symbols key\"><span class=\"category-multi category\" title=\"F/M, M/M\"><span class=\"text\">F/M, M/M</span></span></a></li>\\n<li> <a aria-controls=\"#modal\" class=\"help symbol question modal\" href=\"/help/symbols-key.html\" title=\"Symbols key\"><span class=\"complete-yes iswip\" title=\"Complete Work\"><span class=\"text\">Complete Work</span></span></a></li>\\n</ul>\\n<p class=\"datetime\">24 Oct 2013</p>\\n</div>\\n<!--warnings again, cast, freeform tags-->\\n<h6 class=\"landmark heading\">Tags</h6>\\n<ul class=\"tags commas\">\\n<li class=\"warnings\"><strong><a class=\"tag\" href=\"/tags/Choose%20Not%20To%20Use%20Archive%20Warnings/works\">Creator Chose Not To Use Archive Warnings</a></strong></li><li class=\"relationships\"><a class=\"tag\" href=\"/tags/Sherlock%20Holmes*s*Sarah%20Sawyer*s*John%20Watson/works\">Sherlock Holmes/Sarah Sawyer/John Watson</a></li><li class=\"characters\"><a class=\"tag\" href=\"/tags/Sherlock%20Holmes/works\">Sherlock Holmes</a></li> <li class=\"characters\"><a class=\"tag\" href=\"/tags/Sarah%20Sawyer/works\">Sarah Sawyer</a></li> <li class=\"characters\"><a class=\"tag\" href=\"/tags/John%20Watson/works\">John Watson</a></li><li class=\"freeforms\"><a class=\"tag\" href=\"/tags/Threesome%20-%20F*s*M*s*M/works\">Threesome - F/M/M</a></li> <li class=\"freeforms\"><a class=\"tag\" href=\"/tags/Pegging/works\">Pegging</a></li> <li class=\"freeforms\"><a class=\"tag\" href=\"/tags/Oral%20Sex/works\">Oral Sex</a></li> <li class=\"freeforms\"><a class=\"tag\" href=\"/tags/Anal%20Sex/works\">Anal Sex</a></li> <li class=\"freeforms\"><a class=\"tag\" href=\"/tags/First%20Time/works\">First Time</a></li> <li class=\"freeforms\"><a class=\"tag\" href=\"/tags/Rough%20Sex/works\">Rough Sex</a></li> <li class=\"freeforms\"><a class=\"tag\" href=\"/tags/Cock%20Cages/works\">Cock Cages</a></li> <li class=\"freeforms\"><a class=\"tag\" href=\"/tags/Cunnilingus/works\">Cunnilingus</a></li> <li class=\"freeforms\"><a class=\"tag\" href=\"/tags/Blow%20Jobs/works\">Blow Jobs</a></li>\\n</ul>\\n<!--summary-->\\n<h6 class=\"landmark heading\">Summary</h6>\\n<blockquote class=\"userstuff summary\">\\n<p>\\n<i>When she first met Sherlock Holmes, Sarah hadn\\u2019t been impressed at all by his arrogance and disregard for the needs or even rights of others.  No, she likes him much better the way he is now, naked and kneeling at her feet with his cock in a cage and head bowed. The shame and desire evident on his face excites her almost as much as the sight of John on the bed, watching them avidly as he strokes his prick.</i>\\n</p>\\n</blockquote>\\n<!--stats-->\\n<dl class=\"stats\">\\n<dt class=\"language\">Language:</dt>\\n<dd class=\"language\">English</dd>\\n<dt class=\"words\">Words:</dt>\\n<dd class=\"words\">2,445</dd>\\n<dt class=\"chapters\">Chapters:</dt>\\n<dd class=\"chapters\">1/1</dd>\\n<dt class=\"comments\">Comments:</dt>\\n<dd class=\"comments\"><a href=\"/works/1016599?show_comments=true#comments\">5</a></dd>\\n<dt class=\"kudos\">Kudos:</dt>\\n<dd class=\"kudos\"><a href=\"/works/1016599#comments\">86</a></dd>\\n<dt class=\"bookmarks\">Bookmarks:</dt>\\n<dd class=\"bookmarks\"><a href=\"/works/1016599/bookmarks\">8</a></dd>\\n<dt class=\"hits\">Hits:</dt>\\n<dd class=\"hits\">3132</dd>\\n</dl>\\n</li>, <li class=\"work blurb group\" id=\"work_927081\" role=\"article\">\\n<!--title, author, fandom-->\\n<div class=\"header module\">\\n<h4 class=\"heading\">\\n<a href=\"/works/927081\">Two Conversations John Didn't Want to Have, and One He Did</a>\\n      by\\n        \\n      <!-- do not cache -->\\n<a href=\"/users/lie_to_me/pseuds/lie_to_me\" rel=\"author\">lie_to_me</a>\\n</h4>\\n<h5 class=\"fandoms heading\">\\n<span class=\"landmark\">Fandoms:</span>\\n<a class=\"tag\" href=\"/tags/Sherlock%20(TV)/works\">Sherlock (TV)</a>\\n      \\xa0\\n    </h5>\\n<!--required tags-->\\n<ul class=\"required-tags\">\\n<li> <a aria-controls=\"#modal\" class=\"help symbol question modal\" href=\"/help/symbols-key.html\" title=\"Symbols key\"><span class=\"rating-explicit rating\" title=\"Explicit\"><span class=\"text\">Explicit</span></span></a></li>\\n<li> <a aria-controls=\"#modal\" class=\"help symbol question modal\" href=\"/help/symbols-key.html\" title=\"Symbols key\"><span class=\"warning-no warnings\" title=\"No Archive Warnings Apply\"><span class=\"text\">No Archive Warnings Apply</span></span></a></li>\\n<li> <a aria-controls=\"#modal\" class=\"help symbol question modal\" href=\"/help/symbols-key.html\" title=\"Symbols key\"><span class=\"category-multi category\" title=\"F/M, M/M, Multi\"><span class=\"text\">F/M, M/M, Multi</span></span></a></li>\\n<li> <a aria-controls=\"#modal\" class=\"help symbol question modal\" href=\"/help/symbols-key.html\" title=\"Symbols key\"><span class=\"complete-no iswip\" title=\"Work in Progress\"><span class=\"text\">Work in Progress</span></span></a></li>\\n</ul>\\n<p class=\"datetime\"> 7 Sep 2013</p>\\n</div>\\n<!--warnings again, cast, freeform tags-->\\n<h6 class=\"landmark heading\">Tags</h6>\\n<ul class=\"tags commas\">\\n<li class=\"warnings\"><strong><a class=\"tag\" href=\"/tags/No%20Archive%20Warnings%20Apply/works\">No Archive Warnings Apply</a></strong></li><li class=\"relationships\"><a class=\"tag\" href=\"/tags/Sherlock%20Holmes*s*John%20Watson/works\">Sherlock Holmes/John Watson</a></li> <li class=\"relationships\"><a class=\"tag\" href=\"/tags/John%20Watson*s*Sarah%20Sawyer/works\">John Watson/Sarah Sawyer</a></li> <li class=\"relationships\"><a class=\"tag\" href=\"/tags/Sherlock%20Holmes*s*John%20Watson*s*Sarah%20Sawyer/works\">Sherlock Holmes/John Watson/Sarah Sawyer</a></li><li class=\"characters\"><a class=\"tag\" href=\"/tags/Sherlock%20Holmes/works\">Sherlock Holmes</a></li> <li class=\"characters\"><a class=\"tag\" href=\"/tags/John%20Watson/works\">John Watson</a></li> <li class=\"characters\"><a class=\"tag\" href=\"/tags/Sarah%20Sawyer/works\">Sarah Sawyer</a></li><li class=\"freeforms\"><a class=\"tag\" href=\"/tags/Light%20BDSM/works\">Light BDSM</a></li> <li class=\"freeforms\"><a class=\"tag\" href=\"/tags/Sherlock%20Is%20A%20Bit%20Not%20Good/works\">Sherlock Is A Bit Not Good</a></li> <li class=\"freeforms\"><a class=\"tag\" href=\"/tags/Sarah%20is%20very%20patient/works\">Sarah is very patient</a></li> <li class=\"freeforms\"><a class=\"tag\" href=\"/tags/John%20is%20confused/works\">John is confused</a></li> <li class=\"freeforms\"><a class=\"tag\" href=\"/tags/Threesome%20-%20F*s*M*s*M/works\">Threesome - F/M/M</a></li> <li class=\"freeforms\"><a class=\"tag\" href=\"/tags/Polyamory%20Negotiations/works\">Polyamory Negotiations</a></li>\\n</ul>\\n<!--summary-->\\n<h6 class=\"landmark heading\">Summary</h6>\\n<blockquote class=\"userstuff summary\">\\n<p>In which John has rather a lot of surprising conversations about relationships. And also a lot of shagging.</p><p>Thanks for beta help from destination_toast, K.C. and T.M. This would not be here without you.</p>\\n</blockquote>\\n<!--stats-->\\n<dl class=\"stats\">\\n<dt class=\"language\">Language:</dt>\\n<dd class=\"language\">English</dd>\\n<dt class=\"words\">Words:</dt>\\n<dd class=\"words\">3,502</dd>\\n<dt class=\"chapters\">Chapters:</dt>\\n<dd class=\"chapters\">2/?</dd>\\n<dt class=\"comments\">Comments:</dt>\\n<dd class=\"comments\"><a href=\"/works/927081?show_comments=true&amp;view_full_work=true#comments\">3</a></dd>\\n<dt class=\"kudos\">Kudos:</dt>\\n<dd class=\"kudos\"><a href=\"/works/927081?view_full_work=true#comments\">29</a></dd>\\n<dt class=\"bookmarks\">Bookmarks:</dt>\\n<dd class=\"bookmarks\"><a href=\"/works/927081/bookmarks\">1</a></dd>\\n<dt class=\"hits\">Hits:</dt>\\n<dd class=\"hits\">877</dd>\\n</dl>\\n</li>, <li class=\"work blurb group\" id=\"work_494037\" role=\"article\">\\n<!--title, author, fandom-->\\n<div class=\"header module\">\\n<h4 class=\"heading\">\\n<a href=\"/works/494037\">The Seduction of Sarah Sawyer</a>\\n      by\\n        \\n      <!-- do not cache -->\\n<a href=\"/users/Mazarin221b/pseuds/Mazarin221b\" rel=\"author\">Mazarin221b</a>\\n</h4>\\n<h5 class=\"fandoms heading\">\\n<span class=\"landmark\">Fandoms:</span>\\n<a class=\"tag\" href=\"/tags/Sherlock%20(TV)/works\">Sherlock (TV)</a>\\n      \\xa0\\n    </h5>\\n<!--required tags-->\\n<ul class=\"required-tags\">\\n<li> <a aria-controls=\"#modal\" class=\"help symbol question modal\" href=\"/help/symbols-key.html\" title=\"Symbols key\"><span class=\"rating-explicit rating\" title=\"Explicit\"><span class=\"text\">Explicit</span></span></a></li>\\n<li> <a aria-controls=\"#modal\" class=\"help symbol question modal\" href=\"/help/symbols-key.html\" title=\"Symbols key\"><span class=\"warning-no warnings\" title=\"No Archive Warnings Apply\"><span class=\"text\">No Archive Warnings Apply</span></span></a></li>\\n<li> <a aria-controls=\"#modal\" class=\"help symbol question modal\" href=\"/help/symbols-key.html\" title=\"Symbols key\"><span class=\"category-multi category\" title=\"Multi\"><span class=\"text\">Multi</span></span></a></li>\\n<li> <a aria-controls=\"#modal\" class=\"help symbol question modal\" href=\"/help/symbols-key.html\" title=\"Symbols key\"><span class=\"complete-yes iswip\" title=\"Complete Work\"><span class=\"text\">Complete Work</span></span></a></li>\\n</ul>\\n<p class=\"datetime\">23 Aug 2012</p>\\n</div>\\n<!--warnings again, cast, freeform tags-->\\n<h6 class=\"landmark heading\">Tags</h6>\\n<ul class=\"tags commas\">\\n<li class=\"warnings\"><strong><a class=\"tag\" href=\"/tags/No%20Archive%20Warnings%20Apply/works\">No Archive Warnings Apply</a></strong></li><li class=\"relationships\"><a class=\"tag\" href=\"/tags/Sherlock%20Holmes*s*Sarah%20Sawyer*s*John%20Watson/works\">Sherlock Holmes/Sarah Sawyer/John Watson</a></li> <li class=\"relationships\"><a class=\"tag\" href=\"/tags/Sherlock%20Holmes*s*John%20Watson/works\">Sherlock Holmes/John Watson</a></li><li class=\"freeforms\"><a class=\"tag\" href=\"/tags/historic%20romance/works\">historic romance</a></li> <li class=\"freeforms\"><a class=\"tag\" href=\"/tags/Humor/works\">Humor</a></li> <li class=\"freeforms\"><a class=\"tag\" href=\"/tags/OT3/works\">OT3</a></li> <li class=\"freeforms\"><a class=\"tag\" href=\"/tags/Threesome%20-%20F*s*M*s*M/works\">Threesome - F/M/M</a></li> <li class=\"freeforms\"><a class=\"tag\" href=\"/tags/Alternate%20Universe/works\">Alternate Universe</a></li>\\n</ul>\\n<!--summary-->\\n<h6 class=\"landmark heading\">Summary</h6>\\n<blockquote class=\"userstuff summary\">\\n<p>Originally posted to LiveJournal April 1, 2011.</p><p> <i>\"Her rational mind knew it would be impossible to continue their relationship as three, but John and Sherlock obviously cared very much about each other, and she couldn't imagine her life without either of them, now.\"</i> </p><p>Sarah Sawyer is brought to Lord Mycroft Holmes' house to be introduced to her prospective husband - the Lord's younger brother, Sherlock. And into the bargain comes Sherlock's constant companion, Dr. John Watson. </p><p>Art by MarieMJS</p>\\n</blockquote>\\n<!--stats-->\\n<dl class=\"stats\">\\n<dt class=\"language\">Language:</dt>\\n<dd class=\"language\">English</dd>\\n<dt class=\"words\">Words:</dt>\\n<dd class=\"words\">6,370</dd>\\n<dt class=\"chapters\">Chapters:</dt>\\n<dd class=\"chapters\">1/1</dd>\\n<dt class=\"comments\">Comments:</dt>\\n<dd class=\"comments\"><a href=\"/works/494037?show_comments=true#comments\">23</a></dd>\\n<dt class=\"kudos\">Kudos:</dt>\\n<dd class=\"kudos\"><a href=\"/works/494037#comments\">139</a></dd>\\n<dt class=\"bookmarks\">Bookmarks:</dt>\\n<dd class=\"bookmarks\"><a href=\"/works/494037/bookmarks\">28</a></dd>\\n<dt class=\"hits\">Hits:</dt>\\n<dd class=\"hits\">3108</dd>\\n</dl>\\n</li>, <li class=\"work blurb group\" id=\"work_447787\" role=\"article\">\\n<!--title, author, fandom-->\\n<div class=\"header module\">\\n<h4 class=\"heading\">\\n<a href=\"/works/447787\">There Is No \"Fun\" in Frustration</a>\\n      by\\n        \\n      <!-- do not cache -->\\n<a href=\"/users/Abby_Ebon/pseuds/Abby_Ebon\" rel=\"author\">Abby_Ebon</a>\\n</h4>\\n<h5 class=\"fandoms heading\">\\n<span class=\"landmark\">Fandoms:</span>\\n<a class=\"tag\" href=\"/tags/Sherlock%20(TV)/works\">Sherlock (TV)</a>\\n      \\xa0\\n    </h5>\\n<!--required tags-->\\n<ul class=\"required-tags\">\\n<li> <a aria-controls=\"#modal\" class=\"help symbol question modal\" href=\"/help/symbols-key.html\" title=\"Symbols key\"><span class=\"rating-teen rating\" title=\"Teen And Up Audiences\"><span class=\"text\">Teen And Up Audiences</span></span></a></li>\\n<li> <a aria-controls=\"#modal\" class=\"help symbol question modal\" href=\"/help/symbols-key.html\" title=\"Symbols key\"><span class=\"warning-no warnings\" title=\"No Archive Warnings Apply\"><span class=\"text\">No Archive Warnings Apply</span></span></a></li>\\n<li> <a aria-controls=\"#modal\" class=\"help symbol question modal\" href=\"/help/symbols-key.html\" title=\"Symbols key\"><span class=\"category-multi category\" title=\"M/M, Multi, F/M\"><span class=\"text\">M/M, Multi, F/M</span></span></a></li>\\n<li> <a aria-controls=\"#modal\" class=\"help symbol question modal\" href=\"/help/symbols-key.html\" title=\"Symbols key\"><span class=\"complete-yes iswip\" title=\"Complete Work\"><span class=\"text\">Complete Work</span></span></a></li>\\n</ul>\\n<p class=\"datetime\">30 Jun 2012</p>\\n</div>\\n<!--warnings again, cast, freeform tags-->\\n<h6 class=\"landmark heading\">Tags</h6>\\n<ul class=\"tags commas\">\\n<li class=\"warnings\"><strong><a class=\"tag\" href=\"/tags/No%20Archive%20Warnings%20Apply/works\">No Archive Warnings Apply</a></strong></li><li class=\"relationships\"><a class=\"tag\" href=\"/tags/Sherlock%20Holmes*s*Sarah%20Sawyer*s*John%20Watson/works\">Sherlock Holmes/Sarah Sawyer/John Watson</a></li>\\n</ul>\\n<!--summary-->\\n<h6 class=\"landmark heading\">Summary</h6>\\n<blockquote class=\"userstuff summary\">\\n<p>Sherlock (BBC), Sherlock/John/Sarah, sharing body heat</p>\\n</blockquote>\\n<h6 class=\"landmark heading\">Series</h6>\\n<ul class=\"series\">\\n<li>\\n          Part <strong>34</strong> of <a href=\"/series/21675\">Bite Sized Bits of Fic</a>\\n</li>\\n</ul>\\n<!--stats-->\\n<dl class=\"stats\">\\n<dt class=\"language\">Language:</dt>\\n<dd class=\"language\">English</dd>\\n<dt class=\"words\">Words:</dt>\\n<dd class=\"words\">303</dd>\\n<dt class=\"chapters\">Chapters:</dt>\\n<dd class=\"chapters\">1/1</dd>\\n<dt class=\"comments\">Comments:</dt>\\n<dd class=\"comments\"><a href=\"/works/447787?show_comments=true#comments\">4</a></dd>\\n<dt class=\"kudos\">Kudos:</dt>\\n<dd class=\"kudos\"><a href=\"/works/447787#comments\">3</a></dd>\\n<dt class=\"hits\">Hits:</dt>\\n<dd class=\"hits\">539</dd>\\n</dl>\\n</li>, <li class=\"work blurb group\" id=\"work_397266\" role=\"article\">\\n<!--title, author, fandom-->\\n<div class=\"header module\">\\n<h4 class=\"heading\">\\n<a href=\"/works/397266\">Drunken Ficlet: Watch</a>\\n      by\\n        \\n      <!-- do not cache -->\\n<a href=\"/users/greywash/pseuds/greywash\" rel=\"author\">greywash</a>\\n</h4>\\n<h5 class=\"fandoms heading\">\\n<span class=\"landmark\">Fandoms:</span>\\n<a class=\"tag\" href=\"/tags/Sherlock%20(TV)/works\">Sherlock (TV)</a>, <a class=\"tag\" href=\"/tags/Sherlock%20Holmes%20*a*%20Related%20Fandoms/works\">Sherlock Holmes &amp; Related Fandoms</a>\\n      \\xa0\\n    </h5>\\n<!--required tags-->\\n<ul class=\"required-tags\">\\n<li> <a aria-controls=\"#modal\" class=\"help symbol question modal\" href=\"/help/symbols-key.html\" title=\"Symbols key\"><span class=\"rating-mature rating\" title=\"Mature\"><span class=\"text\">Mature</span></span></a></li>\\n<li> <a aria-controls=\"#modal\" class=\"help symbol question modal\" href=\"/help/symbols-key.html\" title=\"Symbols key\"><span class=\"warning-choosenotto warnings\" title=\"Choose Not To Use Archive Warnings\"><span class=\"text\">Choose Not To Use Archive Warnings</span></span></a></li>\\n<li> <a aria-controls=\"#modal\" class=\"help symbol question modal\" href=\"/help/symbols-key.html\" title=\"Symbols key\"><span class=\"category-multi category\" title=\"Multi\"><span class=\"text\">Multi</span></span></a></li>\\n<li> <a aria-controls=\"#modal\" class=\"help symbol question modal\" href=\"/help/symbols-key.html\" title=\"Symbols key\"><span class=\"complete-yes iswip\" title=\"Complete Work\"><span class=\"text\">Complete Work</span></span></a></li>\\n</ul>\\n<p class=\"datetime\"> 3 May 2012</p>\\n</div>\\n<!--warnings again, cast, freeform tags-->\\n<h6 class=\"landmark heading\">Tags</h6>\\n<ul class=\"tags commas\">\\n<li class=\"warnings\"><strong><a class=\"tag\" href=\"/tags/Choose%20Not%20To%20Use%20Archive%20Warnings/works\">Creator Chose Not To Use Archive Warnings</a></strong></li><li class=\"relationships\"><a class=\"tag\" href=\"/tags/Sarah%20Sawyer*s*John%20Watson/works\">Sarah Sawyer/John Watson</a></li> <li class=\"relationships\"><a class=\"tag\" href=\"/tags/Sherlock%20Holmes*s*Sarah%20Sawyer*s*John%20Watson/works\">Sherlock Holmes/Sarah Sawyer/John Watson</a></li>\\n</ul>\\n<!--summary-->\\n<h6 class=\"landmark heading\">Summary</h6>\\n<blockquote class=\"userstuff summary\">\\n<p>\\n<em>Drunken!ficlet, archived from Tumblr. Unbeta'ed and un-Britpicked, as always.</em>\\n</p>\\n<p><strong>gurrier2 asked</strong>:\\xa0John fingering Sarah while Sherlock watches?</p>\\n</blockquote>\\n<h6 class=\"landmark heading\">Series</h6>\\n<ul class=\"series\">\\n<li>\\n          Part <strong>10</strong> of <a href=\"/series/18718\">Drunken!ficlets</a>\\n</li>\\n</ul>\\n<!--stats-->\\n<dl class=\"stats\">\\n<dt class=\"language\">Language:</dt>\\n<dd class=\"language\">English</dd>\\n<dt class=\"words\">Words:</dt>\\n<dd class=\"words\">41</dd>\\n<dt class=\"chapters\">Chapters:</dt>\\n<dd class=\"chapters\">1/1</dd>\\n<dt class=\"comments\">Comments:</dt>\\n<dd class=\"comments\"><a href=\"/works/397266?show_comments=true#comments\">3</a></dd>\\n<dt class=\"kudos\">Kudos:</dt>\\n<dd class=\"kudos\"><a href=\"/works/397266#comments\">32</a></dd>\\n<dt class=\"bookmarks\">Bookmarks:</dt>\\n<dd class=\"bookmarks\"><a href=\"/works/397266/bookmarks\">1</a></dd>\\n</dl>\\n</li>, <li class=\"work blurb group\" id=\"work_347022\" role=\"article\">\\n<!--title, author, fandom-->\\n<div class=\"header module\">\\n<h4 class=\"heading\">\\n<a href=\"/works/347022\">delivering her from grace</a>\\n      by\\n        \\n      <!-- do not cache -->\\n<a href=\"/users/mardia/pseuds/mardia\" rel=\"author\">mardia</a>\\n</h4>\\n<h5 class=\"fandoms heading\">\\n<span class=\"landmark\">Fandoms:</span>\\n<a class=\"tag\" href=\"/tags/Sherlock%20Holmes%20*a*%20Related%20Fandoms/works\">Sherlock Holmes &amp; Related Fandoms</a>, <a class=\"tag\" href=\"/tags/Sherlock%20(TV)/works\">Sherlock (TV)</a>\\n      \\xa0\\n    </h5>\\n<!--required tags-->\\n<ul class=\"required-tags\">\\n<li> <a aria-controls=\"#modal\" class=\"help symbol question modal\" href=\"/help/symbols-key.html\" title=\"Symbols key\"><span class=\"rating-explicit rating\" title=\"Explicit\"><span class=\"text\">Explicit</span></span></a></li>\\n<li> <a aria-controls=\"#modal\" class=\"help symbol question modal\" href=\"/help/symbols-key.html\" title=\"Symbols key\"><span class=\"warning-no warnings\" title=\"No Archive Warnings Apply\"><span class=\"text\">No Archive Warnings Apply</span></span></a></li>\\n<li> <a aria-controls=\"#modal\" class=\"help symbol question modal\" href=\"/help/symbols-key.html\" title=\"Symbols key\"><span class=\"category-multi category\" title=\"Multi\"><span class=\"text\">Multi</span></span></a></li>\\n<li> <a aria-controls=\"#modal\" class=\"help symbol question modal\" href=\"/help/symbols-key.html\" title=\"Symbols key\"><span class=\"complete-yes iswip\" title=\"Complete Work\"><span class=\"text\">Complete Work</span></span></a></li>\\n</ul>\\n<p class=\"datetime\">25 Feb 2012</p>\\n</div>\\n<!--warnings again, cast, freeform tags-->\\n<h6 class=\"landmark heading\">Tags</h6>\\n<ul class=\"tags commas\">\\n<li class=\"warnings\"><strong><a class=\"tag\" href=\"/tags/No%20Archive%20Warnings%20Apply/works\">No Archive Warnings Apply</a></strong></li><li class=\"relationships\"><a class=\"tag\" href=\"/tags/Sherlock%20Holmes*s*Sarah%20Sawyer*s*John%20Watson/works\">Sherlock Holmes/Sarah Sawyer/John Watson</a></li><li class=\"characters\"><a class=\"tag\" href=\"/tags/Sarah%20Sawyer/works\">Sarah Sawyer</a></li> <li class=\"characters\"><a class=\"tag\" href=\"/tags/John%20Watson/works\">John Watson</a></li> <li class=\"characters\"><a class=\"tag\" href=\"/tags/Sherlock%20Holmes/works\">Sherlock Holmes</a></li><li class=\"freeforms\"><a class=\"tag\" href=\"/tags/Threesome%20-%20F*s*M*s*M/works\">Threesome - F/M/M</a></li> <li class=\"freeforms\"><a class=\"tag\" href=\"/tags/Double%20Penetration/works\">Double Penetration</a></li>\\n</ul>\\n<!--summary-->\\n<h6 class=\"landmark heading\">Summary</h6>\\n<blockquote class=\"userstuff summary\">\\n<p>Written for Porn Battle XI.</p>\\n</blockquote>\\n<!--stats-->\\n<dl class=\"stats\">\\n<dt class=\"language\">Language:</dt>\\n<dd class=\"language\">English</dd>\\n<dt class=\"words\">Words:</dt>\\n<dd class=\"words\">329</dd>\\n<dt class=\"chapters\">Chapters:</dt>\\n<dd class=\"chapters\">1/1</dd>\\n<dt class=\"collections\">Collections:</dt>\\n<dd class=\"collections\"><a href=\"/works/347022/collections\">1</a></dd>\\n<dt class=\"kudos\">Kudos:</dt>\\n<dd class=\"kudos\"><a href=\"/works/347022#comments\">44</a></dd>\\n<dt class=\"bookmarks\">Bookmarks:</dt>\\n<dd class=\"bookmarks\"><a href=\"/works/347022/bookmarks\">2</a></dd>\\n<dt class=\"hits\">Hits:</dt>\\n<dd class=\"hits\">1918</dd>\\n</dl>\\n</li>, <li class=\"work blurb group\" id=\"work_263451\" role=\"article\">\\n<!--title, author, fandom-->\\n<div class=\"header module\">\\n<h4 class=\"heading\">\\n<a href=\"/works/263451\">I\\u2019ve Shattered into a Thousand Pieces (We\\u2019ll Piece You Back Together Again)</a>\\n      by\\n        \\n      <!-- do not cache -->\\n<a href=\"/users/nickelsandcoats/pseuds/nickelsandcoats\" rel=\"author\">nickelsandcoats</a>\\n</h4>\\n<h5 class=\"fandoms heading\">\\n<span class=\"landmark\">Fandoms:</span>\\n<a class=\"tag\" href=\"/tags/Sherlock%20(TV)/works\">Sherlock (TV)</a>\\n      \\xa0\\n    </h5>\\n<!--required tags-->\\n<ul class=\"required-tags\">\\n<li> <a aria-controls=\"#modal\" class=\"help symbol question modal\" href=\"/help/symbols-key.html\" title=\"Symbols key\"><span class=\"rating-mature rating\" title=\"Mature\"><span class=\"text\">Mature</span></span></a></li>\\n<li> <a aria-controls=\"#modal\" class=\"help symbol question modal\" href=\"/help/symbols-key.html\" title=\"Symbols key\"><span class=\"warning-no warnings\" title=\"No Archive Warnings Apply\"><span class=\"text\">No Archive Warnings Apply</span></span></a></li>\\n<li> <a aria-controls=\"#modal\" class=\"help symbol question modal\" href=\"/help/symbols-key.html\" title=\"Symbols key\"><span class=\"category-multi category\" title=\"Multi\"><span class=\"text\">Multi</span></span></a></li>\\n<li> <a aria-controls=\"#modal\" class=\"help symbol question modal\" href=\"/help/symbols-key.html\" title=\"Symbols key\"><span class=\"complete-yes iswip\" title=\"Complete Work\"><span class=\"text\">Complete Work</span></span></a></li>\\n</ul>\\n<p class=\"datetime\">25 Jan 2012</p>\\n</div>\\n<!--warnings again, cast, freeform tags-->\\n<h6 class=\"landmark heading\">Tags</h6>\\n<ul class=\"tags commas\">\\n<li class=\"warnings\"><strong><a class=\"tag\" href=\"/tags/No%20Archive%20Warnings%20Apply/works\">No Archive Warnings Apply</a></strong></li><li class=\"relationships\"><a class=\"tag\" href=\"/tags/Sherlock*s*John*s*Sarah%20-%20Relationship/works\">Sherlock/John/Sarah - Relationship</a></li> <li class=\"relationships\"><a class=\"tag\" href=\"/tags/Established%20Relationship%20-%20Relationship/works\">Established Relationship - Relationship</a></li><li class=\"freeforms\"><a class=\"tag\" href=\"/tags/Graphic%20depiction%20of%20torture/works\">Graphic depiction of torture</a></li>\\n</ul>\\n<!--summary-->\\n<h6 class=\"landmark heading\">Summary</h6>\\n<blockquote class=\"userstuff summary\">\\n<p>This is John Watson, broken.</p>\\n</blockquote>\\n<!--stats-->\\n<dl class=\"stats\">\\n<dt class=\"language\">Language:</dt>\\n<dd class=\"language\">English</dd>\\n<dt class=\"words\">Words:</dt>\\n<dd class=\"words\">9,232</dd>\\n<dt class=\"chapters\">Chapters:</dt>\\n<dd class=\"chapters\">6/6</dd>\\n<dt class=\"comments\">Comments:</dt>\\n<dd class=\"comments\"><a href=\"/works/263451?show_comments=true&amp;view_full_work=true#comments\">10</a></dd>\\n<dt class=\"kudos\">Kudos:</dt>\\n<dd class=\"kudos\"><a href=\"/works/263451?view_full_work=true#comments\">44</a></dd>\\n<dt class=\"bookmarks\">Bookmarks:</dt>\\n<dd class=\"bookmarks\"><a href=\"/works/263451/bookmarks\">6</a></dd>\\n<dt class=\"hits\">Hits:</dt>\\n<dd class=\"hits\">2711</dd>\\n</dl>\\n</li>, <li class=\"work blurb group\" id=\"work_313231\" role=\"article\">\\n<!--title, author, fandom-->\\n<div class=\"header module\">\\n<h4 class=\"heading\">\\n<a href=\"/works/313231\">ALLIES</a>\\n      by\\n        \\n      <!-- do not cache -->\\n<a href=\"/users/alizarin_nyc/pseuds/alizarin_nyc\" rel=\"author\">alizarin_nyc</a>\\n\\n\\n\\n        for <a href=\"/users/verity/gifts\">verity</a>\\n</h4>\\n<h5 class=\"fandoms heading\">\\n<span class=\"landmark\">Fandoms:</span>\\n<a class=\"tag\" href=\"/collections/Holmestice_2_2011/tags/Sherlock%20(TV)/works\">Sherlock (TV)</a>\\n      \\xa0\\n    </h5>\\n<!--required tags-->\\n<ul class=\"required-tags\">\\n<li> <a aria-controls=\"#modal\" class=\"help symbol question modal\" href=\"/help/symbols-key.html\" title=\"Symbols key\"><span class=\"rating-explicit rating\" title=\"Explicit\"><span class=\"text\">Explicit</span></span></a></li>\\n<li> <a aria-controls=\"#modal\" class=\"help symbol question modal\" href=\"/help/symbols-key.html\" title=\"Symbols key\"><span class=\"warning-no warnings\" title=\"No Archive Warnings Apply\"><span class=\"text\">No Archive Warnings Apply</span></span></a></li>\\n<li> <a aria-controls=\"#modal\" class=\"help symbol question modal\" href=\"/help/symbols-key.html\" title=\"Symbols key\"><span class=\"category-multi category\" title=\"F/M, M/M, Multi\"><span class=\"text\">F/M, M/M, Multi</span></span></a></li>\\n<li> <a aria-controls=\"#modal\" class=\"help symbol question modal\" href=\"/help/symbols-key.html\" title=\"Symbols key\"><span class=\"complete-yes iswip\" title=\"Complete Work\"><span class=\"text\">Complete Work</span></span></a></li>\\n</ul>\\n<p class=\"datetime\"> 4 Jan 2012</p>\\n</div>\\n<!--warnings again, cast, freeform tags-->\\n<h6 class=\"landmark heading\">Tags</h6>\\n<ul class=\"tags commas\">\\n<li class=\"warnings\"><strong><a class=\"tag\" href=\"/collections/Holmestice_2_2011/tags/No%20Archive%20Warnings%20Apply/works\">No Archive Warnings Apply</a></strong></li><li class=\"relationships\"><a class=\"tag\" href=\"/collections/Holmestice_2_2011/tags/Sarah%20Sawyer*s*John%20Watson/works\">Sarah Sawyer/John Watson</a></li> <li class=\"relationships\"><a class=\"tag\" href=\"/collections/Holmestice_2_2011/tags/Sherlock%20Holmes*s*John%20Watson/works\">Sherlock Holmes/John Watson</a></li> <li class=\"relationships\"><a class=\"tag\" href=\"/collections/Holmestice_2_2011/tags/Sherlock%20Holmes*s*Sarah%20Sawyer*s*John%20Watson/works\">Sherlock Holmes/Sarah Sawyer/John Watson</a></li><li class=\"characters\"><a class=\"tag\" href=\"/collections/Holmestice_2_2011/tags/Sarah%20Sawyer/works\">Sarah Sawyer</a></li> <li class=\"characters\"><a class=\"tag\" href=\"/collections/Holmestice_2_2011/tags/John%20Watson/works\">John Watson</a></li> <li class=\"characters\"><a class=\"tag\" href=\"/collections/Holmestice_2_2011/tags/Sherlock%20Holmes/works\">Sherlock Holmes</a></li>\\n</ul>\\n<!--summary-->\\n<h6 class=\"landmark heading\">Summary</h6>\\n<blockquote class=\"userstuff summary\">\\n<p>Sarah has a theory that she can't keep to herself, no matter how badly she wants to get laid tonight.</p>\\n</blockquote>\\n<!--stats-->\\n<dl class=\"stats\">\\n<dt class=\"language\">Language:</dt>\\n<dd class=\"language\">English</dd>\\n<dt class=\"words\">Words:</dt>\\n<dd class=\"words\">4,176</dd>\\n<dt class=\"chapters\">Chapters:</dt>\\n<dd class=\"chapters\">1/1</dd>\\n<dt class=\"collections\">Collections:</dt>\\n<dd class=\"collections\"><a href=\"/works/313231/collections\">1</a></dd>\\n<dt class=\"comments\">Comments:</dt>\\n<dd class=\"comments\"><a href=\"/works/313231?show_comments=true#comments\">7</a></dd>\\n<dt class=\"kudos\">Kudos:</dt>\\n<dd class=\"kudos\"><a href=\"/works/313231#comments\">91</a></dd>\\n<dt class=\"bookmarks\">Bookmarks:</dt>\\n<dd class=\"bookmarks\"><a href=\"/works/313231/bookmarks\">11</a></dd>\\n<dt class=\"hits\">Hits:</dt>\\n<dd class=\"hits\">1890</dd>\\n</dl>\\n</li>, <li class=\"work blurb group\" id=\"work_309659\" role=\"article\">\\n<!--title, author, fandom-->\\n<div class=\"header module\">\\n<h4 class=\"heading\">\\n<a href=\"/works/309659\">An Equilateral Triangle</a>\\n      by\\n        \\n      <!-- do not cache -->\\n<a href=\"/users/Dweo/pseuds/Dweo\" rel=\"author\">Dweo</a>\\n</h4>\\n<h5 class=\"fandoms heading\">\\n<span class=\"landmark\">Fandoms:</span>\\n<a class=\"tag\" href=\"/tags/Sherlock%20(TV)/works\">Sherlock (TV)</a>, <a class=\"tag\" href=\"/tags/Sherlock%20Holmes%20*a*%20Related%20Fandoms/works\">Sherlock Holmes &amp; Related Fandoms</a>\\n      \\xa0\\n    </h5>\\n<!--required tags-->\\n<ul class=\"required-tags\">\\n<li> <a aria-controls=\"#modal\" class=\"help symbol question modal\" href=\"/help/symbols-key.html\" title=\"Symbols key\"><span class=\"rating-explicit rating\" title=\"Explicit\"><span class=\"text\">Explicit</span></span></a></li>\\n<li> <a aria-controls=\"#modal\" class=\"help symbol question modal\" href=\"/help/symbols-key.html\" title=\"Symbols key\"><span class=\"warning-no warnings\" title=\"No Archive Warnings Apply\"><span class=\"text\">No Archive Warnings Apply</span></span></a></li>\\n<li> <a aria-controls=\"#modal\" class=\"help symbol question modal\" href=\"/help/symbols-key.html\" title=\"Symbols key\"><span class=\"category-multi category\" title=\"F/M, Multi\"><span class=\"text\">F/M, Multi</span></span></a></li>\\n<li> <a aria-controls=\"#modal\" class=\"help symbol question modal\" href=\"/help/symbols-key.html\" title=\"Symbols key\"><span class=\"complete-yes iswip\" title=\"Complete Work\"><span class=\"text\">Complete Work</span></span></a></li>\\n</ul>\\n<p class=\"datetime\"> 1 Jan 2012</p>\\n</div>\\n<!--warnings again, cast, freeform tags-->\\n<h6 class=\"landmark heading\">Tags</h6>\\n<ul class=\"tags commas\">\\n<li class=\"warnings\"><strong><a class=\"tag\" href=\"/tags/No%20Archive%20Warnings%20Apply/works\">No Archive Warnings Apply</a></strong></li><li class=\"relationships\"><a class=\"tag\" href=\"/tags/Sherlock%20Holmes*s*Sarah%20Sawyer*s*John%20Watson/works\">Sherlock Holmes/Sarah Sawyer/John Watson</a></li><li class=\"characters\"><a class=\"tag\" href=\"/tags/Sarah%20Sawyer/works\">Sarah Sawyer</a></li> <li class=\"characters\"><a class=\"tag\" href=\"/tags/Sherlock%20Holmes/works\">Sherlock Holmes</a></li> <li class=\"characters\"><a class=\"tag\" href=\"/tags/John%20Watson/works\">John Watson</a></li><li class=\"freeforms\"><a class=\"tag\" href=\"/tags/Threesome%20-%20F*s*M*s*M/works\">Threesome - F/M/M</a></li>\\n</ul>\\n<!--summary-->\\n<h6 class=\"landmark heading\">Summary</h6>\\n<blockquote class=\"userstuff summary\">\\n<p>The boys just want make Sarah feel good.</p>\\n</blockquote>\\n<!--stats-->\\n<dl class=\"stats\">\\n<dt class=\"language\">Language:</dt>\\n<dd class=\"language\">English</dd>\\n<dt class=\"words\">Words:</dt>\\n<dd class=\"words\">2,484</dd>\\n<dt class=\"chapters\">Chapters:</dt>\\n<dd class=\"chapters\">1/1</dd>\\n<dt class=\"comments\">Comments:</dt>\\n<dd class=\"comments\"><a href=\"/works/309659?show_comments=true#comments\">2</a></dd>\\n<dt class=\"kudos\">Kudos:</dt>\\n<dd class=\"kudos\"><a href=\"/works/309659#comments\">31</a></dd>\\n<dt class=\"bookmarks\">Bookmarks:</dt>\\n<dd class=\"bookmarks\"><a href=\"/works/309659/bookmarks\">4</a></dd>\\n<dt class=\"hits\">Hits:</dt>\\n<dd class=\"hits\">1997</dd>\\n</dl>\\n</li>, <li class=\"work blurb group\" id=\"work_273026\" role=\"article\">\\n<!--title, author, fandom-->\\n<div class=\"header module\">\\n<h4 class=\"heading\">\\n<a href=\"/works/273026\">The Penultimate Problem</a>\\n      by\\n        \\n      <!-- do not cache -->\\n<a href=\"/users/marysutherland/pseuds/marysutherland\" rel=\"author\">marysutherland</a>\\n</h4>\\n<h5 class=\"fandoms heading\">\\n<span class=\"landmark\">Fandoms:</span>\\n<a class=\"tag\" href=\"/tags/Sherlock%20(TV)/works\">Sherlock (TV)</a>\\n      \\xa0\\n    </h5>\\n<!--required tags-->\\n<ul class=\"required-tags\">\\n<li> <a aria-controls=\"#modal\" class=\"help symbol question modal\" href=\"/help/symbols-key.html\" title=\"Symbols key\"><span class=\"rating-mature rating\" title=\"Mature\"><span class=\"text\">Mature</span></span></a></li>\\n<li> <a aria-controls=\"#modal\" class=\"help symbol question modal\" href=\"/help/symbols-key.html\" title=\"Symbols key\"><span class=\"warning-choosenotto warnings\" title=\"Choose Not To Use Archive Warnings\"><span class=\"text\">Choose Not To Use Archive Warnings</span></span></a></li>\\n<li> <a aria-controls=\"#modal\" class=\"help symbol question modal\" href=\"/help/symbols-key.html\" title=\"Symbols key\"><span class=\"category-multi category\" title=\"F/F, M/M\"><span class=\"text\">F/F, M/M</span></span></a></li>\\n<li> <a aria-controls=\"#modal\" class=\"help symbol question modal\" href=\"/help/symbols-key.html\" title=\"Symbols key\"><span class=\"complete-yes iswip\" title=\"Complete Work\"><span class=\"text\">Complete Work</span></span></a></li>\\n</ul>\\n<p class=\"datetime\"> 5 Nov 2011</p>\\n</div>\\n<!--warnings again, cast, freeform tags-->\\n<h6 class=\"landmark heading\">Tags</h6>\\n<ul class=\"tags commas\">\\n<li class=\"warnings\"><strong><a class=\"tag\" href=\"/tags/Choose%20Not%20To%20Use%20Archive%20Warnings/works\">Creator Chose Not To Use Archive Warnings</a></strong></li><li class=\"relationships\"><a class=\"tag\" href=\"/tags/Mycroft%20Holmes*s*Lestrade%20(Inspector)/works\">Mycroft Holmes/Lestrade (Inspector)</a></li> <li class=\"relationships\"><a class=\"tag\" href=\"/tags/Anthea*s*Molly%20Hooper/works\">Anthea/Molly Hooper</a></li> <li class=\"relationships\"><a class=\"tag\" href=\"/tags/Sherlock%20Holmes*s*Sarah%20Sawyer*s*John%20Watson/works\">Sherlock Holmes/Sarah Sawyer/John Watson</a></li> <li class=\"relationships\"><a class=\"tag\" href=\"/tags/Mycroft%20Holmes*s*Greg%20Lestrade/works\">Mycroft Holmes/Greg Lestrade</a></li>\\n</ul>\\n<!--summary-->\\n<h6 class=\"landmark heading\">Summary</h6>\\n<blockquote class=\"userstuff summary\">\\n<p>Written for a prompt at the <a href=\"http://mystradefanfest.livejournal.com/\">Mystrade Fanworks Festival</a>: Lestrade and Mycroft go to Reichenbach Falls in place of John and Sherlock.</p>\\n</blockquote>\\n<!--stats-->\\n<dl class=\"stats\">\\n<dt class=\"language\">Language:</dt>\\n<dd class=\"language\">English</dd>\\n<dt class=\"words\">Words:</dt>\\n<dd class=\"words\">13,921</dd>\\n<dt class=\"chapters\">Chapters:</dt>\\n<dd class=\"chapters\">1/1</dd>\\n<dt class=\"comments\">Comments:</dt>\\n<dd class=\"comments\"><a href=\"/works/273026?show_comments=true#comments\">7</a></dd>\\n<dt class=\"kudos\">Kudos:</dt>\\n<dd class=\"kudos\"><a href=\"/works/273026#comments\">69</a></dd>\\n<dt class=\"bookmarks\">Bookmarks:</dt>\\n<dd class=\"bookmarks\"><a href=\"/works/273026/bookmarks\">9</a></dd>\\n<dt class=\"hits\">Hits:</dt>\\n<dd class=\"hits\">1827</dd>\\n</dl>\\n</li>, <li class=\"work blurb group\" id=\"work_217923\" role=\"article\">\\n<!--title, author, fandom-->\\n<div class=\"header module\">\\n<h4 class=\"heading\">\\n<a href=\"/works/217923\">A Recollection Half Erased</a>\\n      by\\n        \\n      <!-- do not cache -->\\n<a href=\"/users/Pouncer/pseuds/Pouncer\" rel=\"author\">Pouncer</a>\\n</h4>\\n<h5 class=\"fandoms heading\">\\n<span class=\"landmark\">Fandoms:</span>\\n<a class=\"tag\" href=\"/tags/Sherlock%20(TV)/works\">Sherlock (TV)</a>\\n      \\xa0\\n    </h5>\\n<!--required tags-->\\n<ul class=\"required-tags\">\\n<li> <a aria-controls=\"#modal\" class=\"help symbol question modal\" href=\"/help/symbols-key.html\" title=\"Symbols key\"><span class=\"rating-general-audience rating\" title=\"General Audiences\"><span class=\"text\">General Audiences</span></span></a></li>\\n<li> <a aria-controls=\"#modal\" class=\"help symbol question modal\" href=\"/help/symbols-key.html\" title=\"Symbols key\"><span class=\"warning-no warnings\" title=\"No Archive Warnings Apply\"><span class=\"text\">No Archive Warnings Apply</span></span></a></li>\\n<li> <a aria-controls=\"#modal\" class=\"help symbol question modal\" href=\"/help/symbols-key.html\" title=\"Symbols key\"><span class=\"category-multi category\" title=\"F/M, M/M\"><span class=\"text\">F/M, M/M</span></span></a></li>\\n<li> <a aria-controls=\"#modal\" class=\"help symbol question modal\" href=\"/help/symbols-key.html\" title=\"Symbols key\"><span class=\"complete-yes iswip\" title=\"Complete Work\"><span class=\"text\">Complete Work</span></span></a></li>\\n</ul>\\n<p class=\"datetime\"> 1 Jul 2011</p>\\n</div>\\n<!--warnings again, cast, freeform tags-->\\n<h6 class=\"landmark heading\">Tags</h6>\\n<ul class=\"tags commas\">\\n<li class=\"warnings\"><strong><a class=\"tag\" href=\"/tags/No%20Archive%20Warnings%20Apply/works\">No Archive Warnings Apply</a></strong></li><li class=\"relationships\"><a class=\"tag\" href=\"/tags/Sherlock%20Holmes*s*John%20Watson/works\">Sherlock Holmes/John Watson</a></li> <li class=\"relationships\"><a class=\"tag\" href=\"/tags/John%20Watson*s*Sarah%20Sawyer*s*Sherlock%20Holmes/works\">John Watson/Sarah Sawyer/Sherlock Holmes</a></li><li class=\"characters\"><a class=\"tag\" href=\"/tags/Sherlock%20Holmes/works\">Sherlock Holmes</a></li> <li class=\"characters\"><a class=\"tag\" href=\"/tags/John%20Watson/works\">John Watson</a></li> <li class=\"characters\"><a class=\"tag\" href=\"/tags/Sarah%20Sawyer/works\">Sarah Sawyer</a></li><li class=\"freeforms\"><a class=\"tag\" href=\"/tags/Hurt*s*Comfort/works\">Hurt/Comfort</a></li> <li class=\"freeforms\"><a class=\"tag\" href=\"/tags/Pining/works\">Pining</a></li> <li class=\"freeforms\"><a class=\"tag\" href=\"/tags/Past%20Drug%20Use/works\">Past Drug Use</a></li> <li class=\"freeforms\"><a class=\"tag\" href=\"/tags/Fever%20Dreams/works\">Fever Dreams</a></li>\\n</ul>\\n<!--summary-->\\n<h6 class=\"landmark heading\">Summary</h6>\\n<blockquote class=\"userstuff summary\">\\n<p>Sherlock lay on the sofa and moaned.  Fever was like oxycodone, with the added delight of achy muscles, splitting pain above his eyes, a sore throat, and no energy to move.</p><p>Mentions of past drug use, twelve-tone modernist composers.</p>\\n</blockquote>\\n<!--stats-->\\n<dl class=\"stats\">\\n<dt class=\"language\">Language:</dt>\\n<dd class=\"language\">English</dd>\\n<dt class=\"words\">Words:</dt>\\n<dd class=\"words\">2,033</dd>\\n<dt class=\"chapters\">Chapters:</dt>\\n<dd class=\"chapters\">1/1</dd>\\n<dt class=\"collections\">Collections:</dt>\\n<dd class=\"collections\"><a href=\"/works/217923/collections\">1</a></dd>\\n<dt class=\"comments\">Comments:</dt>\\n<dd class=\"comments\"><a href=\"/works/217923?show_comments=true#comments\">5</a></dd>\\n<dt class=\"kudos\">Kudos:</dt>\\n<dd class=\"kudos\"><a href=\"/works/217923#comments\">79</a></dd>\\n<dt class=\"bookmarks\">Bookmarks:</dt>\\n<dd class=\"bookmarks\"><a href=\"/works/217923/bookmarks\">12</a></dd>\\n<dt class=\"hits\">Hits:</dt>\\n<dd class=\"hits\">3047</dd>\\n</dl>\\n</li>, <li class=\"work blurb group\" id=\"work_217713\" role=\"article\">\\n<!--title, author, fandom-->\\n<div class=\"header module\">\\n<h4 class=\"heading\">\\n<a href=\"/works/217713\">Baker Street Courtship</a>\\n      by\\n        \\n      <!-- do not cache -->\\n<a href=\"/users/Sadbhyl/pseuds/Sadbhyl\" rel=\"author\">Sadbhyl</a>\\n\\n\\n\\n        for <a href=\"/gifts?recipient=Ladyofthelog\">Ladyofthelog</a>\\n</h4>\\n<h5 class=\"fandoms heading\">\\n<span class=\"landmark\">Fandoms:</span>\\n<a class=\"tag\" href=\"/tags/Sherlock%20(TV)/works\">Sherlock (TV)</a>, <a class=\"tag\" href=\"/tags/Sherlock%20Holmes%20*a*%20Related%20Fandoms/works\">Sherlock Holmes &amp; Related Fandoms</a>\\n      \\xa0\\n    </h5>\\n<!--required tags-->\\n<ul class=\"required-tags\">\\n<li> <a aria-controls=\"#modal\" class=\"help symbol question modal\" href=\"/help/symbols-key.html\" title=\"Symbols key\"><span class=\"rating-mature rating\" title=\"Mature\"><span class=\"text\">Mature</span></span></a></li>\\n<li> <a aria-controls=\"#modal\" class=\"help symbol question modal\" href=\"/help/symbols-key.html\" title=\"Symbols key\"><span class=\"warning-no warnings\" title=\"No Archive Warnings Apply\"><span class=\"text\">No Archive Warnings Apply</span></span></a></li>\\n<li> <a aria-controls=\"#modal\" class=\"help symbol question modal\" href=\"/help/symbols-key.html\" title=\"Symbols key\"><span class=\"category-multi category\" title=\"Multi\"><span class=\"text\">Multi</span></span></a></li>\\n<li> <a aria-controls=\"#modal\" class=\"help symbol question modal\" href=\"/help/symbols-key.html\" title=\"Symbols key\"><span class=\"complete-yes iswip\" title=\"Complete Work\"><span class=\"text\">Complete Work</span></span></a></li>\\n</ul>\\n<p class=\"datetime\"> 1 Jul 2011</p>\\n</div>\\n<!--warnings again, cast, freeform tags-->\\n<h6 class=\"landmark heading\">Tags</h6>\\n<ul class=\"tags commas\">\\n<li class=\"warnings\"><strong><a class=\"tag\" href=\"/tags/No%20Archive%20Warnings%20Apply/works\">No Archive Warnings Apply</a></strong></li><li class=\"relationships\"><a class=\"tag\" href=\"/tags/Sarah%20Sawyer*s*John%20Watson/works\">Sarah Sawyer/John Watson</a></li> <li class=\"relationships\"><a class=\"tag\" href=\"/tags/Sherlock%20Holmes*s*Sarah%20Sawyer/works\">Sherlock Holmes/Sarah Sawyer</a></li> <li class=\"relationships\"><a class=\"tag\" href=\"/tags/Sherlock%20Holmes*s*Sarah%20Sawyer*s*John%20Watson/works\">Sherlock Holmes/Sarah Sawyer/John Watson</a></li><li class=\"characters\"><a class=\"tag\" href=\"/tags/Sarah%20Sawyer/works\">Sarah Sawyer</a></li> <li class=\"characters\"><a class=\"tag\" href=\"/tags/John%20Watson/works\">John Watson</a></li> <li class=\"characters\"><a class=\"tag\" href=\"/tags/Sherlock%20Holmes/works\">Sherlock Holmes</a></li>\\n</ul>\\n<!--summary-->\\n<h6 class=\"landmark heading\">Summary</h6>\\n<blockquote class=\"userstuff summary\">\\n<p>Sarah knew that Sherlock would be part of any relationship she had with John.  And she was all right with that.  Surprisingly, so was Sherlock.</p>\\n</blockquote>\\n<!--stats-->\\n<dl class=\"stats\">\\n<dt class=\"language\">Language:</dt>\\n<dd class=\"language\">English</dd>\\n<dt class=\"words\">Words:</dt>\\n<dd class=\"words\">4,661</dd>\\n<dt class=\"chapters\">Chapters:</dt>\\n<dd class=\"chapters\">1/1</dd>\\n<dt class=\"collections\">Collections:</dt>\\n<dd class=\"collections\"><a href=\"/works/217713/collections\">1</a></dd>\\n<dt class=\"comments\">Comments:</dt>\\n<dd class=\"comments\"><a href=\"/works/217713?show_comments=true#comments\">4</a></dd>\\n<dt class=\"kudos\">Kudos:</dt>\\n<dd class=\"kudos\"><a href=\"/works/217713#comments\">83</a></dd>\\n<dt class=\"bookmarks\">Bookmarks:</dt>\\n<dd class=\"bookmarks\"><a href=\"/works/217713/bookmarks\">19</a></dd>\\n<dt class=\"hits\">Hits:</dt>\\n<dd class=\"hits\">1523</dd>\\n</dl>\\n</li>, <li class=\"work blurb group\" id=\"work_177724\" role=\"article\">\\n<!--title, author, fandom-->\\n<div class=\"header module\">\\n<h4 class=\"heading\">\\n<a href=\"/works/177724\">The Comparative Uses of Semaphore and Foghorns as Communication Devices in Manoeuvres Naval and Sexual</a>\\n      by\\n        \\n      <!-- do not cache -->\\n<a href=\"/users/Pyjamapants/pseuds/Pyjamapants\" rel=\"author\">Pyjamapants</a>\\n</h4>\\n<h5 class=\"fandoms heading\">\\n<span class=\"landmark\">Fandoms:</span>\\n<a class=\"tag\" href=\"/tags/Sherlock%20(TV)/works\">Sherlock (TV)</a>\\n      \\xa0\\n    </h5>\\n<!--required tags-->\\n<ul class=\"required-tags\">\\n<li> <a aria-controls=\"#modal\" class=\"help symbol question modal\" href=\"/help/symbols-key.html\" title=\"Symbols key\"><span class=\"rating-explicit rating\" title=\"Explicit\"><span class=\"text\">Explicit</span></span></a></li>\\n<li> <a aria-controls=\"#modal\" class=\"help symbol question modal\" href=\"/help/symbols-key.html\" title=\"Symbols key\"><span class=\"warning-no warnings\" title=\"No Archive Warnings Apply\"><span class=\"text\">No Archive Warnings Apply</span></span></a></li>\\n<li> <a aria-controls=\"#modal\" class=\"help symbol question modal\" href=\"/help/symbols-key.html\" title=\"Symbols key\"><span class=\"category-multi category\" title=\"F/M, M/M, Multi\"><span class=\"text\">F/M, M/M, Multi</span></span></a></li>\\n<li> <a aria-controls=\"#modal\" class=\"help symbol question modal\" href=\"/help/symbols-key.html\" title=\"Symbols key\"><span class=\"complete-yes iswip\" title=\"Complete Work\"><span class=\"text\">Complete Work</span></span></a></li>\\n</ul>\\n<p class=\"datetime\">29 May 2011</p>\\n</div>\\n<!--warnings again, cast, freeform tags-->\\n<h6 class=\"landmark heading\">Tags</h6>\\n<ul class=\"tags commas\">\\n<li class=\"warnings\"><strong><a class=\"tag\" href=\"/tags/No%20Archive%20Warnings%20Apply/works\">No Archive Warnings Apply</a></strong></li><li class=\"relationships\"><a class=\"tag\" href=\"/tags/Sarah%20Sawyer*s*John%20Watson/works\">Sarah Sawyer/John Watson</a></li> <li class=\"relationships\"><a class=\"tag\" href=\"/tags/Sherlock%20Holmes*s*John%20Watson/works\">Sherlock Holmes/John Watson</a></li> <li class=\"relationships\"><a class=\"tag\" href=\"/tags/Sherlock%20Holmes*s*Sarah%20Sawyer/works\">Sherlock Holmes/Sarah Sawyer</a></li> <li class=\"relationships\"><a class=\"tag\" href=\"/tags/Sherlock%20Holmes*s*Sarah%20Sawyer*s*John%20Watson/works\">Sherlock Holmes/Sarah Sawyer/John Watson</a></li><li class=\"characters\"><a class=\"tag\" href=\"/tags/Sarah%20Sawyer/works\">Sarah Sawyer</a></li> <li class=\"characters\"><a class=\"tag\" href=\"/tags/John%20Watson/works\">John Watson</a></li> <li class=\"characters\"><a class=\"tag\" href=\"/tags/Sherlock%20Holmes/works\">Sherlock Holmes</a></li><li class=\"freeforms\"><a class=\"tag\" href=\"/tags/Threesome/works\">Threesome</a></li> <li class=\"freeforms\"><a class=\"tag\" href=\"/tags/abuse%20of%20naval%20communication%20devices/works\">abuse of naval communication devices</a></li> <li class=\"freeforms\"><a class=\"tag\" href=\"/tags/Exhibitionism/works\">Exhibitionism</a></li> <li class=\"freeforms\"><a class=\"tag\" href=\"/tags/Voyeurism/works\">Voyeurism</a></li> <li class=\"freeforms\"><a class=\"tag\" href=\"/tags/Het/works\">Het</a></li> <li class=\"freeforms\"><a class=\"tag\" href=\"/tags/Slash/works\">Slash</a></li> <li class=\"freeforms\"><a class=\"tag\" href=\"/tags/Explicit%20Sexual%20Content/works\">Explicit Sexual Content</a></li> <li class=\"freeforms\"><a class=\"tag\" href=\"/tags/Explicit%20Language/works\">Explicit Language</a></li> <li class=\"freeforms\"><a class=\"tag\" href=\"/tags/Polyamory/works\">Polyamory</a></li> <li class=\"freeforms\"><a class=\"tag\" href=\"/tags/Threesome%20-%20F*s*M*s*M/works\">Threesome - F/M/M</a></li>\\n</ul>\\n<!--summary-->\\n<h6 class=\"landmark heading\">Summary</h6>\\n<blockquote class=\"userstuff summary\">\\n<p>Sarah and John discover that inviting Sherlock Holmes into your bed requires advanced communication techniques.</p>\\n</blockquote>\\n<!--stats-->\\n<dl class=\"stats\">\\n<dt class=\"language\">Language:</dt>\\n<dd class=\"language\">English</dd>\\n<dt class=\"words\">Words:</dt>\\n<dd class=\"words\">23,133</dd>\\n<dt class=\"chapters\">Chapters:</dt>\\n<dd class=\"chapters\">6/6</dd>\\n<dt class=\"comments\">Comments:</dt>\\n<dd class=\"comments\"><a href=\"/works/177724?show_comments=true&amp;view_full_work=true#comments\">156</a></dd>\\n<dt class=\"kudos\">Kudos:</dt>\\n<dd class=\"kudos\"><a href=\"/works/177724?view_full_work=true#comments\">460</a></dd>\\n<dt class=\"bookmarks\">Bookmarks:</dt>\\n<dd class=\"bookmarks\"><a href=\"/works/177724/bookmarks\">148</a></dd>\\n<dt class=\"hits\">Hits:</dt>\\n<dd class=\"hits\">13883</dd>\\n</dl>\\n</li>, <li class=\"work blurb group\" id=\"work_438864\" role=\"article\">\\n<!--title, author, fandom-->\\n<div class=\"header module\">\\n<h4 class=\"heading\">\\n<a href=\"/works/438864\">Wish You Were Here</a>\\n      by\\n        \\n      <!-- do not cache -->\\n<a href=\"/users/Saathi1013/pseuds/Saathi1013\" rel=\"author\">Saathi1013</a>\\n</h4>\\n<h5 class=\"fandoms heading\">\\n<span class=\"landmark\">Fandoms:</span>\\n<a class=\"tag\" href=\"/tags/Sherlock%20(TV)/works\">Sherlock (TV)</a>, <a class=\"tag\" href=\"/tags/Sherlock%20Holmes%20*a*%20Related%20Fandoms/works\">Sherlock Holmes &amp; Related Fandoms</a>\\n      \\xa0\\n    </h5>\\n<!--required tags-->\\n<ul class=\"required-tags\">\\n<li> <a aria-controls=\"#modal\" class=\"help symbol question modal\" href=\"/help/symbols-key.html\" title=\"Symbols key\"><span class=\"rating-explicit rating\" title=\"Explicit\"><span class=\"text\">Explicit</span></span></a></li>\\n<li> <a aria-controls=\"#modal\" class=\"help symbol question modal\" href=\"/help/symbols-key.html\" title=\"Symbols key\"><span class=\"warning-choosenotto warnings\" title=\"Choose Not To Use Archive Warnings\"><span class=\"text\">Choose Not To Use Archive Warnings</span></span></a></li>\\n<li> <a aria-controls=\"#modal\" class=\"help symbol question modal\" href=\"/help/symbols-key.html\" title=\"Symbols key\"><span class=\"category-multi category\" title=\"F/M, Other\"><span class=\"text\">F/M, Other</span></span></a></li>\\n<li> <a aria-controls=\"#modal\" class=\"help symbol question modal\" href=\"/help/symbols-key.html\" title=\"Symbols key\"><span class=\"complete-yes iswip\" title=\"Complete Work\"><span class=\"text\">Complete Work</span></span></a></li>\\n</ul>\\n<p class=\"datetime\"> 1 Apr 2011</p>\\n</div>\\n<!--warnings again, cast, freeform tags-->\\n<h6 class=\"landmark heading\">Tags</h6>\\n<ul class=\"tags commas\">\\n<li class=\"warnings\"><strong><a class=\"tag\" href=\"/tags/Choose%20Not%20To%20Use%20Archive%20Warnings/works\">Creator Chose Not To Use Archive Warnings</a></strong></li><li class=\"relationships\"><a class=\"tag\" href=\"/tags/Sherlock%20Holmes*s*Sarah%20Sawyer*s*John%20Watson/works\">Sherlock Holmes/Sarah Sawyer/John Watson</a></li> <li class=\"relationships\"><a class=\"tag\" href=\"/tags/Sarah%20Sawyer*s*John%20Watson/works\">Sarah Sawyer/John Watson</a></li><li class=\"characters\"><a class=\"tag\" href=\"/tags/Sarah%20Sawyer/works\">Sarah Sawyer</a></li> <li class=\"characters\"><a class=\"tag\" href=\"/tags/John%20Watson/works\">John Watson</a></li> <li class=\"characters\"><a class=\"tag\" href=\"/tags/Sherlock%20Holmes/works\">Sherlock Holmes</a></li> <li class=\"characters\"><a class=\"tag\" href=\"/tags/Greg%20Lestrade/works\">Greg Lestrade</a></li> <li class=\"characters\"><a class=\"tag\" href=\"/tags/Sally%20Donovan/works\">Sally Donovan</a></li> <li class=\"characters\"><a class=\"tag\" href=\"/tags/Anderson%20(Sherlock)/works\">Anderson (Sherlock)</a></li><li class=\"freeforms\"><a class=\"tag\" href=\"/tags/Voyeurism/works\">Voyeurism</a></li> <li class=\"freeforms\"><a class=\"tag\" href=\"/tags/Phone%20Sex/works\">Phone Sex</a></li> <li class=\"freeforms\"><a class=\"tag\" href=\"/tags/Pegging/works\">Pegging</a></li> <li class=\"freeforms\"><a class=\"tag\" href=\"/tags/Established%20Relationship/works\">Established Relationship</a></li> <li class=\"freeforms\"><a class=\"tag\" href=\"/tags/Sex%20Toys/works\">Sex Toys</a></li> <li class=\"freeforms\"><a class=\"tag\" href=\"/tags/POV%20Male%20Character/works\">POV Male Character</a></li> <li class=\"freeforms\"><a class=\"tag\" href=\"/tags/Honeymoon/works\">Honeymoon</a></li>\\n</ul>\\n<!--summary-->\\n<h6 class=\"landmark heading\">Summary</h6>\\n<blockquote class=\"userstuff summary\">\\n<p>Sarah and John are on their honeymoon; Sherlock's in London, en route to a case. They've discovered the present he secretly stowed in their bags and are calling him during its inaugural use.</p><p>[This fic/series is canonical for BBC's Sherlock, Season ONE only; it's wildly divergent otherwise.]</p>\\n</blockquote>\\n<h6 class=\"landmark heading\">Series</h6>\\n<ul class=\"series\">\\n<li>\\n          Part <strong>11</strong> of <a href=\"/series/21292\">Lorem Ipsum</a>\\n</li>\\n</ul>\\n<!--stats-->\\n<dl class=\"stats\">\\n<dt class=\"language\">Language:</dt>\\n<dd class=\"language\">English</dd>\\n<dt class=\"words\">Words:</dt>\\n<dd class=\"words\">1,876</dd>\\n<dt class=\"chapters\">Chapters:</dt>\\n<dd class=\"chapters\">1/1</dd>\\n<dt class=\"comments\">Comments:</dt>\\n<dd class=\"comments\"><a href=\"/works/438864?show_comments=true#comments\">44</a></dd>\\n<dt class=\"kudos\">Kudos:</dt>\\n<dd class=\"kudos\"><a href=\"/works/438864#comments\">134</a></dd>\\n<dt class=\"bookmarks\">Bookmarks:</dt>\\n<dd class=\"bookmarks\"><a href=\"/works/438864/bookmarks\">10</a></dd>\\n<dt class=\"hits\">Hits:</dt>\\n<dd class=\"hits\">2760</dd>\\n</dl>\\n</li>, <li class=\"work blurb group\" id=\"work_438779\" role=\"article\">\\n<!--title, author, fandom-->\\n<div class=\"header module\">\\n<h4 class=\"heading\">\\n<a href=\"/works/438779\">One Day Like This</a>\\n      by\\n        \\n      <!-- do not cache -->\\n<a href=\"/users/Saathi1013/pseuds/Saathi1013\" rel=\"author\">Saathi1013</a>\\n</h4>\\n<h5 class=\"fandoms heading\">\\n<span class=\"landmark\">Fandoms:</span>\\n<a class=\"tag\" href=\"/tags/Sherlock%20(TV)/works\">Sherlock (TV)</a>, <a class=\"tag\" href=\"/tags/Sherlock%20Holmes%20*a*%20Related%20Fandoms/works\">Sherlock Holmes &amp; Related Fandoms</a>\\n      \\xa0\\n    </h5>\\n<!--required tags-->\\n<ul class=\"required-tags\">\\n<li> <a aria-controls=\"#modal\" class=\"help symbol question modal\" href=\"/help/symbols-key.html\" title=\"Symbols key\"><span class=\"rating-explicit rating\" title=\"Explicit\"><span class=\"text\">Explicit</span></span></a></li>\\n<li> <a aria-controls=\"#modal\" class=\"help symbol question modal\" href=\"/help/symbols-key.html\" title=\"Symbols key\"><span class=\"warning-choosenotto warnings\" title=\"Choose Not To Use Archive Warnings\"><span class=\"text\">Choose Not To Use Archive Warnings</span></span></a></li>\\n<li> <a aria-controls=\"#modal\" class=\"help symbol question modal\" href=\"/help/symbols-key.html\" title=\"Symbols key\"><span class=\"category-other category\" title=\"Other\"><span class=\"text\">Other</span></span></a></li>\\n<li> <a aria-controls=\"#modal\" class=\"help symbol question modal\" href=\"/help/symbols-key.html\" title=\"Symbols key\"><span class=\"complete-yes iswip\" title=\"Complete Work\"><span class=\"text\">Complete Work</span></span></a></li>\\n</ul>\\n<p class=\"datetime\"> 5 Mar 2011</p>\\n</div>\\n<!--warnings again, cast, freeform tags-->\\n<h6 class=\"landmark heading\">Tags</h6>\\n<ul class=\"tags commas\">\\n<li class=\"warnings\"><strong><a class=\"tag\" href=\"/tags/Choose%20Not%20To%20Use%20Archive%20Warnings/works\">Creator Chose Not To Use Archive Warnings</a></strong></li><li class=\"relationships\"><a class=\"tag\" href=\"/tags/Sherlock%20Holmes*s*Sarah%20Sawyer*s*John%20Watson/works\">Sherlock Holmes/Sarah Sawyer/John Watson</a></li><li class=\"characters\"><a class=\"tag\" href=\"/tags/Sarah%20Sawyer/works\">Sarah Sawyer</a></li> <li class=\"characters\"><a class=\"tag\" href=\"/tags/John%20Watson/works\">John Watson</a></li> <li class=\"characters\"><a class=\"tag\" href=\"/tags/Sherlock%20Holmes/works\">Sherlock Holmes</a></li> <li class=\"characters\"><a class=\"tag\" href=\"/tags/Greg%20Lestrade/works\">Greg Lestrade</a></li> <li class=\"characters\"><a class=\"tag\" href=\"/tags/Sally%20Donovan/works\">Sally Donovan</a></li> <li class=\"characters\"><a class=\"tag\" href=\"/tags/Molly%20Hooper/works\">Molly Hooper</a></li> <li class=\"characters\"><a class=\"tag\" href=\"/tags/Anthea%20(Sherlock)/works\">Anthea (Sherlock)</a></li> <li class=\"characters\"><a class=\"tag\" href=\"/tags/Mycroft%20Holmes/works\">Mycroft Holmes</a></li> <li class=\"characters\"><a class=\"tag\" href=\"/tags/Harry%20Watson/works\">Harry Watson</a></li> <li class=\"characters\"><a class=\"tag\" href=\"/tags/Original%20Characters/works\">Original Characters</a></li> <li class=\"characters\"><a class=\"tag\" href=\"/tags/background%20Anthea*s*Molly%20Hooper/works\">background Anthea/Molly Hooper</a></li> <li class=\"characters\"><a class=\"tag\" href=\"/tags/background%20Mycroft%20Holmes*s*Greg%20Lestrade%20-%20Character/works\">background Mycroft Holmes/Greg Lestrade - Character</a></li><li class=\"freeforms\"><a class=\"tag\" href=\"/tags/Threesome%20-%20F*s*M*s*M/works\">Threesome - F/M/M</a></li> <li class=\"freeforms\"><a class=\"tag\" href=\"/tags/OT3/works\">OT3</a></li> <li class=\"freeforms\"><a class=\"tag\" href=\"/tags/Established%20Relationship/works\">Established Relationship</a></li> <li class=\"freeforms\"><a class=\"tag\" href=\"/tags/Weddings/works\">Weddings</a></li> <li class=\"freeforms\"><a class=\"tag\" href=\"/tags/Wedding%20Night/works\">Wedding Night</a></li> <li class=\"freeforms\"><a class=\"tag\" href=\"/tags/Wedding%20Rings/works\">Wedding Rings</a></li> <li class=\"freeforms\"><a class=\"tag\" href=\"/tags/Wakes%20*a*%20Funerals/works\">Wakes &amp; Funerals</a></li> <li class=\"freeforms\"><a class=\"tag\" href=\"/tags/Consensual%20Kink/works\">Consensual Kink</a></li> <li class=\"freeforms\"><a class=\"tag\" href=\"/tags/Bloodplay/works\">Bloodplay</a></li> <li class=\"freeforms\"><a class=\"tag\" href=\"/tags/Breathplay/works\">Breathplay</a></li> <li class=\"freeforms\"><a class=\"tag\" href=\"/tags/Double%20Penetration/works\">Double Penetration</a></li> <li class=\"freeforms\"><a class=\"tag\" href=\"/tags/Rope%20Bondage/works\">Rope Bondage</a></li> <li class=\"freeforms\"><a class=\"tag\" href=\"/tags/Bondage/works\">Bondage</a></li>\\n</ul>\\n<!--summary-->\\n<h6 class=\"landmark heading\">Summary</h6>\\n<blockquote class=\"userstuff summary\">\\n<p>In which someone dies and their funeral is held; Sarah acquires coping mechanisms; a wedding is held with attendant<br/>surprises; and there is a lot of sex.</p><p>[This fic/series is canonical for BBC's Sherlock, Season ONE only; it's wildly divergent otherwise.]</p>\\n</blockquote>\\n<h6 class=\"landmark heading\">Series</h6>\\n<ul class=\"series\">\\n<li>\\n          Part <strong>10</strong> of <a href=\"/series/21292\">Lorem Ipsum</a>\\n</li>\\n</ul>\\n<!--stats-->\\n<dl class=\"stats\">\\n<dt class=\"language\">Language:</dt>\\n<dd class=\"language\">English</dd>\\n<dt class=\"words\">Words:</dt>\\n<dd class=\"words\">9,059</dd>\\n<dt class=\"chapters\">Chapters:</dt>\\n<dd class=\"chapters\">1/1</dd>\\n<dt class=\"comments\">Comments:</dt>\\n<dd class=\"comments\"><a href=\"/works/438779?show_comments=true#comments\">15</a></dd>\\n<dt class=\"kudos\">Kudos:</dt>\\n<dd class=\"kudos\"><a href=\"/works/438779#comments\">85</a></dd>\\n<dt class=\"bookmarks\">Bookmarks:</dt>\\n<dd class=\"bookmarks\"><a href=\"/works/438779/bookmarks\">3</a></dd>\\n<dt class=\"hits\">Hits:</dt>\\n<dd class=\"hits\">3320</dd>\\n</dl>\\n</li>, <li class=\"work blurb group\" id=\"work_438868\" role=\"article\">\\n<!--title, author, fandom-->\\n<div class=\"header module\">\\n<h4 class=\"heading\">\\n<a href=\"/works/438868\">DELETED SCENES from Lorem Ipsum (story #7 from the series of the same title)</a>\\n      by\\n        \\n      <!-- do not cache -->\\n<a href=\"/users/Saathi1013/pseuds/Saathi1013\" rel=\"author\">Saathi1013</a>\\n</h4>\\n<h5 class=\"fandoms heading\">\\n<span class=\"landmark\">Fandoms:</span>\\n<a class=\"tag\" href=\"/tags/Sherlock%20(TV)/works\">Sherlock (TV)</a>, <a class=\"tag\" href=\"/tags/Sherlock%20Holmes%20*a*%20Related%20Fandoms/works\">Sherlock Holmes &amp; Related Fandoms</a>\\n      \\xa0\\n    </h5>\\n<!--required tags-->\\n<ul class=\"required-tags\">\\n<li> <a aria-controls=\"#modal\" class=\"help symbol question modal\" href=\"/help/symbols-key.html\" title=\"Symbols key\"><span class=\"rating-explicit rating\" title=\"Explicit\"><span class=\"text\">Explicit</span></span></a></li>\\n<li> <a aria-controls=\"#modal\" class=\"help symbol question modal\" href=\"/help/symbols-key.html\" title=\"Symbols key\"><span class=\"warning-yes warnings\" title=\"Choose Not To Use Archive Warnings, Graphic Depictions Of Violence, Rape/Non-Con\"><span class=\"text\">Choose Not To Use Archive Warnings, Graphic Depictions Of Violence, Rape/Non-Con</span></span></a></li>\\n<li> <a aria-controls=\"#modal\" class=\"help symbol question modal\" href=\"/help/symbols-key.html\" title=\"Symbols key\"><span class=\"category-slash category\" title=\"M/M\"><span class=\"text\">M/M</span></span></a></li>\\n<li> <a aria-controls=\"#modal\" class=\"help symbol question modal\" href=\"/help/symbols-key.html\" title=\"Symbols key\"><span class=\"complete-yes iswip\" title=\"Complete Work\"><span class=\"text\">Complete Work</span></span></a></li>\\n</ul>\\n<p class=\"datetime\"> 2 Feb 2011</p>\\n</div>\\n<!--warnings again, cast, freeform tags-->\\n<h6 class=\"landmark heading\">Tags</h6>\\n<ul class=\"tags commas\">\\n<li class=\"warnings\"><strong><a class=\"tag\" href=\"/tags/Choose%20Not%20To%20Use%20Archive%20Warnings/works\">Creator Chose Not To Use Archive Warnings</a></strong></li> <li class=\"warnings\"><strong><a class=\"tag\" href=\"/tags/Graphic%20Depictions%20Of%20Violence/works\">Graphic Depictions Of Violence</a></strong></li> <li class=\"warnings\"><strong><a class=\"tag\" href=\"/tags/Rape*s*Non-Con/works\">Rape/Non-Con</a></strong></li><li class=\"relationships\"><a class=\"tag\" href=\"/tags/Sherlock%20Holmes*s*Sarah%20Sawyer*s*John%20Watson/works\">Sherlock Holmes/Sarah Sawyer/John Watson</a></li> <li class=\"relationships\"><a class=\"tag\" href=\"/tags/Sherlock%20Holmes*s*John%20Watson/works\">Sherlock Holmes/John Watson</a></li><li class=\"characters\"><a class=\"tag\" href=\"/tags/Sarah%20Sawyer/works\">Sarah Sawyer</a></li> <li class=\"characters\"><a class=\"tag\" href=\"/tags/Sherlock%20Holmes/works\">Sherlock Holmes</a></li> <li class=\"characters\"><a class=\"tag\" href=\"/tags/John%20Watson/works\">John Watson</a></li> <li class=\"characters\"><a class=\"tag\" href=\"/tags/Original%20Characters/works\">Original Characters</a></li> <li class=\"characters\"><a class=\"tag\" href=\"/tags/Mrs*d*%20Hudson/works\">Mrs. Hudson</a></li><li class=\"freeforms\"><a class=\"tag\" href=\"/tags/Rape*s*Non-con%20References/works\">Rape/Non-con References</a></li> <li class=\"freeforms\"><a class=\"tag\" href=\"/tags/Angst/works\">Angst</a></li> <li class=\"freeforms\"><a class=\"tag\" href=\"/tags/Drug%20Addiction/works\">Drug Addiction</a></li> <li class=\"freeforms\"><a class=\"tag\" href=\"/tags/Hurt*s*Comfort/works\">Hurt/Comfort</a></li>\\n</ul>\\n<!--summary-->\\n<h6 class=\"landmark heading\">Summary</h6>\\n<blockquote class=\"userstuff summary\">\\n<p>What it says on the tin.  'Bonus material' for the series, edited out for various reasons.</p>\\n</blockquote>\\n<h6 class=\"landmark heading\">Series</h6>\\n<ul class=\"series\">\\n<li>\\n          Part <strong>9</strong> of <a href=\"/series/21292\">Lorem Ipsum</a>\\n</li>\\n</ul>\\n<!--stats-->\\n<dl class=\"stats\">\\n<dt class=\"language\">Language:</dt>\\n<dd class=\"language\">English</dd>\\n<dt class=\"words\">Words:</dt>\\n<dd class=\"words\">2,298</dd>\\n<dt class=\"chapters\">Chapters:</dt>\\n<dd class=\"chapters\">1/1</dd>\\n<dt class=\"comments\">Comments:</dt>\\n<dd class=\"comments\"><a href=\"/works/438868?show_comments=true#comments\">7</a></dd>\\n<dt class=\"kudos\">Kudos:</dt>\\n<dd class=\"kudos\"><a href=\"/works/438868#comments\">63</a></dd>\\n<dt class=\"bookmarks\">Bookmarks:</dt>\\n<dd class=\"bookmarks\"><a href=\"/works/438868/bookmarks\">1</a></dd>\\n<dt class=\"hits\">Hits:</dt>\\n<dd class=\"hits\">2241</dd>\\n</dl>\\n</li>, <li class=\"work blurb group\" id=\"work_438771\" role=\"article\">\\n<!--title, author, fandom-->\\n<div class=\"header module\">\\n<h4 class=\"heading\">\\n<a href=\"/works/438771\">Lorem Ipsum</a>\\n      by\\n        \\n      <!-- do not cache -->\\n<a href=\"/users/Saathi1013/pseuds/Saathi1013\" rel=\"author\">Saathi1013</a>\\n</h4>\\n<h5 class=\"fandoms heading\">\\n<span class=\"landmark\">Fandoms:</span>\\n<a class=\"tag\" href=\"/tags/Sherlock%20(TV)/works\">Sherlock (TV)</a>, <a class=\"tag\" href=\"/tags/Sherlock%20Holmes%20*a*%20Related%20Fandoms/works\">Sherlock Holmes &amp; Related Fandoms</a>\\n      \\xa0\\n    </h5>\\n<!--required tags-->\\n<ul class=\"required-tags\">\\n<li> <a aria-controls=\"#modal\" class=\"help symbol question modal\" href=\"/help/symbols-key.html\" title=\"Symbols key\"><span class=\"rating-explicit rating\" title=\"Explicit\"><span class=\"text\">Explicit</span></span></a></li>\\n<li> <a aria-controls=\"#modal\" class=\"help symbol question modal\" href=\"/help/symbols-key.html\" title=\"Symbols key\"><span class=\"warning-yes warnings\" title=\"Graphic Depictions Of Violence, Rape/Non-Con\"><span class=\"text\">Graphic Depictions Of Violence, Rape/Non-Con</span></span></a></li>\\n<li> <a aria-controls=\"#modal\" class=\"help symbol question modal\" href=\"/help/symbols-key.html\" title=\"Symbols key\"><span class=\"category-other category\" title=\"Other\"><span class=\"text\">Other</span></span></a></li>\\n<li> <a aria-controls=\"#modal\" class=\"help symbol question modal\" href=\"/help/symbols-key.html\" title=\"Symbols key\"><span class=\"complete-yes iswip\" title=\"Complete Work\"><span class=\"text\">Complete Work</span></span></a></li>\\n</ul>\\n<p class=\"datetime\"> 1 Feb 2011</p>\\n</div>\\n<!--warnings again, cast, freeform tags-->\\n<h6 class=\"landmark heading\">Tags</h6>\\n<ul class=\"tags commas\">\\n<li class=\"warnings\"><strong><a class=\"tag\" href=\"/tags/Graphic%20Depictions%20Of%20Violence/works\">Graphic Depictions Of Violence</a></strong></li> <li class=\"warnings\"><strong><a class=\"tag\" href=\"/tags/Rape*s*Non-Con/works\">Rape/Non-Con</a></strong></li><li class=\"relationships\"><a class=\"tag\" href=\"/tags/Sherlock%20Holmes*s*Sarah%20Sawyer*s*John%20Watson/works\">Sherlock Holmes/Sarah Sawyer/John Watson</a></li><li class=\"characters\"><a class=\"tag\" href=\"/tags/Sarah%20Sawyer/works\">Sarah Sawyer</a></li> <li class=\"characters\"><a class=\"tag\" href=\"/tags/Sherlock%20Holmes/works\">Sherlock Holmes</a></li> <li class=\"characters\"><a class=\"tag\" href=\"/tags/John%20Watson/works\">John Watson</a></li> <li class=\"characters\"><a class=\"tag\" href=\"/tags/Greg%20Lestrade/works\">Greg Lestrade</a></li> <li class=\"characters\"><a class=\"tag\" href=\"/tags/Mycroft%20Holmes/works\">Mycroft Holmes</a></li> <li class=\"characters\"><a class=\"tag\" href=\"/tags/Anthea%20(Sherlock)/works\">Anthea (Sherlock)</a></li> <li class=\"characters\"><a class=\"tag\" href=\"/tags/Jim%20Moriarty/works\">Jim Moriarty</a></li> <li class=\"characters\"><a class=\"tag\" href=\"/tags/Original%20Characters/works\">Original Characters</a></li> <li class=\"characters\"><a class=\"tag\" href=\"/tags/Sally%20Donovan/works\">Sally Donovan</a></li><li class=\"freeforms\"><a class=\"tag\" href=\"/tags/Threesome%20-%20F*s*M*s*M/works\">Threesome - F/M/M</a></li> <li class=\"freeforms\"><a class=\"tag\" href=\"/tags/OT3/works\">OT3</a></li> <li class=\"freeforms\"><a class=\"tag\" href=\"/tags/Attempted%20Rape/works\">Attempted Rape</a></li> <li class=\"freeforms\"><a class=\"tag\" href=\"/tags/Abduction/works\">Abduction</a></li> <li class=\"freeforms\"><a class=\"tag\" href=\"/tags/Hostage%20Situation/works\">Hostage Situation</a></li> <li class=\"freeforms\"><a class=\"tag\" href=\"/tags/Violence/works\">Violence</a></li> <li class=\"freeforms\"><a class=\"tag\" href=\"/tags/Psychological%20Torture/works\">Psychological Torture</a></li> <li class=\"freeforms\"><a class=\"tag\" href=\"/tags/Established%20Relationship/works\">Established Relationship</a></li> <li class=\"freeforms\"><a class=\"tag\" href=\"/tags/Angst/works\">Angst</a></li> <li class=\"freeforms\"><a class=\"tag\" href=\"/tags/Hurt*s*Comfort/works\">Hurt/Comfort</a></li> <li class=\"freeforms\"><a class=\"tag\" href=\"/tags/Drug%20Addiction/works\">Drug Addiction</a></li> <li class=\"freeforms\"><a class=\"tag\" href=\"/tags/Latin/works\">Latin</a></li>\\n</ul>\\n<!--summary-->\\n<h6 class=\"landmark heading\">Summary</h6>\\n<blockquote class=\"userstuff summary\">\\n<p>Sarah, in Moriarty's clutches; John and Sherlock, on the hunt. It's not pleasant for anyone.</p><p>[This fic/series is canonical for BBC's Sherlock, Season ONE only; it's wildly divergent otherwise.]</p>\\n</blockquote>\\n<h6 class=\"landmark heading\">Series</h6>\\n<ul class=\"series\">\\n<li>\\n          Part <strong>8</strong> of <a href=\"/series/21292\">Lorem Ipsum</a>\\n</li>\\n</ul>\\n<!--stats-->\\n<dl class=\"stats\">\\n<dt class=\"language\">Language:</dt>\\n<dd class=\"language\">English</dd>\\n<dt class=\"words\">Words:</dt>\\n<dd class=\"words\">8,495</dd>\\n<dt class=\"chapters\">Chapters:</dt>\\n<dd class=\"chapters\">1/1</dd>\\n<dt class=\"comments\">Comments:</dt>\\n<dd class=\"comments\"><a href=\"/works/438771?show_comments=true#comments\">15</a></dd>\\n<dt class=\"kudos\">Kudos:</dt>\\n<dd class=\"kudos\"><a href=\"/works/438771#comments\">85</a></dd>\\n<dt class=\"bookmarks\">Bookmarks:</dt>\\n<dd class=\"bookmarks\"><a href=\"/works/438771/bookmarks\">2</a></dd>\\n<dt class=\"hits\">Hits:</dt>\\n<dd class=\"hits\">2795</dd>\\n</dl>\\n</li>, <li class=\"work blurb group\" id=\"work_438748\" role=\"article\">\\n<!--title, author, fandom-->\\n<div class=\"header module\">\\n<h4 class=\"heading\">\\n<a href=\"/works/438748\">Grace to the Strong</a>\\n      by\\n        \\n      <!-- do not cache -->\\n<a href=\"/users/Saathi1013/pseuds/Saathi1013\" rel=\"author\">Saathi1013</a>\\n</h4>\\n<h5 class=\"fandoms heading\">\\n<span class=\"landmark\">Fandoms:</span>\\n<a class=\"tag\" href=\"/tags/Sherlock%20(TV)/works\">Sherlock (TV)</a>, <a class=\"tag\" href=\"/tags/Sherlock%20Holmes%20*a*%20Related%20Fandoms/works\">Sherlock Holmes &amp; Related Fandoms</a>\\n      \\xa0\\n    </h5>\\n<!--required tags-->\\n<ul class=\"required-tags\">\\n<li> <a aria-controls=\"#modal\" class=\"help symbol question modal\" href=\"/help/symbols-key.html\" title=\"Symbols key\"><span class=\"rating-explicit rating\" title=\"Explicit\"><span class=\"text\">Explicit</span></span></a></li>\\n<li> <a aria-controls=\"#modal\" class=\"help symbol question modal\" href=\"/help/symbols-key.html\" title=\"Symbols key\"><span class=\"warning-choosenotto warnings\" title=\"Choose Not To Use Archive Warnings\"><span class=\"text\">Choose Not To Use Archive Warnings</span></span></a></li>\\n<li> <a aria-controls=\"#modal\" class=\"help symbol question modal\" href=\"/help/symbols-key.html\" title=\"Symbols key\"><span class=\"category-other category\" title=\"Other\"><span class=\"text\">Other</span></span></a></li>\\n<li> <a aria-controls=\"#modal\" class=\"help symbol question modal\" href=\"/help/symbols-key.html\" title=\"Symbols key\"><span class=\"complete-yes iswip\" title=\"Complete Work\"><span class=\"text\">Complete Work</span></span></a></li>\\n</ul>\\n<p class=\"datetime\"> 7 Jan 2011</p>\\n</div>\\n<!--warnings again, cast, freeform tags-->\\n<h6 class=\"landmark heading\">Tags</h6>\\n<ul class=\"tags commas\">\\n<li class=\"warnings\"><strong><a class=\"tag\" href=\"/tags/Choose%20Not%20To%20Use%20Archive%20Warnings/works\">Creator Chose Not To Use Archive Warnings</a></strong></li><li class=\"relationships\"><a class=\"tag\" href=\"/tags/Sherlock%20Holmes*s*Sarah%20Sawyer*s*John%20Watson/works\">Sherlock Holmes/Sarah Sawyer/John Watson</a></li><li class=\"characters\"><a class=\"tag\" href=\"/tags/Sarah%20Sawyer/works\">Sarah Sawyer</a></li> <li class=\"characters\"><a class=\"tag\" href=\"/tags/John%20Watson/works\">John Watson</a></li> <li class=\"characters\"><a class=\"tag\" href=\"/tags/Sherlock%20Holmes/works\">Sherlock Holmes</a></li> <li class=\"characters\"><a class=\"tag\" href=\"/tags/Original%20Characters/works\">Original Characters</a></li> <li class=\"characters\"><a class=\"tag\" href=\"/tags/Greg%20Lestrade/works\">Greg Lestrade</a></li> <li class=\"characters\"><a class=\"tag\" href=\"/tags/Mycroft%20Holmes/works\">Mycroft Holmes</a></li> <li class=\"characters\"><a class=\"tag\" href=\"/tags/Anthea%20(Sherlock)/works\">Anthea (Sherlock)</a></li> <li class=\"characters\"><a class=\"tag\" href=\"/tags/Jim%20Moriarty/works\">Jim Moriarty</a></li> <li class=\"characters\"><a class=\"tag\" href=\"/tags/Anthea*s*Molly%20Hooper%20(mentioned)/works\">Anthea/Molly Hooper (mentioned)</a></li><li class=\"freeforms\"><a class=\"tag\" href=\"/tags/Threesome%20-%20F*s*M*s*M/works\">Threesome - F/M/M</a></li> <li class=\"freeforms\"><a class=\"tag\" href=\"/tags/OT3/works\">OT3</a></li> <li class=\"freeforms\"><a class=\"tag\" href=\"/tags/Established%20Relationship/works\">Established Relationship</a></li> <li class=\"freeforms\"><a class=\"tag\" href=\"/tags/Tattoos/works\">Tattoos</a></li> <li class=\"freeforms\"><a class=\"tag\" href=\"/tags/Abduction/works\">Abduction</a></li> <li class=\"freeforms\"><a class=\"tag\" href=\"/tags/Kidnapping/works\">Kidnapping</a></li> <li class=\"freeforms\"><a class=\"tag\" href=\"/tags/Cliffhangers/works\">Cliffhangers</a></li> <li class=\"freeforms\"><a class=\"tag\" href=\"/tags/Drug%20Addiction/works\">Drug Addiction</a></li> <li class=\"freeforms\"><a class=\"tag\" href=\"/tags/POV%20Alternating/works\">POV Alternating</a></li>\\n</ul>\\n<!--summary-->\\n<h6 class=\"landmark heading\">Summary</h6>\\n<blockquote class=\"userstuff summary\">\\n<p>In Which Compromises are Made, as are Plans; Sherlock gets under Sarah's Skin on a Permanent Basis; Sarah gets Sherlock to say 'I Do;' Chess Analogies are Discarded as Clich\\xe9 and Irrelevant Besides; and a Choice is Offered. </p><p>[This fic/series is canonical for BBC's Sherlock, Season ONE only; it's wildly divergent otherwise.]</p>\\n</blockquote>\\n<h6 class=\"landmark heading\">Series</h6>\\n<ul class=\"series\">\\n<li>\\n          Part <strong>7</strong> of <a href=\"/series/21292\">Lorem Ipsum</a>\\n</li>\\n</ul>\\n<!--stats-->\\n<dl class=\"stats\">\\n<dt class=\"language\">Language:</dt>\\n<dd class=\"language\">English</dd>\\n<dt class=\"words\">Words:</dt>\\n<dd class=\"words\">6,793</dd>\\n<dt class=\"chapters\">Chapters:</dt>\\n<dd class=\"chapters\">1/1</dd>\\n<dt class=\"comments\">Comments:</dt>\\n<dd class=\"comments\"><a href=\"/works/438748?show_comments=true#comments\">11</a></dd>\\n<dt class=\"kudos\">Kudos:</dt>\\n<dd class=\"kudos\"><a href=\"/works/438748#comments\">74</a></dd>\\n<dt class=\"bookmarks\">Bookmarks:</dt>\\n<dd class=\"bookmarks\"><a href=\"/works/438748/bookmarks\">2</a></dd>\\n<dt class=\"hits\">Hits:</dt>\\n<dd class=\"hits\">2526</dd>\\n</dl>\\n</li>]\n"
     ]
    }
   ],
   "source": [
    "# find class = 'work blurb group'\n",
    "stories = soup.findAll(\"li\", { \"class\" : \"work blurb group\" })\n",
    "print stories"
   ]
  },
  {
   "cell_type": "code",
   "execution_count": null,
   "metadata": {
    "collapsed": false
   },
   "outputs": [],
   "source": [
    "print stories[0]"
   ]
  },
  {
   "cell_type": "code",
   "execution_count": null,
   "metadata": {
    "collapsed": false
   },
   "outputs": [],
   "source": [
    "story1 = stories[4]\n",
    "print story1\n"
   ]
  },
  {
   "cell_type": "code",
   "execution_count": null,
   "metadata": {
    "collapsed": false
   },
   "outputs": [],
   "source": [
    "hits = story1.findAll(\"dd\", { \"class\" : \"hits\" })\n",
    "print hits[0].contents"
   ]
  },
  {
   "cell_type": "code",
   "execution_count": null,
   "metadata": {
    "collapsed": false
   },
   "outputs": [],
   "source": []
  },
  {
   "cell_type": "raw",
   "metadata": {},
   "source": []
  },
  {
   "cell_type": "code",
   "execution_count": null,
   "metadata": {
    "collapsed": false
   },
   "outputs": [],
   "source": [
    "header = story1.find(\"h4\")\n",
    "story_url = header.a['href']\n",
    "print header.a.contents"
   ]
  },
  {
   "cell_type": "code",
   "execution_count": null,
   "metadata": {
    "collapsed": false
   },
   "outputs": [],
   "source": [
    "kudos = story1.findAll(\"dd\", {\"class\":\"kudos\"})[0].contents[0].contents\n",
    "print kudos"
   ]
  },
  {
   "cell_type": "code",
   "execution_count": null,
   "metadata": {
    "collapsed": false
   },
   "outputs": [],
   "source": [
    "<li class=\"work blurb group\" id=\"work_6092563\" role=\"article\">\n",
    "<!--title, author, fandom-->\n",
    "<div class=\"header module\">\n",
    "<h4 class=\"heading\">\n",
    "<a href=\"/works/6092563\">Triadverse One-shots</a>\n",
    "      by\n",
    "        \n",
    "      <!-- do not cache -->\n",
    "<a href=\"/users/MelyndaR/pseuds/MelyndaR\" rel=\"author\">MelyndaR</a>\n",
    "</h4>\n",
    "<h5 class=\"fandoms heading\">\n",
    "<span class=\"landmark\">Fandoms:</span>\n",
    "<a class=\"tag\" href=\"/tags/Sherlock%20(TV)/works\">Sherlock (TV)</a>, <a class=\"tag\" href=\"/tags/Sherlock%20Holmes%20*a*%20Related%20Fandoms/works\">Sherlock Holmes &amp; Related Fandoms</a>, <a class=\"tag\" href=\"/tags/Agents%20of%20S*d*H*d*I*d*E*d*L*d*D*d*%20(TV)/works\">Agents of S.H.I.E.L.D. (TV)</a>, <a class=\"tag\" href=\"/tags/Marvel%20Cinematic%20Universe/works\">Marvel Cinematic Universe</a>, <a class=\"tag\" href=\"/tags/Marvel/works\">Marvel</a>\n",
    "       \n",
    "    </h5>\n",
    "<!--required tags-->\n",
    "<ul class=\"required-tags\">\n",
    "<li> <a aria-controls=\"#modal\" class=\"help symbol question modal\" href=\"/help/symbols-key.html\" title=\"Symbols key\"><span class=\"rating-general-audience rating\" title=\"General Audiences\"><span class=\"text\">General Audiences</span></span></a></li>\n",
    "<li> <a aria-controls=\"#modal\" class=\"help symbol question modal\" href=\"/help/symbols-key.html\" title=\"Symbols key\"><span class=\"warning-choosenotto warnings\" title=\"Choose Not To Use Archive Warnings\"><span class=\"text\">Choose Not To Use Archive Warnings</span></span></a></li>\n",
    "<li> <a aria-controls=\"#modal\" class=\"help symbol question modal\" href=\"/help/symbols-key.html\" title=\"Symbols key\"><span class=\"category-multi category\" title=\"Multi\"><span class=\"text\">Multi</span></span></a></li>\n",
    "<li> <a aria-controls=\"#modal\" class=\"help symbol question modal\" href=\"/help/symbols-key.html\" title=\"Symbols key\"><span class=\"complete-yes iswip\" title=\"Complete Work\"><span class=\"text\">Complete Work</span></span></a></li>\n",
    "</ul>\n",
    "<p class=\"datetime\">23 Feb 2016</p>\n",
    "</div>\n",
    "<!--warnings again, cast, freeform tags-->\n",
    "<h6 class=\"landmark heading\">Tags</h6>\n",
    "<ul class=\"tags commas\">\n",
    "<li class=\"warnings\"><strong><a class=\"tag\" href=\"/tags/Choose%20Not%20To%20Use%20Archive%20Warnings/works\">\n",
    "Creator Chose Not To Use Archive Warnings</a></strong></li>\n",
    "<li class=\"relationships\">\n",
    "<a class=\"tag\" href=\"/tags/Irene%20Adler*s*Sherlock%20Holmes*s*Jim%20Moriarty/works\">\n",
    "Irene Adler/Sherlock Holmes/Jim Moriarty</a></li> \n",
    "<li class=\"relationships\"><a class=\"tag\" href=\"/tags/Anthea*s*Mycroft%20Holmes*s*Greg%20Lestrade/works\">Anthea/Mycroft Holmes/Greg Lestrade</a></li> <li class=\"relationships\"><a class=\"tag\" href=\"/tags/Mycroft%20Holmes*s*Molly%20Hooper*s*Greg%20Lestrade/works\">Mycroft Holmes/Molly Hooper/Greg Lestrade</a></li> <li class=\"relationships\"><a class=\"tag\" href=\"/tags/Sherlock%20Holmes*s*Sarah%20Sawyer*s*John%20Watson/works\">Sherlock Holmes/Sarah Sawyer/John Watson</a></li> <li class=\"relationships\"><a class=\"tag\" href=\"/tags/Molly%20Hooper*s*Sebastian%20Moran*s*Jim%20Moriarty/works\">Molly Hooper/Sebastian Moran/Jim Moriarty</a></li> <li class=\"relationships\"><a class=\"tag\" href=\"/tags/Sherlock%20Holmes*s*Mary%20Morstan*s*John%20Watson/works\">Sherlock Holmes/Mary Morstan/John Watson</a></li> <li class=\"relationships\"><a class=\"tag\" href=\"/tags/Irene%20Adler*s*Sherlock%20Holmes*s*John%20Watson/works\">Irene Adler/Sherlock Holmes/John Watson</a></li> <li class=\"relationships\"><a class=\"tag\" href=\"/tags/Sherlock%20Holmes*s*Molly%20Hooper*s*John%20Watson/works\">Sherlock Holmes/Molly Hooper/John Watson</a></li> \n",
    "<li class=\"relationships\"><a class=\"tag\" href=\"/tags/Molly%20Hooper*s*Greg%20Lestrade*s*John%20Watson/works\">Molly Hooper/Greg Lestrade/John Watson</a></li> <li class=\"relationships\"><a class=\"tag\" href=\"/tags/Irene%20Adler*s*Sherlock%20Holmes*s*Molly%20Hooper/works\">Irene Adler/Sherlock Holmes/Molly Hooper</a></li>\n",
    "\n",
    "\n",
    "<li class=\"characters\"><a class=\"tag\" href=\"/tags/Sherlock%20Holmes/works\">Sherlock Holmes</a></li> <li class=\"characters\"><a class=\"tag\" href=\"/tags/Irene%20Adler/works\">Irene Adler</a></li> <li class=\"characters\"><a class=\"tag\" href=\"/tags/Jim%20Moriarty/works\">Jim Moriarty</a></li> <li class=\"characters\"><a class=\"tag\" href=\"/tags/Anthea%20(Sherlock)/works\">Anthea (Sherlock)</a></li> <li class=\"characters\"><a class=\"tag\" href=\"/tags/Mycroft%20Holmes/works\">Mycroft Holmes</a></li> <li class=\"characters\"><a class=\"tag\" href=\"/tags/Greg%20Lestrade/works\">Greg Lestrade</a></li> <li class=\"characters\"><a class=\"tag\" href=\"/tags/Molly%20Hooper/works\">Molly Hooper</a></li> <li class=\"characters\"><a class=\"tag\" href=\"/tags/Sarah%20Sawyer/works\">Sarah Sawyer</a></li> <li class=\"characters\"><a class=\"tag\" href=\"/tags/John%20Watson/works\">John Watson</a></li> <li class=\"characters\"><a class=\"tag\" href=\"/tags/Sebastian%20Moran/works\">Sebastian Moran</a></li> <li class=\"characters\"><a class=\"tag\" href=\"/tags/Mary%20Morstan/works\">Mary Morstan</a></li>\n",
    "<li class=\"freeforms\">\n",
    "<a class=\"tag\" href=\"/tags/Polyamory/works\">Polyamory</a></li> <li class=\"freeforms\">\n",
    "\n",
    "\n",
    "<a class=\"tag\" href=\"/tags/Triadverse/works\">Triadverse</a></li>\n",
    "</ul>\n",
    "<!--summary-->\n",
    "<h6 class=\"landmark heading\">Summary</h6>\n",
    "<blockquote class=\"userstuff summary\">\n",
    "<p>A collection of ten Sherlock triadverse one-shots, each being completely individual from the next.</p>\n",
    "</blockquote>\n",
    "<!--stats-->\n",
    "<dl class=\"stats\">\n",
    "<dt class=\"language\">Language:</dt>\n",
    "<dd class=\"language\">English</dd>\n",
    "<dt class=\"words\">Words:</dt>\n",
    "<dd class=\"words\">4,810</dd>\n",
    "<dt class=\"chapters\">Chapters:</dt>\n",
    "<dd class=\"chapters\">10/10</dd>\n",
    "<dt class=\"comments\">Comments:</dt>\n",
    "<dd class=\"comments\"><a href=\"/works/6092563?show_comments=true&amp;view_full_work=true#comments\">13</a></dd>\n",
    "<dt class=\"kudos\">Kudos:</dt>\n",
    "<dd class=\"kudos\"><a href=\"/works/6092563?view_full_work=true#comments\">17</a></dd>\n",
    "<dt class=\"hits\">Hits:</dt>\n",
    "<dd class=\"hits\">363</dd>\n",
    "</dl>\n",
    "</li>"
   ]
  },
  {
   "cell_type": "code",
   "execution_count": 5,
   "metadata": {
    "collapsed": false
   },
   "outputs": [],
   "source": [
    "def grab_story(story1):\n",
    "    #Attempt to calculate score first\n",
    "    \n",
    "    try:   \n",
    "        hits = float(story1.findAll(\"dd\", { \"class\" : \"hits\" })[0].contents[0])\n",
    "        kudos = float(story1.findAll(\"dd\", {\"class\":\"kudos\"})[0].contents[0].contents[0])\n",
    "        bookmarks = float(story1.findAll(\"dd\", {\"class\": \"bookmarks\"})[0].contents[0].contents[0])\n",
    "        score = kudos/hits + bookmarks/kudos\n",
    "    except IndexError:\n",
    "        return\n",
    "    else:  \n",
    "        characters = []\n",
    "        relationship = []\n",
    "        header = story1.find(\"h4\")\n",
    "        story_url = base_url + header.a['href']\n",
    "        title = header.a.contents[0]\n",
    "        #Need to navigate eiher to 2nd link in header or to rel = \"author\"\n",
    "        author = story1.find(\"a\", {\"rel\": \"author\"}).contents[0]\n",
    "        summary = story1.findAll(\"blockquote\", {\"class\": \"userstuff summary\"})[0].contents[1].contents[0]\n",
    "\n",
    "        #Store all tags as list\n",
    "        tags = \"\"    \n",
    "        language = \"\"\n",
    "        word_count = \"\"\n",
    "        chapters = \"\"\n",
    "        #temp = story1.findAll(\"li\", {\"class\": \"characters\"})[0]\n",
    "        #for item in temp:\n",
    "        #    characters.append(item.contents[0].contents)\n",
    "        #comments = story1.findAll(\"dd\", { \"class\" : \"comments\" })[0].contents[0].contents[0]\n",
    "        date = story1.findAll(\"p\", {\"class\":\"datetime\"})[0].contents[0]\n",
    "        relationship = []\n",
    "        temp = story1.findAll(\"li\", {\"class\": \"relationships\"})\n",
    "        for item in temp:\n",
    "            relationship.append(item.contents[0].contents[0])        \n",
    "    #    tags = story1.findAll\n",
    "        summary = story1.findAll(\"blockquote\", {\"class\": \"userstuff summary\"})[0].contents[1].contents[0]\n",
    "        keys = ['Title','Author', 'Characters', 'Relationship', 'Score', 'Summary', 'Hits', 'Kudos', 'URL', 'Date']    \n",
    "        story_list.append(dict(zip(keys, [title, author, characters, relationship, score, summary, hits, kudos, story_url, date])))  \n"
   ]
  },
  {
   "cell_type": "code",
   "execution_count": null,
   "metadata": {
    "collapsed": false
   },
   "outputs": [],
   "source": [
    "relationship = []\n",
    "temp = story1.findAll(\"li\", {\"class\": \"relationships\"})\n",
    "for item in temp:\n",
    "    relationship.append(item.contents[0].contents[0])\n",
    "    \n",
    "print relationship\n",
    "\n",
    "bookmarks = story1.findAll(\"dd\", {\"class\": \"bookmarks\"})[0].contents[0].contents\n",
    "print bookmarks"
   ]
  },
  {
   "cell_type": "code",
   "execution_count": null,
   "metadata": {
    "collapsed": false
   },
   "outputs": [],
   "source": [
    "characters = []\n",
    "characters = story1.findAll(\"li\", {\"class\": \"characters\"})[0].contents[0].contents\n",
    "\n",
    "#<a href=\"/users/MelyndaR/pseuds/MelyndaR\" rel=\"author\">MelyndaR</a>\n",
    "\n",
    "tags = story1.findAll(\"li\", {\"class\": \"freeforms\"})[0].contents[0].contents\n",
    "print tags\n",
    "\n",
    "\n",
    "temp = story1.find(\"a\", {\"rel\": \"author\"}).contents[0]\n",
    "\n",
    "#for item in temp:\n",
    "#    tags.append(item.contents[0].contents[0])\n",
    "\n",
    "print characters\n",
    "print temp"
   ]
  },
  {
   "cell_type": "markdown",
   "metadata": {},
   "source": [
    "Look at: \"<a rel=\"next\" href=\"/tags/Sherlock%20Holmes*s*Sarah%20Sawyer*s*John%20Watson/works?page=2\">\n",
    "    Next &#8594;</a>\"\n",
    "    \n",
    "<li class=\"next\" title=\"next\"><span class=\"disabled\">Next &#8594;</span></li>\n",
    "\n",
    "Look for bottom text. If it's present, then look no more for pages\n",
    "    "
   ]
  },
  {
   "cell_type": "code",
   "execution_count": null,
   "metadata": {
    "collapsed": false
   },
   "outputs": [],
   "source": [
    "grab_story(story1)"
   ]
  },
  {
   "cell_type": "markdown",
   "metadata": {
    "collapsed": true
   },
   "source": [
    "Referencing code from other file to build list of dictionaries\n",
    "\n",
    "standards_list.append(dict(zip(keys, [subject, parent_text, parent_tid, '', '', standard_code])))    \n",
    "standards_list_df = pd.DataFrame(standards_list)"
   ]
  },
  {
   "cell_type": "code",
   "execution_count": null,
   "metadata": {
    "collapsed": false
   },
   "outputs": [],
   "source": [
    "print story_list"
   ]
  },
  {
   "cell_type": "code",
   "execution_count": null,
   "metadata": {
    "collapsed": true
   },
   "outputs": [],
   "source": []
  },
  {
   "cell_type": "code",
   "execution_count": null,
   "metadata": {
    "collapsed": true
   },
   "outputs": [],
   "source": []
  },
  {
   "cell_type": "code",
   "execution_count": 6,
   "metadata": {
    "collapsed": false
   },
   "outputs": [],
   "source": [
    "for story in stories:\n",
    "    grab_story(story)"
   ]
  },
  {
   "cell_type": "code",
   "execution_count": 7,
   "metadata": {
    "collapsed": false
   },
   "outputs": [],
   "source": [
    "story_list_df = pd.DataFrame(story_list)"
   ]
  },
  {
   "cell_type": "code",
   "execution_count": 8,
   "metadata": {
    "collapsed": false
   },
   "outputs": [
    {
     "name": "stdout",
     "output_type": "stream",
     "text": [
      "             Author Characters         Date     Hits  Kudos  \\\n",
      "0           deklava         []  24 Oct 2013   3132.0   86.0   \n",
      "1         lie_to_me         []   7 Sep 2013    877.0   29.0   \n",
      "2       Mazarin221b         []  23 Aug 2012   3108.0  139.0   \n",
      "3            mardia         []  25 Feb 2012   1918.0   44.0   \n",
      "4   nickelsandcoats         []  25 Jan 2012   2711.0   44.0   \n",
      "5      alizarin_nyc         []   4 Jan 2012   1890.0   91.0   \n",
      "6              Dweo         []   1 Jan 2012   1997.0   31.0   \n",
      "7    marysutherland         []   5 Nov 2011   1827.0   69.0   \n",
      "8           Pouncer         []   1 Jul 2011   3047.0   79.0   \n",
      "9           Sadbhyl         []   1 Jul 2011   1523.0   83.0   \n",
      "10      Pyjamapants         []  29 May 2011  13883.0  460.0   \n",
      "11       Saathi1013         []   1 Apr 2011   2760.0  134.0   \n",
      "12       Saathi1013         []   5 Mar 2011   3320.0   85.0   \n",
      "13       Saathi1013         []   2 Feb 2011   2241.0   63.0   \n",
      "14       Saathi1013         []   1 Feb 2011   2795.0   85.0   \n",
      "15       Saathi1013         []   7 Jan 2011   2526.0   74.0   \n",
      "\n",
      "                                         Relationship     Score  \\\n",
      "0          [Sherlock Holmes/Sarah Sawyer/John Watson]  0.120482   \n",
      "1   [Sherlock Holmes/John Watson, John Watson/Sara...  0.067550   \n",
      "2   [Sherlock Holmes/Sarah Sawyer/John Watson, She...  0.246162   \n",
      "3          [Sherlock Holmes/Sarah Sawyer/John Watson]  0.068395   \n",
      "4   [Sherlock/John/Sarah - Relationship, Establish...  0.152594   \n",
      "5   [Sarah Sawyer/John Watson, Sherlock Holmes/Joh...  0.169027   \n",
      "6          [Sherlock Holmes/Sarah Sawyer/John Watson]  0.144556   \n",
      "7   [Mycroft Holmes/Lestrade (Inspector), Anthea/M...  0.168202   \n",
      "8   [Sherlock Holmes/John Watson, John Watson/Sara...  0.177826   \n",
      "9   [Sarah Sawyer/John Watson, Sherlock Holmes/Sar...  0.283413   \n",
      "10  [Sarah Sawyer/John Watson, Sherlock Holmes/Joh...  0.354873   \n",
      "11  [Sherlock Holmes/Sarah Sawyer/John Watson, Sar...  0.123178   \n",
      "12         [Sherlock Holmes/Sarah Sawyer/John Watson]  0.060897   \n",
      "13  [Sherlock Holmes/Sarah Sawyer/John Watson, She...  0.043985   \n",
      "14         [Sherlock Holmes/Sarah Sawyer/John Watson]  0.053941   \n",
      "15         [Sherlock Holmes/Sarah Sawyer/John Watson]  0.056322   \n",
      "\n",
      "                                              Summary  \\\n",
      "0                                                   \n",
      "   \n",
      "1   In which John has rather a lot of surprising c...   \n",
      "2     Originally posted to LiveJournal April 1, 2011.   \n",
      "3                         Written for Porn Battle XI.   \n",
      "4                        This is John Watson, broken.   \n",
      "5   Sarah has a theory that she can't keep to hers...   \n",
      "6            The boys just want make Sarah feel good.   \n",
      "7                        Written for a prompt at the    \n",
      "8   Sherlock lay on the sofa and moaned.  Fever wa...   \n",
      "9   Sarah knew that Sherlock would be part of any ...   \n",
      "10  Sarah and John discover that inviting Sherlock...   \n",
      "11  Sarah and John are on their honeymoon; Sherloc...   \n",
      "12  In which someone dies and their funeral is hel...   \n",
      "13  What it says on the tin.  'Bonus material' for...   \n",
      "14  Sarah, in Moriarty's clutches; John and Sherlo...   \n",
      "15  In Which Compromises are Made, as are Plans; S...   \n",
      "\n",
      "                                                Title  \\\n",
      "0                                            Triangle   \n",
      "1   Two Conversations John Didn't Want to Have, an...   \n",
      "2                       The Seduction of Sarah Sawyer   \n",
      "3                           delivering her from grace   \n",
      "4   I’ve Shattered into a Thousand Pieces (We’ll P...   \n",
      "5                                              ALLIES   \n",
      "6                             An Equilateral Triangle   \n",
      "7                             The Penultimate Problem   \n",
      "8                          A Recollection Half Erased   \n",
      "9                              Baker Street Courtship   \n",
      "10  The Comparative Uses of Semaphore and Foghorns...   \n",
      "11                                 Wish You Were Here   \n",
      "12                                  One Day Like This   \n",
      "13  DELETED SCENES from Lorem Ipsum (story #7 from...   \n",
      "14                                        Lorem Ipsum   \n",
      "15                                Grace to the Strong   \n",
      "\n",
      "                                         URL  \n",
      "0   http://archiveofourown.org/works/1016599  \n",
      "1    http://archiveofourown.org/works/927081  \n",
      "2    http://archiveofourown.org/works/494037  \n",
      "3    http://archiveofourown.org/works/347022  \n",
      "4    http://archiveofourown.org/works/263451  \n",
      "5    http://archiveofourown.org/works/313231  \n",
      "6    http://archiveofourown.org/works/309659  \n",
      "7    http://archiveofourown.org/works/273026  \n",
      "8    http://archiveofourown.org/works/217923  \n",
      "9    http://archiveofourown.org/works/217713  \n",
      "10   http://archiveofourown.org/works/177724  \n",
      "11   http://archiveofourown.org/works/438864  \n",
      "12   http://archiveofourown.org/works/438779  \n",
      "13   http://archiveofourown.org/works/438868  \n",
      "14   http://archiveofourown.org/works/438771  \n",
      "15   http://archiveofourown.org/works/438748  \n"
     ]
    }
   ],
   "source": [
    "print story_list_df"
   ]
  },
  {
   "cell_type": "code",
   "execution_count": null,
   "metadata": {
    "collapsed": false
   },
   "outputs": [],
   "source": []
  },
  {
   "cell_type": "code",
   "execution_count": null,
   "metadata": {
    "collapsed": true
   },
   "outputs": [],
   "source": []
  }
 ],
 "metadata": {
  "anaconda-cloud": {},
  "kernelspec": {
   "display_name": "Python [conda root]",
   "language": "python",
   "name": "conda-root-py"
  },
  "language_info": {
   "codemirror_mode": {
    "name": "ipython",
    "version": 2
   },
   "file_extension": ".py",
   "mimetype": "text/x-python",
   "name": "python",
   "nbconvert_exporter": "python",
   "pygments_lexer": "ipython2",
   "version": "2.7.13"
  }
 },
 "nbformat": 4,
 "nbformat_minor": 1
}
