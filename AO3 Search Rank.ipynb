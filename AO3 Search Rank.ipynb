{
 "cells": [
  {
   "cell_type": "markdown",
   "metadata": {},
   "source": [
    "The goal of this program is to take a list of search results from Archive of Our Own and return a more customized set of search results. In particular, this program returns the stories with a fic quality rating, simply calculated by dividing the number of reads by the number of kudos. Eventually, this calculation may become more nuanced.\n",
    "\n",
    "Inputs:\n",
    "    AO3 URL"
   ]
  },
  {
   "cell_type": "code",
   "execution_count": 18,
   "metadata": {
    "collapsed": true
   },
   "outputs": [],
   "source": [
    "from urllib import urlopen\n",
    "from bs4 import BeautifulSoup\n",
    "import pandas as pd\n",
    "import requests\n",
    "import string\n",
    "from lxml import html\n",
    "\n",
    "story_list = []\n",
    "base_url = \"http://archiveofourown.org\"\n",
    "link_url = \"http://archiveofourown.org/tags/Sherlock%20Holmes*s*Sarah%20Sawyer*s*John%20Watson/works?page=\"\n",
    "page_number = 1"
   ]
  },
  {
   "cell_type": "code",
   "execution_count": 19,
   "metadata": {
    "collapsed": true
   },
   "outputs": [],
   "source": [
    "file = urlopen(link_url)"
   ]
  },
  {
   "cell_type": "code",
   "execution_count": 20,
   "metadata": {
    "collapsed": false
   },
   "outputs": [],
   "source": [
    "soup = BeautifulSoup(file, \"lxml\")\n",
    "stories = soup.ol\n",
    "\n",
    "#print stories"
   ]
  },
  {
   "cell_type": "code",
   "execution_count": 21,
   "metadata": {
    "collapsed": false
   },
   "outputs": [],
   "source": [
    "# find class = 'work blurb group'\n",
    "stories = soup.findAll(\"li\", { \"class\" : \"work blurb group\" })\n",
    "#print stories\n",
    "#print stories[0]"
   ]
  },
  {
   "cell_type": "code",
   "execution_count": null,
   "metadata": {
    "collapsed": false
   },
   "outputs": [],
   "source": [
    "<li class=\"work blurb group\" id=\"work_6092563\" role=\"article\">\n",
    "<!--title, author, fandom-->\n",
    "<div class=\"header module\">\n",
    "<h4 class=\"heading\">\n",
    "<a href=\"/works/6092563\">Triadverse One-shots</a>\n",
    "      by\n",
    "        \n",
    "      <!-- do not cache -->\n",
    "<a href=\"/users/MelyndaR/pseuds/MelyndaR\" rel=\"author\">MelyndaR</a>\n",
    "</h4>\n",
    "<h5 class=\"fandoms heading\">\n",
    "<span class=\"landmark\">Fandoms:</span>\n",
    "<a class=\"tag\" href=\"/tags/Sherlock%20(TV)/works\">Sherlock (TV)</a>, <a class=\"tag\" href=\"/tags/Sherlock%20Holmes%20*a*%20Related%20Fandoms/works\">Sherlock Holmes &amp; Related Fandoms</a>, <a class=\"tag\" href=\"/tags/Agents%20of%20S*d*H*d*I*d*E*d*L*d*D*d*%20(TV)/works\">Agents of S.H.I.E.L.D. (TV)</a>, <a class=\"tag\" href=\"/tags/Marvel%20Cinematic%20Universe/works\">Marvel Cinematic Universe</a>, <a class=\"tag\" href=\"/tags/Marvel/works\">Marvel</a>\n",
    "       \n",
    "    </h5>\n",
    "<!--required tags-->\n",
    "<ul class=\"required-tags\">\n",
    "<li> <a aria-controls=\"#modal\" class=\"help symbol question modal\" href=\"/help/symbols-key.html\" title=\"Symbols key\"><span class=\"rating-general-audience rating\" title=\"General Audiences\"><span class=\"text\">General Audiences</span></span></a></li>\n",
    "<li> <a aria-controls=\"#modal\" class=\"help symbol question modal\" href=\"/help/symbols-key.html\" title=\"Symbols key\"><span class=\"warning-choosenotto warnings\" title=\"Choose Not To Use Archive Warnings\"><span class=\"text\">Choose Not To Use Archive Warnings</span></span></a></li>\n",
    "<li> <a aria-controls=\"#modal\" class=\"help symbol question modal\" href=\"/help/symbols-key.html\" title=\"Symbols key\"><span class=\"category-multi category\" title=\"Multi\"><span class=\"text\">Multi</span></span></a></li>\n",
    "<li> <a aria-controls=\"#modal\" class=\"help symbol question modal\" href=\"/help/symbols-key.html\" title=\"Symbols key\"><span class=\"complete-yes iswip\" title=\"Complete Work\"><span class=\"text\">Complete Work</span></span></a></li>\n",
    "</ul>\n",
    "<p class=\"datetime\">23 Feb 2016</p>\n",
    "</div>\n",
    "<!--warnings again, cast, freeform tags-->\n",
    "<h6 class=\"landmark heading\">Tags</h6>\n",
    "<ul class=\"tags commas\">\n",
    "<li class=\"warnings\"><strong><a class=\"tag\" href=\"/tags/Choose%20Not%20To%20Use%20Archive%20Warnings/works\">\n",
    "Creator Chose Not To Use Archive Warnings</a></strong></li>\n",
    "<li class=\"relationships\">\n",
    "<a class=\"tag\" href=\"/tags/Irene%20Adler*s*Sherlock%20Holmes*s*Jim%20Moriarty/works\">\n",
    "Irene Adler/Sherlock Holmes/Jim Moriarty</a></li> \n",
    "<li class=\"relationships\"><a class=\"tag\" href=\"/tags/Anthea*s*Mycroft%20Holmes*s*Greg%20Lestrade/works\">Anthea/Mycroft Holmes/Greg Lestrade</a></li> <li class=\"relationships\"><a class=\"tag\" href=\"/tags/Mycroft%20Holmes*s*Molly%20Hooper*s*Greg%20Lestrade/works\">Mycroft Holmes/Molly Hooper/Greg Lestrade</a></li> <li class=\"relationships\"><a class=\"tag\" href=\"/tags/Sherlock%20Holmes*s*Sarah%20Sawyer*s*John%20Watson/works\">Sherlock Holmes/Sarah Sawyer/John Watson</a></li> <li class=\"relationships\"><a class=\"tag\" href=\"/tags/Molly%20Hooper*s*Sebastian%20Moran*s*Jim%20Moriarty/works\">Molly Hooper/Sebastian Moran/Jim Moriarty</a></li> <li class=\"relationships\"><a class=\"tag\" href=\"/tags/Sherlock%20Holmes*s*Mary%20Morstan*s*John%20Watson/works\">Sherlock Holmes/Mary Morstan/John Watson</a></li> <li class=\"relationships\"><a class=\"tag\" href=\"/tags/Irene%20Adler*s*Sherlock%20Holmes*s*John%20Watson/works\">Irene Adler/Sherlock Holmes/John Watson</a></li> <li class=\"relationships\"><a class=\"tag\" href=\"/tags/Sherlock%20Holmes*s*Molly%20Hooper*s*John%20Watson/works\">Sherlock Holmes/Molly Hooper/John Watson</a></li> \n",
    "<li class=\"relationships\"><a class=\"tag\" href=\"/tags/Molly%20Hooper*s*Greg%20Lestrade*s*John%20Watson/works\">Molly Hooper/Greg Lestrade/John Watson</a></li> <li class=\"relationships\"><a class=\"tag\" href=\"/tags/Irene%20Adler*s*Sherlock%20Holmes*s*Molly%20Hooper/works\">Irene Adler/Sherlock Holmes/Molly Hooper</a></li>\n",
    "\n",
    "\n",
    "<li class=\"characters\"><a class=\"tag\" href=\"/tags/Sherlock%20Holmes/works\">Sherlock Holmes</a></li> <li class=\"characters\"><a class=\"tag\" href=\"/tags/Irene%20Adler/works\">Irene Adler</a></li> <li class=\"characters\"><a class=\"tag\" href=\"/tags/Jim%20Moriarty/works\">Jim Moriarty</a></li> <li class=\"characters\"><a class=\"tag\" href=\"/tags/Anthea%20(Sherlock)/works\">Anthea (Sherlock)</a></li> <li class=\"characters\"><a class=\"tag\" href=\"/tags/Mycroft%20Holmes/works\">Mycroft Holmes</a></li> <li class=\"characters\"><a class=\"tag\" href=\"/tags/Greg%20Lestrade/works\">Greg Lestrade</a></li> <li class=\"characters\"><a class=\"tag\" href=\"/tags/Molly%20Hooper/works\">Molly Hooper</a></li> <li class=\"characters\"><a class=\"tag\" href=\"/tags/Sarah%20Sawyer/works\">Sarah Sawyer</a></li> <li class=\"characters\"><a class=\"tag\" href=\"/tags/John%20Watson/works\">John Watson</a></li> <li class=\"characters\"><a class=\"tag\" href=\"/tags/Sebastian%20Moran/works\">Sebastian Moran</a></li> <li class=\"characters\"><a class=\"tag\" href=\"/tags/Mary%20Morstan/works\">Mary Morstan</a></li>\n",
    "<li class=\"freeforms\">\n",
    "<a class=\"tag\" href=\"/tags/Polyamory/works\">Polyamory</a></li> <li class=\"freeforms\">\n",
    "\n",
    "\n",
    "<a class=\"tag\" href=\"/tags/Triadverse/works\">Triadverse</a></li>\n",
    "</ul>\n",
    "<!--summary-->\n",
    "<h6 class=\"landmark heading\">Summary</h6>\n",
    "<blockquote class=\"userstuff summary\">\n",
    "<p>A collection of ten Sherlock triadverse one-shots, each being completely individual from the next.</p>\n",
    "</blockquote>\n",
    "<!--stats-->\n",
    "<dl class=\"stats\">\n",
    "<dt class=\"language\">Language:</dt>\n",
    "<dd class=\"language\">English</dd>\n",
    "<dt class=\"words\">Words:</dt>\n",
    "<dd class=\"words\">4,810</dd>\n",
    "<dt class=\"chapters\">Chapters:</dt>\n",
    "<dd class=\"chapters\">10/10</dd>\n",
    "<dt class=\"comments\">Comments:</dt>\n",
    "<dd class=\"comments\"><a href=\"/works/6092563?show_comments=true&amp;view_full_work=true#comments\">13</a></dd>\n",
    "<dt class=\"kudos\">Kudos:</dt>\n",
    "<dd class=\"kudos\"><a href=\"/works/6092563?view_full_work=true#comments\">17</a></dd>\n",
    "<dt class=\"hits\">Hits:</dt>\n",
    "<dd class=\"hits\">363</dd>\n",
    "</dl>\n",
    "</li>"
   ]
  },
  {
   "cell_type": "code",
   "execution_count": 25,
   "metadata": {
    "collapsed": false
   },
   "outputs": [],
   "source": [
    "def grab_story(story1):\n",
    "    #Attempt to calculate score first\n",
    "    \n",
    "    try:   \n",
    "        hits = float(story1.findAll(\"dd\", { \"class\" : \"hits\" })[0].contents[0])\n",
    "        kudos = float(story1.findAll(\"dd\", {\"class\":\"kudos\"})[0].contents[0].contents[0])\n",
    "        bookmarks = float(story1.findAll(\"dd\", {\"class\": \"bookmarks\"})[0].contents[0].contents[0])\n",
    "        score = kudos/hits + bookmarks/kudos\n",
    "    except IndexError:\n",
    "        return\n",
    "    else:  \n",
    "        characters = []\n",
    "        relationship = []\n",
    "        header = story1.find(\"h4\")\n",
    "        story_url = base_url + header.a['href']\n",
    "        title = header.a.contents[0]\n",
    "        #Need to navigate eiher to 2nd link in header or to rel = \"author\"\n",
    "        author = story1.find(\"a\", {\"rel\": \"author\"}).contents[0]\n",
    "        summary = story1.findAll(\"blockquote\", {\"class\": \"userstuff summary\"})[0].contents[1].contents[0]\n",
    "\n",
    "        #Store all tags as list\n",
    "        tags = \"\"    \n",
    "        language = \"\"\n",
    "        word_count = \"\"\n",
    "        chapters = \"\"\n",
    "#        temp = story1.findAll(\"li\", {\"class\": \"characters\"})[0]\n",
    "#        for item in temp:\n",
    "#            characters.append(item.contents[0].contents)\n",
    "        date = story1.findAll(\"p\", {\"class\":\"datetime\"})[0].contents[0]\n",
    "        relationship = []\n",
    "        temp = story1.findAll(\"li\", {\"class\": \"relationships\"})\n",
    "        for item in temp:\n",
    "            relationship.append(item.contents[0].contents[0])        \n",
    "    #    tags = story1.findAll\n",
    "        summary = story1.findAll(\"blockquote\", {\"class\": \"userstuff summary\"})[0].contents[1].contents[0]\n",
    "        keys = ['Title','Author', 'Characters', 'Relationship', 'Score', 'Summary', 'Hits', 'Kudos', 'URL', 'Date', 'Bookmarks']    \n",
    "        story_list.append(dict(zip(keys, [title, author, characters, relationship, score, summary, hits, kudos, story_url, date, bookmarks])))  \n"
   ]
  },
  {
   "cell_type": "code",
   "execution_count": 23,
   "metadata": {
    "collapsed": false
   },
   "outputs": [
    {
     "ename": "NameError",
     "evalue": "name 'story1' is not defined",
     "output_type": "error",
     "traceback": [
      "\u001b[0;31m---------------------------------------------------------------------------\u001b[0m",
      "\u001b[0;31mNameError\u001b[0m                                 Traceback (most recent call last)",
      "\u001b[0;32m<ipython-input-23-12e47bb66fe7>\u001b[0m in \u001b[0;36m<module>\u001b[0;34m()\u001b[0m\n\u001b[1;32m      1\u001b[0m \u001b[0mrelationship\u001b[0m \u001b[1;33m=\u001b[0m \u001b[1;33m[\u001b[0m\u001b[1;33m]\u001b[0m\u001b[1;33m\u001b[0m\u001b[0m\n\u001b[0;32m----> 2\u001b[0;31m \u001b[0mtemp\u001b[0m \u001b[1;33m=\u001b[0m \u001b[0mstory1\u001b[0m\u001b[1;33m.\u001b[0m\u001b[0mfindAll\u001b[0m\u001b[1;33m(\u001b[0m\u001b[1;34m\"li\"\u001b[0m\u001b[1;33m,\u001b[0m \u001b[1;33m{\u001b[0m\u001b[1;34m\"class\"\u001b[0m\u001b[1;33m:\u001b[0m \u001b[1;34m\"relationships\"\u001b[0m\u001b[1;33m}\u001b[0m\u001b[1;33m)\u001b[0m\u001b[1;33m\u001b[0m\u001b[0m\n\u001b[0m\u001b[1;32m      3\u001b[0m \u001b[1;32mfor\u001b[0m \u001b[0mitem\u001b[0m \u001b[1;32min\u001b[0m \u001b[0mtemp\u001b[0m\u001b[1;33m:\u001b[0m\u001b[1;33m\u001b[0m\u001b[0m\n\u001b[1;32m      4\u001b[0m     \u001b[0mrelationship\u001b[0m\u001b[1;33m.\u001b[0m\u001b[0mappend\u001b[0m\u001b[1;33m(\u001b[0m\u001b[0mitem\u001b[0m\u001b[1;33m.\u001b[0m\u001b[0mcontents\u001b[0m\u001b[1;33m[\u001b[0m\u001b[1;36m0\u001b[0m\u001b[1;33m]\u001b[0m\u001b[1;33m.\u001b[0m\u001b[0mcontents\u001b[0m\u001b[1;33m[\u001b[0m\u001b[1;36m0\u001b[0m\u001b[1;33m]\u001b[0m\u001b[1;33m)\u001b[0m\u001b[1;33m\u001b[0m\u001b[0m\n\u001b[1;32m      5\u001b[0m \u001b[1;33m\u001b[0m\u001b[0m\n",
      "\u001b[0;31mNameError\u001b[0m: name 'story1' is not defined"
     ]
    }
   ],
   "source": [
    "relationship = []\n",
    "temp = story1.findAll(\"li\", {\"class\": \"relationships\"})\n",
    "for item in temp:\n",
    "    relationship.append(item.contents[0].contents[0])\n",
    "    \n",
    "print relationship\n",
    "\n",
    "bookmarks = story1.findAll(\"dd\", {\"class\": \"bookmarks\"})[0].contents[0].contents\n",
    "print bookmarks"
   ]
  },
  {
   "cell_type": "code",
   "execution_count": null,
   "metadata": {
    "collapsed": false
   },
   "outputs": [],
   "source": [
    "characters = []\n",
    "characters = story1.findAll(\"li\", {\"class\": \"characters\"})[0].contents[0].contents\n",
    "\n",
    "#<a href=\"/users/MelyndaR/pseuds/MelyndaR\" rel=\"author\">MelyndaR</a>\n",
    "\n",
    "tags = story1.findAll(\"li\", {\"class\": \"freeforms\"})[0].contents[0].contents\n",
    "print tags\n",
    "\n",
    "\n",
    "temp = story1.find(\"a\", {\"rel\": \"author\"}).contents[0]\n",
    "\n",
    "#for item in temp:\n",
    "#    tags.append(item.contents[0].contents[0])\n",
    "\n",
    "print characters\n",
    "print temp"
   ]
  },
  {
   "cell_type": "markdown",
   "metadata": {},
   "source": [
    "Look at: \"<a rel=\"next\" href=\"/tags/Sherlock%20Holmes*s*Sarah%20Sawyer*s*John%20Watson/works?page=2\">\n",
    "    Next &#8594;</a>\"\n",
    "    \n",
    "<li class=\"next\" title=\"next\"><span class=\"disabled\">Next &#8594;</span></li>\n",
    "\n",
    "Look for bottom text. If it's present, then look no more for pages\n",
    "    "
   ]
  },
  {
   "cell_type": "code",
   "execution_count": 26,
   "metadata": {
    "collapsed": false
   },
   "outputs": [],
   "source": [
    "for story in stories:\n",
    "    grab_story(story)"
   ]
  },
  {
   "cell_type": "code",
   "execution_count": 27,
   "metadata": {
    "collapsed": false
   },
   "outputs": [
    {
     "name": "stdout",
     "output_type": "stream",
     "text": [
      "             Author  Bookmarks Characters         Date     Hits  Kudos  \\\n",
      "0           deklava        8.0         []  24 Oct 2013   3132.0   86.0   \n",
      "1         lie_to_me        1.0         []   7 Sep 2013    877.0   29.0   \n",
      "2       Mazarin221b       28.0         []  23 Aug 2012   3108.0  139.0   \n",
      "3            mardia        2.0         []  25 Feb 2012   1918.0   44.0   \n",
      "4   nickelsandcoats        6.0         []  25 Jan 2012   2711.0   44.0   \n",
      "5      alizarin_nyc       11.0         []   4 Jan 2012   1890.0   91.0   \n",
      "6              Dweo        4.0         []   1 Jan 2012   1998.0   31.0   \n",
      "7    marysutherland        9.0         []   5 Nov 2011   1828.0   69.0   \n",
      "8           Pouncer       12.0         []   1 Jul 2011   3047.0   79.0   \n",
      "9           Sadbhyl       19.0         []   1 Jul 2011   1523.0   83.0   \n",
      "10      Pyjamapants      148.0         []  29 May 2011  13886.0  460.0   \n",
      "11       Saathi1013       10.0         []   1 Apr 2011   2760.0  134.0   \n",
      "12       Saathi1013        3.0         []   5 Mar 2011   3320.0   85.0   \n",
      "13       Saathi1013        1.0         []   2 Feb 2011   2241.0   63.0   \n",
      "14       Saathi1013        2.0         []   1 Feb 2011   2795.0   85.0   \n",
      "15       Saathi1013        2.0         []   7 Jan 2011   2526.0   74.0   \n",
      "\n",
      "                                         Relationship     Score  \\\n",
      "0          [Sherlock Holmes/Sarah Sawyer/John Watson]  0.120482   \n",
      "1   [Sherlock Holmes/John Watson, John Watson/Sara...  0.067550   \n",
      "2   [Sherlock Holmes/Sarah Sawyer/John Watson, She...  0.246162   \n",
      "3          [Sherlock Holmes/Sarah Sawyer/John Watson]  0.068395   \n",
      "4   [Sherlock/John/Sarah - Relationship, Establish...  0.152594   \n",
      "5   [Sarah Sawyer/John Watson, Sherlock Holmes/Joh...  0.169027   \n",
      "6          [Sherlock Holmes/Sarah Sawyer/John Watson]  0.144548   \n",
      "7   [Mycroft Holmes/Lestrade (Inspector), Anthea/M...  0.168181   \n",
      "8   [Sherlock Holmes/John Watson, John Watson/Sara...  0.177826   \n",
      "9   [Sarah Sawyer/John Watson, Sherlock Holmes/Sar...  0.283413   \n",
      "10  [Sarah Sawyer/John Watson, Sherlock Holmes/Joh...  0.354866   \n",
      "11  [Sherlock Holmes/Sarah Sawyer/John Watson, Sar...  0.123178   \n",
      "12         [Sherlock Holmes/Sarah Sawyer/John Watson]  0.060897   \n",
      "13  [Sherlock Holmes/Sarah Sawyer/John Watson, She...  0.043985   \n",
      "14         [Sherlock Holmes/Sarah Sawyer/John Watson]  0.053941   \n",
      "15         [Sherlock Holmes/Sarah Sawyer/John Watson]  0.056322   \n",
      "\n",
      "                                              Summary  \\\n",
      "0                                                   \n",
      "   \n",
      "1   In which John has rather a lot of surprising c...   \n",
      "2     Originally posted to LiveJournal April 1, 2011.   \n",
      "3                         Written for Porn Battle XI.   \n",
      "4                        This is John Watson, broken.   \n",
      "5   Sarah has a theory that she can't keep to hers...   \n",
      "6            The boys just want make Sarah feel good.   \n",
      "7                        Written for a prompt at the    \n",
      "8   Sherlock lay on the sofa and moaned.  Fever wa...   \n",
      "9   Sarah knew that Sherlock would be part of any ...   \n",
      "10  Sarah and John discover that inviting Sherlock...   \n",
      "11  Sarah and John are on their honeymoon; Sherloc...   \n",
      "12  In which someone dies and their funeral is hel...   \n",
      "13  What it says on the tin.  'Bonus material' for...   \n",
      "14  Sarah, in Moriarty's clutches; John and Sherlo...   \n",
      "15  In Which Compromises are Made, as are Plans; S...   \n",
      "\n",
      "                                                Title  \\\n",
      "0                                            Triangle   \n",
      "1   Two Conversations John Didn't Want to Have, an...   \n",
      "2                       The Seduction of Sarah Sawyer   \n",
      "3                           delivering her from grace   \n",
      "4   I’ve Shattered into a Thousand Pieces (We’ll P...   \n",
      "5                                              ALLIES   \n",
      "6                             An Equilateral Triangle   \n",
      "7                             The Penultimate Problem   \n",
      "8                          A Recollection Half Erased   \n",
      "9                              Baker Street Courtship   \n",
      "10  The Comparative Uses of Semaphore and Foghorns...   \n",
      "11                                 Wish You Were Here   \n",
      "12                                  One Day Like This   \n",
      "13  DELETED SCENES from Lorem Ipsum (story #7 from...   \n",
      "14                                        Lorem Ipsum   \n",
      "15                                Grace to the Strong   \n",
      "\n",
      "                                         URL  \n",
      "0   http://archiveofourown.org/works/1016599  \n",
      "1    http://archiveofourown.org/works/927081  \n",
      "2    http://archiveofourown.org/works/494037  \n",
      "3    http://archiveofourown.org/works/347022  \n",
      "4    http://archiveofourown.org/works/263451  \n",
      "5    http://archiveofourown.org/works/313231  \n",
      "6    http://archiveofourown.org/works/309659  \n",
      "7    http://archiveofourown.org/works/273026  \n",
      "8    http://archiveofourown.org/works/217923  \n",
      "9    http://archiveofourown.org/works/217713  \n",
      "10   http://archiveofourown.org/works/177724  \n",
      "11   http://archiveofourown.org/works/438864  \n",
      "12   http://archiveofourown.org/works/438779  \n",
      "13   http://archiveofourown.org/works/438868  \n",
      "14   http://archiveofourown.org/works/438771  \n",
      "15   http://archiveofourown.org/works/438748  \n"
     ]
    }
   ],
   "source": [
    "story_list_df = pd.DataFrame(story_list)\n",
    "print story_list_df"
   ]
  },
  {
   "cell_type": "code",
   "execution_count": 28,
   "metadata": {
    "collapsed": false
   },
   "outputs": [],
   "source": [
    "sorted_stories = story_list_df.sort_values(by=\"Score\", ascending=False, inplace=False, kind='quicksort', na_position='last')"
   ]
  },
  {
   "cell_type": "code",
   "execution_count": 29,
   "metadata": {
    "collapsed": false
   },
   "outputs": [
    {
     "name": "stdout",
     "output_type": "stream",
     "text": [
      "             Author  Bookmarks Characters         Date     Hits  Kudos  \\\n",
      "10      Pyjamapants      148.0         []  29 May 2011  13886.0  460.0   \n",
      "9           Sadbhyl       19.0         []   1 Jul 2011   1523.0   83.0   \n",
      "2       Mazarin221b       28.0         []  23 Aug 2012   3108.0  139.0   \n",
      "8           Pouncer       12.0         []   1 Jul 2011   3047.0   79.0   \n",
      "5      alizarin_nyc       11.0         []   4 Jan 2012   1890.0   91.0   \n",
      "7    marysutherland        9.0         []   5 Nov 2011   1828.0   69.0   \n",
      "4   nickelsandcoats        6.0         []  25 Jan 2012   2711.0   44.0   \n",
      "6              Dweo        4.0         []   1 Jan 2012   1998.0   31.0   \n",
      "11       Saathi1013       10.0         []   1 Apr 2011   2760.0  134.0   \n",
      "0           deklava        8.0         []  24 Oct 2013   3132.0   86.0   \n",
      "3            mardia        2.0         []  25 Feb 2012   1918.0   44.0   \n",
      "1         lie_to_me        1.0         []   7 Sep 2013    877.0   29.0   \n",
      "12       Saathi1013        3.0         []   5 Mar 2011   3320.0   85.0   \n",
      "15       Saathi1013        2.0         []   7 Jan 2011   2526.0   74.0   \n",
      "14       Saathi1013        2.0         []   1 Feb 2011   2795.0   85.0   \n",
      "13       Saathi1013        1.0         []   2 Feb 2011   2241.0   63.0   \n",
      "\n",
      "                                         Relationship     Score  \\\n",
      "10  [Sarah Sawyer/John Watson, Sherlock Holmes/Joh...  0.354866   \n",
      "9   [Sarah Sawyer/John Watson, Sherlock Holmes/Sar...  0.283413   \n",
      "2   [Sherlock Holmes/Sarah Sawyer/John Watson, She...  0.246162   \n",
      "8   [Sherlock Holmes/John Watson, John Watson/Sara...  0.177826   \n",
      "5   [Sarah Sawyer/John Watson, Sherlock Holmes/Joh...  0.169027   \n",
      "7   [Mycroft Holmes/Lestrade (Inspector), Anthea/M...  0.168181   \n",
      "4   [Sherlock/John/Sarah - Relationship, Establish...  0.152594   \n",
      "6          [Sherlock Holmes/Sarah Sawyer/John Watson]  0.144548   \n",
      "11  [Sherlock Holmes/Sarah Sawyer/John Watson, Sar...  0.123178   \n",
      "0          [Sherlock Holmes/Sarah Sawyer/John Watson]  0.120482   \n",
      "3          [Sherlock Holmes/Sarah Sawyer/John Watson]  0.068395   \n",
      "1   [Sherlock Holmes/John Watson, John Watson/Sara...  0.067550   \n",
      "12         [Sherlock Holmes/Sarah Sawyer/John Watson]  0.060897   \n",
      "15         [Sherlock Holmes/Sarah Sawyer/John Watson]  0.056322   \n",
      "14         [Sherlock Holmes/Sarah Sawyer/John Watson]  0.053941   \n",
      "13  [Sherlock Holmes/Sarah Sawyer/John Watson, She...  0.043985   \n",
      "\n",
      "                                              Summary  \\\n",
      "10  Sarah and John discover that inviting Sherlock...   \n",
      "9   Sarah knew that Sherlock would be part of any ...   \n",
      "2     Originally posted to LiveJournal April 1, 2011.   \n",
      "8   Sherlock lay on the sofa and moaned.  Fever wa...   \n",
      "5   Sarah has a theory that she can't keep to hers...   \n",
      "7                        Written for a prompt at the    \n",
      "4                        This is John Watson, broken.   \n",
      "6            The boys just want make Sarah feel good.   \n",
      "11  Sarah and John are on their honeymoon; Sherloc...   \n",
      "0                                                   \n",
      "   \n",
      "3                         Written for Porn Battle XI.   \n",
      "1   In which John has rather a lot of surprising c...   \n",
      "12  In which someone dies and their funeral is hel...   \n",
      "15  In Which Compromises are Made, as are Plans; S...   \n",
      "14  Sarah, in Moriarty's clutches; John and Sherlo...   \n",
      "13  What it says on the tin.  'Bonus material' for...   \n",
      "\n",
      "                                                Title  \\\n",
      "10  The Comparative Uses of Semaphore and Foghorns...   \n",
      "9                              Baker Street Courtship   \n",
      "2                       The Seduction of Sarah Sawyer   \n",
      "8                          A Recollection Half Erased   \n",
      "5                                              ALLIES   \n",
      "7                             The Penultimate Problem   \n",
      "4   I’ve Shattered into a Thousand Pieces (We’ll P...   \n",
      "6                             An Equilateral Triangle   \n",
      "11                                 Wish You Were Here   \n",
      "0                                            Triangle   \n",
      "3                           delivering her from grace   \n",
      "1   Two Conversations John Didn't Want to Have, an...   \n",
      "12                                  One Day Like This   \n",
      "15                                Grace to the Strong   \n",
      "14                                        Lorem Ipsum   \n",
      "13  DELETED SCENES from Lorem Ipsum (story #7 from...   \n",
      "\n",
      "                                         URL  \n",
      "10   http://archiveofourown.org/works/177724  \n",
      "9    http://archiveofourown.org/works/217713  \n",
      "2    http://archiveofourown.org/works/494037  \n",
      "8    http://archiveofourown.org/works/217923  \n",
      "5    http://archiveofourown.org/works/313231  \n",
      "7    http://archiveofourown.org/works/273026  \n",
      "4    http://archiveofourown.org/works/263451  \n",
      "6    http://archiveofourown.org/works/309659  \n",
      "11   http://archiveofourown.org/works/438864  \n",
      "0   http://archiveofourown.org/works/1016599  \n",
      "3    http://archiveofourown.org/works/347022  \n",
      "1    http://archiveofourown.org/works/927081  \n",
      "12   http://archiveofourown.org/works/438779  \n",
      "15   http://archiveofourown.org/works/438748  \n",
      "14   http://archiveofourown.org/works/438771  \n",
      "13   http://archiveofourown.org/works/438868  \n"
     ]
    }
   ],
   "source": [
    "print sorted_stories"
   ]
  },
  {
   "cell_type": "code",
   "execution_count": null,
   "metadata": {
    "collapsed": true
   },
   "outputs": [],
   "source": []
  }
 ],
 "metadata": {
  "anaconda-cloud": {},
  "kernelspec": {
   "display_name": "Python [conda root]",
   "language": "python",
   "name": "conda-root-py"
  }
 },
 "nbformat": 4,
 "nbformat_minor": 1
}
