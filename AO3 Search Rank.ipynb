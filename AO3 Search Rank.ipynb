{
 "cells": [
  {
   "cell_type": "markdown",
   "metadata": {},
   "source": [
    "The goal of this program is to take a list of search results from Archive of Our Own and return a more customized set of search results. In particular, this program returns the stories with a fic quality rating, simply calculated by dividing the number of kudos plus the number of bookmarks by the number of reads. Eventually, this calculation may become more nuanced.\n",
    "\n",
    "Inputs:\n",
    "    AO3 URL"
   ]
  },
  {
   "cell_type": "code",
   "execution_count": 1,
   "metadata": {
    "collapsed": true
   },
   "outputs": [],
   "source": [
    "from urllib import urlopen\n",
    "from bs4 import BeautifulSoup\n",
    "import pandas as pd\n",
    "import requests\n",
    "import string\n",
    "from lxml import html\n",
    "\n",
    "base_url = \"http://archiveofourown.org\"\n",
    "link_url = \"http://archiveofourown.org/tags/Sherlock%20Holmes*s*Sarah%20Sawyer*s*John%20Watson/works?page=\"\n",
    "page_number = 1"
   ]
  },
  {
   "cell_type": "code",
   "execution_count": 2,
   "metadata": {
    "collapsed": true
   },
   "outputs": [],
   "source": [
    "def process_url(link_url):\n",
    "    file = urlopen(link_url)\n",
    "    soup = BeautifulSoup(file, \"lxml\")\n",
    "    stories = soup.ol\n",
    "    stories = soup.findAll(\"li\", { \"class\" : \"work blurb group\" })\n",
    "    return stories"
   ]
  },
  {
   "cell_type": "markdown",
   "metadata": {
    "collapsed": false
   },
   "source": [
    "Sample HTML from AO3 link\n",
    "\n",
    "\n",
    "<li class=\"work blurb group\" id=\"work_6092563\" role=\"article\">\n",
    "<!--title, author, fandom-->\n",
    "<div class=\"header module\">\n",
    "<h4 class=\"heading\">\n",
    "<a href=\"/works/6092563\">Triadverse One-shots</a>\n",
    "      by\n",
    "        \n",
    "      <!-- do not cache -->\n",
    "<a href=\"/users/MelyndaR/pseuds/MelyndaR\" rel=\"author\">MelyndaR</a>\n",
    "</h4>\n",
    "<h5 class=\"fandoms heading\">\n",
    "<span class=\"landmark\">Fandoms:</span>\n",
    "<a class=\"tag\" href=\"/tags/Sherlock%20(TV)/works\">Sherlock (TV)</a>, <a class=\"tag\" href=\"/tags/Sherlock%20Holmes%20*a*%20Related%20Fandoms/works\">Sherlock Holmes &amp; Related Fandoms</a>, <a class=\"tag\" href=\"/tags/Agents%20of%20S*d*H*d*I*d*E*d*L*d*D*d*%20(TV)/works\">Agents of S.H.I.E.L.D. (TV)</a>, <a class=\"tag\" href=\"/tags/Marvel%20Cinematic%20Universe/works\">Marvel Cinematic Universe</a>, <a class=\"tag\" href=\"/tags/Marvel/works\">Marvel</a>\n",
    "       \n",
    "    </h5>\n",
    "<!--required tags-->\n",
    "<ul class=\"required-tags\">\n",
    "<li> <a aria-controls=\"#modal\" class=\"help symbol question modal\" href=\"/help/symbols-key.html\" title=\"Symbols key\"><span class=\"rating-general-audience rating\" title=\"General Audiences\"><span class=\"text\">General Audiences</span></span></a></li>\n",
    "<li> <a aria-controls=\"#modal\" class=\"help symbol question modal\" href=\"/help/symbols-key.html\" title=\"Symbols key\"><span class=\"warning-choosenotto warnings\" title=\"Choose Not To Use Archive Warnings\"><span class=\"text\">Choose Not To Use Archive Warnings</span></span></a></li>\n",
    "<li> <a aria-controls=\"#modal\" class=\"help symbol question modal\" href=\"/help/symbols-key.html\" title=\"Symbols key\"><span class=\"category-multi category\" title=\"Multi\"><span class=\"text\">Multi</span></span></a></li>\n",
    "<li> <a aria-controls=\"#modal\" class=\"help symbol question modal\" href=\"/help/symbols-key.html\" title=\"Symbols key\"><span class=\"complete-yes iswip\" title=\"Complete Work\"><span class=\"text\">Complete Work</span></span></a></li>\n",
    "</ul>\n",
    "<p class=\"datetime\">23 Feb 2016</p>\n",
    "</div>\n",
    "<!--warnings again, cast, freeform tags-->\n",
    "<h6 class=\"landmark heading\">Tags</h6>\n",
    "<ul class=\"tags commas\">\n",
    "<li class=\"warnings\"><strong><a class=\"tag\" href=\"/tags/Choose%20Not%20To%20Use%20Archive%20Warnings/works\">\n",
    "Creator Chose Not To Use Archive Warnings</a></strong></li>\n",
    "<li class=\"relationships\">\n",
    "<a class=\"tag\" href=\"/tags/Irene%20Adler*s*Sherlock%20Holmes*s*Jim%20Moriarty/works\">\n",
    "Irene Adler/Sherlock Holmes/Jim Moriarty</a></li> \n",
    "<li class=\"relationships\"><a class=\"tag\" href=\"/tags/Anthea*s*Mycroft%20Holmes*s*Greg%20Lestrade/works\">Anthea/Mycroft Holmes/Greg Lestrade</a></li> <li class=\"relationships\"><a class=\"tag\" href=\"/tags/Mycroft%20Holmes*s*Molly%20Hooper*s*Greg%20Lestrade/works\">Mycroft Holmes/Molly Hooper/Greg Lestrade</a></li> <li class=\"relationships\"><a class=\"tag\" href=\"/tags/Sherlock%20Holmes*s*Sarah%20Sawyer*s*John%20Watson/works\">Sherlock Holmes/Sarah Sawyer/John Watson</a></li> <li class=\"relationships\"><a class=\"tag\" href=\"/tags/Molly%20Hooper*s*Sebastian%20Moran*s*Jim%20Moriarty/works\">Molly Hooper/Sebastian Moran/Jim Moriarty</a></li> <li class=\"relationships\"><a class=\"tag\" href=\"/tags/Sherlock%20Holmes*s*Mary%20Morstan*s*John%20Watson/works\">Sherlock Holmes/Mary Morstan/John Watson</a></li> <li class=\"relationships\"><a class=\"tag\" href=\"/tags/Irene%20Adler*s*Sherlock%20Holmes*s*John%20Watson/works\">Irene Adler/Sherlock Holmes/John Watson</a></li> <li class=\"relationships\"><a class=\"tag\" href=\"/tags/Sherlock%20Holmes*s*Molly%20Hooper*s*John%20Watson/works\">Sherlock Holmes/Molly Hooper/John Watson</a></li> \n",
    "<li class=\"relationships\"><a class=\"tag\" href=\"/tags/Molly%20Hooper*s*Greg%20Lestrade*s*John%20Watson/works\">Molly Hooper/Greg Lestrade/John Watson</a></li> <li class=\"relationships\"><a class=\"tag\" href=\"/tags/Irene%20Adler*s*Sherlock%20Holmes*s*Molly%20Hooper/works\">Irene Adler/Sherlock Holmes/Molly Hooper</a></li>\n",
    "\n",
    "\n",
    "<li class=\"characters\"><a class=\"tag\" href=\"/tags/Sherlock%20Holmes/works\">Sherlock Holmes</a></li> <li class=\"characters\"><a class=\"tag\" href=\"/tags/Irene%20Adler/works\">Irene Adler</a></li> <li class=\"characters\"><a class=\"tag\" href=\"/tags/Jim%20Moriarty/works\">Jim Moriarty</a></li> <li class=\"characters\"><a class=\"tag\" href=\"/tags/Anthea%20(Sherlock)/works\">Anthea (Sherlock)</a></li> <li class=\"characters\"><a class=\"tag\" href=\"/tags/Mycroft%20Holmes/works\">Mycroft Holmes</a></li> <li class=\"characters\"><a class=\"tag\" href=\"/tags/Greg%20Lestrade/works\">Greg Lestrade</a></li> <li class=\"characters\"><a class=\"tag\" href=\"/tags/Molly%20Hooper/works\">Molly Hooper</a></li> <li class=\"characters\"><a class=\"tag\" href=\"/tags/Sarah%20Sawyer/works\">Sarah Sawyer</a></li> <li class=\"characters\"><a class=\"tag\" href=\"/tags/John%20Watson/works\">John Watson</a></li> <li class=\"characters\"><a class=\"tag\" href=\"/tags/Sebastian%20Moran/works\">Sebastian Moran</a></li> <li class=\"characters\"><a class=\"tag\" href=\"/tags/Mary%20Morstan/works\">Mary Morstan</a></li>\n",
    "<li class=\"freeforms\">\n",
    "<a class=\"tag\" href=\"/tags/Polyamory/works\">Polyamory</a></li> <li class=\"freeforms\">\n",
    "\n",
    "\n",
    "<a class=\"tag\" href=\"/tags/Triadverse/works\">Triadverse</a></li>\n",
    "</ul>\n",
    "<!--summary-->\n",
    "<h6 class=\"landmark heading\">Summary</h6>\n",
    "<blockquote class=\"userstuff summary\">\n",
    "<p>A collection of ten Sherlock triadverse one-shots, each being completely individual from the next.</p>\n",
    "</blockquote>\n",
    "<!--stats-->\n",
    "<dl class=\"stats\">\n",
    "<dt class=\"language\">Language:</dt>\n",
    "<dd class=\"language\">English</dd>\n",
    "<dt class=\"words\">Words:</dt>\n",
    "<dd class=\"words\">4,810</dd>\n",
    "<dt class=\"chapters\">Chapters:</dt>\n",
    "<dd class=\"chapters\">10/10</dd>\n",
    "<dt class=\"comments\">Comments:</dt>\n",
    "<dd class=\"comments\"><a href=\"/works/6092563?show_comments=true&amp;view_full_work=true#comments\">13</a></dd>\n",
    "<dt class=\"kudos\">Kudos:</dt>\n",
    "<dd class=\"kudos\"><a href=\"/works/6092563?view_full_work=true#comments\">17</a></dd>\n",
    "<dt class=\"hits\">Hits:</dt>\n",
    "<dd class=\"hits\">363</dd>\n",
    "</dl>\n",
    "</li>"
   ]
  },
  {
   "cell_type": "code",
   "execution_count": 3,
   "metadata": {
    "collapsed": false
   },
   "outputs": [],
   "source": [
    "def grab_story(story1):\n",
    "    #Attempt to calculate score first\n",
    "    \n",
    "    try:   \n",
    "        hits = float(story1.findAll(\"dd\", { \"class\" : \"hits\" })[0].contents[0])\n",
    "        kudos = float(story1.findAll(\"dd\", {\"class\":\"kudos\"})[0].contents[0].contents[0])\n",
    "        bookmarks = float(story1.findAll(\"dd\", {\"class\": \"bookmarks\"})[0].contents[0].contents[0])\n",
    "        score = (kudos + bookmarks)/hits * 100\n",
    "    except IndexError:\n",
    "        return\n",
    "    else:  \n",
    "        characters = []\n",
    "        relationship = []\n",
    "        header = story1.find(\"h4\")\n",
    "        story_url = base_url + header.a['href']\n",
    "        title = header.a.contents[0]\n",
    "        #Need to navigate eiher to 2nd link in header or to rel = \"author\"\n",
    "        author = story1.find(\"a\", {\"rel\": \"author\"}).contents[0]\n",
    "        summary = story1.findAll(\"blockquote\", {\"class\": \"userstuff summary\"})[0].contents[1].contents[0]\n",
    "\n",
    "        #Store all tags as list\n",
    "        tags = \"\"    \n",
    "        language = \"\"\n",
    "        word_count = \"\"\n",
    "        chapters = \"\"\n",
    "#        temp = story1.findAll(\"li\", {\"class\": \"characters\"})[0]\n",
    "#        for item in temp:\n",
    "#            characters.append(item.contents[0].contents)\n",
    "        date = story1.findAll(\"p\", {\"class\":\"datetime\"})[0].contents[0]\n",
    "        relationship = []\n",
    "        temp = story1.findAll(\"li\", {\"class\": \"relationships\"})\n",
    "        for item in temp:\n",
    "            relationship.append(item.contents[0].contents[0])        \n",
    "    #    tags = story1.findAll\n",
    "        summary = story1.findAll(\"blockquote\", {\"class\": \"userstuff summary\"})[0].contents[1].contents[0]\n",
    "        keys = ['Title','Author', 'Characters', 'Relationship', 'Score', 'Summary', 'Hits', 'Kudos', 'URL', 'Date', 'Bookmarks']    \n",
    "        story_list.append(dict(zip(keys, [title, author, characters, relationship, score, summary, hits, kudos, story_url, date, bookmarks])))  \n"
   ]
  },
  {
   "cell_type": "markdown",
   "metadata": {},
   "source": [
    "Look at: \"<a rel=\"next\" href=\"/tags/Sherlock%20Holmes*s*Sarah%20Sawyer*s*John%20Watson/works?page=2\">\n",
    "    Next &#8594;</a>\"\n",
    "    \n",
    "<li class=\"next\" title=\"next\"><span class=\"disabled\">Next &#8594;</span></li>\n",
    "\n",
    "Look for bottom text. If it's present, then look no more for pages\n",
    "    "
   ]
  },
  {
   "cell_type": "code",
   "execution_count": 4,
   "metadata": {
    "collapsed": false
   },
   "outputs": [],
   "source": [
    "story_list = []\n",
    "stories = process_url(link_url)\n",
    "\n",
    "for story in stories:\n",
    "    grab_story(story)"
   ]
  },
  {
   "cell_type": "code",
   "execution_count": 8,
   "metadata": {
    "collapsed": false
   },
   "outputs": [],
   "source": [
    "story_list_df = pd.DataFrame(story_list)\n",
    "sorted_stories = story_list_df.sort_values(by=\"Score\", ascending=False, inplace=False, kind='quicksort', na_position='last')\n",
    "print sorted_stories"
   ]
  }
 ],
 "metadata": {
  "anaconda-cloud": {},
  "kernelspec": {
   "display_name": "Python [conda root]",
   "language": "python",
   "name": "conda-root-py"
  },
  "language_info": {
   "codemirror_mode": {
    "name": "ipython",
    "version": 2
   },
   "file_extension": ".py",
   "mimetype": "text/x-python",
   "name": "python",
   "nbconvert_exporter": "python",
   "pygments_lexer": "ipython2",
   "version": "2.7.13"
  }
 },
 "nbformat": 4,
 "nbformat_minor": 1
}
