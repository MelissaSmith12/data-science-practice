{
 "cells": [
  {
   "cell_type": "code",
   "execution_count": 1,
   "metadata": {
    "collapsed": true
   },
   "outputs": [],
   "source": [
    "import pandas as pd\n",
    "import numpy\n",
    "import xlrd\n",
    "import re\n",
    "from zipfile import ZipFile\n",
    "\n",
    "import xlrd\n",
    "from zipfile import ZipFile\n",
    "\n",
    "def open_zip(datafile):\n",
    "    with ZipFile('{0}'.format(datafile), 'r') as myzip:\n",
    "        myzip.extractall()   "
   ]
  },
  {
   "cell_type": "code",
   "execution_count": 35,
   "metadata": {
    "collapsed": false
   },
   "outputs": [],
   "source": [
    "def process_timesheet(unzipped_datafile, timesheet):\n",
    "    workbook = xlrd.open_workbook(unzipped_datafile)\n",
    "    sheet = workbook.sheet_by_name('Timesheet')\n",
    "    \n",
    "    #Process first tab of timesheet\n",
    "    #On the first tab, save cell B3 as the contractor name\n",
    "    name = sheet.cell_value(2, 1)\n",
    "    #On the first tab, save cell B8 as the contractor_id\n",
    "    contractor_id = str(sheet.cell_value(3,4))[:3]\n",
    "        #On the first tab, save cell D18 as the contractor rate\n",
    "    payrate = sheet.cell_value(17,3)\n",
    "    if payrate == \"Hourly \\nRate\":\n",
    "        payrate = sheet.cell_value(18,3)  #likely a more elegant solution, but brute forcing for now\n",
    "    date = re.search('\\d+[-]\\d+[-]\\d+', unzipped_datafile).group(0)\n",
    "\n",
    "    #Process second tab of Excel spreadsheet\n",
    "    sheet2 = workbook.sheet_by_name('Task Description')\n",
    "    #On the second tab, starting with cell A6:E6, save each row until you encounter an empty row\n",
    "    row = 5\n",
    "    hours = sheet2.cell_value(row,0)\n",
    "    activity = sheet2.cell_value(row, 1)\n",
    "    description = sheet2.cell_value(row, 4)\n",
    "    budget_category = sheet2.cell_value(row,8)\n",
    "    while hours != '' and activity != \"Total\":\n",
    "        cost = payrate * hours\n",
    "        timesheet = timesheet.append({'Name':name, 'Contractor_ID': contractor_id, 'Payrate':payrate, 'Invoice Date':date, 'Hours':hours, 'Cost': cost, 'Activity':activity, 'Description':description, 'Budget Category': budget_category}, ignore_index=True)\n",
    "        row += 1\n",
    "        hours = sheet2.cell_value(row,0)\n",
    "        activity = sheet2.cell_value(row, 1)\n",
    "        description = sheet2.cell_value(row, 4)\n",
    "        budget_category = sheet2.cell_value(row, 8)\n",
    "    return timesheet, date"
   ]
  },
  {
   "cell_type": "code",
   "execution_count": 37,
   "metadata": {
    "collapsed": false
   },
   "outputs": [],
   "source": [
    "import glob\n",
    "\n",
    "timesheet = pd.DataFrame([],columns=['Name', 'Contractor_ID', 'Invoice Date','Payrate','Hours', 'Cost', 'Activity','Description', 'Budget Category'])\n",
    "\n",
    "#for file in glob.glob(\"*.zip\"):    # only loops over zip files\n",
    "#        open_zip(file)\n",
    "        \n",
    "#apply process_timesheet to all unzipped Excel files\n",
    "for file in glob.glob(\"*.xls*\"):\n",
    "        timesheet, date = process_timesheet(file, timesheet)"
   ]
  },
  {
   "cell_type": "code",
   "execution_count": 5,
   "metadata": {
    "collapsed": true
   },
   "outputs": [],
   "source": [
    "def scrub_budget_category(category):\n",
    "    if re.search('(Standards)', category) is not None:\n",
    "        category = \"Standards Collections\"\n",
    "    if re.search('(Activation)', category) is not None:\n",
    "        category = \"Navigate Activation\"\n",
    "    if re.search('(Maint)', category) is not None:\n",
    "        category = \"Navigate Content - Maintenance\"\n",
    "    if re.search('(New Dev)', category) is not None:\n",
    "        category = \"Navigate Content - New Development\"\n",
    "    if re.search('(New Prod)', category) is not None:\n",
    "        category = \"Navigate Content - New Product Development\"\n",
    "    return category\n",
    "\n",
    "timesheet['Budget Category'] = timesheet['Budget Category'].apply(scrub_budget_category)"
   ]
  },
  {
   "cell_type": "code",
   "execution_count": null,
   "metadata": {
    "collapsed": false
   },
   "outputs": [],
   "source": []
  },
  {
   "cell_type": "code",
   "execution_count": null,
   "metadata": {
    "collapsed": false
   },
   "outputs": [],
   "source": []
  },
  {
   "cell_type": "code",
   "execution_count": null,
   "metadata": {
    "collapsed": false
   },
   "outputs": [],
   "source": []
  },
  {
   "cell_type": "code",
   "execution_count": 40,
   "metadata": {
    "collapsed": false
   },
   "outputs": [],
   "source": [
    "category_totals = timesheet.groupby('Budget Category').sum()"
   ]
  },
  {
   "cell_type": "code",
   "execution_count": null,
   "metadata": {
    "collapsed": false,
    "scrolled": true
   },
   "outputs": [],
   "source": []
  },
  {
   "cell_type": "code",
   "execution_count": 39,
   "metadata": {
    "collapsed": false
   },
   "outputs": [],
   "source": [
    "budget = timesheet[['Contractor_ID', 'Budget Category', 'Cost']]\n",
    "budget_group = budget.groupby(['Contractor_ID', 'Budget Category']).sum().reset_index()"
   ]
  },
  {
   "cell_type": "code",
   "execution_count": null,
   "metadata": {
    "collapsed": false
   },
   "outputs": [],
   "source": []
  },
  {
   "cell_type": "code",
   "execution_count": null,
   "metadata": {
    "collapsed": false
   },
   "outputs": [],
   "source": []
  },
  {
   "cell_type": "code",
   "execution_count": null,
   "metadata": {
    "collapsed": false
   },
   "outputs": [],
   "source": []
  },
  {
   "cell_type": "code",
   "execution_count": null,
   "metadata": {
    "collapsed": false
   },
   "outputs": [],
   "source": []
  },
  {
   "cell_type": "markdown",
   "metadata": {},
   "source": []
  },
  {
   "cell_type": "code",
   "execution_count": null,
   "metadata": {
    "collapsed": false
   },
   "outputs": [],
   "source": []
  },
  {
   "cell_type": "code",
   "execution_count": null,
   "metadata": {
    "collapsed": false
   },
   "outputs": [],
   "source": []
  },
  {
   "cell_type": "code",
   "execution_count": null,
   "metadata": {
    "collapsed": true
   },
   "outputs": [],
   "source": []
  },
  {
   "cell_type": "code",
   "execution_count": null,
   "metadata": {
    "collapsed": true
   },
   "outputs": [],
   "source": []
  },
  {
   "cell_type": "code",
   "execution_count": null,
   "metadata": {
    "collapsed": false
   },
   "outputs": [],
   "source": []
  },
  {
   "cell_type": "code",
   "execution_count": null,
   "metadata": {
    "collapsed": true
   },
   "outputs": [],
   "source": []
  }
 ],
 "metadata": {
  "anaconda-cloud": {},
  "kernelspec": {
   "display_name": "Python [conda root]",
   "language": "python",
   "name": "conda-root-py"
  },
  "language_info": {
   "codemirror_mode": {
    "name": "ipython",
    "version": 2
   },
   "file_extension": ".py",
   "mimetype": "text/x-python",
   "name": "python",
   "nbconvert_exporter": "python",
   "pygments_lexer": "ipython2",
   "version": "2.7.12"
  }
 },
 "nbformat": 4,
 "nbformat_minor": 1
}
