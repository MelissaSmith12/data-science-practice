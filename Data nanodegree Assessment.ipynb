{
 "cells": [
  {
   "cell_type": "code",
   "execution_count": 6,
   "metadata": {
    "collapsed": false
   },
   "outputs": [],
   "source": [
    "def fizzbuzz(intList):\n",
    "    updatedList = []\n",
    "    for number in intList:\n",
    "        if (number % 3 == 0) & (number % 5 == 0):\n",
    "            updatedList.append(\"Fizzbuzz\")\n",
    "        elif number % 3 == 0:\n",
    "            updatedList.append(\"Fizz\")\n",
    "        elif number % 5 == 0:\n",
    "            updatedList.append(\"Buzz\")\n",
    "        else:\n",
    "            updatedList.append(number)\n",
    "    return updatedList"
   ]
  },
  {
   "cell_type": "code",
   "execution_count": 3,
   "metadata": {
    "collapsed": true
   },
   "outputs": [],
   "source": [
    "mylist = [3, 6, 15, 5, 2]"
   ]
  },
  {
   "cell_type": "code",
   "execution_count": 7,
   "metadata": {
    "collapsed": false
   },
   "outputs": [
    {
     "name": "stdout",
     "output_type": "stream",
     "text": [
      "['Fizz', 'Fizz', 'Fizzbuzz', 'Buzz', 2]\n"
     ]
    }
   ],
   "source": [
    "fizzbuzz(mylist)"
   ]
  },
  {
   "cell_type": "code",
   "execution_count": null,
   "metadata": {
    "collapsed": true
   },
   "outputs": [],
   "source": []
  }
 ],
 "metadata": {
  "kernelspec": {
   "display_name": "Python [Root]",
   "language": "python",
   "name": "Python [Root]"
  }
 },
 "nbformat": 4,
 "nbformat_minor": 0
}
