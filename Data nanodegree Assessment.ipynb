{
 "cells": [
  {
   "cell_type": "code",
   "execution_count": 4,
   "metadata": {
    "collapsed": false
   },
   "outputs": [],
   "source": [
    "def fizzbuzz(intList):\n",
    "    updatedList = []\n",
    "    for number in intList:\n",
    "        if (number % 3 == 0) & (number % 5 == 0):\n",
    "            updatedList.append(\"Fizzbuzz\")\n",
    "            print updatedList \n",
    "        elif number % 3 == 0:\n",
    "            updatedList.append(\"Fizz\")\n",
    "            print updatedList \n",
    "        elif number % 5 == 0:\n",
    "            updatedList.append(\"Buzz\")\n",
    "            print updatedList\n",
    "        else:\n",
    "            updatedList.append(number)\n",
    "    print updatedList"
   ]
  },
  {
   "cell_type": "code",
   "execution_count": 3,
   "metadata": {
    "collapsed": true
   },
   "outputs": [],
   "source": [
    "mylist = [3, 6, 15, 5, 2]"
   ]
  },
  {
   "cell_type": "code",
   "execution_count": 5,
   "metadata": {
    "collapsed": false
   },
   "outputs": [
    {
     "name": "stdout",
     "output_type": "stream",
     "text": [
      "['Fizz']\n",
      "['Fizz', 'Fizz']\n",
      "['Fizz', 'Fizz', 'Fizzbuzz']\n",
      "['Fizz', 'Fizz', 'Fizzbuzz', 'Buzz']\n",
      "['Fizz', 'Fizz', 'Fizzbuzz', 'Buzz', 2]\n"
     ]
    }
   ],
   "source": [
    "fizzbuzz(mylist)"
   ]
  }
 ],
 "metadata": {
  "kernelspec": {
   "display_name": "Python [Root]",
   "language": "python",
   "name": "Python [Root]"
  }
 },
 "nbformat": 4,
 "nbformat_minor": 0
}
