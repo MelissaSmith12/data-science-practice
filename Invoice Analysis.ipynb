{
 "cells": [
  {
   "cell_type": "markdown",
   "metadata": {},
   "source": [
    "To Do:\n",
    "-Cycle through directory to process all zip files\n",
    "-Process all files in zip file\n",
    "\n",
    "-Load table of what items are associated with what items, trim table to only items created after 2015\n",
    "-Determine where data stands\n",
    "-Calculate cost per packet, divide cost per packet by number of items\n",
    "-Scope out messy/unmatched data"
   ]
  },
  {
   "cell_type": "code",
   "execution_count": 42,
   "metadata": {
    "collapsed": false
   },
   "outputs": [],
   "source": [
    "\n",
    "\n"
   ]
  },
  {
   "cell_type": "code",
   "execution_count": 76,
   "metadata": {
    "collapsed": true
   },
   "outputs": [],
   "source": [
    "import pandas as pd\n",
    "import numpy\n",
    "import xlrd\n",
    "from zipfile import ZipFile\n",
    "\n",
    "timesheet = pd.DataFrame([],columns=['Name', 'Invoice Date','Payrate','Hours','Activity','Description'])\n"
   ]
  },
  {
   "cell_type": "code",
   "execution_count": 77,
   "metadata": {
    "collapsed": false
   },
   "outputs": [],
   "source": [
    "def process_timesheet(unzipped_datafile, timesheet):\n",
    "    workbook = xlrd.open_workbook(unzipped_datafile)\n",
    "    sheet = workbook.sheet_by_index(0)\n",
    "\n",
    "    #Process first tab of timesheet\n",
    "    #On the first tab, save cell B3 as the contractor name\n",
    "    name = sheet.cell_value(2, 1)\n",
    "    #On the first tab, save cell D18 as the contractor rate\n",
    "    payrate = sheet.cell_value(17,3)\n",
    "    date = str(int(sheet.cell_value(2,4))) + \"-\" + str(int(sheet.cell_value(2,5))) + \"-\" + str(int(sheet.cell_value(2,6)))\n",
    "\n",
    "    #Process second tab of Excel spreadsheet\n",
    "    sheet = workbook.sheet_by_index(1)\n",
    "    #On the second tab, starting with cell A6:E6, save each row until you encounter an empty row\n",
    "    row = 5\n",
    "    hours = sheet.cell_value(row,0)\n",
    "    activity = sheet.cell_value(row, 1)\n",
    "    description = sheet.cell_value(row, 4)\n",
    "    while hours != '':\n",
    "        timesheet = timesheet.append({'Name':name, 'Payrate':payrate, 'Invoice Date':date, 'Hours':hours, 'Activity':activity, 'Description':description}, ignore_index=True)\n",
    "        row += 1\n",
    "        hours = sheet.cell_value(row,0)\n",
    "        activity = sheet.cell_value(row, 1)\n",
    "        description = sheet.cell_value(row, 4)\n",
    "    return timesheet"
   ]
  },
  {
   "cell_type": "code",
   "execution_count": 79,
   "metadata": {
    "collapsed": true
   },
   "outputs": [],
   "source": [
    "import numpy\n",
    "import xlrd\n",
    "from zipfile import ZipFile\n",
    "\n",
    "def open_zip(datafile):\n",
    "    with ZipFile('{0}'.format(datafile), 'r') as myzip:\n",
    "        myzip.extractall()        \n"
   ]
  },
  {
   "cell_type": "code",
   "execution_count": 80,
   "metadata": {
    "collapsed": false
   },
   "outputs": [],
   "source": [
    "import glob\n",
    "\n",
    "for file in glob.glob(\"*.zip\"):    # only loops over zip files\n",
    "        open_zip(file)\n",
    "        \n",
    "#apply process_timesheet to all unzipped Excel files\n",
    "for file in glob.glob(\"*.xlsx\"):\n",
    "        timesheet = process_timesheet(file, timesheet)"
   ]
  },
  {
   "cell_type": "code",
   "execution_count": 81,
   "metadata": {
    "collapsed": false
   },
   "outputs": [
    {
     "name": "stdout",
     "output_type": "stream",
     "text": [
      "               Name Invoice Date Payrate  Hours                Activity  \\\n",
      "0      Greg Klinger      7-16-16      40   1.00            item writing   \n",
      "1      Greg Klinger      7-16-16      40   1.00            item writing   \n",
      "2      Greg Klinger      7-16-16      40   1.00            item writing   \n",
      "3      Greg Klinger      7-16-16      40   0.50            item writing   \n",
      "4      Greg Klinger       8-1-16      40   2.00            item writing   \n",
      "5      Greg Klinger       8-1-16      40   2.00            item writing   \n",
      "6      Greg Klinger      8-16-16      40   6.00            item writing   \n",
      "7      Greg Klinger      8-16-16      40   2.00            item writing   \n",
      "8      Greg Klinger      8-16-16      40   1.00            item writing   \n",
      "9      Greg Klinger      8-16-16      40   0.25            item writing   \n",
      "10     Greg Klinger      8-16-16      40   2.00            Item Writing   \n",
      "11     Greg Klinger      8-16-16      40   2.00            Item Writing   \n",
      "12     Greg Klinger      1-16-16      50   9.50            item writing   \n",
      "13     Greg Klinger      1-16-16      50   0.75            item writing   \n",
      "14     Greg Klinger      1-16-16      50  14.75            item writing   \n",
      "15     Greg Klinger      1-16-16      50   3.50            item writing   \n",
      "16     Greg Klinger      1-16-16      50   1.50            item writing   \n",
      "17     Greg Klinger      1-16-16      50   1.00            item writing   \n",
      "18     Greg Klinger      10-1-16      40  10.00            item writing   \n",
      "19     Greg Klinger      10-1-16      40   1.00            item writing   \n",
      "20     Greg Klinger     10-16-16      40   5.00            item writing   \n",
      "21     Greg Klinger     10-16-16      40   2.00            item writing   \n",
      "22     Greg Klinger     10-16-16      40   2.00            item writing   \n",
      "23     Greg Klinger     10-16-16      40   2.00            item writing   \n",
      "24     Greg Klinger     12-16-16      40   4.00            item writing   \n",
      "25     Greg Klinger     12-16-16      40   3.00            item writing   \n",
      "26     Greg Klinger     12-16-16      40   2.50            item writing   \n",
      "27     Greg Klinger     12-16-16      40   3.25            item writing   \n",
      "28     Greg Klinger     12-16-16      40   1.00            Item Writing   \n",
      "29     Greg Klinger     12-16-16      40   1.00            Item Writing   \n",
      "...             ...          ...     ...    ...                     ...   \n",
      "3045  Diane Tarbuck      6-16-16      28   0.50        Editorial Review   \n",
      "3046  Diane Tarbuck      6-16-16      28   2.00        Editorial Review   \n",
      "3047  Diane Tarbuck      6-16-16      28   0.50        Editorial Review   \n",
      "3048  Diane Tarbuck      6-16-16      28   1.00        Editorial Review   \n",
      "3049  Diane Tarbuck      6-16-16      28   1.00        Editorial Review   \n",
      "3050  Diane Tarbuck      6-16-16      28   1.75        Editorial Review   \n",
      "3051  Diane Tarbuck      6-16-16      28   1.00        Editorial Review   \n",
      "3052  Diane Tarbuck      6-16-16      28   0.50        Editorial Review   \n",
      "3053  Diane Tarbuck       7-1-16      28   0.50           Miscellaneous   \n",
      "3054  Diane Tarbuck       7-1-16      28   0.75        Editorial Review   \n",
      "3055  Diane Tarbuck       7-1-16      28   0.50        Editorial Review   \n",
      "3056  Diane Tarbuck       7-1-16      28   0.75        Editorial Review   \n",
      "3057  Diane Tarbuck       7-1-16      28   1.00        Editorial Review   \n",
      "3058  Diane Tarbuck       7-1-16      28   1.25  Item Review - Existing   \n",
      "3059  Diane Tarbuck       7-1-16      28   1.25  Item Review - Existing   \n",
      "3060  Diane Tarbuck       7-1-16      28   0.75  Item Review - Existing   \n",
      "3061  Diane Tarbuck       7-1-16      28   1.00  Item Review - Existing   \n",
      "3062  Diane Tarbuck       7-1-16      28   1.00  Item Review - Existing   \n",
      "3063  Diane Tarbuck       7-1-16      28   1.25        Editorial Review   \n",
      "3064  Diane Tarbuck      8-16-16      28   0.50           Miscellaneous   \n",
      "3065  Diane Tarbuck      8-16-16      28   0.25        Editorial Review   \n",
      "3066  Diane Tarbuck      8-16-16      28   1.00        Editorial Review   \n",
      "3067  Diane Tarbuck      8-16-16      28   1.00        Editorial Review   \n",
      "3068  Diane Tarbuck      8-16-16      28   0.25        Editorial Review   \n",
      "3069  Diane Tarbuck      8-16-16      28   1.00           Private Label   \n",
      "3070  Diane Tarbuck      8-16-16      28   1.00           Private Label   \n",
      "3071  Diane Tarbuck      8-16-16      28   0.75           Private Label   \n",
      "3072  Diane Tarbuck      8-16-16      28   0.25           Private Label   \n",
      "3073  Diane Tarbuck      8-16-16      28   0.75           Private Label   \n",
      "3074  Diane Tarbuck      8-16-16      28   0.75           Private Label   \n",
      "\n",
      "                                            Description  \n",
      "0                           Soc_NC_Gr6_WorldHistory_036  \n",
      "1                   SS_CA-Spr2015_WorldHistory_Version2  \n",
      "2                          Math_CCSS_Spr2015_RW_Gr03-13  \n",
      "3                                         Soc_TX_28_gr8  \n",
      "4                          Math_CCSS_Spr2015_RW_Gr03-13  \n",
      "5                           ELA_02334_Race of the Trees  \n",
      "6                   Math Playlist Clean up (Blake Helm)  \n",
      "7                          Math_CCSS_Spr2015_RW_Gr03-13  \n",
      "8                         Math_CCSS_Content.HSA-CED.A.2  \n",
      "9                              Soc_NC-Gr6_World History  \n",
      "10                          ELA_02334_Race of the Trees  \n",
      "11               SocStudies_Summit_Batch6_AncientGreece  \n",
      "12                                          SCI-NGSS-25  \n",
      "13                          MathFall_2015_TEI_Push_1-28  \n",
      "14                              Math_CR_Boost_SP2016_10  \n",
      "15                         SSCA_Spr2015_04_WorldHistory  \n",
      "16                                MathFall_2015_Push_16  \n",
      "17                       Atoms_Has Art_Spanish INTERNAL  \n",
      "18                 GGM Math Boxes Clean Up_(Blake Helm)  \n",
      "19                         Math_CCSS_Spr2016_TEI_Gr4_01  \n",
      "20                Pre Delivery Image QC - Obie Williams  \n",
      "21                         Math_CCSS_Spr2016_TEI_Gr4_01  \n",
      "22                         Summit Batch 21_ShangDynasty  \n",
      "23                         Summit Batch 10_AnceintIndia  \n",
      "24                             ELA_00481_LadybugLadybug  \n",
      "25                            ELA_00686_A_ButterflysDay  \n",
      "26                         SS_Ca_Spr2015_08WorldHistory  \n",
      "27                           ELA_00687_Egg_Sitting_Dads  \n",
      "28                  Revised_Passage_00482_GrK_UpUp&Away  \n",
      "29                  SS_Ca_Spr2015_15WorldHistory_605911  \n",
      "...                                                 ...  \n",
      "3045                    Biathlon: MATH-TX-32 Algebra II  \n",
      "3046                      Biathlon: MATH-TX-36 Geometry  \n",
      "3047                   Math-CCSS-Spr2015-RW-Grade 03-13  \n",
      "3048                 Math-CCSS-Spr2016_Algebra2_Gaps_02  \n",
      "3049                       Math-CCSS-Spr2016-TEI-Gr6_05  \n",
      "3050                       Math-CCSS-Spr2016-TEI-Gr7_07  \n",
      "3051                SCI-VA-SPR2015-ESS-18 Earth Science  \n",
      "3052                          SOC-TX-28 Grade 6 Culture  \n",
      "3053                                              Admin  \n",
      "3054  02334 Gr 2 Fiction Fantasy - The Race of the T...  \n",
      "3055          02343 Gr 2 Fiction - Johnny Crow's Garden  \n",
      "3056            02374 - Gr 3 Drama - Candle Competition  \n",
      "3057        02378 - Gr 12 Fiction - The Man with a Nose  \n",
      "3058  Biathlon: 02364 - Gr 12 Nonfiction Letter - Le...  \n",
      "3059  Biathlon: 02380 - Gr 12 Nonfiction Letter - At...  \n",
      "3060              Biathlon: SOC-TX-03 Grade 6 Geography  \n",
      "3061                        Biathlon: SOC-TX-31 Grade 7  \n",
      "3062              Biathlon: SS-CA-SPR2015-29 US History  \n",
      "3063                       SCI-NGSS-13 Physical Science  \n",
      "3064                                              Admin  \n",
      "3065         Math_Multipart_H.S._Algebra_&_Functions_02  \n",
      "3066                    Math_Multipart_H.S._Geometry_02  \n",
      "3067                  Math-CCSS-Spr2016-DOK-Algebra2_07  \n",
      "3068                Math-CCSS-Spr2016-TEI-HS-Algebra_15  \n",
      "3069      Summit Batch 13 ANCIENT INDIA: Maurya Empire;  \n",
      "3070  Summit Batch 14 DYNASTIC CHINA: Confucianism &...  \n",
      "3071  Summit Batch 2 Ancient Greece: Arts and Scienc...  \n",
      "3072  Summit Batch 41 Enlightenment Philosophers; Ba...  \n",
      "3073  Summit Batch 5 Ancient Greece: Geography & Dai...  \n",
      "3074  Summit Batch 6 Ancient Greece: Literature and ...  \n",
      "\n",
      "[3075 rows x 6 columns]\n"
     ]
    }
   ],
   "source": [
    "print timesheet"
   ]
  },
  {
   "cell_type": "code",
   "execution_count": null,
   "metadata": {
    "collapsed": true
   },
   "outputs": [],
   "source": []
  }
 ],
 "metadata": {
  "anaconda-cloud": {},
  "kernelspec": {
   "display_name": "Python [conda root]",
   "language": "python",
   "name": "conda-root-py"
  },
  "language_info": {
   "codemirror_mode": {
    "name": "ipython",
    "version": 2
   },
   "file_extension": ".py",
   "mimetype": "text/x-python",
   "name": "python",
   "nbconvert_exporter": "python",
   "pygments_lexer": "ipython2",
   "version": "2.7.12"
  }
 },
 "nbformat": 4,
 "nbformat_minor": 1
}
