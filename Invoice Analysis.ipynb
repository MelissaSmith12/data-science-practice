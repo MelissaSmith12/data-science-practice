{
 "cells": [
  {
   "cell_type": "markdown",
   "metadata": {},
   "source": [
    "To Do:\n",
    "-Cycle through directory to process all zip files\n",
    "-Process all files in zip file\n",
    "\n",
    "-Load table of what items are associated with what items, trim table to only items created after 2015\n",
    "-Determine where data stands\n",
    "-Calculate cost per packet, divide cost per packet by number of items\n",
    "-Scope out messy/unmatched data"
   ]
  },
  {
   "cell_type": "code",
   "execution_count": null,
   "metadata": {
    "collapsed": true
   },
   "outputs": [],
   "source": [
    "import pandas as pd\n",
    "import numpy\n",
    "import xlrd\n",
    "from zipfile import ZipFile"
   ]
  },
  {
   "cell_type": "code",
   "execution_count": null,
   "metadata": {
    "collapsed": true
   },
   "outputs": [],
   "source": [
    "import numpy\n",
    "import xlrd\n",
    "from zipfile import ZipFile\n",
    "\n",
    "def open_zip(datafile):\n",
    "    with ZipFile('{0}'.format(datafile), 'r') as myzip:\n",
    "        myzip.extractall()        \n"
   ]
  },
  {
   "cell_type": "code",
   "execution_count": null,
   "metadata": {
    "collapsed": false
   },
   "outputs": [],
   "source": [
    "def process_timesheet(unzipped_datafile, timesheet):\n",
    "    workbook = xlrd.open_workbook(unzipped_datafile)\n",
    "    sheet = workbook.sheet_by_index(0)\n",
    "\n",
    "    #Process first tab of timesheet\n",
    "    #On the first tab, save cell B3 as the contractor name\n",
    "    name = sheet.cell_value(2, 1)\n",
    "    #On the first tab, save cell D18 as the contractor rate\n",
    "    payrate = sheet.cell_value(17,3)\n",
    "    if payrate == \"Hourly \\nRate\":\n",
    "        payrate = sheet.cell_value(18,3)  #likely a more elegant solution, but brute forcing for now\n",
    "    date = str(int(sheet.cell_value(2,4))) + \"-\" + str(int(sheet.cell_value(2,5))) + \"-\" + str(int(sheet.cell_value(2,6)))\n",
    "\n",
    "    #Process second tab of Excel spreadsheet\n",
    "    sheet = workbook.sheet_by_index(1)\n",
    "    #On the second tab, starting with cell A6:E6, save each row until you encounter an empty row\n",
    "    row = 5\n",
    "    hours = sheet.cell_value(row,0)\n",
    "    activity = sheet.cell_value(row, 1)\n",
    "    description = sheet.cell_value(row, 4)\n",
    "    while hours != '' and activity != \"Total\":\n",
    "        cost = payrate * hours\n",
    "        timesheet = timesheet.append({'Name':name, 'Payrate':payrate, 'Invoice Date':date, 'Hours':hours, 'Cost': cost, 'Activity':activity, 'Description':description}, ignore_index=True)\n",
    "        row += 1\n",
    "        hours = sheet.cell_value(row,0)\n",
    "        activity = sheet.cell_value(row, 1)\n",
    "        description = sheet.cell_value(row, 4)\n",
    "    return timesheet"
   ]
  },
  {
   "cell_type": "code",
   "execution_count": null,
   "metadata": {
    "collapsed": false
   },
   "outputs": [],
   "source": [
    "import glob\n",
    "\n",
    "timesheet = pd.DataFrame([],columns=['Name', 'Invoice Date','Payrate','Hours', 'Cost', 'Activity','Description'])\n",
    "\n",
    "for file in glob.glob(\"*.zip\"):    # only loops over zip files\n",
    "        open_zip(file)\n",
    "        \n",
    "#apply process_timesheet to all unzipped Excel files\n",
    "for file in glob.glob(\"*.xlsx\"):\n",
    "        timesheet = process_timesheet(file, timesheet)"
   ]
  },
  {
   "cell_type": "code",
   "execution_count": null,
   "metadata": {
    "collapsed": false
   },
   "outputs": [],
   "source": [
    "timesheet.groupby('Activity').sum()"
   ]
  },
  {
   "cell_type": "code",
   "execution_count": null,
   "metadata": {
    "collapsed": false
   },
   "outputs": [],
   "source": [
    "timesheet.groupby('Description').sum()"
   ]
  },
  {
   "cell_type": "markdown",
   "metadata": {},
   "source": [
    "Processing tasks:\n",
    "    -Load table of what items are associated with what items, trim table to only items created after 2015\n",
    "    -determine whether line item is art, item, passage, or packet\n",
    "    -classify description is useful for calculations\n",
    "    -Calculate item codes\n",
    "    -Calculate passage codes\n",
    "    -Calculate packets\n"
   ]
  },
  {
   "cell_type": "code",
   "execution_count": null,
   "metadata": {
    "collapsed": false
   },
   "outputs": [],
   "source": [
    "#replace words that begin with lowercase letter with uppercase letter in Activity\n",
    "timesheet = timesheet.replace({'item': 'Item', 'writing': 'Writing', 'documentation': 'Documentation', 'batch': 'Batch'}, regex=True)"
   ]
  },
  {
   "cell_type": "code",
   "execution_count": null,
   "metadata": {
    "collapsed": false
   },
   "outputs": [],
   "source": [
    "timesheet.groupby('Activity').sum()"
   ]
  },
  {
   "cell_type": "code",
   "execution_count": null,
   "metadata": {
    "collapsed": true
   },
   "outputs": [],
   "source": [
    "item_writing = timesheet.loc[timesheet['Activity']==\"Item Writing\"]"
   ]
  },
  {
   "cell_type": "code",
   "execution_count": null,
   "metadata": {
    "collapsed": false
   },
   "outputs": [],
   "source": [
    "print item_writing"
   ]
  },
  {
   "cell_type": "code",
   "execution_count": null,
   "metadata": {
    "collapsed": true
   },
   "outputs": [],
   "source": [
    "private_label = timesheet.loc[timesheet['Activity']==\"Private Label\"]"
   ]
  },
  {
   "cell_type": "code",
   "execution_count": null,
   "metadata": {
    "collapsed": false
   },
   "outputs": [],
   "source": [
    "print private_label"
   ]
  },
  {
   "cell_type": "code",
   "execution_count": null,
   "metadata": {
    "collapsed": false
   },
   "outputs": [],
   "source": [
    "#Add Summit items to item writing list\n",
    "summit = private_label[private_label.Description.str.contains('Summit B')]"
   ]
  },
  {
   "cell_type": "code",
   "execution_count": null,
   "metadata": {
    "collapsed": false
   },
   "outputs": [],
   "source": [
    "print summit"
   ]
  },
  {
   "cell_type": "code",
   "execution_count": null,
   "metadata": {
    "collapsed": true
   },
   "outputs": [],
   "source": [
    "item_writing = item_writing.append(summit)"
   ]
  },
  {
   "cell_type": "code",
   "execution_count": null,
   "metadata": {
    "collapsed": true
   },
   "outputs": [],
   "source": [
    "item_review = timesheet.loc[timesheet['Activity']==\"Item Review - Internal\"]"
   ]
  },
  {
   "cell_type": "code",
   "execution_count": null,
   "metadata": {
    "collapsed": false
   },
   "outputs": [],
   "source": [
    "print item_review"
   ]
  },
  {
   "cell_type": "code",
   "execution_count": null,
   "metadata": {
    "collapsed": true
   },
   "outputs": [],
   "source": [
    "item_writing = item_writing.append(item_review)"
   ]
  },
  {
   "cell_type": "code",
   "execution_count": null,
   "metadata": {
    "collapsed": false
   },
   "outputs": [],
   "source": [
    "print item_writing"
   ]
  },
  {
   "cell_type": "code",
   "execution_count": null,
   "metadata": {
    "collapsed": false
   },
   "outputs": [],
   "source": [
    "filename = \"item writing from timesheets.xlsx\"\n",
    "item_writing.to_excel(filename)"
   ]
  },
  {
   "cell_type": "code",
   "execution_count": null,
   "metadata": {
    "collapsed": false
   },
   "outputs": [],
   "source": [
    "datafile = \"Items with packets.xlsx\"\n",
    "workbook = xlrd.open_workbook(datafile)\n",
    "sheet = workbook.sheet_by_index(0)\n",
    "\n",
    "sheet_data = [[sheet.cell_value(r, col) for col in range(sheet.ncols)] for r in range(sheet.nrows)]\n",
    "header = ['Internal ID', 'itemcode', 'grade', 'subject', 'packet_information']\n",
    "packet_info = pd.DataFrame(sheet_data, columns=header)"
   ]
  },
  {
   "cell_type": "code",
   "execution_count": null,
   "metadata": {
    "collapsed": false
   },
   "outputs": [],
   "source": [
    "\n",
    "print packet_info"
   ]
  },
  {
   "cell_type": "code",
   "execution_count": null,
   "metadata": {
    "collapsed": false
   },
   "outputs": [],
   "source": [
    "print packet_info"
   ]
  },
  {
   "cell_type": "code",
   "execution_count": null,
   "metadata": {
    "collapsed": false
   },
   "outputs": [],
   "source": [
    "item_merged = pd.merge(packet_info, item_writing, how='inner', left_on='packet_information', right_on='Description', left_index=False, right_index=False, sort=True)"
   ]
  },
  {
   "cell_type": "code",
   "execution_count": null,
   "metadata": {
    "collapsed": false
   },
   "outputs": [],
   "source": [
    "print item_merged"
   ]
  },
  {
   "cell_type": "code",
   "execution_count": null,
   "metadata": {
    "collapsed": false
   },
   "outputs": [],
   "source": [
    "item_merged.groupby('packet_information').count()"
   ]
  },
  {
   "cell_type": "markdown",
   "metadata": {},
   "source": [
    "    At this point in the analysis, additional transforms were performed in Excel to map the highly variable descriptions to packet names as tracked by the content staff team. "
   ]
  },
  {
   "cell_type": "code",
   "execution_count": null,
   "metadata": {
    "collapsed": false
   },
   "outputs": [],
   "source": [
    "datafile = \"items with packets post-processing.xlsx\"\n",
    "workbook = xlrd.open_workbook(datafile)\n",
    "sheet = workbook.sheet_by_index(0)\n",
    "\n",
    "header = keys = [sheet.cell(0, col_index).value for col_index in xrange(sheet.ncols)]\n",
    "sheet_data = [[sheet.cell_value(r, col) for col in range(sheet.ncols)] for r in range(1,sheet.nrows)]\n",
    "item_cost = pd.DataFrame(sheet_data, columns=header)"
   ]
  },
  {
   "cell_type": "code",
   "execution_count": null,
   "metadata": {
    "collapsed": false
   },
   "outputs": [],
   "source": [
    "print item_cost"
   ]
  },
  {
   "cell_type": "code",
   "execution_count": null,
   "metadata": {
    "collapsed": false
   },
   "outputs": [],
   "source": [
    "for item in item_cost:\n",
    "    if ['itemArtCount'] != 0.0:\n",
    "        item_cost['itemCost']=  ['totalPacketCostMinusArt']/['itemCountInPacket'] + ['totalPacketArtCost']/['itemArtCount']\n",
    "    else: item_cost['itemCost']=  ['totalPacketCostMinusArt']/['itemCountInPacket']"
   ]
  },
  {
   "cell_type": "code",
   "execution_count": null,
   "metadata": {
    "collapsed": true
   },
   "outputs": [],
   "source": []
  }
 ],
 "metadata": {
  "anaconda-cloud": {},
  "kernelspec": {
   "display_name": "Python [conda root]",
   "language": "python",
   "name": "conda-root-py"
  },
  "language_info": {
   "codemirror_mode": {
    "name": "ipython",
    "version": 2
   },
   "file_extension": ".py",
   "mimetype": "text/x-python",
   "name": "python",
   "nbconvert_exporter": "python",
   "pygments_lexer": "ipython2",
   "version": "2.7.12"
  }
 },
 "nbformat": 4,
 "nbformat_minor": 1
}
