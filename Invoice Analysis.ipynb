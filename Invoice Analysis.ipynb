{
 "cells": [
  {
   "cell_type": "markdown",
   "metadata": {},
   "source": [
    "To Do:\n",
    "-Cycle through directory to process all zip files\n",
    "-Process all files in zip file\n",
    "\n",
    "-Load table of what items are associated with what items, trim table to only items created after 2015\n",
    "-Determine where data stands\n",
    "-Calculate cost per packet, divide cost per packet by number of items\n",
    "-Scope out messy/unmatched data"
   ]
  },
  {
   "cell_type": "code",
   "execution_count": 42,
   "metadata": {
    "collapsed": false
   },
   "outputs": [],
   "source": [
    "import pandas as pd\n",
    "\n",
    "timesheet = pd.DataFrame([],columns=['Name', 'Invoice Date','Payrate','Hours','Activity','Description'])"
   ]
  },
  {
   "cell_type": "code",
   "execution_count": 44,
   "metadata": {
    "collapsed": true
   },
   "outputs": [],
   "source": [
    "import numpy\n",
    "import xlrd\n",
    "from zipfile import ZipFile\n",
    "\n",
    "unzipped_datafile = \"SCI_Beck, Kim_10-1-15.xlsx\"\n",
    "\n",
    "workbook = xlrd.open_workbook(unzipped_datafile)"
   ]
  },
  {
   "cell_type": "code",
   "execution_count": 45,
   "metadata": {
    "collapsed": false
   },
   "outputs": [
    {
     "name": "stdout",
     "output_type": "stream",
     "text": [
      "Kimberly Beck\n",
      "30.0\n",
      "10-1-15\n"
     ]
    }
   ],
   "source": [
    "sheet = workbook.sheet_by_index(0)\n",
    "\n",
    "#Process first tab of timesheet\n",
    "#On the first tab, save cell B3 as the contractor name\n",
    "name = sheet.cell_value(2, 1)\n",
    "#On the first tab, save cell D18 as the contractor rate\n",
    "payrate = sheet.cell_value(17,3)\n",
    "date = str(int(sheet.cell_value(2,4))) + \"-\" + str(int(sheet.cell_value(2,5))) + \"-\" + str(int(sheet.cell_value(2,6)))\n",
    "\n",
    "print name\n",
    "print payrate\n",
    "print date"
   ]
  },
  {
   "cell_type": "code",
   "execution_count": 46,
   "metadata": {
    "collapsed": false
   },
   "outputs": [
    {
     "name": "stdout",
     "output_type": "stream",
     "text": [
      "            Name Invoice Date  Payrate  Hours          Activity  \\\n",
      "0  Kimberly Beck      10-1-15     30.0   4.00      Item Writing   \n",
      "1  Kimberly Beck      10-1-15     30.0   5.75     Tagging - New   \n",
      "2  Kimberly Beck      10-1-15     30.0   8.75  Tagging - Review   \n",
      "\n",
      "                             Description  \n",
      "0                        CR Items - Math  \n",
      "1                     Math - Shapes, SIG  \n",
      "2  Math - Numbers & digits, Units, Steps  \n"
     ]
    }
   ],
   "source": [
    "#Process second tab of Excel spreadsheet\n",
    "sheet = workbook.sheet_by_index(1)\n",
    "#On the second tab, starting with cell A6:E6, save each row until you encounter an empty row\n",
    "row = 5\n",
    "hours = sheet.cell_value(row,0)\n",
    "activity = sheet.cell_value(row, 1)\n",
    "description = sheet.cell_value(row, 4)\n",
    "while hours != '':\n",
    "    timesheet = timesheet.append({'Name':name, 'Payrate':payrate, 'Invoice Date':date, 'Hours':hours, 'Activity':activity, 'Description':description}, ignore_index=True)\n",
    "    row += 1\n",
    "    hours = sheet.cell_value(row,0)\n",
    "    activity = sheet.cell_value(row, 1)\n",
    "    description = sheet.cell_value(row, 4)\n",
    "    \n",
    "print timesheet"
   ]
  },
  {
   "cell_type": "code",
   "execution_count": null,
   "metadata": {
    "collapsed": true
   },
   "outputs": [],
   "source": [
    "import numpy\n",
    "import xlrd\n",
    "from zipfile import ZipFile\n",
    "datafile = \"2013_ERCOT_Hourly_Load_Data.xls\"\n",
    "\n",
    "\n",
    "def open_zip(datafile):\n",
    "    with ZipFile('{0}.zip'.format(datafile), 'r') as myzip:\n",
    "        myzip.extractall()        \n",
    "\n",
    "def parse_file(datafile):\n",
    "    workbook = xlrd.open_workbook(datafile)\n",
    "    sheet = workbook.sheet_by_index(0)\n",
    "\n",
    "    ### example on how you can get the data\n",
    "    #sheet_data = [[sheet.cell_value(r, col) for col in range(sheet.ncols)] for r in range(sheet.nrows)]\n",
    "    #print sheet_data\n",
    "    \n",
    "    ### other useful methods:\n",
    "    # print \"\\nROWS, COLUMNS, and CELLS:\"\n",
    "    # print \"Number of rows in the sheet:\", \n",
    "    # print sheet.nrows\n",
    "    # print \"Type of data in cell (row 3, col 2):\", \n",
    "    # print sheet.cell_type(3, 2)\n",
    "    # print \"Value in cell (row 3, col 2):\", \n",
    "    # print sheet.cell_value(3, 2)\n",
    "    # print \"Get a slice of values in column 3, from rows 1-3:\"\n",
    "    # print sheet.col_values(3, start_rowx=1, end_rowx=4)\n",
    "\n",
    "    # print \"\\nDATES:\"\n",
    "    # print \"Type of data in cell (row 1, col 0):\", \n",
    "    # print sheet.cell_type(1, 0)\n",
    "    # exceltime = sheet.cell_value(1, 0)\n",
    "    # print \"Time in Excel format:\",\n",
    "    # print exceltime\n",
    "    # print \"Convert time to a Python datetime tuple, from the Excel float:\",\n",
    "    # print xlrd.xldate_as_tuple(exceltime, 0)\n",
    "    \n",
    "    #Note: Course code uses index function instead\n",
    "    \n",
    "    max_coast = max(sheet.col_values(1, start_rowx=1, end_rowx=sheet.nrows))\n",
    "    for row in range(sheet.nrows):\n",
    "        if sheet.cell_value(row, 1) == max_coast:\n",
    "            excel_max_time = sheet.cell_value(row, 0)\n",
    "    python_max_time = xlrd.xldate_as_tuple(excel_max_time, 0)\n",
    "    \n",
    "    min_coast = min(sheet.col_values(1, start_rowx=1, end_rowx=sheet.nrows))\n",
    "    for row in range(sheet.nrows):\n",
    "        if sheet.cell_value(row, 1) == min_coast:\n",
    "            excel_min_time = sheet.cell_value(row, 0)\n",
    "    python_min_time = xlrd.xldate_as_tuple(excel_min_time, 0)\n",
    "    \n",
    "    avg_coast = numpy.mean(sheet.col_values(1, start_rowx = 1, end_rowx = sheet.nrows))\n",
    "    "
   ]
  }
 ],
 "metadata": {
  "anaconda-cloud": {},
  "kernelspec": {
   "display_name": "Python [conda root]",
   "language": "python",
   "name": "conda-root-py"
  },
  "language_info": {
   "codemirror_mode": {
    "name": "ipython",
    "version": 2
   },
   "file_extension": ".py",
   "mimetype": "text/x-python",
   "name": "python",
   "nbconvert_exporter": "python",
   "pygments_lexer": "ipython2",
   "version": "2.7.12"
  }
 },
 "nbformat": 4,
 "nbformat_minor": 1
}
