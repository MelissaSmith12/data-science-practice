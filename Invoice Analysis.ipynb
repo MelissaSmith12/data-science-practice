{
 "cells": [
  {
   "cell_type": "markdown",
   "metadata": {},
   "source": [
    "To Do:\n",
    "-Cycle through directory to process all zip files\n",
    "-Process all files in zip file\n",
    "\n",
    "-Load table of what items are associated with what items, trim table to only items created after 2015\n",
    "-Determine where data stands\n",
    "-Calculate cost per packet, divide cost per packet by number of items\n",
    "-Scope out messy/unmatched data"
   ]
  },
  {
   "cell_type": "code",
   "execution_count": 42,
   "metadata": {
    "collapsed": false
   },
   "outputs": [],
   "source": [
    "\n",
    "\n"
   ]
  },
  {
   "cell_type": "code",
   "execution_count": 70,
   "metadata": {
    "collapsed": true
   },
   "outputs": [],
   "source": [
    "import pandas as pd\n",
    "import numpy\n",
    "import xlrd\n",
    "from zipfile import ZipFile\n",
    "\n",
    "unzipped_datafile = \"SCI_Beck, Kim_10-1-15.xlsx\"\n",
    "timesheet = pd.DataFrame([],columns=['Name', 'Invoice Date','Payrate','Hours','Activity','Description'])\n"
   ]
  },
  {
   "cell_type": "code",
   "execution_count": 71,
   "metadata": {
    "collapsed": false
   },
   "outputs": [],
   "source": [
    "def process_timesheet(unzipped_datafile, timesheet):\n",
    "    workbook = xlrd.open_workbook(unzipped_datafile)\n",
    "    sheet = workbook.sheet_by_index(0)\n",
    "\n",
    "    #Process first tab of timesheet\n",
    "    #On the first tab, save cell B3 as the contractor name\n",
    "    name = sheet.cell_value(2, 1)\n",
    "    #On the first tab, save cell D18 as the contractor rate\n",
    "    payrate = sheet.cell_value(17,3)\n",
    "    date = str(int(sheet.cell_value(2,4))) + \"-\" + str(int(sheet.cell_value(2,5))) + \"-\" + str(int(sheet.cell_value(2,6)))\n",
    "\n",
    "    #Process second tab of Excel spreadsheet\n",
    "    sheet = workbook.sheet_by_index(1)\n",
    "    #On the second tab, starting with cell A6:E6, save each row until you encounter an empty row\n",
    "    row = 5\n",
    "    hours = sheet.cell_value(row,0)\n",
    "    activity = sheet.cell_value(row, 1)\n",
    "    description = sheet.cell_value(row, 4)\n",
    "    while hours != '':\n",
    "        timesheet = timesheet.append({'Name':name, 'Payrate':payrate, 'Invoice Date':date, 'Hours':hours, 'Activity':activity, 'Description':description}, ignore_index=True)\n",
    "        row += 1\n",
    "        hours = sheet.cell_value(row,0)\n",
    "        activity = sheet.cell_value(row, 1)\n",
    "        description = sheet.cell_value(row, 4)\n",
    "    return timesheet"
   ]
  },
  {
   "cell_type": "code",
   "execution_count": 62,
   "metadata": {
    "collapsed": false
   },
   "outputs": [
    {
     "name": "stdout",
     "output_type": "stream",
     "text": [
      "            Name Invoice Date  Payrate  Hours          Activity  \\\n",
      "0  Kimberly Beck      10-1-15     30.0   4.00      Item Writing   \n",
      "1  Kimberly Beck      10-1-15     30.0   5.75     Tagging - New   \n",
      "2  Kimberly Beck      10-1-15     30.0   8.75  Tagging - Review   \n",
      "\n",
      "                             Description  \n",
      "0                        CR Items - Math  \n",
      "1                     Math - Shapes, SIG  \n",
      "2  Math - Numbers & digits, Units, Steps  \n"
     ]
    }
   ],
   "source": [
    "timesheet = process_timesheet(unzipped_datafile, timesheet)\n",
    "    \n",
    "print timesheet"
   ]
  },
  {
   "cell_type": "code",
   "execution_count": 66,
   "metadata": {
    "collapsed": true
   },
   "outputs": [],
   "source": [
    "import numpy\n",
    "import xlrd\n",
    "from zipfile import ZipFile\n",
    "datafile = \"FAIB Contractor Invoices 4-16-16\"\n",
    "\n",
    "\n",
    "def open_zip(datafile):\n",
    "    with ZipFile('{0}'.format(datafile), 'r') as myzip:\n",
    "        myzip.extractall()        \n"
   ]
  },
  {
   "cell_type": "code",
   "execution_count": 68,
   "metadata": {
    "collapsed": false
   },
   "outputs": [],
   "source": [
    "#open_zip(datafile)"
   ]
  },
  {
   "cell_type": "code",
   "execution_count": 74,
   "metadata": {
    "collapsed": false
   },
   "outputs": [],
   "source": [
    "import glob\n",
    "\n",
    "for file in glob.glob(\"*.zip\"):    # only loops over zip files\n",
    "        open_zip(file)\n",
    "        \n",
    "#apply process_timesheet to all unzipped Excel files\n",
    "for file in glob.glob(\"*.xlsx\"):\n",
    "        timesheet = process_timesheet(file, timesheet)"
   ]
  },
  {
   "cell_type": "code",
   "execution_count": 75,
   "metadata": {
    "collapsed": false
   },
   "outputs": [
    {
     "name": "stdout",
     "output_type": "stream",
     "text": [
      "                    Name Invoice Date Payrate  Hours                Activity  \\\n",
      "0           Greg Klinger      3-16-16      50  29.50            item writing   \n",
      "1           Greg Klinger      3-16-16      50   8.00            item writing   \n",
      "2           Greg Klinger      4-16-16      50  10.00            item writing   \n",
      "3           Greg Klinger      4-16-16      50  10.00            item writing   \n",
      "4           Greg Klinger      4-16-16      50  10.00            item writing   \n",
      "5              Matt Akin      3-16-16      25   2.00            Item Writing   \n",
      "6              Matt Akin      3-16-16      25   9.00            Item Writing   \n",
      "7              Matt Akin      3-16-16      25   8.00            Item Writing   \n",
      "8              Matt Akin      3-16-16      25   0.25           Miscellaneous   \n",
      "9              Matt Akin      3-16-16      25   3.75            Item Writing   \n",
      "10             Matt Akin      3-16-16      25   4.25            Item Writing   \n",
      "11             Matt Akin      3-16-16      25   4.50            Item Writing   \n",
      "12             Matt Akin      3-16-16      25   4.00            Item Writing   \n",
      "13             Matt Akin      3-16-16      25   3.50            Item Writing   \n",
      "14             Matt Akin      4-16-16      25  10.00            Item Writing   \n",
      "15             Matt Akin      4-16-16      25   6.50            Item Writing   \n",
      "16   Elizabeth Bouhddadi      3-16-16      43  11.25            Item Writing   \n",
      "17   Elizabeth Bouhddadi      3-16-16      43   4.00        Tagging - Review   \n",
      "18   Elizabeth Bouhddadi      3-16-16      43  11.25           Miscellaneous   \n",
      "19   Elizabeth Bouhddadi      4-16-16      43   9.00            Item Writing   \n",
      "20   Elizabeth Bouhddadi      4-16-16      43  13.50        Tagging - Review   \n",
      "21           Casey Eager      3-16-16      25   8.50         Alignment - New   \n",
      "22           Casey Eager      3-16-16      25  18.50         Alignment - New   \n",
      "23           Casey Eager      3-16-16      25  16.00         Alignment - New   \n",
      "24           Casey Eager      3-16-16      25  10.50         Alignment - New   \n",
      "25           Leslie Hall      3-16-16      75  37.00            Item Writing   \n",
      "26           Leslie Hall      3-16-16      75   4.00  Item Review - Internal   \n",
      "27           Leslie Hall      3-16-16      75   3.00  Item Review - Internal   \n",
      "28           Leslie Hall      3-16-16      75   6.00           Miscellaneous   \n",
      "29           Leslie Hall      3-16-16      75   8.00           Miscellaneous   \n",
      "..                   ...          ...     ...    ...                     ...   \n",
      "328           Amy Gillie      3-16-16      35   2.00           File Building   \n",
      "329           Amy Gillie      4-16-16      35  26.00           Documentation   \n",
      "330           Amy Gillie      4-16-16      35   2.75           Documentation   \n",
      "331           Amy Gillie      4-16-16      35   1.25           Documentation   \n",
      "332         Theresa Hahn      3-16-16      28   1.25           Miscellaneous   \n",
      "333         Theresa Hahn      3-16-16      28   2.00  Item Review - Existing   \n",
      "334         Theresa Hahn      3-16-16      28   3.50  Item Review - Existing   \n",
      "335         Theresa Hahn      3-16-16      28   2.00  Item Review - Existing   \n",
      "336         Theresa Hahn      3-16-16      28   2.00  Item Review - Existing   \n",
      "337         Theresa Hahn      3-16-16      28   5.50  Item Review - Existing   \n",
      "338         Theresa Hahn      3-16-16      28   3.75  Item Review - Existing   \n",
      "339         Theresa Hahn      4-16-16      28   2.75  Item Review - Existing   \n",
      "340       Candice Moreau      3-16-16      25   0.25            Item Writing   \n",
      "341       Candice Moreau      3-16-16      25   2.25            Item Writing   \n",
      "342       Candice Moreau      4-16-16      25   1.00            Item Writing   \n",
      "343       Candice Moreau      4-16-16      25   5.25            Item Writing   \n",
      "344       Candice Moreau      4-16-16      25   7.75            Item Writing   \n",
      "345       Candice Moreau      4-16-16      25   2.00            Item Writing   \n",
      "346       Catlyn Preston      4-16-16      25   1.00            Item Writing   \n",
      "347       Catlyn Preston      4-16-16      25   0.50            Item Writing   \n",
      "348       Catlyn Preston      4-16-16      25   2.00            Item Writing   \n",
      "349       Catlyn Preston      4-16-16      25   2.00            Item Writing   \n",
      "350       Catlyn Preston      4-16-16      25   1.75            Item Writing   \n",
      "351       Catlyn Preston      4-16-16      25   5.00            Item Writing   \n",
      "352       Catlyn Preston      4-16-16      25   0.50            Item Writing   \n",
      "353        Diane Tarbuck      3-16-16      28  27.00  Item Review - Internal   \n",
      "354        Diane Tarbuck      3-16-16      28  17.50  Item Review - Internal   \n",
      "355        Diane Tarbuck      3-16-16      28   1.75           Miscellaneous   \n",
      "356        Diane Tarbuck      3-16-16      28   1.50        Editorial Review   \n",
      "357        Diane Tarbuck      3-16-16      28   0.25        Editorial Review   \n",
      "\n",
      "                                           Description  \n",
      "0       QC_ItemSizeCorrections-Recreation_ObieWilliams  \n",
      "1              ELA_Commissioned Art_The Goldfish_00235  \n",
      "2       QC_ItemSizeCorrections-Recreation_ObieWilliams  \n",
      "3                   ELA_Commissioned Art_Ladybug_00481  \n",
      "4                  ELA_Commissioned Art_Penguins_00482  \n",
      "5                                            02326.AR1  \n",
      "6                                            00484.AR1  \n",
      "7                                            02061.AR1  \n",
      "8                                        SCIP Training  \n",
      "9                                           006733.AR1  \n",
      "10                                          006733.AR2  \n",
      "11                                          006733.AR3  \n",
      "12                                          006735.AR1  \n",
      "13                                          006735.AR2  \n",
      "14                                           00484.AR1  \n",
      "15                                           02373.AR1  \n",
      "16                                        DOKIII Items  \n",
      "17     Compiling tagging/reviewing master tagging file  \n",
      "18                        Cog level review - new items  \n",
      "19                                        DOKIII Items  \n",
      "20                                   new DOK III Items  \n",
      "21                                           TX Tier 1  \n",
      "22                                           NV Tier 1  \n",
      "23                                           VA Tier 1  \n",
      "24                                           CO Tier 2  \n",
      "25   Rationales: SP16 (Making Candy Sparks, Yia-Yia...  \n",
      "26   items for 01696 and 01707 with suggested item ...  \n",
      "27   review of ELA multpart items and revise ration...  \n",
      "28                        World Book review of content  \n",
      "29                                         Style guide  \n",
      "..                                                 ...  \n",
      "328                                     Science Coding  \n",
      "329                                        Buzz Report  \n",
      "330                                                TEI  \n",
      "331                                     Texas Research  \n",
      "332    Phone Call with Carrie & Annie - Science Review  \n",
      "333  FAIB_Copy_Editing_SP15_-_SCIENCE_2.12.16 - par...  \n",
      "334  FAIB_Copy_Editing_SP15_-_SCIENCE_2.12.16 - par...  \n",
      "335  FAIB_Copy_Editing_SP15_-_SCIENCE_2.12.16 - par...  \n",
      "336                 QC Changes to Math_CR_Boost_SP2016  \n",
      "337                 QC Changes to Math_CR_Boost_SP2016  \n",
      "338  Math_CR_Boost_SP2016_4_Point_Rubric_04 - complete  \n",
      "339          FAIB_Copy_Editing_SP16_-_SCIENCE_CR edits  \n",
      "340                           Math-CR_Boost_SPR2016_07  \n",
      "341                       Math-CCSS-SPR2016-TEI-Gr8-11  \n",
      "342                 Spring 2016 Final Review Art Edits  \n",
      "343             Math_CR_Boost_SP2016_4-Point-Rubric 16  \n",
      "344                        Pre-Delivery Image QC Board  \n",
      "345                       Math-CCSS-Spr2016-TEI-Gr7-07  \n",
      "346                 Sorting Cards, Trello Organization  \n",
      "347                                Invoice Itemization  \n",
      "348                 Spring 2016 Final Review Art Edits  \n",
      "349       Spring 2016 Final Review Art Edits (Batch 2)  \n",
      "350       Spring 2016 Final Review Art Edits (Batch 3)  \n",
      "351       Spring 2016 Final Review Art Edits (Batch 4)  \n",
      "352                            Math_CR_Boost_SP2016_12  \n",
      "353                                    SS Style Review  \n",
      "354                                   ELA Style Review  \n",
      "355  Meeting with Carrie; Administrative (billing, ...  \n",
      "356                    SOC-TX-03-Grade_6_2.27.16_FINAL  \n",
      "357             SS-CA-SPR2015-04_World_History.2.27.16  \n",
      "\n",
      "[358 rows x 6 columns]\n"
     ]
    }
   ],
   "source": [
    "print timesheet"
   ]
  },
  {
   "cell_type": "code",
   "execution_count": null,
   "metadata": {
    "collapsed": true
   },
   "outputs": [],
   "source": []
  }
 ],
 "metadata": {
  "anaconda-cloud": {},
  "kernelspec": {
   "display_name": "Python [conda root]",
   "language": "python",
   "name": "conda-root-py"
  },
  "language_info": {
   "codemirror_mode": {
    "name": "ipython",
    "version": 2
   },
   "file_extension": ".py",
   "mimetype": "text/x-python",
   "name": "python",
   "nbconvert_exporter": "python",
   "pygments_lexer": "ipython2",
   "version": "2.7.12"
  }
 },
 "nbformat": 4,
 "nbformat_minor": 1
}
