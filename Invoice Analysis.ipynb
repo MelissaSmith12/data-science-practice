{
 "cells": [
  {
   "cell_type": "markdown",
   "metadata": {},
   "source": [
    "To Do:\n",
    "-Cycle through directory to process all zip files\n",
    "-Process all files in zip file\n",
    "-Process second tab of Excel spreadsheet\n",
    "-Load table of what items are associated with what items, trim table to only items created after 2015\n",
    "-Determine where data stands\n",
    "-Calculate cost per packet, divide cost per packet by number of items\n",
    "-Scope out messy/unmatched data"
   ]
  },
  {
   "cell_type": "code",
   "execution_count": null,
   "metadata": {
    "collapsed": true
   },
   "outputs": [],
   "source": []
  }
 ],
 "metadata": {
  "anaconda-cloud": {},
  "kernelspec": {
   "display_name": "Python [conda root]",
   "language": "python",
   "name": "conda-root-py"
  },
  "language_info": {
   "codemirror_mode": {
    "name": "ipython",
    "version": 2
   },
   "file_extension": ".py",
   "mimetype": "text/x-python",
   "name": "python",
   "nbconvert_exporter": "python",
   "pygments_lexer": "ipython2",
   "version": "2.7.12"
  }
 },
 "nbformat": 4,
 "nbformat_minor": 1
}
