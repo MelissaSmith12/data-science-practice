{
 "cells": [
  {
   "cell_type": "code",
   "execution_count": null,
   "metadata": {
    "collapsed": true
   },
   "outputs": [],
   "source": [
    "import pandas as pd\n",
    "import codecs\n",
    "import csv\n",
    "import pprint\n",
    "import re\n",
    "\n",
    "filename = \"Math Sample Internal IDs and Asset GUIDs.csv\"\n",
    "\n",
    "fields ={'Internal_ID': 'Internal_ID',\n",
    "         'GUID': 'GUID'}"
   ]
  },
  {
   "cell_type": "code",
   "execution_count": null,
   "metadata": {
    "collapsed": true
   },
   "outputs": [],
   "source": [
    "def process_file(filename, fields):\n",
    "#    process_fields = fields.keys()\n",
    "    frames = [Math_Content_Foc, Math_Components, Math_Steps, Math_Shapes, Math_Number, Math_Units]\n",
    "    data = []\n",
    "#    data_keys = ['Internal ID', 'Strand','Substrand', 'Content_focus', 'Component', 'Number', 'Digits', 'Shape', 'Units', 'Steps', 'Context', 'SIG Stem', 'SIG Options', 'Additional Modifiers']\n",
    "    with open(filename, \"r\") as f:\n",
    "        reader = csv.DictReader(f)\n",
    "        for i in range(1):\n",
    "            l = reader.next()\n",
    "\n",
    "        for line in reader:\n",
    "            row = {}\n",
    "            InternalID = int(line['Internal ID'])\n",
    "            GUID = line['GUID']\n",
    "            asset = 'keep looking'\n",
    "            print GUID\n",
    "            for frame in frames:\n",
    "                if asset == 'keep looking':\n",
    "                    temp = GUID_lookup(GUID, frame)\n",
    "                    if temp != 'keep looking':\n",
    "                        asset = temp\n",
    "            row = {'Internal ID': InternalID, 'GUID': GUID, 'Asset_Type': asset}\n",
    "            print row\n",
    "            data.append(row)\n",
    "    return data"
   ]
  },
  {
   "cell_type": "code",
   "execution_count": null,
   "metadata": {
    "collapsed": true
   },
   "outputs": [],
   "source": [
    "def Load_GUIDs(filename):\n",
    "    data = []\n",
    "    fields = {}\n",
    "    with open(filename, \"r\") as f:\n",
    "        reader = csv.DictReader(f)\n",
    "        for line in reader:\n",
    "            data.append(line)\n",
    "    #strip capitalization for matching purposes\n",
    "    data = pd.DataFrame(data)\n",
    "    shortname = re.sub('(\\.csv)', '', filename)\n",
    "    data.name = shortname\n",
    "    return data"
   ]
  },
  {
   "cell_type": "code",
   "execution_count": null,
   "metadata": {
    "collapsed": false
   },
   "outputs": [],
   "source": [
    "test = process_file(filename, fields)"
   ]
  },
  {
   "cell_type": "code",
   "execution_count": null,
   "metadata": {
    "collapsed": false
   },
   "outputs": [],
   "source": [
    "output = pd.DataFrame(test)\n",
    "output.to_csv(\"item sample with asset type.csv\")"
   ]
  },
  {
   "cell_type": "code",
   "execution_count": null,
   "metadata": {
    "collapsed": false
   },
   "outputs": [],
   "source": [
    "Math_Steps = Load_GUIDs(\"Math_Steps.csv\")\n",
    "Math_Shapes = Load_GUIDs(\"Math_Shapes.csv\")\n",
    "Math_Number = Load_GUIDs(\"Math_Number.csv\")\n",
    "Math_Units = Load_GUIDs(\"Math_Units_Modified.csv\")\n",
    "Math_Content_Foc = Load_GUIDs(\"Math_Content_Foc.csv\")\n",
    "Math_Components = Load_GUIDs(\"Math_Components.csv\")"
   ]
  },
  {
   "cell_type": "code",
   "execution_count": null,
   "metadata": {
    "collapsed": true
   },
   "outputs": [],
   "source": [
    "def get_GUID_lite(tag, df): \n",
    "    #get GUID for steps, number, units, shape\n",
    "    matches = len(df.ix[df['Title'] == tag])\n",
    "    if matches == 1:\n",
    "        GUID = df.ix[df['Title'] == tag, 'Unique ID'].item()\n",
    "    elif matches ==0:\n",
    "        GUID = \"no matches found\"\n",
    "    else: GUID = \"resolve multiple values\"\n",
    "    return GUID"
   ]
  },
  {
   "cell_type": "code",
   "execution_count": null,
   "metadata": {
    "collapsed": false
   },
   "outputs": [],
   "source": [
    "def GUID_lookup(GUID, df):\n",
    "    if len(df.ix[df['Unique ID']==GUID]) == 1:\n",
    "        asset = df.name\n",
    "    else: asset = 'keep looking'\n",
    "    return asset\n"
   ]
  }
 ],
 "metadata": {
  "anaconda-cloud": {},
  "kernelspec": {
   "display_name": "Python [conda root]",
   "language": "python",
   "name": "conda-root-py"
  },
  "language_info": {
   "codemirror_mode": {
    "name": "ipython",
    "version": 2
   },
   "file_extension": ".py",
   "mimetype": "text/x-python",
   "name": "python",
   "nbconvert_exporter": "python",
   "pygments_lexer": "ipython2",
   "version": "2.7.12"
  }
 },
 "nbformat": 4,
 "nbformat_minor": 1
}
