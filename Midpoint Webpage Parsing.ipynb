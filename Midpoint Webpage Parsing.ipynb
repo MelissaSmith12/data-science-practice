{
 "cells": [
  {
   "cell_type": "code",
   "execution_count": 1,
   "metadata": {
    "collapsed": true
   },
   "outputs": [],
   "source": [
    "from lxml import html\n",
    "import requests\n"
   ]
  },
  {
   "cell_type": "code",
   "execution_count": 2,
   "metadata": {
    "collapsed": true
   },
   "outputs": [],
   "source": [
    "page = requests.get('http://mpmf.com/schedule/stages')\n",
    "tree = html.fromstring(page.content)"
   ]
  },
  {
   "cell_type": "markdown",
   "metadata": {},
   "source": [
    "Below, I start playing around with xpath and use it to read the text into individual variables. This took some playing around to get correct because I'll admit, I didn't really understand the structure of the call. After I viewed a few more examples, it started to make sense. I'll admit, I miss R documentation. Maybe I'll find some resources that are just as useful in Python. But onward to data, one step at a time."
   ]
  },
  {
   "cell_type": "code",
   "execution_count": 16,
   "metadata": {
    "collapsed": false,
    "scrolled": true
   },
   "outputs": [
    {
     "name": "stdout",
     "output_type": "stream",
     "text": [
      "['Future Islands', 'Antibalas', 'The James Hunter Six', 'Molly Sullivan', 'Injecting Strangers', 'Darla', 'Tokyo Police Club', 'Cereus Bright', 'PUBLIC', 'Julia Jacklin', 'Joesph', 'Langhorne Slim & The Law', 'Lau', 'Ona', 'Dead Horses', 'HOOPS', 'Into It. Over It.', 'Pluto Revolts', 'Leggy', 'The Slippery Lips', 'Royal Holland', 'SMUT']\n",
      "[' 9:30 PM - 11:00 PM ', ' 7:45 PM - 8:30 PM ', ' 6:15 PM - 7:00 PM ', ' 5:00 PM - 5:30 PM ', ' 4:00 PM - 4:30 PM ', ' 3:00 PM - 3:30 PM ', ' 8:30 PM - 9:30 PM ', ' 7:00 PM - 7:45 PM ', ' 5:30 PM - 6:15 PM ', ' 4:30 PM - 5:00 PM ', ' 3:30 PM - 4:00 PM ', ' 8:15 PM - 9:15 PM ', ' 6:45 PM - 7:30 PM ', ' 5:15 PM - 6:00 PM ', ' 4:15 PM - 4:45 PM ', ' 3:15 PM - 3:45 PM ', ' 8:45 PM - 9:30 PM ', ' 7:45 PM - 8:15 PM ', ' 6:45 PM - 7:15 PM ', ' 5:45 PM - 6:15 PM ', ' 4:45 PM - 5:15 PM ', ' 3:45 PM - 4:15 PM ']\n",
      "['  Skyline Stage     ', '  Elliot Stage     ', '  WNKU Stage     ', \"  Eli's BBQ Stage     \"]\n"
     ]
    }
   ],
   "source": [
    "bands = tree.xpath('//span[@class=\"band-name\"]/text()')\n",
    "print bands\n",
    "\n",
    "time = tree.xpath('//time/text()')\n",
    "print time\n",
    "\n",
    "venue = tree.xpath('//section[@class=\"lineup-venue\"]/h3/text()')\n",
    "print venue"
   ]
  },
  {
   "cell_type": "markdown",
   "metadata": {},
   "source": [
    "Great! I can read in single variables now, but what I really need to do is root the tree and capture the data as a table/matrix/whateverPythonCallsIt so that the bands are associated with their time and venue.\n",
    "\n",
    "Trot over to http://www.w3schools.com/xsl/xpath_syntax.asp and play around with the documentation for a bit."
   ]
  },
  {
   "cell_type": "code",
   "execution_count": 18,
   "metadata": {
    "collapsed": false
   },
   "outputs": [
    {
     "name": "stdout",
     "output_type": "stream",
     "text": [
      "  Skyline Stage     \n"
     ]
    }
   ],
   "source": [
    "venue = tree.xpath('//section[@class=\"lineup-venue\"]/h3/text()')\n",
    "print venue[0]\n"
   ]
  },
  {
   "cell_type": "code",
   "execution_count": null,
   "metadata": {
    "collapsed": true
   },
   "outputs": [],
   "source": []
  }
 ],
 "metadata": {
  "kernelspec": {
   "display_name": "Python [Root]",
   "language": "python",
   "name": "Python [Root]"
  },
  "language_info": {
   "codemirror_mode": {
    "name": "ipython",
    "version": 2
   },
   "file_extension": ".py",
   "mimetype": "text/x-python",
   "name": "python",
   "nbconvert_exporter": "python",
   "pygments_lexer": "ipython2",
   "version": "2.7.12"
  }
 },
 "nbformat": 4,
 "nbformat_minor": 0
}
