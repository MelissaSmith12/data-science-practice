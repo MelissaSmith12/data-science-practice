{
 "cells": [
  {
   "cell_type": "code",
   "execution_count": 14,
   "metadata": {
    "collapsed": false
   },
   "outputs": [],
   "source": [
    "from lxml import html\n",
    "import requests\n",
    "import string\n",
    "import pandas as pd\n",
    "\n",
    "base_filename = \"http://www.mumfordandsons.com/tour/\"\n",
    "#once base figured out, will cycle through to add additional pages until reached page 12\n",
    "\n",
    "keys = ['Date','Venue','City','Country']\n",
    "concerts = []\n",
    "counter = 0\n",
    "\n",
    "counter = 5\n",
    "#filename = base_filename + r\"page/\" + str(counter) + r\"/\"\n",
    "#while counter < 13:\n",
    "#    if counter == 0:\n",
    "#        filename = base_filename\n",
    "#    else:\n",
    "#        filename = base_filename + r\"page/\" + str(counter) + r\"/\"\n",
    "#    print filename\n",
    "#    counter += 1\n",
    "    \n",
    "page = requests.get(base_filename)\n",
    "tree = html.fromstring(page.content)"
   ]
  },
  {
   "cell_type": "code",
   "execution_count": 31,
   "metadata": {
    "collapsed": false
   },
   "outputs": [
    {
     "name": "stdout",
     "output_type": "stream",
     "text": [
      "['09 October 2016', '06 October 2016', '05 October 2016', '04 October 2016', '02 October 2016', '29 September 2016', '28 September 2016', '26 September 2016', '23 September 2016', '21 September 2016', '20 September 2016', '08 July 2016', '04 July 2016', '03 July 2016', '30 June 2016', '28 June 2016', '24 June 2016', '24 June 2016', '19 June 2016', '17 June 2016', '16 June 2016', '15 June 2016', '13 June 2016', '12 June 2016', '11 June 2016', '28 May 2016', '24 May 2016', '23 May 2016', '22 May 2016', '20 May 2016', '19 May 2016', '17 May 2016', '16 May 2016', '14 May 2016', '13 May 2016', '12 May 2016', '10 May 2016', '09 May 2016', '07 May 2016', '24 April 2016']\n",
      "['Austin City Limits Music Festival', 'Sleep Train Amphitheatre', 'Ak-Chin Pavilion']\n",
      "['Texas,', 'Chula Vista,', 'Phoenix,']\n",
      "['United States', 'United States', 'United States']\n"
     ]
    },
    {
     "data": {
      "text/plain": [
       "40"
      ]
     },
     "execution_count": 31,
     "metadata": {},
     "output_type": "execute_result"
    }
   ],
   "source": [
    "\n",
    "date = tree.xpath('//span[@class=\"live-entry-date\"]/text()')\n",
    "print date\n",
    "\n",
    "venue = tree.xpath('//span[@class=\"live-entry-venue\"]/text()')\n",
    "print venue[0:3]\n",
    "\n",
    "city = tree.xpath('//span[@class=\"live-entry-city\"]/text()')\n",
    "print city[0:3]\n",
    "\n",
    "country = tree.xpath('//span[@class=\"live-entry-country\"]/text()')\n",
    "print country[0:3]\n",
    "\n",
    "city=[]\n",
    "\n",
    "len(date)"
   ]
  },
  {
   "cell_type": "code",
   "execution_count": null,
   "metadata": {
    "collapsed": false
   },
   "outputs": [],
   "source": []
  },
  {
   "cell_type": "code",
   "execution_count": 32,
   "metadata": {
    "collapsed": false
   },
   "outputs": [
    {
     "name": "stdout",
     "output_type": "stream",
     "text": [
      "40\n"
     ]
    }
   ],
   "source": [
    "\n",
    "i = 0\n",
    "\n",
    "if (len(city)) == 0:\n",
    "    city = ['None listed']*len(date)\n",
    "    \n",
    "if (len(country)) == 0:\n",
    "    country = ['None listed']*len(date)\n",
    "\n",
    "while i < len(date):\n",
    "    concerts.append(dict(zip(keys, [date[i],venue[i],city[i],country[i]])))\n",
    "    i+= 1"
   ]
  },
  {
   "cell_type": "code",
   "execution_count": 33,
   "metadata": {
    "collapsed": false
   },
   "outputs": [
    {
     "name": "stdout",
     "output_type": "stream",
     "text": [
      "[{'Date': '09 October 2016', 'City': 'None listed', 'Venue': 'Austin City Limits Music Festival', 'Country': 'United States'}, {'Date': '06 October 2016', 'City': 'None listed', 'Venue': 'Sleep Train Amphitheatre', 'Country': 'United States'}, {'Date': '05 October 2016', 'City': 'None listed', 'Venue': 'Ak-Chin Pavilion', 'Country': 'United States'}, {'Date': '04 October 2016', 'City': 'None listed', 'Venue': 'Isleta Amphitheatre', 'Country': 'United States'}, {'Date': '02 October 2016', 'City': 'None listed', 'Venue': 'Austin City Limits Music Festival', 'Country': 'United States'}, {'Date': '29 September 2016', 'City': 'None listed', 'Venue': \"Fiddler's Green Amphitheatre\", 'Country': 'United States'}, {'Date': '28 September 2016', 'City': 'None listed', 'Venue': \"Fiddler's Green Amphitheatre\", 'Country': 'United States'}, {'Date': '26 September 2016', 'City': 'None listed', 'Venue': 'USANA Amphitheatre', 'Country': 'United States'}, {'Date': '23 September 2016', 'City': 'None listed', 'Venue': 'Life Is Beautiful Festival', 'Country': 'United States'}, {'Date': '21 September 2016', 'City': 'None listed', 'Venue': 'The Greek Theatre', 'Country': 'United States'}, {'Date': '20 September 2016', 'City': 'None listed', 'Venue': 'The Greek Theatre', 'Country': 'United States'}, {'Date': '08 July 2016', 'City': 'None listed', 'Venue': 'BST Hyde Park', 'Country': 'United Kingdom'}, {'Date': '04 July 2016', 'City': 'None listed', 'Venue': 'Assago Summer Arena', 'Country': 'Italy'}, {'Date': '03 July 2016', 'City': 'None listed', 'Venue': 'Openair St. Gallen Festival', 'Country': 'Switzerland'}, {'Date': '30 June 2016', 'City': 'None listed', 'Venue': u'Br\\xe5valla Festival', 'Country': 'Sweden'}, {'Date': '28 June 2016', 'City': 'None listed', 'Venue': 'Amfiscenen', 'Country': 'Denmark '}, {'Date': '24 June 2016', 'City': 'None listed', 'Venue': '24-26th: Hurricane Festival', 'Country': 'Germany'}, {'Date': '24 June 2016', 'City': 'None listed', 'Venue': '24-26th: Southside', 'Country': 'Germany'}, {'Date': '19 June 2016', 'City': 'None listed', 'Venue': 'Firefly Music Festival', 'Country': 'United States'}, {'Date': '17 June 2016', 'City': 'None listed', 'Venue': 'Forest Hills Stadium', 'Country': 'United States'}, {'Date': '16 June 2016', 'City': 'None listed', 'Venue': 'Forest Hills Stadium', 'Country': 'United States'}, {'Date': '15 June 2016', 'City': 'None listed', 'Venue': 'Saratoga Performing Arts Center', 'Country': 'United States'}, {'Date': '13 June 2016', 'City': 'None listed', 'Venue': 'Molson Canadian Amphitheatre', 'Country': 'Canada'}, {'Date': '12 June 2016', 'City': 'None listed', 'Venue': 'Canadian Tire Centre', 'Country': 'Canada'}, {'Date': '11 June 2016', 'City': 'None listed', 'Venue': 'Baie de Beauport', 'Country': 'Canada'}, {'Date': '28 May 2016', 'City': 'None listed', 'Venue': \"BBC Radio 1's Big Weekend\", 'Country': 'United Kingdom'}, {'Date': '24 May 2016', 'City': 'None listed', 'Venue': 'Sportpaleis', 'Country': 'Belgium'}, {'Date': '23 May 2016', 'City': 'None listed', 'Venue': 'Ziggo Dome', 'Country': 'The Netherlands'}, {'Date': '22 May 2016', 'City': 'None listed', 'Venue': 'Zenith', 'Country': 'France'}, {'Date': '20 May 2016', 'City': 'None listed', 'Venue': '02 Arena', 'Country': 'Czech Republic'}, {'Date': '19 May 2016', 'City': 'None listed', 'Venue': 'Stadthalle', 'Country': 'Austria'}, {'Date': '17 May 2016', 'City': 'None listed', 'Venue': 'Olympiahalle', 'Country': 'Germany '}, {'Date': '16 May 2016', 'City': 'None listed', 'Venue': 'Hallenstadion', 'Country': 'Switzerland'}, {'Date': '14 May 2016', 'City': 'None listed', 'Venue': 'ISS Dome', 'Country': 'Germany'}, {'Date': '13 May 2016', 'City': 'None listed', 'Venue': 'Barclaycard Arena', 'Country': 'Germany'}, {'Date': '12 May 2016', 'City': 'None listed', 'Venue': 'Forum', 'Country': 'Denmark'}, {'Date': '10 May 2016', 'City': 'None listed', 'Venue': 'Spektrum', 'Country': 'Norway'}, {'Date': '09 May 2016', 'City': 'None listed', 'Venue': 'Scandinavium', 'Country': 'Sweden'}, {'Date': '07 May 2016', 'City': 'None listed', 'Venue': 'Hartwall Arena', 'Country': 'Finland'}, {'Date': '24 April 2016', 'City': 'None listed', 'Venue': 'Bankers Life Fieldhouse', 'Country': 'United States'}]\n"
     ]
    }
   ],
   "source": [
    "print concerts"
   ]
  },
  {
   "cell_type": "code",
   "execution_count": 6,
   "metadata": {
    "collapsed": false
   },
   "outputs": [],
   "source": [
    "concerts_df = pd.DataFrame(concerts)"
   ]
  },
  {
   "cell_type": "code",
   "execution_count": 7,
   "metadata": {
    "collapsed": false
   },
   "outputs": [
    {
     "data": {
      "text/html": [
       "<div>\n",
       "<table border=\"1\" class=\"dataframe\">\n",
       "  <thead>\n",
       "    <tr style=\"text-align: right;\">\n",
       "      <th></th>\n",
       "      <th>City</th>\n",
       "      <th>Country</th>\n",
       "      <th>Date</th>\n",
       "      <th>Venue</th>\n",
       "    </tr>\n",
       "  </thead>\n",
       "  <tbody>\n",
       "    <tr>\n",
       "      <th>0</th>\n",
       "      <td>Texas,</td>\n",
       "      <td>United States</td>\n",
       "      <td>09 October 2016</td>\n",
       "      <td>Austin City Limits Music Festival</td>\n",
       "    </tr>\n",
       "    <tr>\n",
       "      <th>1</th>\n",
       "      <td>Chula Vista,</td>\n",
       "      <td>United States</td>\n",
       "      <td>06 October 2016</td>\n",
       "      <td>Sleep Train Amphitheatre</td>\n",
       "    </tr>\n",
       "    <tr>\n",
       "      <th>2</th>\n",
       "      <td>Phoenix,</td>\n",
       "      <td>United States</td>\n",
       "      <td>05 October 2016</td>\n",
       "      <td>Ak-Chin Pavilion</td>\n",
       "    </tr>\n",
       "    <tr>\n",
       "      <th>3</th>\n",
       "      <td>Albuquerque,</td>\n",
       "      <td>United States</td>\n",
       "      <td>04 October 2016</td>\n",
       "      <td>Isleta Amphitheatre</td>\n",
       "    </tr>\n",
       "    <tr>\n",
       "      <th>4</th>\n",
       "      <td>Texas,</td>\n",
       "      <td>United States</td>\n",
       "      <td>02 October 2016</td>\n",
       "      <td>Austin City Limits Music Festival</td>\n",
       "    </tr>\n",
       "  </tbody>\n",
       "</table>\n",
       "</div>"
      ],
      "text/plain": [
       "           City        Country             Date  \\\n",
       "0        Texas,  United States  09 October 2016   \n",
       "1  Chula Vista,  United States  06 October 2016   \n",
       "2      Phoenix,  United States  05 October 2016   \n",
       "3  Albuquerque,  United States  04 October 2016   \n",
       "4        Texas,  United States  02 October 2016   \n",
       "\n",
       "                               Venue  \n",
       "0  Austin City Limits Music Festival  \n",
       "1           Sleep Train Amphitheatre  \n",
       "2                   Ak-Chin Pavilion  \n",
       "3                Isleta Amphitheatre  \n",
       "4  Austin City Limits Music Festival  "
      ]
     },
     "execution_count": 7,
     "metadata": {},
     "output_type": "execute_result"
    }
   ],
   "source": [
    "concerts_df.head()"
   ]
  },
  {
   "cell_type": "code",
   "execution_count": null,
   "metadata": {
    "collapsed": false
   },
   "outputs": [],
   "source": [
    "writer = pd.ExcelWriter('Mumford and Sons Concerts.xlsx')\n",
    "concerts_df.to_excel(writer, sheet_name='Sheet1')\n",
    "writer.save()"
   ]
  },
  {
   "cell_type": "code",
   "execution_count": null,
   "metadata": {
    "collapsed": false
   },
   "outputs": [],
   "source": []
  },
  {
   "cell_type": "code",
   "execution_count": null,
   "metadata": {
    "collapsed": true
   },
   "outputs": [],
   "source": []
  },
  {
   "cell_type": "code",
   "execution_count": null,
   "metadata": {
    "collapsed": true
   },
   "outputs": [],
   "source": []
  },
  {
   "cell_type": "code",
   "execution_count": null,
   "metadata": {
    "collapsed": true
   },
   "outputs": [],
   "source": []
  }
 ],
 "metadata": {
  "anaconda-cloud": {},
  "kernelspec": {
   "display_name": "Python [conda root]",
   "language": "python",
   "name": "conda-root-py"
  }
 },
 "nbformat": 4,
 "nbformat_minor": 1
}
