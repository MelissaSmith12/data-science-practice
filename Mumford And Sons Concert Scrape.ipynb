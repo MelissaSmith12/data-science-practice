{
 "cells": [
  {
   "cell_type": "code",
   "execution_count": 1,
   "metadata": {
    "collapsed": true
   },
   "outputs": [],
   "source": [
    "from lxml import html\n",
    "import requests\n",
    "import string\n",
    "\n",
    "base_filename = \"http://www.mumfordandsons.com/tour/\"\n",
    "#once base figured out, will cycle through to add additional pages until reached page 12\n",
    "\n",
    "\n",
    "page = requests.get(base_filename)\n",
    "tree = html.fromstring(page.content)"
   ]
  },
  {
   "cell_type": "code",
   "execution_count": 15,
   "metadata": {
    "collapsed": false
   },
   "outputs": [
    {
     "name": "stdout",
     "output_type": "stream",
     "text": [
      "['09 October 2016', '06 October 2016', '05 October 2016']\n",
      "['Austin City Limits Music Festival', 'Sleep Train Amphitheatre', 'Ak-Chin Pavilion']\n",
      "['Texas,', 'Chula Vista,', 'Phoenix,']\n",
      "['United States', 'United States', 'United States']\n"
     ]
    }
   ],
   "source": [
    "\n",
    "date = tree.xpath('//span[@class=\"live-entry-date\"]/text()')\n",
    "print date[0:3]\n",
    "\n",
    "venue = tree.xpath('//span[@class=\"live-entry-venue\"]/text()')\n",
    "print venue[0:3]\n",
    "\n",
    "city = tree.xpath('//span[@class=\"live-entry-city\"]/text()')\n",
    "print city[0:3]\n",
    "\n",
    "country = tree.xpath('//span[@class=\"live-entry-country\"]/text()')\n",
    "print country[0:3]\n"
   ]
  },
  {
   "cell_type": "code",
   "execution_count": 29,
   "metadata": {
    "collapsed": false
   },
   "outputs": [],
   "source": [
    "keys = ['Date','Venue','City','Country']\n",
    "concerts = []\n",
    "i = 0\n",
    "\n",
    "concerts.append(dict(zip(keys, [date[i],venue[i],city[i],country[i]])))\n",
    "\n",
    "#Debug here\n",
    "#for i <= range(len(date)):\n",
    "#   concerts.append(dict(zip(keys, [date[i],venue[i],city[i],country[i]])))"
   ]
  },
  {
   "cell_type": "code",
   "execution_count": 13,
   "metadata": {
    "collapsed": false
   },
   "outputs": [
    {
     "name": "stdout",
     "output_type": "stream",
     "text": [
      "[{'Date': '09 October 2016', 'City': 'Texas,', 'Venue': 'Austin City Limits Music Festival', 'Country': 'United States'}]\n"
     ]
    }
   ],
   "source": [
    "print concerts"
   ]
  },
  {
   "cell_type": "code",
   "execution_count": null,
   "metadata": {
    "collapsed": true
   },
   "outputs": [],
   "source": []
  }
 ],
 "metadata": {
  "anaconda-cloud": {},
  "kernelspec": {
   "display_name": "Python [conda root]",
   "language": "python",
   "name": "conda-root-py"
  },
  "language_info": {
   "codemirror_mode": {
    "name": "ipython",
    "version": 2
   },
   "file_extension": ".py",
   "mimetype": "text/x-python",
   "name": "python",
   "nbconvert_exporter": "python",
   "pygments_lexer": "ipython2",
   "version": "2.7.12"
  }
 },
 "nbformat": 4,
 "nbformat_minor": 1
}
