{
 "cells": [
  {
   "cell_type": "code",
   "execution_count": 4,
   "metadata": {
    "collapsed": false
   },
   "outputs": [],
   "source": [
    "from lxml import html\n",
    "import requests\n",
    "import string\n",
    "import pandas as pd\n",
    "\n",
    "base_filename = \"http://www.mumfordandsons.com/tour/\"\n",
    "#once base figured out, will cycle through to add additional pages until reached page 12\n",
    "\n",
    "\n",
    "page = requests.get(base_filename)\n",
    "tree = html.fromstring(page.content)"
   ]
  },
  {
   "cell_type": "code",
   "execution_count": 5,
   "metadata": {
    "collapsed": false
   },
   "outputs": [
    {
     "name": "stdout",
     "output_type": "stream",
     "text": [
      "['09 October 2016', '06 October 2016', '05 October 2016']\n",
      "['Austin City Limits Music Festival', 'Sleep Train Amphitheatre', 'Ak-Chin Pavilion']\n",
      "['Texas,', 'Chula Vista,', 'Phoenix,']\n",
      "['United States', 'United States', 'United States']\n"
     ]
    }
   ],
   "source": [
    "\n",
    "date = tree.xpath('//span[@class=\"live-entry-date\"]/text()')\n",
    "print date[0:3]\n",
    "\n",
    "venue = tree.xpath('//span[@class=\"live-entry-venue\"]/text()')\n",
    "print venue[0:3]\n",
    "\n",
    "city = tree.xpath('//span[@class=\"live-entry-city\"]/text()')\n",
    "print city[0:3]\n",
    "\n",
    "country = tree.xpath('//span[@class=\"live-entry-country\"]/text()')\n",
    "print country[0:3]\n"
   ]
  },
  {
   "cell_type": "code",
   "execution_count": 17,
   "metadata": {
    "collapsed": false
   },
   "outputs": [
    {
     "name": "stdout",
     "output_type": "stream",
     "text": [
      "40\n"
     ]
    }
   ],
   "source": [
    "keys = ['Date','Venue','City','Country']\n",
    "concerts = []\n",
    "i = 0\n",
    "\n",
    "#concerts.append(dict(zip(keys, [date[i],venue[i],city[i],country[i]])))\n",
    "print len(date)\n",
    "#Debug here\n",
    "while i < len(date):\n",
    "    concerts.append(dict(zip(keys, [date[i],venue[i],city[i],country[i]])))\n",
    "    i+= 1"
   ]
  },
  {
   "cell_type": "code",
   "execution_count": 18,
   "metadata": {
    "collapsed": false
   },
   "outputs": [
    {
     "name": "stdout",
     "output_type": "stream",
     "text": [
      "[{'Date': '09 October 2016', 'City': 'Texas,', 'Venue': 'Austin City Limits Music Festival', 'Country': 'United States'}, {'Date': '06 October 2016', 'City': 'Chula Vista,', 'Venue': 'Sleep Train Amphitheatre', 'Country': 'United States'}, {'Date': '05 October 2016', 'City': 'Phoenix,', 'Venue': 'Ak-Chin Pavilion', 'Country': 'United States'}, {'Date': '04 October 2016', 'City': 'Albuquerque,', 'Venue': 'Isleta Amphitheatre', 'Country': 'United States'}, {'Date': '02 October 2016', 'City': 'Texas,', 'Venue': 'Austin City Limits Music Festival', 'Country': 'United States'}, {'Date': '29 September 2016', 'City': 'Englewood,', 'Venue': \"Fiddler's Green Amphitheatre\", 'Country': 'United States'}, {'Date': '28 September 2016', 'City': 'Englewood,', 'Venue': \"Fiddler's Green Amphitheatre\", 'Country': 'United States'}, {'Date': '26 September 2016', 'City': 'West Valley,', 'Venue': 'USANA Amphitheatre', 'Country': 'United States'}, {'Date': '23 September 2016', 'City': 'Las Vegas,', 'Venue': 'Life Is Beautiful Festival', 'Country': 'United States'}, {'Date': '21 September 2016', 'City': 'Los Angeles,', 'Venue': 'The Greek Theatre', 'Country': 'United States'}, {'Date': '20 September 2016', 'City': 'Los Angeles,', 'Venue': 'The Greek Theatre', 'Country': 'United States'}, {'Date': '08 July 2016', 'City': 'London,', 'Venue': 'BST Hyde Park', 'Country': 'United Kingdom'}, {'Date': '04 July 2016', 'City': 'Milan,', 'Venue': 'Assago Summer Arena', 'Country': 'Italy'}, {'Date': '03 July 2016', 'City': 'St. Gallen,', 'Venue': 'Openair St. Gallen Festival', 'Country': 'Switzerland'}, {'Date': '30 June 2016', 'City': u'Norrk\\xf6ping,', 'Venue': u'Br\\xe5valla Festival', 'Country': 'Sweden'}, {'Date': '28 June 2016', 'City': 'Aarhus,', 'Venue': 'Amfiscenen', 'Country': 'Denmark '}, {'Date': '24 June 2016', 'City': 'Scheessel,', 'Venue': '24-26th: Hurricane Festival', 'Country': 'Germany'}, {'Date': '24 June 2016', 'City': 'Neuhausen ob Eck,', 'Venue': '24-26th: Southside', 'Country': 'Germany'}, {'Date': '19 June 2016', 'City': 'Dover, DE,', 'Venue': 'Firefly Music Festival', 'Country': 'United States'}, {'Date': '17 June 2016', 'City': 'Queens, NY,', 'Venue': 'Forest Hills Stadium', 'Country': 'United States'}, {'Date': '16 June 2016', 'City': 'Queens, NY,', 'Venue': 'Forest Hills Stadium', 'Country': 'United States'}, {'Date': '15 June 2016', 'City': 'Saratoga Springs, NY,', 'Venue': 'Saratoga Performing Arts Center', 'Country': 'United States'}, {'Date': '13 June 2016', 'City': 'Toronto,', 'Venue': 'Molson Canadian Amphitheatre', 'Country': 'Canada'}, {'Date': '12 June 2016', 'City': 'Ottawa,', 'Venue': 'Canadian Tire Centre', 'Country': 'Canada'}, {'Date': '11 June 2016', 'City': u'Qu\\xe9bec City,', 'Venue': 'Baie de Beauport', 'Country': 'Canada'}, {'Date': '28 May 2016', 'City': 'Exeter,', 'Venue': \"BBC Radio 1's Big Weekend\", 'Country': 'United Kingdom'}, {'Date': '24 May 2016', 'City': 'Antwerp,', 'Venue': 'Sportpaleis', 'Country': 'Belgium'}, {'Date': '23 May 2016', 'City': 'Amsterdam,', 'Venue': 'Ziggo Dome', 'Country': 'The Netherlands'}, {'Date': '22 May 2016', 'City': 'Paris,', 'Venue': 'Zenith', 'Country': 'France'}, {'Date': '20 May 2016', 'City': 'Prague,', 'Venue': '02 Arena', 'Country': 'Czech Republic'}, {'Date': '19 May 2016', 'City': 'Vienna,', 'Venue': 'Stadthalle', 'Country': 'Austria'}, {'Date': '17 May 2016', 'City': 'Munich,', 'Venue': 'Olympiahalle', 'Country': 'Germany '}, {'Date': '16 May 2016', 'City': 'Zurich,', 'Venue': 'Hallenstadion', 'Country': 'Switzerland'}, {'Date': '14 May 2016', 'City': 'Dusseldorf,', 'Venue': 'ISS Dome', 'Country': 'Germany'}, {'Date': '13 May 2016', 'City': 'Hamburg,', 'Venue': 'Barclaycard Arena', 'Country': 'Germany'}, {'Date': '12 May 2016', 'City': 'Copenhagen,', 'Venue': 'Forum', 'Country': 'Denmark'}, {'Date': '10 May 2016', 'City': 'Oslo,', 'Venue': 'Spektrum', 'Country': 'Norway'}, {'Date': '09 May 2016', 'City': 'Gothenburg,', 'Venue': 'Scandinavium', 'Country': 'Sweden'}, {'Date': '07 May 2016', 'City': 'Helsinki,', 'Venue': 'Hartwall Arena', 'Country': 'Finland'}, {'Date': '24 April 2016', 'City': 'Indianapolis, IN,', 'Venue': 'Bankers Life Fieldhouse', 'Country': 'United States'}]\n"
     ]
    }
   ],
   "source": [
    "print concerts"
   ]
  },
  {
   "cell_type": "code",
   "execution_count": 20,
   "metadata": {
    "collapsed": false
   },
   "outputs": [],
   "source": [
    "concerts_df = pd.DataFrame(concerts)"
   ]
  },
  {
   "cell_type": "code",
   "execution_count": 21,
   "metadata": {
    "collapsed": false
   },
   "outputs": [
    {
     "data": {
      "text/html": [
       "<div>\n",
       "<table border=\"1\" class=\"dataframe\">\n",
       "  <thead>\n",
       "    <tr style=\"text-align: right;\">\n",
       "      <th></th>\n",
       "      <th>City</th>\n",
       "      <th>Country</th>\n",
       "      <th>Date</th>\n",
       "      <th>Venue</th>\n",
       "    </tr>\n",
       "  </thead>\n",
       "  <tbody>\n",
       "    <tr>\n",
       "      <th>0</th>\n",
       "      <td>Texas,</td>\n",
       "      <td>United States</td>\n",
       "      <td>09 October 2016</td>\n",
       "      <td>Austin City Limits Music Festival</td>\n",
       "    </tr>\n",
       "    <tr>\n",
       "      <th>1</th>\n",
       "      <td>Chula Vista,</td>\n",
       "      <td>United States</td>\n",
       "      <td>06 October 2016</td>\n",
       "      <td>Sleep Train Amphitheatre</td>\n",
       "    </tr>\n",
       "    <tr>\n",
       "      <th>2</th>\n",
       "      <td>Phoenix,</td>\n",
       "      <td>United States</td>\n",
       "      <td>05 October 2016</td>\n",
       "      <td>Ak-Chin Pavilion</td>\n",
       "    </tr>\n",
       "    <tr>\n",
       "      <th>3</th>\n",
       "      <td>Albuquerque,</td>\n",
       "      <td>United States</td>\n",
       "      <td>04 October 2016</td>\n",
       "      <td>Isleta Amphitheatre</td>\n",
       "    </tr>\n",
       "    <tr>\n",
       "      <th>4</th>\n",
       "      <td>Texas,</td>\n",
       "      <td>United States</td>\n",
       "      <td>02 October 2016</td>\n",
       "      <td>Austin City Limits Music Festival</td>\n",
       "    </tr>\n",
       "  </tbody>\n",
       "</table>\n",
       "</div>"
      ],
      "text/plain": [
       "           City        Country             Date  \\\n",
       "0        Texas,  United States  09 October 2016   \n",
       "1  Chula Vista,  United States  06 October 2016   \n",
       "2      Phoenix,  United States  05 October 2016   \n",
       "3  Albuquerque,  United States  04 October 2016   \n",
       "4        Texas,  United States  02 October 2016   \n",
       "\n",
       "                               Venue  \n",
       "0  Austin City Limits Music Festival  \n",
       "1           Sleep Train Amphitheatre  \n",
       "2                   Ak-Chin Pavilion  \n",
       "3                Isleta Amphitheatre  \n",
       "4  Austin City Limits Music Festival  "
      ]
     },
     "execution_count": 21,
     "metadata": {},
     "output_type": "execute_result"
    }
   ],
   "source": [
    "concerts_df.head()"
   ]
  },
  {
   "cell_type": "code",
   "execution_count": 26,
   "metadata": {
    "collapsed": false
   },
   "outputs": [],
   "source": [
    "writer = pd.ExcelWriter('Mumford and Sons Concerts.xlsx')\n",
    "concerts_df.to_excel(writer, sheet_name='Sheet1')\n",
    "writer.save()"
   ]
  },
  {
   "cell_type": "code",
   "execution_count": null,
   "metadata": {
    "collapsed": true
   },
   "outputs": [],
   "source": []
  }
 ],
 "metadata": {
  "anaconda-cloud": {},
  "kernelspec": {
   "display_name": "Python [conda root]",
   "language": "python",
   "name": "conda-root-py"
  },
  "language_info": {
   "codemirror_mode": {
    "name": "ipython",
    "version": 2
   },
   "file_extension": ".py",
   "mimetype": "text/x-python",
   "name": "python",
   "nbconvert_exporter": "python",
   "pygments_lexer": "ipython2",
   "version": "2.7.12"
  }
 },
 "nbformat": 4,
 "nbformat_minor": 1
}
