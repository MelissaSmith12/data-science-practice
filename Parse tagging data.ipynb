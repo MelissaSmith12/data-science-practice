{
 "cells": [
  {
   "cell_type": "code",
   "execution_count": 44,
   "metadata": {
    "collapsed": false
   },
   "outputs": [],
   "source": [
    "import pandas as pd\n",
    "import numpy\n",
    "import xlrd\n",
    "\n",
    "filename = \"math sample for API testing.csv\"\n",
    "\n",
    "fields ={'Internal ID': 'Internal_ID',\n",
    "         'Strand': 'Strand',\n",
    "         'Sub-Strand': 'Substrand',\n",
    "         'Content Focus': 'Content_Focus',\n",
    "         'Component': 'Component',\n",
    "         'Number': 'Number',\n",
    "         'Digits': 'Digits',\n",
    "         'Shape': 'Shape',\n",
    "         'Units': 'Units',\n",
    "         'Steps': 'Steps',\n",
    "         'Context': 'Context',\n",
    "         'SIG Stem': 'SIG_Stem',\n",
    "         'SIG Options': 'SIG_Options',\n",
    "         'Additional Modifiers': 'Additional_Modifiers'}"
   ]
  },
  {
   "cell_type": "code",
   "execution_count": 45,
   "metadata": {
    "collapsed": false
   },
   "outputs": [
    {
     "data": {
      "text/plain": [
       "'\\nData structure\\n\\n[list of internal IDs]\\n    list of strands:\\n        {Strand: Strand1}\\n        {Substrand: [Substrand1, Substrand2, ...]}\\n            {Content Focus: [CF1, CF2, ...]}\\n                {Component: [C1, C2, ...]}\\n    {Number: [N1, N2, ...]}\\n        {Digits: [D1, D2, ...]}\\n    {Shape: [Shape1, ...]}\\n    {Units: [Units1, ...]}\\n    {Steps: Steps}\\n    {Context: Context}\\n    {SIG Stem: [Sig Stem1, ...]}\\n    {SIG Options: [SIG Options1, ...]}\\n    {Additional Modifiers: [AM1, ...]}\\n'"
      ]
     },
     "execution_count": 45,
     "metadata": {},
     "output_type": "execute_result"
    }
   ],
   "source": [
    "'''\n",
    "Data structure\n",
    "\n",
    "[list of internal IDs]\n",
    "    list of strands:\n",
    "        {Strand: Strand1}\n",
    "        {Substrand: [Substrand1, Substrand2, ...]}\n",
    "            {Content Focus: [CF1, CF2, ...]}\n",
    "                {Component: [C1, C2, ...]}\n",
    "    {Number: [N1, N2, ...]}\n",
    "        {Digits: [D1, D2, ...]}\n",
    "    {Shape: [Shape1, ...]}\n",
    "    {Units: [Units1, ...]}\n",
    "    {Steps: Steps}\n",
    "    {Context: Context}\n",
    "    {SIG Stem: [Sig Stem1, ...]}\n",
    "    {SIG Options: [SIG Options1, ...]}\n",
    "    {Additional Modifiers: [AM1, ...]}\n",
    "'''"
   ]
  },
  {
   "cell_type": "code",
   "execution_count": 46,
   "metadata": {
    "collapsed": false
   },
   "outputs": [],
   "source": [
    "import codecs\n",
    "import csv\n",
    "import json\n",
    "import pprint\n",
    "import re\n",
    "\n",
    "def process_file(filename, fields):\n",
    "    process_fields = fields.keys()\n",
    "    data = []\n",
    "    data_keys = ['Internal ID', 'Strand','Substrand', 'Content_focus', 'Component', 'Number', 'Digits', 'Shape', 'Units', 'Steps', 'Context', 'SIG Stem', 'SIG Options', 'Additional Modifiers']\n",
    "    with open(filename, \"r\") as f:\n",
    "        reader = csv.DictReader(f)\n",
    "        for i in range(3):\n",
    "            l = reader.next()\n",
    "\n",
    "        for line in reader:\n",
    "            row = {}\n",
    "            for key,value in fields.items():\n",
    "                row[value] = (line[key]).split(\"; \")\n",
    "            data.append(row)  \n",
    "    return data"
   ]
  },
  {
   "cell_type": "code",
   "execution_count": 47,
   "metadata": {
    "collapsed": false
   },
   "outputs": [],
   "source": [
    "data = process_file(filename, fields)"
   ]
  },
  {
   "cell_type": "code",
   "execution_count": 48,
   "metadata": {
    "collapsed": false
   },
   "outputs": [
    {
     "name": "stdout",
     "output_type": "stream",
     "text": [
      "[{'Digits': ['Denominator: 2', 'Denominator: 3'], 'SIG_Stem': ['N/A'], 'Substrand': ['Shapes', 'Functions'], 'Internal_ID': ['333009'], 'Component': ['N/A'], 'Content_Focus': ['Use unit circle', 'Know trigonometric ratios'], 'Additional_Modifiers': ['N/A'], 'Number': ['Irrational numbers', 'Negative and positive fractions', 'Square roots'], 'Shape': ['Angles', 'Circle', 'Line', 'Point', 'Right triangle', 'Arc'], 'Steps': ['two Step'], 'Context': ['No'], 'Units': ['N/A'], 'SIG_Options': ['N/A'], 'Strand': ['Geometry and Measurement', 'Algebra']}, {'Digits': ['Ones', 'Denominator: 2', 'Denominator: 3', 'Denominator: 4', 'Denominator: 6'], 'SIG_Stem': ['Unit circle'], 'Substrand': ['Functions', 'Shapes'], 'Internal_ID': ['331547'], 'Component': ['Arc length'], 'Content_Focus': ['Use unit circle', 'Use proportionality of circles'], 'Additional_Modifiers': ['N/A'], 'Number': ['Irrational numbers', 'Integers', 'Negative and positive fractions', 'Square roots'], 'Shape': ['Angles', 'Circle', 'Line', 'Point', 'Right triangle', 'Arc'], 'Steps': ['N/A'], 'Context': ['No'], 'Units': ['Generic', 'Radians'], 'SIG_Options': ['N/A'], 'Strand': ['Algebra', 'Geometry and Measurement']}, {'Digits': ['Ones', 'Denominator: 2', 'Denominator: 3', 'Denominator: 4', 'Denominator: 6'], 'SIG_Stem': ['Unit circle'], 'Substrand': ['Functions', 'Shapes'], 'Internal_ID': ['331545'], 'Component': ['Arc length'], 'Content_Focus': ['Use unit circle', 'Use proportionality of circles'], 'Additional_Modifiers': ['N/A'], 'Number': ['Irrational numbers', 'Integers', 'Negative and positive fractions', 'Square roots'], 'Shape': ['Angles', 'Circle', 'Line', 'Point', 'Right triangle', 'Arc'], 'Steps': ['N/A'], 'Context': ['No'], 'Units': ['Generic', 'Radians'], 'SIG_Options': ['N/A'], 'Strand': ['Algebra', 'Geometry and Measurement']}, {'Digits': ['Ones', 'Denominator: 2', 'Denominator: 3', 'Denominator: 4', 'Denominator: 6'], 'SIG_Stem': ['Unit circle'], 'Substrand': ['Functions', 'Shapes'], 'Internal_ID': ['331543'], 'Component': ['Arc length'], 'Content_Focus': ['Use unit circle', 'Use proportionality of circles'], 'Additional_Modifiers': ['N/A'], 'Number': ['Irrational numbers', 'Integers', 'Fractions', 'Square roots'], 'Shape': ['Angles', 'Circle', 'Line', 'Point', 'Right triangle', 'Arc'], 'Steps': ['N/A'], 'Context': ['No'], 'Units': ['Generic', 'Radians'], 'SIG_Options': ['N/A'], 'Strand': ['Algebra', 'Geometry and Measurement']}, {'Digits': ['Ones', 'Denominator: 2', 'Denominator: 3', 'Denominator: 4', 'Denominator: 6'], 'SIG_Stem': ['Unit circle'], 'Substrand': ['Functions', 'Shapes'], 'Internal_ID': ['331541'], 'Component': ['Arc length'], 'Content_Focus': ['Use unit circle', 'Use proportionality of circles'], 'Additional_Modifiers': ['N/A'], 'Number': ['Irrational numbers', 'Integers', 'Fractions'], 'Shape': ['Angles', 'Circle', 'Line', 'Point', 'Right triangle', 'Arc'], 'Steps': ['N/A'], 'Context': ['No'], 'Units': ['Generic', 'Radians'], 'SIG_Options': ['N/A'], 'Strand': ['Algebra', 'Geometry and Measurement']}, {'Digits': ['Ones', 'Denominator: 3'], 'SIG_Stem': ['N/A'], 'Substrand': ['Functions', 'Shapes'], 'Internal_ID': ['331540'], 'Component': ['Central angle'], 'Content_Focus': ['Use unit circle', 'Use proportionality of circles'], 'Additional_Modifiers': ['N/A'], 'Number': ['Irrational numbers', 'Fractions', 'Whole numbers'], 'Shape': ['Angles', 'Circle', 'Line', 'Point', 'Right triangle', 'Arc'], 'Steps': ['N/A'], 'Context': ['No'], 'Units': ['Generic', 'Radians'], 'SIG_Options': ['N/A'], 'Strand': ['Algebra', 'Geometry and Measurement']}, {'Digits': ['Ones', 'Denominator: 2', 'Denominator: 3', 'Denominator: 4', 'Denominator: 6'], 'SIG_Stem': ['Unit circle'], 'Substrand': ['Functions', 'Shapes'], 'Internal_ID': ['331539'], 'Component': ['Arc length'], 'Content_Focus': ['Use unit circle', 'Use proportionality of circles'], 'Additional_Modifiers': ['N/A'], 'Number': ['Irrational numbers', 'Integers', 'Fractions', 'Square roots'], 'Shape': ['Angles', 'Circle', 'Line', 'Point', 'Right triangle', 'Arc'], 'Steps': ['N/A'], 'Context': ['No'], 'Units': ['Generic', 'Radians'], 'SIG_Options': ['N/A'], 'Strand': ['Algebra', 'Geometry and Measurement']}, {'Digits': ['Denominator: 2'], 'SIG_Stem': ['Equation'], 'Substrand': ['Shapes', 'Functions'], 'Internal_ID': ['331538'], 'Component': ['N/A'], 'Content_Focus': ['Use unit circle', 'Know trigonometric ratios'], 'Additional_Modifiers': ['N/A'], 'Number': ['Irrational numbers', 'Fractions', 'Square roots', 'Negative square roots'], 'Shape': ['Angles', 'Circle', 'Line', 'Point'], 'Steps': ['three Step'], 'Context': ['Personalization only'], 'Units': ['Generic'], 'SIG_Options': ['N/A'], 'Strand': ['Geometry and Measurement', 'Algebra']}, {'Digits': ['Ones', 'Denominator: 1'], 'SIG_Stem': ['Unit circle'], 'Substrand': ['Shapes', 'Functions'], 'Internal_ID': ['331537'], 'Component': ['N/A'], 'Content_Focus': ['Use unit circle', 'Know trigonometric ratios'], 'Additional_Modifiers': ['N/A'], 'Number': ['Irrational numbers', 'Integers'], 'Shape': ['Angles', 'Circle', 'Line', 'Point'], 'Steps': ['N/A'], 'Context': ['No'], 'Units': ['Generic'], 'SIG_Options': ['N/A'], 'Strand': ['Geometry and Measurement', 'Algebra']}, {'Digits': ['Ones', 'Denominator: 2'], 'SIG_Stem': ['Equation'], 'Substrand': ['Shapes', 'Functions'], 'Internal_ID': ['331536'], 'Component': ['N/A'], 'Content_Focus': ['Use unit circle', 'Know trigonometric ratios'], 'Additional_Modifiers': ['N/A'], 'Number': ['Irrational numbers', 'Integers', 'Negative and positive fractions', 'Square roots'], 'Shape': ['Angles', 'Circle', 'Line', 'Point'], 'Steps': ['multistep'], 'Context': ['Personalization only'], 'Units': ['Generic'], 'SIG_Options': ['N/A'], 'Strand': ['Geometry and Measurement', 'Algebra']}]\n"
     ]
    }
   ],
   "source": [
    "print data"
   ]
  },
  {
   "cell_type": "code",
   "execution_count": null,
   "metadata": {
    "collapsed": true
   },
   "outputs": [],
   "source": [
    "#Make every internal ID of int data type \"Internal ID\""
   ]
  },
  {
   "cell_type": "code",
   "execution_count": null,
   "metadata": {
    "collapsed": true
   },
   "outputs": [],
   "source": [
    "#read lines from file, splitting by '; ' and storing multiple entries"
   ]
  },
  {
   "cell_type": "code",
   "execution_count": null,
   "metadata": {
    "collapsed": true
   },
   "outputs": [],
   "source": [
    "#load GUID file"
   ]
  },
  {
   "cell_type": "code",
   "execution_count": null,
   "metadata": {
    "collapsed": true
   },
   "outputs": [],
   "source": [
    "#problem to solve for looking up GUID: when strand/substrand gives context to component, \n",
    "#if semi-colon separated, then will have to allow for non-matches"
   ]
  },
  {
   "cell_type": "code",
   "execution_count": null,
   "metadata": {
    "collapsed": true
   },
   "outputs": [],
   "source": []
  },
  {
   "cell_type": "code",
   "execution_count": null,
   "metadata": {
    "collapsed": true
   },
   "outputs": [],
   "source": []
  },
  {
   "cell_type": "code",
   "execution_count": null,
   "metadata": {
    "collapsed": true
   },
   "outputs": [],
   "source": []
  }
 ],
 "metadata": {
  "anaconda-cloud": {},
  "kernelspec": {
   "display_name": "Python [conda root]",
   "language": "python",
   "name": "conda-root-py"
  },
  "language_info": {
   "codemirror_mode": {
    "name": "ipython",
    "version": 2
   },
   "file_extension": ".py",
   "mimetype": "text/x-python",
   "name": "python",
   "nbconvert_exporter": "python",
   "pygments_lexer": "ipython2",
   "version": "2.7.12"
  }
 },
 "nbformat": 4,
 "nbformat_minor": 1
}
