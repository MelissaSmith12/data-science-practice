{
 "cells": [
  {
   "cell_type": "code",
   "execution_count": 60,
   "metadata": {
    "collapsed": false
   },
   "outputs": [],
   "source": [
    "import pandas as pd\n",
    "import numpy\n",
    "import codecs\n",
    "import csv\n",
    "import json\n",
    "import pprint\n",
    "import re\n",
    "\n",
    "filename = \"math sample for API testing.csv\"\n",
    "\n",
    "fields ={'Internal ID': 'Internal_ID',\n",
    "         'Strand': 'Strand',\n",
    "         'Sub-Strand': 'Substrand',\n",
    "         'Content Focus': 'Content_Focus',\n",
    "         'Component': 'Component',\n",
    "         'Number': 'Number',\n",
    "         'Digits': 'Digits',\n",
    "         'Shape': 'Shape',\n",
    "         'Units': 'Units',\n",
    "         'Steps': 'Steps',\n",
    "         'Context': 'Context',\n",
    "         'SIG Stem': 'SIG_Stem',\n",
    "         'SIG Options': 'SIG_Options',\n",
    "         'Additional Modifiers': 'Additional_Modifiers'}"
   ]
  },
  {
   "cell_type": "code",
   "execution_count": 61,
   "metadata": {
    "collapsed": false
   },
   "outputs": [
    {
     "data": {
      "text/plain": [
       "'\\nData structure\\n\\n[list of internal IDs]\\n    list of strands:\\n        {Strand: Strand1}\\n        {Substrand: [Substrand1, Substrand2, ...]}\\n            {Content Focus: [CF1, CF2, ...]}\\n                {Component: [C1, C2, ...]}\\n    {Number: [N1, N2, ...]}\\n        {Digits: [D1, D2, ...]}\\n    {Shape: [Shape1, ...]}\\n    {Units: [Units1, ...]}\\n    {Steps: Steps}\\n    {Context: Context}\\n    {SIG Stem: [Sig Stem1, ...]}\\n    {SIG Options: [SIG Options1, ...]}\\n    {Additional Modifiers: [AM1, ...]}\\n'"
      ]
     },
     "execution_count": 61,
     "metadata": {},
     "output_type": "execute_result"
    }
   ],
   "source": [
    "'''\n",
    "Data structure\n",
    "\n",
    "[list of internal IDs]\n",
    "    {Organizers: \n",
    "        {Strand: Strand1}\n",
    "        {Strand_GUID: GUID}\n",
    "            {Substrand: Substrand1}\n",
    "            {Substrand_GUID: GUID}\n",
    "                {Content_Focus: Content_Focus1}\n",
    "                {Content_Focus_GUID: GUID}\n",
    "                    {Component: Component}\n",
    "                    {Component_GUID: GUID}}\n",
    "    {Descriptors:\n",
    "        {Number: [N1, N2, ...]}\n",
    "            {Digits: [D1, D2, ...]}\n",
    "        {Shape: [Shape1, ...]}\n",
    "        {Units: [Units1, ...]}\n",
    "        {Steps: Steps}\n",
    "        {Context: Context}\n",
    "        {SIG Stem: [Sig Stem1, ...]}\n",
    "        {SIG Options: [SIG Options1, ...]}\n",
    "        {Additional Modifiers: [AM1, ...]}\n",
    "'''"
   ]
  },
  {
   "cell_type": "code",
   "execution_count": 78,
   "metadata": {
    "collapsed": false
   },
   "outputs": [],
   "source": [
    "def process_file(filename, fields):\n",
    "    process_fields = fields.keys()\n",
    "    data = []\n",
    "    holding = []\n",
    "    data_keys = ['Internal ID', 'Strand','Substrand', 'Content_focus', 'Component', 'Number', 'Digits', 'Shape', 'Units', 'Steps', 'Context', 'SIG Stem', 'SIG Options', 'Additional Modifiers']\n",
    "    with open(filename, \"r\") as f:\n",
    "        reader = csv.DictReader(f)\n",
    "        for i in range(3):\n",
    "            l = reader.next()\n",
    "\n",
    "        for line in reader:\n",
    "            holding_test = 'FALSE'\n",
    "            row = {}\n",
    "            for key,value in fields.items():\n",
    "                row[value] = (line[key]).split(\"; \")\n",
    "                #If strand, substrand, Content Focus or Numbers field in raw data has \";\", then add to holding list\n",
    "                if (value == \"Strand\" or value == \"Substrand\" or value == \"Content_Focus\" or value == \"Number\") and (re.search(';', line[key])):\n",
    "                    holding_test = 'TRUE'\n",
    "            if holding_test == 'TRUE':\n",
    "                holding.append(row) \n",
    "            else:\n",
    "                data.append(row)\n",
    "    #Process holding list\n",
    "    #Do the row have multiple values in strand both and substrand? If yes, then consult table_of_values to figure out what should get \n",
    "    #paired together\n",
    "    pprint.pprint(holding)\n",
    "    return data"
   ]
  },
  {
   "cell_type": "code",
   "execution_count": 79,
   "metadata": {
    "collapsed": false
   },
   "outputs": [
    {
     "name": "stdout",
     "output_type": "stream",
     "text": [
      "[{'Additional_Modifiers': ['N/A'],\n",
      "  'Component': ['N/A'],\n",
      "  'Content_Focus': ['Use unit circle', 'Know trigonometric ratios'],\n",
      "  'Context': ['No'],\n",
      "  'Digits': ['Denominator: 2', 'Denominator: 3'],\n",
      "  'Internal_ID': ['333009'],\n",
      "  'Number': ['Irrational numbers',\n",
      "             'Negative and positive fractions',\n",
      "             'Square roots'],\n",
      "  'SIG_Options': ['N/A'],\n",
      "  'SIG_Stem': ['N/A'],\n",
      "  'Shape': ['Angles', 'Circle', 'Line', 'Point', 'Right triangle', 'Arc'],\n",
      "  'Steps': ['two Step'],\n",
      "  'Strand': ['Geometry and Measurement', 'Algebra'],\n",
      "  'Substrand': ['Shapes', 'Functions'],\n",
      "  'Units': ['N/A']},\n",
      " {'Additional_Modifiers': ['N/A'],\n",
      "  'Component': ['Arc length'],\n",
      "  'Content_Focus': ['Use unit circle', 'Use proportionality of circles'],\n",
      "  'Context': ['No'],\n",
      "  'Digits': ['Ones',\n",
      "             'Denominator: 2',\n",
      "             'Denominator: 3',\n",
      "             'Denominator: 4',\n",
      "             'Denominator: 6'],\n",
      "  'Internal_ID': ['331547'],\n",
      "  'Number': ['Irrational numbers',\n",
      "             'Integers',\n",
      "             'Negative and positive fractions',\n",
      "             'Square roots'],\n",
      "  'SIG_Options': ['N/A'],\n",
      "  'SIG_Stem': ['Unit circle'],\n",
      "  'Shape': ['Angles', 'Circle', 'Line', 'Point', 'Right triangle', 'Arc'],\n",
      "  'Steps': ['N/A'],\n",
      "  'Strand': ['Algebra', 'Geometry and Measurement'],\n",
      "  'Substrand': ['Functions', 'Shapes'],\n",
      "  'Units': ['Generic', 'Radians']},\n",
      " {'Additional_Modifiers': ['N/A'],\n",
      "  'Component': ['Arc length'],\n",
      "  'Content_Focus': ['Use unit circle', 'Use proportionality of circles'],\n",
      "  'Context': ['No'],\n",
      "  'Digits': ['Ones',\n",
      "             'Denominator: 2',\n",
      "             'Denominator: 3',\n",
      "             'Denominator: 4',\n",
      "             'Denominator: 6'],\n",
      "  'Internal_ID': ['331545'],\n",
      "  'Number': ['Irrational numbers',\n",
      "             'Integers',\n",
      "             'Negative and positive fractions',\n",
      "             'Square roots'],\n",
      "  'SIG_Options': ['N/A'],\n",
      "  'SIG_Stem': ['Unit circle'],\n",
      "  'Shape': ['Angles', 'Circle', 'Line', 'Point', 'Right triangle', 'Arc'],\n",
      "  'Steps': ['N/A'],\n",
      "  'Strand': ['Algebra', 'Geometry and Measurement'],\n",
      "  'Substrand': ['Functions', 'Shapes'],\n",
      "  'Units': ['Generic', 'Radians']},\n",
      " {'Additional_Modifiers': ['N/A'],\n",
      "  'Component': ['Arc length'],\n",
      "  'Content_Focus': ['Use unit circle', 'Use proportionality of circles'],\n",
      "  'Context': ['No'],\n",
      "  'Digits': ['Ones',\n",
      "             'Denominator: 2',\n",
      "             'Denominator: 3',\n",
      "             'Denominator: 4',\n",
      "             'Denominator: 6'],\n",
      "  'Internal_ID': ['331543'],\n",
      "  'Number': ['Irrational numbers', 'Integers', 'Fractions', 'Square roots'],\n",
      "  'SIG_Options': ['N/A'],\n",
      "  'SIG_Stem': ['Unit circle'],\n",
      "  'Shape': ['Angles', 'Circle', 'Line', 'Point', 'Right triangle', 'Arc'],\n",
      "  'Steps': ['N/A'],\n",
      "  'Strand': ['Algebra', 'Geometry and Measurement'],\n",
      "  'Substrand': ['Functions', 'Shapes'],\n",
      "  'Units': ['Generic', 'Radians']},\n",
      " {'Additional_Modifiers': ['N/A'],\n",
      "  'Component': ['Arc length'],\n",
      "  'Content_Focus': ['Use unit circle', 'Use proportionality of circles'],\n",
      "  'Context': ['No'],\n",
      "  'Digits': ['Ones',\n",
      "             'Denominator: 2',\n",
      "             'Denominator: 3',\n",
      "             'Denominator: 4',\n",
      "             'Denominator: 6'],\n",
      "  'Internal_ID': ['331541'],\n",
      "  'Number': ['Irrational numbers', 'Integers', 'Fractions'],\n",
      "  'SIG_Options': ['N/A'],\n",
      "  'SIG_Stem': ['Unit circle'],\n",
      "  'Shape': ['Angles', 'Circle', 'Line', 'Point', 'Right triangle', 'Arc'],\n",
      "  'Steps': ['N/A'],\n",
      "  'Strand': ['Algebra', 'Geometry and Measurement'],\n",
      "  'Substrand': ['Functions', 'Shapes'],\n",
      "  'Units': ['Generic', 'Radians']},\n",
      " {'Additional_Modifiers': ['N/A'],\n",
      "  'Component': ['Central angle'],\n",
      "  'Content_Focus': ['Use unit circle', 'Use proportionality of circles'],\n",
      "  'Context': ['No'],\n",
      "  'Digits': ['Ones', 'Denominator: 3'],\n",
      "  'Internal_ID': ['331540'],\n",
      "  'Number': ['Irrational numbers', 'Fractions', 'Whole numbers'],\n",
      "  'SIG_Options': ['N/A'],\n",
      "  'SIG_Stem': ['N/A'],\n",
      "  'Shape': ['Angles', 'Circle', 'Line', 'Point', 'Right triangle', 'Arc'],\n",
      "  'Steps': ['N/A'],\n",
      "  'Strand': ['Algebra', 'Geometry and Measurement'],\n",
      "  'Substrand': ['Functions', 'Shapes'],\n",
      "  'Units': ['Generic', 'Radians']},\n",
      " {'Additional_Modifiers': ['N/A'],\n",
      "  'Component': ['Arc length'],\n",
      "  'Content_Focus': ['Use unit circle', 'Use proportionality of circles'],\n",
      "  'Context': ['No'],\n",
      "  'Digits': ['Ones',\n",
      "             'Denominator: 2',\n",
      "             'Denominator: 3',\n",
      "             'Denominator: 4',\n",
      "             'Denominator: 6'],\n",
      "  'Internal_ID': ['331539'],\n",
      "  'Number': ['Irrational numbers', 'Integers', 'Fractions', 'Square roots'],\n",
      "  'SIG_Options': ['N/A'],\n",
      "  'SIG_Stem': ['Unit circle'],\n",
      "  'Shape': ['Angles', 'Circle', 'Line', 'Point', 'Right triangle', 'Arc'],\n",
      "  'Steps': ['N/A'],\n",
      "  'Strand': ['Algebra', 'Geometry and Measurement'],\n",
      "  'Substrand': ['Functions', 'Shapes'],\n",
      "  'Units': ['Generic', 'Radians']},\n",
      " {'Additional_Modifiers': ['N/A'],\n",
      "  'Component': ['N/A'],\n",
      "  'Content_Focus': ['Use unit circle', 'Know trigonometric ratios'],\n",
      "  'Context': ['Personalization only'],\n",
      "  'Digits': ['Denominator: 2'],\n",
      "  'Internal_ID': ['331538'],\n",
      "  'Number': ['Irrational numbers',\n",
      "             'Fractions',\n",
      "             'Square roots',\n",
      "             'Negative square roots'],\n",
      "  'SIG_Options': ['N/A'],\n",
      "  'SIG_Stem': ['Equation'],\n",
      "  'Shape': ['Angles', 'Circle', 'Line', 'Point'],\n",
      "  'Steps': ['three Step'],\n",
      "  'Strand': ['Geometry and Measurement', 'Algebra'],\n",
      "  'Substrand': ['Shapes', 'Functions'],\n",
      "  'Units': ['Generic']},\n",
      " {'Additional_Modifiers': ['N/A'],\n",
      "  'Component': ['N/A'],\n",
      "  'Content_Focus': ['Use unit circle', 'Know trigonometric ratios'],\n",
      "  'Context': ['No'],\n",
      "  'Digits': ['Ones', 'Denominator: 1'],\n",
      "  'Internal_ID': ['331537'],\n",
      "  'Number': ['Irrational numbers', 'Integers'],\n",
      "  'SIG_Options': ['N/A'],\n",
      "  'SIG_Stem': ['Unit circle'],\n",
      "  'Shape': ['Angles', 'Circle', 'Line', 'Point'],\n",
      "  'Steps': ['N/A'],\n",
      "  'Strand': ['Geometry and Measurement', 'Algebra'],\n",
      "  'Substrand': ['Shapes', 'Functions'],\n",
      "  'Units': ['Generic']},\n",
      " {'Additional_Modifiers': ['N/A'],\n",
      "  'Component': ['N/A'],\n",
      "  'Content_Focus': ['Use unit circle', 'Know trigonometric ratios'],\n",
      "  'Context': ['Personalization only'],\n",
      "  'Digits': ['Ones', 'Denominator: 2'],\n",
      "  'Internal_ID': ['331536'],\n",
      "  'Number': ['Irrational numbers',\n",
      "             'Integers',\n",
      "             'Negative and positive fractions',\n",
      "             'Square roots'],\n",
      "  'SIG_Options': ['N/A'],\n",
      "  'SIG_Stem': ['Equation'],\n",
      "  'Shape': ['Angles', 'Circle', 'Line', 'Point'],\n",
      "  'Steps': ['multistep'],\n",
      "  'Strand': ['Geometry and Measurement', 'Algebra'],\n",
      "  'Substrand': ['Shapes', 'Functions'],\n",
      "  'Units': ['Generic']}]\n"
     ]
    }
   ],
   "source": [
    "data = process_file(filename, fields)"
   ]
  },
  {
   "cell_type": "code",
   "execution_count": 80,
   "metadata": {
    "collapsed": false
   },
   "outputs": [
    {
     "name": "stdout",
     "output_type": "stream",
     "text": [
      "[{'Additional_Modifiers': ['N/A'],\n",
      "  'Component': ['N/A'],\n",
      "  'Content_Focus': ['Use trigonometric ratios'],\n",
      "  'Context': ['No'],\n",
      "  'Digits': ['Denominator: 5'],\n",
      "  'Internal_ID': ['331526'],\n",
      "  'Number': ['Fractions'],\n",
      "  'SIG_Options': ['N/A'],\n",
      "  'SIG_Stem': ['Diagram'],\n",
      "  'Shape': ['Angles', 'Composite figure', 'Right triangle'],\n",
      "  'Steps': ['N/A'],\n",
      "  'Strand': ['Geometry and Measurement'],\n",
      "  'Substrand': ['Shapes'],\n",
      "  'Units': ['N/A']}]\n"
     ]
    }
   ],
   "source": [
    "pprint.pprint(data)"
   ]
  },
  {
   "cell_type": "code",
   "execution_count": 76,
   "metadata": {
    "collapsed": true
   },
   "outputs": [],
   "source": [
    "#Make every internal ID of int data type \"Internal ID\""
   ]
  },
  {
   "cell_type": "code",
   "execution_count": null,
   "metadata": {
    "collapsed": true
   },
   "outputs": [],
   "source": []
  },
  {
   "cell_type": "code",
   "execution_count": null,
   "metadata": {
    "collapsed": true
   },
   "outputs": [],
   "source": [
    "#load GUID file"
   ]
  },
  {
   "cell_type": "code",
   "execution_count": null,
   "metadata": {
    "collapsed": true
   },
   "outputs": [],
   "source": [
    "#problem to solve for looking up GUID: when strand/substrand gives context to component, \n",
    "#if semi-colon separated, then will have to allow for non-matches"
   ]
  },
  {
   "cell_type": "code",
   "execution_count": 99,
   "metadata": {
    "collapsed": true
   },
   "outputs": [],
   "source": [
    "def Load_GUIDs(filename):\n",
    "    data = []\n",
    "    fields = {}\n",
    "    with open(filename, \"r\") as f:\n",
    "        reader = csv.DictReader(f)\n",
    "        for line in reader:\n",
    "            data.append(line)\n",
    "    return pd.DataFrame(data)"
   ]
  },
  {
   "cell_type": "code",
   "execution_count": 100,
   "metadata": {
    "collapsed": false
   },
   "outputs": [],
   "source": [
    "GUID_filename = \"Math_Steps.csv\"\n",
    "steps = Load_GUIDs(GUID_filename)"
   ]
  },
  {
   "cell_type": "code",
   "execution_count": 101,
   "metadata": {
    "collapsed": false
   },
   "outputs": [
    {
     "name": "stdout",
     "output_type": "stream",
     "text": [
      "       Subject       Title                             Unique ID\n",
      "0  Mathematics   Multistep  F022E4A0-97E2-11E6-9F49-DB8029C466BA\n",
      "1  Mathematics    Two Step  F024BB90-97E2-11E6-9F49-DB8029C466BA\n",
      "2  Mathematics  Three Step  F02594A2-97E2-11E6-9F49-DB8029C466BA\n",
      "3  Mathematics    One Step  F0267624-97E2-11E6-9F49-DB8029C466BA\n"
     ]
    }
   ],
   "source": [
    "print steps"
   ]
  },
  {
   "cell_type": "code",
   "execution_count": 109,
   "metadata": {
    "collapsed": false
   },
   "outputs": [
    {
     "data": {
      "text/html": [
       "<div>\n",
       "<table border=\"1\" class=\"dataframe\">\n",
       "  <thead>\n",
       "    <tr style=\"text-align: right;\">\n",
       "      <th></th>\n",
       "      <th>Subject</th>\n",
       "      <th>Title</th>\n",
       "      <th>Unique ID</th>\n",
       "    </tr>\n",
       "  </thead>\n",
       "  <tbody>\n",
       "    <tr>\n",
       "      <th>0</th>\n",
       "      <td>Mathematics</td>\n",
       "      <td>Multistep</td>\n",
       "      <td>F022E4A0-97E2-11E6-9F49-DB8029C466BA</td>\n",
       "    </tr>\n",
       "    <tr>\n",
       "      <th>1</th>\n",
       "      <td>Mathematics</td>\n",
       "      <td>Two Step</td>\n",
       "      <td>F024BB90-97E2-11E6-9F49-DB8029C466BA</td>\n",
       "    </tr>\n",
       "    <tr>\n",
       "      <th>2</th>\n",
       "      <td>Mathematics</td>\n",
       "      <td>Three Step</td>\n",
       "      <td>F02594A2-97E2-11E6-9F49-DB8029C466BA</td>\n",
       "    </tr>\n",
       "    <tr>\n",
       "      <th>3</th>\n",
       "      <td>Mathematics</td>\n",
       "      <td>One Step</td>\n",
       "      <td>F0267624-97E2-11E6-9F49-DB8029C466BA</td>\n",
       "    </tr>\n",
       "  </tbody>\n",
       "</table>\n",
       "</div>"
      ],
      "text/plain": [
       "       Subject       Title                             Unique ID\n",
       "0  Mathematics   Multistep  F022E4A0-97E2-11E6-9F49-DB8029C466BA\n",
       "1  Mathematics    Two Step  F024BB90-97E2-11E6-9F49-DB8029C466BA\n",
       "2  Mathematics  Three Step  F02594A2-97E2-11E6-9F49-DB8029C466BA\n",
       "3  Mathematics    One Step  F0267624-97E2-11E6-9F49-DB8029C466BA"
      ]
     },
     "execution_count": 109,
     "metadata": {},
     "output_type": "execute_result"
    }
   ],
   "source": [
    "test = pd.DataFrame(['Multistep'], columns=['Title'])\n",
    "steps.merge(test, on='Title', how='left')"
   ]
  },
  {
   "cell_type": "code",
   "execution_count": 123,
   "metadata": {
    "collapsed": false
   },
   "outputs": [
    {
     "name": "stdout",
     "output_type": "stream",
     "text": [
      "F022E4A0-97E2-11E6-9F49-DB8029C466BA\n"
     ]
    }
   ],
   "source": [
    "def get_GUID_lite(tag, df): \n",
    "    if len(df.ix[df['Title'] == test]) == 1:\n",
    "        temp = df.ix[steps['Title'] == test, 'Unique ID'].item()\n",
    "    else: temp = \"resolve multiple values\"\n",
    "    return temp"
   ]
  },
  {
   "cell_type": "code",
   "execution_count": 125,
   "metadata": {
    "collapsed": false
   },
   "outputs": [
    {
     "data": {
      "text/plain": [
       "1"
      ]
     },
     "execution_count": 125,
     "metadata": {},
     "output_type": "execute_result"
    }
   ],
   "source": [
    "len(steps.ix[steps['Title'] == test])"
   ]
  },
  {
   "cell_type": "code",
   "execution_count": null,
   "metadata": {
    "collapsed": false
   },
   "outputs": [],
   "source": []
  },
  {
   "cell_type": "code",
   "execution_count": null,
   "metadata": {
    "collapsed": true
   },
   "outputs": [],
   "source": []
  }
 ],
 "metadata": {
  "anaconda-cloud": {},
  "kernelspec": {
   "display_name": "Python [conda root]",
   "language": "python",
   "name": "conda-root-py"
  },
  "language_info": {
   "codemirror_mode": {
    "name": "ipython",
    "version": 2
   },
   "file_extension": ".py",
   "mimetype": "text/x-python",
   "name": "python",
   "nbconvert_exporter": "python",
   "pygments_lexer": "ipython2",
   "version": "2.7.12"
  }
 },
 "nbformat": 4,
 "nbformat_minor": 1
}
