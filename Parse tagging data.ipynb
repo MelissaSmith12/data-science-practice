{
 "cells": [
  {
   "cell_type": "code",
   "execution_count": 63,
   "metadata": {
    "collapsed": false
   },
   "outputs": [],
   "source": [
    "import pandas as pd\n",
    "import numpy\n",
    "import codecs\n",
    "import csv\n",
    "import json\n",
    "import pprint\n",
    "import re\n",
    "\n",
    "#filename = \"math sample for API testing.csv\"\n",
    "#filename = \"Big Math Subset.csv\"\n",
    "filename = \"Math Test.csv\""
   ]
  },
  {
   "cell_type": "code",
   "execution_count": 140,
   "metadata": {
    "collapsed": false
   },
   "outputs": [],
   "source": [
    "def process_file(filename, tagging_df):\n",
    "    parsed_data = []\n",
    "    error_data = []\n",
    "    component_holding = []\n",
    "    initial_components = True\n",
    "    content_focus_component_df = pd.DataFrame(columns=['Strand', 'Sub-Strand', 'Content Focus', 'Component', 'ComponentGUID'])\n",
    "    with open(filename, \"r\") as f:\n",
    "        reader = csv.DictReader(f)\n",
    "        #for i in range(1):\n",
    "        #    l = reader.next()    #########See if I can simplify this\n",
    "\n",
    "        for line in reader:\n",
    "            error_test = False\n",
    "            component_list = line['Component'].split(\"; \")\n",
    "            content_focus_list = line['Content Focus'].split(\"; \")\n",
    "            #first pass, only process those items that have one component or only one content focus, build data frame of \n",
    "            #allowable strand/substrand/content focus/component combinations\n",
    "            if len(component_list) == 1 or len(content_focus_list) == 1:\n",
    "                print \"hi hi!\"\n",
    "                row, error_test, component_holding, content_focus_component_df = parse_line( \\\n",
    "                    line, tagging_df, content_focus_list, component_list, error_test, component_holding, \\\n",
    "                    content_focus_component_df, initial_components)\n",
    "                if error_test == True:\n",
    "                    error_data.append(row)                \n",
    "                else: parsed_data.append(row)\n",
    "                if component_holding == True:\n",
    "                    component_holding.append(line)\n",
    "            else: component_holding.append(line)\n",
    "    initial_components = False\n",
    "    #process items sent to component_holding\n",
    "    return parsed_data, error_data, component_holding, content_focus_component_df"
   ]
  },
  {
   "cell_type": "code",
   "execution_count": 132,
   "metadata": {
    "collapsed": false
   },
   "outputs": [],
   "source": [
    "def parse_line(line, tagging_df, content_focus_list, component_list, error_test, component_holding, \\\n",
    "               content_focus_component_df, initial_components):\n",
    "    row = {}\n",
    "    strand_dict = {}\n",
    "    strand_list = []\n",
    "    differentiator_list = []\n",
    "    content_focus_component_df = pd.DataFrame(columns=['Strand', 'Sub-Strand', 'Content Focus', 'Component', 'ComponentGUID'])\n",
    "    InternalID = int(line['Internal ID'])\n",
    "    Strand = line['Strand'].split(\"; \")\n",
    "    for strand in Strand:\n",
    "        strand_sub_dict = {}\n",
    "        content_focus_df = tagging_df['Content_Focus']\n",
    "        GUID, error_test = get_GUID_lite(strand, content_focus_df, error_test)\n",
    "        strand_sub_dict = {'Strand': strand, 'GUID' : GUID, 'Substrand': []}\n",
    "        strand_list.append(strand_sub_dict)\n",
    "    if error_test == False:\n",
    "        substrand_list = line['Sub-Strand'].split(\"; \")\n",
    "        strand_list, error_test = processSubstrands(strand_list, substrand_list, content_focus_df, error_test)\n",
    "        if error_test == False:\n",
    "            strand_list, error_test = processContentFocus(strand_list, substrand_list, content_focus_list, content_focus_df, \\\n",
    "                                                            error_test)\n",
    "            print error_test\n",
    "            print initial_components\n",
    "            if error_test == False and initial_components == True:\n",
    "                print \"Hey, baby\"\n",
    "                component_hold = False\n",
    "                strand_list, error_test, component_hold, content_focus_component_df = processInitialComponent(\\\n",
    "                    strand_list, substrand_list, content_focus_list, component_list, tagging_df['Component'], error_test, \\\n",
    "                    component_hold, content_focus_component_df)\n",
    "            #else:  \n",
    "                ###### Insert 2nd processing of component    \n",
    "            if error_test == False:\n",
    "                differentiator_keys = ['Shape', 'Units', 'Steps']            \n",
    "                for differentiator in differentiator_keys:\n",
    "                    differentiator_sub_list = []\n",
    "                    differentiator_df = tagging_df[differentiator]\n",
    "                    differentiator_values = line[differentiator].split(\"; \")\n",
    "                    for value in differentiator_values:\n",
    "                        differentiator_sub_dict = {}\n",
    "                        GUID, error_test = get_GUID_lite(value, differentiator_df, error_test)\n",
    "                        differentiator_sub_dict = {differentiator: value, 'GUID': GUID}\n",
    "                        differentiator_sub_list.append(differentiator_sub_dict)\n",
    "                        if error_test == True:\n",
    "                            break\n",
    "                    differentiator_list.append(differentiator_sub_list)\n",
    "    row = {\"Internal_ID\": InternalID, \"Organizers\" : strand_list, \"Differentiators\": differentiator_list}\n",
    "    return row, error_test, component_holding, content_focus_component_df"
   ]
  },
  {
   "cell_type": "code",
   "execution_count": 135,
   "metadata": {
    "collapsed": false
   },
   "outputs": [
    {
     "name": "stdout",
     "output_type": "stream",
     "text": [
      "hi hi!\n",
      "False\n",
      "True\n",
      "Hey, baby\n",
      "First Quadrant\n",
      "hello\n"
     ]
    }
   ],
   "source": [
    "data = []\n",
    "parsed_data, error_data, component_holding, content_focus_component_df = process_file(filename, tagging_dict)\n",
    "#pprint.pprint(bad_data)"
   ]
  },
  {
   "cell_type": "code",
   "execution_count": 136,
   "metadata": {
    "collapsed": false
   },
   "outputs": [
    {
     "name": "stdout",
     "output_type": "stream",
     "text": [
      "[]\n"
     ]
    }
   ],
   "source": [
    "len(error_data)\n",
    "pprint.pprint(error_data)"
   ]
  },
  {
   "cell_type": "code",
   "execution_count": 137,
   "metadata": {
    "collapsed": false
   },
   "outputs": [
    {
     "name": "stdout",
     "output_type": "stream",
     "text": [
      "0\n",
      "1\n"
     ]
    }
   ],
   "source": [
    "#pprint.pprint(bad_data)\n",
    "print len(component_holding)\n",
    "print len(parsed_data)"
   ]
  },
  {
   "cell_type": "code",
   "execution_count": 138,
   "metadata": {
    "collapsed": false
   },
   "outputs": [
    {
     "name": "stdout",
     "output_type": "stream",
     "text": [
      "Empty DataFrame\n",
      "Columns: [Strand, Sub-Strand, Content Focus, Component, ComponentGUID]\n",
      "Index: []\n"
     ]
    }
   ],
   "source": [
    "print content_focus_component_df"
   ]
  },
  {
   "cell_type": "code",
   "execution_count": 139,
   "metadata": {
    "collapsed": false
   },
   "outputs": [
    {
     "name": "stdout",
     "output_type": "stream",
     "text": [
      "[{'Differentiators': [[{'GUID': '1E24B42A-97C8-11E6-8048-1FDE29C466BA',\n",
      "                        'Shape': 'Point'}],\n",
      "                      [{'GUID': '7C0B3838-97C4-11E6-B4CA-B3D929C466BA',\n",
      "                        'Units': 'Generic'}],\n",
      "                      [{'GUID': 'N/A', 'Steps': 'N/A'}]],\n",
      "  'Internal_ID': 329166,\n",
      "  'Organizers': [{'GUID': 'D66D958E-8BFB-11E6-921B-89CC29C466BA',\n",
      "                  'Strand': 'Geometry and Measurement',\n",
      "                  'Substrand': [{'Content Focus': [{'Component': [{'Component': 'First Quadrant',\n",
      "                                                                   'GUID': '342BC6C6-9D7E-11E6-BB08-D0B929C466BA'}],\n",
      "                                                    'Content Focus': 'Graph points',\n",
      "                                                    'GUID': 'CAA6BC40-8C1D-11E6-867F-EA7829C466BA'}],\n",
      "                                 'GUID': '1573E894-8C17-11E6-81DC-467029C466BA',\n",
      "                                 'Substrand': 'Coordinate Plane'}]}]}]\n"
     ]
    }
   ],
   "source": [
    "pprint.pprint(parsed_data)"
   ]
  },
  {
   "cell_type": "code",
   "execution_count": 124,
   "metadata": {
    "collapsed": false
   },
   "outputs": [
    {
     "data": {
      "text/html": [
       "<div>\n",
       "<table border=\"1\" class=\"dataframe\">\n",
       "  <thead>\n",
       "    <tr style=\"text-align: right;\">\n",
       "      <th></th>\n",
       "      <th>Asset Subject</th>\n",
       "      <th>Example Content Focus</th>\n",
       "      <th>Strand</th>\n",
       "      <th>Sub-Strand</th>\n",
       "      <th>Subgroup</th>\n",
       "      <th>Title</th>\n",
       "      <th>Unique ID</th>\n",
       "    </tr>\n",
       "  </thead>\n",
       "  <tbody>\n",
       "    <tr>\n",
       "      <th>37</th>\n",
       "      <td>Mathematics</td>\n",
       "      <td>graph points</td>\n",
       "      <td>geometry and measurement</td>\n",
       "      <td>coordinate plane</td>\n",
       "      <td>Graphing and Plotting</td>\n",
       "      <td>first quadrant</td>\n",
       "      <td>342BC6C6-9D7E-11E6-BB08-D0B929C466BA</td>\n",
       "    </tr>\n",
       "  </tbody>\n",
       "</table>\n",
       "</div>"
      ],
      "text/plain": [
       "   Asset Subject Example Content Focus                    Strand  \\\n",
       "37   Mathematics          graph points  geometry and measurement   \n",
       "\n",
       "          Sub-Strand               Subgroup           Title  \\\n",
       "37  coordinate plane  Graphing and Plotting  first quadrant   \n",
       "\n",
       "                               Unique ID  \n",
       "37  342BC6C6-9D7E-11E6-BB08-D0B929C466BA  "
      ]
     },
     "execution_count": 124,
     "metadata": {},
     "output_type": "execute_result"
    }
   ],
   "source": [
    "df = component_df\n",
    "strand = 'Geometry and Measurement'\n",
    "substrand = 'Coordinate Plane'\n",
    "component = 'First Quadrant'\n",
    "df[(df['Strand']==lowercase(strand)) & (df['Sub-Strand']==lowercase(substrand)) & (df['Title']==lowercase(component))]\n",
    "\n",
    "#print df[(df['Strand']==lowercase(strand)) & (df['Title']==lowercase(component))]"
   ]
  },
  {
   "cell_type": "code",
   "execution_count": 134,
   "metadata": {
    "collapsed": false
   },
   "outputs": [],
   "source": [
    "def processInitialComponent(strand_list, substrand_list, content_focus_list, component_list, df, error_test, component_hold, \\\n",
    "                            content_focus_component_df):\n",
    "    GUID = None\n",
    "    for component in component_list:\n",
    "        if len(df[(df['Title']==lowercase(component))]) == 0:  \n",
    "            error_test = True\n",
    "            error_message = 'Error: Component ' + component + ' not found in master list'\n",
    "            strand_list[0]['Substrand'][0]['Content Focus'][0]['Component'].append({'Component': component, \\\n",
    "                                                                                    'GUID': error_message})\n",
    "            break\n",
    "    if len(content_focus_list) == 1:\n",
    "        for component in component_list:\n",
    "            print component\n",
    "            strand_list, error_test, component_hold, guid, content_focus_component_df = getComponentGUID( \\\n",
    "                strand_list[0]['Strand'], strand_list, substrand_list[0], content_focus_list[0], component, df, error_test, \\\n",
    "                component_hold, content_focus_component_df) \n",
    "            #add to content_focus_component_df\n",
    "    elif len(substrand_list) == len(component_list):\n",
    "        strand_list, error_test, component_hold, content_focus_component_df = matchInitialComponent(strand_list, substrand_list,\\ \n",
    "                            content_focus_list, component_list, df, error_test, len(component_list), content_focus_component_df)            \n",
    "    else: \n",
    "        component_hold = True\n",
    "    return strand_list, error_test, component_hold, content_focus_component_df\n",
    "\n",
    "def getComponentGUID(strand, strand_list, substrand, content_focus, component, df, error_test, component_hold, \\\n",
    "                     content_focus_component_df): \n",
    "    ComponentGUID = \"\"\n",
    "    strand_index = next(index for (index, d) in enumerate(strand_list) if d[\"Strand\"] == strand)\n",
    "    substrand_index = next(index for (index, d) in enumerate( \\\n",
    "            strand_list[strand_index]['Substrand']) if d[\"Substrand\"] == substrand)    \n",
    "    content_focus_index = next(index for (index, d) in enumerate( \\\n",
    "            strand_list[strand_index]['Substrand'][substrand_index]['Content Focus']) if d[\"Content Focus\"] == content_focus)\n",
    "    if len(df[(df['Strand']==lowercase(strand)) & (df['Sub-Strand']==lowercase(substrand)) & \\\n",
    "              (df['Title']==lowercase(component))]) == 1:\n",
    "        print \"hello\"\n",
    "        ComponentGUID = df.ix[(df['Strand']==lowercase(strand)) & (df['Sub-Strand']==lowercase(substrand)) & \\\n",
    "                              (df['Title']==lowercase(component)), 'Unique ID'].item()\n",
    "        strand_list[strand_index]['Substrand'][substrand_index]['Content Focus'][content_focus_index]['Component'].append( \\\n",
    "            {'Component': component, 'GUID': ComponentGUID})\n",
    "    elif len(df[(df['Strand']==lowercase(strand)) & (df['Sub-Strand']==lowercase(substrand)) & \\\n",
    "                (df['Example Content Focus']==lowercase(content_focus)) & (df['Title']==lowercase(component))]) == 1:\n",
    "        print \"hi\"\n",
    "        ComponentGUID = df.ix[(df['Strand']==lowercase(strand)) & (df['Sub-Strand']==lowercase(substrand)) & \\\n",
    "                              (df['Title']==lowercase(component)), 'Unique ID'].item()\n",
    "        strand_list[strand_index]['Substrand'][substrand_index]['Content Focus'][content_focus_index]['Component'].append( \\\n",
    "            {'Component': component, 'GUID': ComponentGUID})\n",
    "    elif len(df[(df['Strand']==lowercase(strand)) & (df['Sub-Strand']==lowercase(substrand)) & \n",
    "                (df['Title']==lowercase(component))]) > 1:\n",
    "        print \"wasssssuuuuuup\"\n",
    "        strand_list[strand_index]['Substrand'][substrand_index]['Content Focus'][content_focus_index]['Component'].append( \\\n",
    "            {'Component': component, 'GUID': 'Holding'})\n",
    "        component_hold = True\n",
    "    else: \n",
    "        print \"head desk\"\n",
    "        strand_list[strand_index]['Substrand'][substrand_index]['Content Focus'][content_focus_index]['Component'].append( \\\n",
    "            {'Component': component, 'GUID': 'Error: No unique Strand/Substrand/Component match found in master list'})\n",
    "        error_test = True\n",
    "    return strand_list, error_test, component_hold, ComponentGUID, content_focus_component_df\n",
    "\n",
    "def matchInitialComponent(strand_list, substrand_list, content_focus_list, component_list, df, error_test, matchlimit, \\\n",
    "                          content_focus_component_df):\n",
    "    strand_substrand_names =[]\n",
    "    for strand in strand_list:\n",
    "        strand_name = strand['Strand']\n",
    "        for substrand in strand['Substrand']:\n",
    "            strand_substrand_names.append(strand_name + '; ' + substrand['Substrand'])\n",
    "\n",
    "    match_status = pd.DataFrame(False,index=strand_substrand_names,columns=component_list)\n",
    "    strand_substrand_names[0].split('; ')[0]\n",
    "\n",
    "    for strand_substrand in strand_substrand_names:\n",
    "        #Need to use substrand and also pull strand from strand list, might be easier to build from strand, down\n",
    "        for component in component_list:\n",
    "            initial_match_length = len(df[(df['Strand']==lowercase(strand_substrand.split('; ')[0])) & \\\n",
    "                                          (df['Sub-Strand']==lowercase(strand_substrand.split('; ')[1]))& \\\n",
    "                                          (df['Title']==lowercase(component))])\n",
    "            if  initial_match_length == 1:\n",
    "                match_status.ix[strand_substrand, component] = True\n",
    "            elif initial_match_length > 1:\n",
    "                    if len(df[(df['Strand']==lowercase(strand_substrand.split('; ')[0])) & \\\n",
    "                              (df['Sub-Strand']==lowercase(strand_substrand.split('; ')[1])) & \\\n",
    "                              (df['Example Content Focus']==lowercase(content_focus_list[0])) & \\\n",
    "                              (df['Title']==lowercase(component))]) == 1:\n",
    "                        match_status.ix[strand_substrand, component] = True\n",
    "                \n",
    "    if int(match_status.sum().sum()) == matchlimit:\n",
    "    #get the strand,substrand pairs where match_status is true  \n",
    "        true_pairs = list(match_status[match_status == True].stack().index)\n",
    "        #print true_pairs\n",
    "        for pair in true_pairs:\n",
    "            strand_list, error_test, GUID = getComponentGUID(pair[0].split('; ')[0], strand_list, pair[0].split('; ')[1], \\\n",
    "                                                             content_focus_list[0], pair[1], component_df, \\\n",
    "                                                             error_test, component_hold)\n",
    "            if len(content_focus_component_df[(content_focus_component_df['Strand']==lowercase(pair[0].split('; ')[0])) & \\\n",
    "                                              (content_focus_component_df['Sub-Strand']==lowercase( pair[0].split('; ')[1])) & \\\n",
    "                                              (content_focus_component_df['Content Focus']==lowercase(content_focus_list[0])) & \\\n",
    "                                              (content_focus_component_df['Component']==lowercase(pair[1]))]) == 0:\n",
    "                #add group to content_focus_component_df\n",
    "                df_add = {'Strand': lowercase(pair[0].split('; ')[0]), 'Sub-Strand': lowercase(pair[0].split('; ')[1]), \\\n",
    "                          'Content Focus': lowercase(content_focus_list[0]), \"Component\": lowercase(pair[1]), \\\n",
    "                          \"ComponentGUID\": \"test\"}\n",
    "                content_focus_component_df = content_focus_component_df.append(df_add, ignore_index = True)\n",
    "\n",
    "    else: \n",
    "        strand_list[0]['Substrand'][0]['Content Focus'][0]['Component'].append({'Component': component, 'GUID': 'Error: Aha!'})\n",
    "        error_test = True\n",
    "    return strand_list, error_test, component_hold, content_focus_component_df"
   ]
  },
  {
   "cell_type": "code",
   "execution_count": 99,
   "metadata": {
    "collapsed": false
   },
   "outputs": [],
   "source": [
    "def processSubstrands(strand_list, substrand_list, df, error_test):\n",
    "    GUID = None\n",
    "    for substrand in substrand_list:\n",
    "        if len(df[(df['Title']==lowercase(substrand))]) == 0:  \n",
    "            error_test = True\n",
    "            error_message = 'Error: Substrand ' + substrand + ' not found in master list'\n",
    "            strand_list[0]['Substrand'].append({'Substrand': substrand_list[0], 'GUID': error_message})\n",
    "            break\n",
    "    if len(substrand_list) < len(strand_list):\n",
    "        error_test = True\n",
    "        strand_list[0]['Substrand'].append({'Substrand': substrand_list[0], 'GUID': 'Error: more strands than substrands'})\n",
    "    elif len(strand_list) == 1: \n",
    "        for substrand in substrand_list:\n",
    "            strand_list, error_test = getSubstrandGUID(strand_list[0]['Strand'], strand_list, substrand, df, error_test)    \n",
    "    elif len(substrand_list) == 2 and len(strand_list) == 2:\n",
    "        strand_list, error_test = matchStrandsSubstrands(strand_list, substrand_list, df, error_test, 2)\n",
    "    elif len(substrand_list) == 3 and len(strand_list) == 2:\n",
    "        strand_list, error_test = matchStrandsSubstrands(strand_list, substrand_list, df, error_test, 3)\n",
    "    else: \n",
    "        error_test = True\n",
    "        strand_list[0]['Substrand'].append({'Substrand': substrand_list[0], 'GUID': \\ \n",
    "                                            'Error: Multiple substrands, cannot parse yet'})\n",
    "    return strand_list, error_test\n",
    "\n",
    "#Build a data frame to track match status to determine whether strand-substrand pairings can be deduced    \n",
    "def matchStrandsSubstrands(strand_list, substrand_list, df, error_test, matchlimit):\n",
    "    strand_names = []\n",
    "    for strand in strand_list:\n",
    "        strand_names.append(strand['Strand'])\n",
    "\n",
    "    match_status = pd.DataFrame(False,index=strand_names,columns=substrand_list)\n",
    "\n",
    "    for strand in strand_names:\n",
    "        for substrand in substrand_list:\n",
    "            if len(df[(df['Strand']==lowercase(strand)) & (df['Title']==lowercase(substrand))]) == 1:\n",
    "                match_status.ix[strand,substrand] = True\n",
    "    \n",
    "    if int(match_status.sum().sum()) == matchlimit:\n",
    "    #get the strand,substrand pairs where match_status is true  \n",
    "        true_pairs = list(match_status[match_status == True].stack().index)\n",
    "        for pair in true_pairs:\n",
    "            strand_list, error_test = getSubstrandGUID(pair[0], strand_list, pair[1], df, error_test)\n",
    "    else: \n",
    "        strand_list[0]['Substrand'].append({'Substrand': substrand_list[0], \\ \n",
    "                                            'GUID': 'Error: Ambiguous strand/substrand relationships'})\n",
    "        error_test = True\n",
    "    return strand_list, error_test\n",
    "\n",
    "def getSubstrandGUID(strand, strand_list, substrand, df, error_test): \n",
    "    if len(df[(df['Strand']==lowercase(strand)) & (df['Title']==lowercase(substrand))]) == 1:\n",
    "        SubstrandGUID = df.ix[(df['Strand']==lowercase(strand)) & (df['Title']==lowercase(substrand)), 'Unique ID'].item()\n",
    "        strand_list[next(index for (index, d) in enumerate(strand_list) if d[\"Strand\"] == strand)]['Substrand'].append( \\\n",
    "            {'Substrand': substrand, 'GUID': SubstrandGUID, 'Content Focus': []})\n",
    "    else: \n",
    "        strand_list[next(index for (index, d) in enumerate(strand_list) if d[\"Strand\"] == strand)]['Substrand'].append( \\\n",
    "            {'Substrand': substrand, 'GUID': 'Error: No Strand/Substrand match found in master list'})\n",
    "        error_test = True\n",
    "    return strand_list, error_test\n",
    "\n",
    "    "
   ]
  },
  {
   "cell_type": "code",
   "execution_count": null,
   "metadata": {
    "collapsed": false
   },
   "outputs": [],
   "source": []
  },
  {
   "cell_type": "code",
   "execution_count": null,
   "metadata": {
    "collapsed": false
   },
   "outputs": [],
   "source": []
  },
  {
   "cell_type": "code",
   "execution_count": null,
   "metadata": {
    "collapsed": false
   },
   "outputs": [],
   "source": []
  },
  {
   "cell_type": "code",
   "execution_count": 145,
   "metadata": {
    "collapsed": false
   },
   "outputs": [],
   "source": [
    "def processContentFocus(strand_list, substrand_list, content_focus_list, df, error_test):\n",
    "    GUID = None\n",
    "    for content_focus in content_focus_list:\n",
    "        if len(df[(df['Title']==lowercase(content_focus))]) == 0:  \n",
    "            error_test = True\n",
    "            error_message = 'Error: Content Focus ' + content_focus + ' not found in master list'\n",
    "            strand_list[0]['Substrand'][0]['Content Focus'].append({'Content Focus': content_focus, 'GUID': error_message})\n",
    "            break\n",
    "    if len(content_focus_list) < len(substrand_list):\n",
    "        error_test = True\n",
    "        strand_list[0]['Substrand'][0]['Content Focus'].append({'Content Focus': content_focus, 'GUID': \\\n",
    "                                                                'Error: more Substrands than Content Focus terms'})\n",
    "    elif len(substrand_list) == 1: \n",
    "        for content_focus in content_focus_list:\n",
    "            strand_list, error_test = getContentFocusGUID(strand_list[0]['Strand'], strand_list, substrand_list[0], \\\n",
    "                                                          content_focus, df, error_test)    \n",
    "    elif len(substrand_list) == len(content_focus_list):\n",
    "        strand_list, error_test = matchSubstrandsContentFocus(strand_list, content_focus_list, df, error_test, \\\n",
    "                                                              len(content_focus_list))\n",
    "    else: \n",
    "        error_test = True\n",
    "        strand_list[0]['Substrand'][0]['Content Focus'].append({'Content Focus': content_focus, 'GUID': \\\n",
    "                                                                'Error: Multiple content Focus terms, cannot parse yet'})\n",
    "    return strand_list, error_test\n",
    "\n",
    "def matchSubstrandsContentFocus(strand_list, content_focus_list, df, error_test, matchlimit):\n",
    "    strand_substrand_names =[]\n",
    "    for strand in strand_list:\n",
    "        strand_name = strand['Strand']\n",
    "        for substrand in strand['Substrand']:\n",
    "            strand_substrand_names.append(strand_name + '; ' + substrand['Substrand'])\n",
    "\n",
    "    match_status = pd.DataFrame(False,index=strand_substrand_names,columns=content_focus_list)\n",
    "    for strand_substrand in strand_substrand_names:\n",
    "        for content_focus in content_focus_list:\n",
    "            #print strand_substrand\n",
    "            #print content_focus\n",
    "            if len(df[(df['Strand']==lowercase(strand_substrand.split('; ')[0])) & \\\n",
    "                      (df['Sub-Strand']==lowercase(strand_substrand.split('; ')[1]))& \\\n",
    "                      (df['Title']==lowercase(content_focus))]) == 1:\n",
    "                match_status.ix[strand_substrand, content_focus] = True\n",
    "\n",
    "    if int(match_status.sum().sum()) == matchlimit:\n",
    "    #get the strand,substrand pairs where match_status is true  \n",
    "        true_pairs = list(match_status[match_status == True].stack().index)\n",
    "        #print true_pairs\n",
    "        for pair in true_pairs:\n",
    "            strand_list, error_test = getContentFocusGUID(pair[0].split('; ')[0], strand_list, pair[0].split('; ')[1],  \\\n",
    "                                                          pair[1], df, error_test)\n",
    "    elif int(match_status.sum().sum()) < matchlimit:\n",
    "        strand_list[0]['Substrand'][0]['Content Focus'].append({'Content Focus': content_focus, 'GUID': \\\n",
    "                                                                'Error: One or more content focus terms not found'})\n",
    "        error_test = True\n",
    "    else: \n",
    "        strand_list[0]['Substrand'][0]['Content Focus'].append({'Content Focus': content_focus, 'GUID': \\\n",
    "                                                            'Error: Ambiguous strand/substrand/content focus relationships'})\n",
    "        error_test = True\n",
    "    return strand_list, error_test\n",
    "\n",
    "def getContentFocusGUID(strand, strand_list, substrand, content_focus, df, error_test): \n",
    "    strand_index = next(index for (index, d) in enumerate(strand_list) if d[\"Strand\"] == strand)\n",
    "    substrand_index = next(index for (index, d) in enumerate( \\\n",
    "                                                     strand_list[strand_index]['Substrand']) if d[\"Substrand\"] == substrand)    \n",
    "    if len(df[(df['Strand']==lowercase(strand)) & (df['Sub-Strand']==lowercase(substrand)) & \\\n",
    "              (df['Title']==lowercase(content_focus))]) == 1:\n",
    "        ContentFocusGUID = df.ix[(df['Strand']==lowercase(strand)) & (df['Sub-Strand']==lowercase(substrand)) & \\\n",
    "                                 (df['Title']==lowercase(content_focus)), 'Unique ID'].item()\n",
    "        strand_list[strand_index]['Substrand'][substrand_index]['Content Focus'].append( \\\n",
    "                            {'Content Focus': content_focus, 'GUID': ContentFocusGUID, 'Component': []})\n",
    "    else: \n",
    "        strand_list[strand_index]['Substrand'][substrand_index]['Content Focus'].append( \\\n",
    "                            {'Content Focus': content_focus, 'GUID': 'Error: No Strand/Substrand match found in master list'})\n",
    "        error_test = True\n",
    "    return strand_list, error_test"
   ]
  },
  {
   "cell_type": "code",
   "execution_count": null,
   "metadata": {
    "collapsed": false
   },
   "outputs": [],
   "source": []
  },
  {
   "cell_type": "code",
   "execution_count": null,
   "metadata": {
    "collapsed": false
   },
   "outputs": [],
   "source": []
  },
  {
   "cell_type": "code",
   "execution_count": null,
   "metadata": {
    "collapsed": true
   },
   "outputs": [],
   "source": []
  },
  {
   "cell_type": "code",
   "execution_count": null,
   "metadata": {
    "collapsed": false
   },
   "outputs": [],
   "source": []
  },
  {
   "cell_type": "code",
   "execution_count": 101,
   "metadata": {
    "collapsed": false
   },
   "outputs": [
    {
     "name": "stdout",
     "output_type": "stream",
     "text": [
      "[{'GUID': 'D66EB2C0-8BFB-11E6-921B-89CC29C466BA',\n",
      "  'Strand': 'Numbers and Operations',\n",
      "  'Substrand': [{'Content Focus': [{'Component': [],\n",
      "                                    'Content Focus': 'Calculate',\n",
      "                                    'GUID': 'CBFF09D0-8C1D-11E6-867F-EA7829C466BA'}],\n",
      "                 'GUID': '168B2CF6-8C17-11E6-81DC-467029C466BA',\n",
      "                 'Substrand': 'Operations'}]}]\n",
      "Addition\n"
     ]
    },
    {
     "ename": "TypeError",
     "evalue": "getComponentGUID() takes exactly 8 arguments (9 given)",
     "output_type": "error",
     "traceback": [
      "\u001b[0;31m---------------------------------------------------------------------------\u001b[0m",
      "\u001b[0;31mTypeError\u001b[0m                                 Traceback (most recent call last)",
      "\u001b[0;32m<ipython-input-101-84389cfdc896>\u001b[0m in \u001b[0;36m<module>\u001b[0;34m()\u001b[0m\n\u001b[1;32m     21\u001b[0m \u001b[0mstrand_list\u001b[0m\u001b[1;33m,\u001b[0m \u001b[0merror_test\u001b[0m \u001b[1;33m=\u001b[0m \u001b[0mprocessContentFocus\u001b[0m\u001b[1;33m(\u001b[0m\u001b[0mstrand_list\u001b[0m\u001b[1;33m,\u001b[0m \u001b[0msubstrand_list\u001b[0m\u001b[1;33m,\u001b[0m \u001b[0mcontent_focus_list\u001b[0m\u001b[1;33m,\u001b[0m \u001b[0mcontent_focus_df\u001b[0m\u001b[1;33m,\u001b[0m \u001b[0merror_test\u001b[0m\u001b[1;33m)\u001b[0m\u001b[1;33m\u001b[0m\u001b[0m\n\u001b[1;32m     22\u001b[0m \u001b[0mpprint\u001b[0m\u001b[1;33m.\u001b[0m\u001b[0mpprint\u001b[0m\u001b[1;33m(\u001b[0m\u001b[0mstrand_list\u001b[0m\u001b[1;33m)\u001b[0m\u001b[1;33m\u001b[0m\u001b[0m\n\u001b[0;32m---> 23\u001b[0;31m \u001b[0mstrand_list\u001b[0m\u001b[1;33m,\u001b[0m \u001b[0merror_test\u001b[0m\u001b[1;33m,\u001b[0m \u001b[0mcomponent_hold\u001b[0m\u001b[1;33m,\u001b[0m \u001b[0mcontent_focus_component_df\u001b[0m \u001b[1;33m=\u001b[0m \u001b[0mprocessInitialComponent\u001b[0m\u001b[1;33m(\u001b[0m\u001b[0mstrand_list\u001b[0m\u001b[1;33m,\u001b[0m \u001b[0msubstrand_list\u001b[0m\u001b[1;33m,\u001b[0m \u001b[0mcontent_focus_list\u001b[0m\u001b[1;33m,\u001b[0m \u001b[0mcomponent_list\u001b[0m\u001b[1;33m,\u001b[0m \u001b[0mcomponent_df\u001b[0m\u001b[1;33m,\u001b[0m \u001b[0merror_test\u001b[0m\u001b[1;33m,\u001b[0m \u001b[0mcomponent_hold\u001b[0m\u001b[1;33m,\u001b[0m \u001b[0mcontent_focus_component_df\u001b[0m\u001b[1;33m)\u001b[0m\u001b[1;33m\u001b[0m\u001b[0m\n\u001b[0m\u001b[1;32m     24\u001b[0m \u001b[1;33m\u001b[0m\u001b[0m\n\u001b[1;32m     25\u001b[0m \u001b[0mpprint\u001b[0m\u001b[1;33m.\u001b[0m\u001b[0mpprint\u001b[0m\u001b[1;33m(\u001b[0m\u001b[0mstrand_list\u001b[0m\u001b[1;33m[\u001b[0m\u001b[1;36m0\u001b[0m\u001b[1;33m]\u001b[0m\u001b[1;33m)\u001b[0m\u001b[1;33m\u001b[0m\u001b[0m\n",
      "\u001b[0;32m<ipython-input-98-1c4db19782f4>\u001b[0m in \u001b[0;36mprocessInitialComponent\u001b[0;34m(strand_list, substrand_list, content_focus_list, component_list, df, error_test, component_hold, content_focus_component_df)\u001b[0m\n\u001b[1;32m     10\u001b[0m         \u001b[1;32mfor\u001b[0m \u001b[0mcomponent\u001b[0m \u001b[1;32min\u001b[0m \u001b[0mcomponent_list\u001b[0m\u001b[1;33m:\u001b[0m\u001b[1;33m\u001b[0m\u001b[0m\n\u001b[1;32m     11\u001b[0m             \u001b[1;32mprint\u001b[0m \u001b[0mcomponent\u001b[0m\u001b[1;33m\u001b[0m\u001b[0m\n\u001b[0;32m---> 12\u001b[0;31m             \u001b[0mstrand_list\u001b[0m\u001b[1;33m,\u001b[0m \u001b[0merror_test\u001b[0m\u001b[1;33m,\u001b[0m \u001b[0mcomponent_hold\u001b[0m\u001b[1;33m,\u001b[0m \u001b[0mguid\u001b[0m \u001b[1;33m=\u001b[0m \u001b[0mgetComponentGUID\u001b[0m\u001b[1;33m(\u001b[0m\u001b[0mstrand_list\u001b[0m\u001b[1;33m[\u001b[0m\u001b[1;36m0\u001b[0m\u001b[1;33m]\u001b[0m\u001b[1;33m[\u001b[0m\u001b[1;34m'Strand'\u001b[0m\u001b[1;33m]\u001b[0m\u001b[1;33m,\u001b[0m \u001b[0mstrand_list\u001b[0m\u001b[1;33m,\u001b[0m \u001b[0msubstrand_list\u001b[0m\u001b[1;33m[\u001b[0m\u001b[1;36m0\u001b[0m\u001b[1;33m]\u001b[0m\u001b[1;33m,\u001b[0m \u001b[0mcontent_focus_list\u001b[0m\u001b[1;33m[\u001b[0m\u001b[1;36m0\u001b[0m\u001b[1;33m]\u001b[0m\u001b[1;33m,\u001b[0m \u001b[0mcomponent\u001b[0m\u001b[1;33m,\u001b[0m \u001b[0mdf\u001b[0m\u001b[1;33m,\u001b[0m \u001b[0merror_test\u001b[0m\u001b[1;33m,\u001b[0m \u001b[0mcomponent_hold\u001b[0m\u001b[1;33m,\u001b[0m \u001b[0mcontent_focus_component_df\u001b[0m\u001b[1;33m)\u001b[0m\u001b[1;33m\u001b[0m\u001b[0m\n\u001b[0m\u001b[1;32m     13\u001b[0m             \u001b[1;31m#add to content_focus_component_df\u001b[0m\u001b[1;33m\u001b[0m\u001b[1;33m\u001b[0m\u001b[0m\n\u001b[1;32m     14\u001b[0m     \u001b[1;32melif\u001b[0m \u001b[0mlen\u001b[0m\u001b[1;33m(\u001b[0m\u001b[0msubstrand_list\u001b[0m\u001b[1;33m)\u001b[0m \u001b[1;33m==\u001b[0m \u001b[0mlen\u001b[0m\u001b[1;33m(\u001b[0m\u001b[0mcomponent_list\u001b[0m\u001b[1;33m)\u001b[0m\u001b[1;33m:\u001b[0m\u001b[1;33m\u001b[0m\u001b[0m\n",
      "\u001b[0;31mTypeError\u001b[0m: getComponentGUID() takes exactly 8 arguments (9 given)"
     ]
    }
   ],
   "source": [
    "strands = ['Numbers and Operations']\n",
    "substrand_list = ['Operations']\n",
    "content_focus_list = ['Calculate']\n",
    "component_list = ['Addition']\n",
    "error_test = False\n",
    "component_hold = False\n",
    "#strand_list, error_test = processContentFocus(strand_list, substrand_list, content_focus_list, content_focus_df, error_test)\n",
    "content_focus_component_df = pd.DataFrame(columns=['Strand', 'Sub-Strand', 'Content Focus', 'Component', 'ComponentGUID'])\n",
    "\n",
    "strand_list=[]\n",
    "\n",
    "for strand in strands:\n",
    "    strand_sub_dict = {}\n",
    "    #content_focus_df = tagging_df['Content_Focus']\n",
    "    StrandGUID, error_test = get_GUID_lite(strand, content_focus_df, error_test)\n",
    "    strand_sub_dict = {'Strand': strand, 'GUID' : StrandGUID, 'Substrand': []}\n",
    "    strand_list.append(strand_sub_dict)\n",
    "                        \n",
    "strand_list, error_test = processSubstrands(strand_list, substrand_list, content_focus_df, error_test)\n",
    "\n",
    "strand_list, error_test = processContentFocus(strand_list, substrand_list, content_focus_list, content_focus_df, error_test)\n",
    "pprint.pprint(strand_list)\n",
    "strand_list, error_test, component_hold, content_focus_component_df = processInitialComponent(strand_list, substrand_list, content_focus_list, component_list, component_df, error_test, component_hold, content_focus_component_df)\n",
    "\n",
    "pprint.pprint(strand_list[0])"
   ]
  },
  {
   "cell_type": "code",
   "execution_count": null,
   "metadata": {
    "collapsed": false
   },
   "outputs": [],
   "source": []
  },
  {
   "cell_type": "code",
   "execution_count": null,
   "metadata": {
    "collapsed": false
   },
   "outputs": [],
   "source": []
  },
  {
   "cell_type": "code",
   "execution_count": null,
   "metadata": {
    "collapsed": false
   },
   "outputs": [],
   "source": []
  },
  {
   "cell_type": "code",
   "execution_count": null,
   "metadata": {
    "collapsed": false
   },
   "outputs": [],
   "source": []
  },
  {
   "cell_type": "code",
   "execution_count": null,
   "metadata": {
    "collapsed": false
   },
   "outputs": [],
   "source": [
    "\n",
    "       "
   ]
  },
  {
   "cell_type": "code",
   "execution_count": null,
   "metadata": {
    "collapsed": false
   },
   "outputs": [],
   "source": []
  },
  {
   "cell_type": "code",
   "execution_count": 14,
   "metadata": {
    "collapsed": true
   },
   "outputs": [],
   "source": [
    "def lowercase(text):\n",
    "    return unicode(text, \"latin2\").lower()"
   ]
  },
  {
   "cell_type": "code",
   "execution_count": 122,
   "metadata": {
    "collapsed": false
   },
   "outputs": [],
   "source": [
    "def Load_GUIDs(filename):\n",
    "    data = []\n",
    "    fields = {}\n",
    "    with open(filename, \"r\") as f:\n",
    "        reader = csv.DictReader(f)\n",
    "        for line in reader:\n",
    "            data.append(line)\n",
    "    #strip capitalization for matching purposes\n",
    "    data = pd.DataFrame(data)\n",
    "    df_lowercase(data, 'Title')\n",
    "    if len(data.columns) == 6:\n",
    "        df_lowercase(data, 'Strand')\n",
    "        df_lowercase(data, 'Sub-Strand')\n",
    "    if len(data.columns) == 7:\n",
    "        df_lowercase(data, 'Strand')\n",
    "        df_lowercase(data, 'Sub-Strand')\n",
    "        df_lowercase(data, 'Example Content Focus')\n",
    "    return data"
   ]
  },
  {
   "cell_type": "code",
   "execution_count": 16,
   "metadata": {
    "collapsed": false
   },
   "outputs": [],
   "source": [
    "def df_lowercase(dataframe, column):\n",
    "    lowercase = lambda x: unicode(x, \"latin2\").lower()\n",
    "    dataframe[column] = dataframe[column].apply(lowercase)\n",
    "    return dataframe"
   ]
  },
  {
   "cell_type": "code",
   "execution_count": 146,
   "metadata": {
    "collapsed": false
   },
   "outputs": [],
   "source": [
    "steps_df = Load_GUIDs(\"Math_Steps.csv\")\n",
    "shapes_df = Load_GUIDs(\"Math_Shapes.csv\")\n",
    "number_df = Load_GUIDs(\"Math_Number.csv\")\n",
    "units_df = Load_GUIDs(\"Math_Units_Modified.csv\")\n",
    "content_focus_df = Load_GUIDs(\"Math_Content_Foc.csv\")\n",
    "component_df = Load_GUIDs(\"Math_Components.csv\")\n",
    "tagging_dict = {'Steps': steps_df, 'Shape': shapes_df, 'Number': number_df, 'Units': units_df, \\\n",
    "                'Content_Focus': content_focus_df, 'Component': component_df}"
   ]
  },
  {
   "cell_type": "code",
   "execution_count": 18,
   "metadata": {
    "collapsed": false
   },
   "outputs": [],
   "source": [
    "def get_GUID_lite(tag, df, error_test): \n",
    "    #get GUID for steps, number, units, shape\n",
    "    tag = unicode(tag, \"latin2\").lower()\n",
    "    matches = len(df.ix[df['Title'] == tag])\n",
    "    if matches == 1:\n",
    "        GUID = df.ix[df['Title'] == tag, 'Unique ID'].item()\n",
    "    elif matches ==0:\n",
    "        if tag == r'n/a':\n",
    "            GUID = r'N/A'\n",
    "        else: \n",
    "            GUID = \"Error: no matches found\"\n",
    "            error_test = True\n",
    "    else: \n",
    "        GUID = \"Error: resolve multiple values\"\n",
    "        error_test = True\n",
    "    return GUID, error_test"
   ]
  },
  {
   "cell_type": "code",
   "execution_count": 19,
   "metadata": {
    "collapsed": false
   },
   "outputs": [
    {
     "name": "stdout",
     "output_type": "stream",
     "text": [
      "('1690A96C-97C3-11E6-88DC-EDD729C466BA', False)\n"
     ]
    }
   ],
   "source": [
    "number_test = \"Square roots\"\n",
    "error_test = False\n",
    "print get_GUID_lite(number_test, number_df, error_test)"
   ]
  },
  {
   "cell_type": "code",
   "execution_count": null,
   "metadata": {
    "collapsed": false
   },
   "outputs": [],
   "source": [
    "\n",
    "#create version for content focus and component\n",
    "#Play around with passing multiple conditions into first .ix argument\n",
    "\n",
    "tag = 'N/A'\n",
    "if tag == r'N/A':\n",
    "    print tag\n"
   ]
  },
  {
   "cell_type": "code",
   "execution_count": null,
   "metadata": {
    "collapsed": false
   },
   "outputs": [],
   "source": [
    "'''\n",
    "Data structure\n",
    "\n",
    "{Internal ID: value\n",
    "    {Organizers: [\n",
    "        {Strand: [ {Strand: Strand_value,\n",
    "                   Strand_GUID: GUID,\n",
    "                   Substrand: [{Substrand: Substrand_value,\n",
    "                                Substrand_GUID: GUID,\n",
    "                                Content_Focus: [{Content_Focus: Content_Focus_value,                       \n",
    "                                                Content_Focus_GUID: GUID,\n",
    "                                                Component: [{Component: Component_value,\n",
    "                                                              Component_GUID: GUID}]}]}]}]\n",
    "        {Descriptors: {Number: [N1, N2, ...]}\n",
    "                        {Digits: [D1, D2, ...]}\n",
    "            {Shape: [Shape1, ...]}\n",
    "            {Units: [Units1, ...]}\n",
    "            {Steps: Steps}\n",
    "            {Context: Context}\n",
    "            {SIG Stem: [Sig Stem1, ...]}\n",
    "            {SIG Options: [SIG Options1, ...]}\n",
    "            {Additional Modifiers: [AM1, ...]}\n",
    "}\n",
    "\n",
    "'''"
   ]
  },
  {
   "cell_type": "code",
   "execution_count": null,
   "metadata": {
    "collapsed": false
   },
   "outputs": [],
   "source": []
  },
  {
   "cell_type": "code",
   "execution_count": null,
   "metadata": {
    "collapsed": false
   },
   "outputs": [],
   "source": []
  },
  {
   "cell_type": "code",
   "execution_count": null,
   "metadata": {
    "collapsed": false
   },
   "outputs": [],
   "source": []
  },
  {
   "cell_type": "code",
   "execution_count": null,
   "metadata": {
    "collapsed": true
   },
   "outputs": [],
   "source": []
  },
  {
   "cell_type": "code",
   "execution_count": null,
   "metadata": {
    "collapsed": true
   },
   "outputs": [],
   "source": []
  }
 ],
 "metadata": {
  "anaconda-cloud": {},
  "kernelspec": {
   "display_name": "Python [conda root]",
   "language": "python",
   "name": "conda-root-py"
  },
  "language_info": {
   "codemirror_mode": {
    "name": "ipython",
    "version": 2
   },
   "file_extension": ".py",
   "mimetype": "text/x-python",
   "name": "python",
   "nbconvert_exporter": "python",
   "pygments_lexer": "ipython2",
   "version": "2.7.12"
  }
 },
 "nbformat": 4,
 "nbformat_minor": 1
}
