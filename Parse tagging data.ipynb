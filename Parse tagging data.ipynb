{
 "cells": [
  {
   "cell_type": "code",
   "execution_count": 6,
   "metadata": {
    "collapsed": false
   },
   "outputs": [],
   "source": [
    "import pandas as pd\n",
    "import numpy\n",
    "import codecs\n",
    "import csv\n",
    "import json\n",
    "import pprint\n",
    "import re\n",
    "\n",
    "filename = \"math sample for API testing.csv\"\n",
    "\n",
    "fields ={'Internal ID': 'Internal_ID',\n",
    "         'Strand': 'Strand',\n",
    "         'Sub-Strand': 'Substrand',\n",
    "         'Content Focus': 'Content_Focus',\n",
    "         'Component': 'Component',\n",
    "         'Number': 'Number',\n",
    "         'Digits': 'Digits',\n",
    "         'Shape': 'Shape',\n",
    "         'Units': 'Units',\n",
    "         'Steps': 'Steps',\n",
    "         'Context': 'Context',\n",
    "         'SIG Stem': 'SIG_Stem',\n",
    "         'SIG Options': 'SIG_Options',\n",
    "         'Additional Modifiers': 'Additional_Modifiers'}"
   ]
  },
  {
   "cell_type": "code",
   "execution_count": 7,
   "metadata": {
    "collapsed": false
   },
   "outputs": [
    {
     "data": {
      "text/plain": [
       "'\\nData structure\\n\\n[list of internal IDs]\\n    {Organizers: \\n        {Strand: Strand1}\\n        {Strand_GUID: GUID}\\n            {Substrand: Substrand1}\\n            {Substrand_GUID: GUID}\\n                {Content_Focus: Content_Focus1}\\n                {Content_Focus_GUID: GUID}\\n                    {Component: Component}\\n                    {Component_GUID: GUID}}\\n    {Descriptors:\\n        {Number: [N1, N2, ...]}\\n            {Digits: [D1, D2, ...]}\\n        {Shape: [Shape1, ...]}\\n        {Units: [Units1, ...]}\\n        {Steps: Steps}\\n        {Context: Context}\\n        {SIG Stem: [Sig Stem1, ...]}\\n        {SIG Options: [SIG Options1, ...]}\\n        {Additional Modifiers: [AM1, ...]}\\n'"
      ]
     },
     "execution_count": 7,
     "metadata": {},
     "output_type": "execute_result"
    }
   ],
   "source": [
    "'''\n",
    "Data structure\n",
    "\n",
    "[list of internal IDs]\n",
    "    {Organizers: \n",
    "        {Strand: Strand1}\n",
    "        {Strand_GUID: GUID}\n",
    "            {Substrand: Substrand1}\n",
    "            {Substrand_GUID: GUID}\n",
    "                {Content_Focus: Content_Focus1}\n",
    "                {Content_Focus_GUID: GUID}\n",
    "                    {Component: Component}\n",
    "                    {Component_GUID: GUID}}\n",
    "    {Descriptors:\n",
    "        {Number: [N1, N2, ...]}\n",
    "            {Digits: [D1, D2, ...]}\n",
    "        {Shape: [Shape1, ...]}\n",
    "        {Units: [Units1, ...]}\n",
    "        {Steps: Steps}\n",
    "        {Context: Context}\n",
    "        {SIG Stem: [Sig Stem1, ...]}\n",
    "        {SIG Options: [SIG Options1, ...]}\n",
    "        {Additional Modifiers: [AM1, ...]}\n",
    "'''"
   ]
  },
  {
   "cell_type": "code",
   "execution_count": 8,
   "metadata": {
    "collapsed": false
   },
   "outputs": [],
   "source": [
    "def process_file(filename, fields):\n",
    "    process_fields = fields.keys()\n",
    "    data = []\n",
    "    holding = []\n",
    "    data_keys = ['Internal ID', 'Strand','Substrand', 'Content_focus', 'Component', 'Number', 'Digits', 'Shape', 'Units', 'Steps', 'Context', 'SIG Stem', 'SIG Options', 'Additional Modifiers']\n",
    "    with open(filename, \"r\") as f:\n",
    "        reader = csv.DictReader(f)\n",
    "        for i in range(3):\n",
    "            l = reader.next()\n",
    "\n",
    "        for line in reader:\n",
    "            holding_test = 'FALSE'\n",
    "            row = {}\n",
    "            for key,value in fields.items():\n",
    "                row[value] = (line[key]).split(\"; \")\n",
    "                #If strand, substrand, Content Focus or Numbers field in raw data has \";\", then add to holding list\n",
    "                if (value == \"Strand\" or value == \"Substrand\" or value == \"Content_Focus\" or value == \"Number\") and (re.search(';', line[key])):\n",
    "                    holding_test = 'TRUE'\n",
    "            if holding_test == 'TRUE':\n",
    "                holding.append(row) \n",
    "            else:\n",
    "                data.append(row)\n",
    "    #Process holding list\n",
    "    #Do the row have multiple values in strand both and substrand? If yes, then consult table_of_values to figure out what should get \n",
    "    #paired together\n",
    "    pprint.pprint(holding)\n",
    "    return data"
   ]
  },
  {
   "cell_type": "code",
   "execution_count": 24,
   "metadata": {
    "collapsed": false
   },
   "outputs": [],
   "source": [
    "#data = process_file(filename, fields)"
   ]
  },
  {
   "cell_type": "code",
   "execution_count": 25,
   "metadata": {
    "collapsed": false
   },
   "outputs": [],
   "source": [
    "#pprint.pprint(data)"
   ]
  },
  {
   "cell_type": "code",
   "execution_count": 11,
   "metadata": {
    "collapsed": true
   },
   "outputs": [],
   "source": [
    "#Make every internal ID of int data type \"Internal ID\""
   ]
  },
  {
   "cell_type": "code",
   "execution_count": null,
   "metadata": {
    "collapsed": true
   },
   "outputs": [],
   "source": []
  },
  {
   "cell_type": "code",
   "execution_count": 12,
   "metadata": {
    "collapsed": true
   },
   "outputs": [],
   "source": [
    "#load GUID file"
   ]
  },
  {
   "cell_type": "code",
   "execution_count": null,
   "metadata": {
    "collapsed": true
   },
   "outputs": [],
   "source": [
    "#problem to solve for looking up GUID: when strand/substrand gives context to component, \n",
    "#if semi-colon separated, then will have to allow for non-matches"
   ]
  },
  {
   "cell_type": "code",
   "execution_count": 22,
   "metadata": {
    "collapsed": false
   },
   "outputs": [],
   "source": [
    "def Load_GUIDs(filename):\n",
    "    data = []\n",
    "    fields = {}\n",
    "    with open(filename, \"r\") as f:\n",
    "        reader = csv.DictReader(f)\n",
    "        for line in reader:\n",
    "            data.append(line)\n",
    "    #strip capitalization for matching purposes\n",
    "    data = pd.DataFrame(data)\n",
    "    df_lowercase(data, 'Title')\n",
    "    if len(data.columns) == 6:\n",
    "        df_lowercase(data, 'Strand')\n",
    "        df_lowercase(data, 'Sub-Strand')\n",
    "    if len(data.columns) == 7:\n",
    "        df_lowercase(data, 'Strand')\n",
    "    return data"
   ]
  },
  {
   "cell_type": "code",
   "execution_count": 18,
   "metadata": {
    "collapsed": false
   },
   "outputs": [],
   "source": [
    "def df_lowercase(dataframe, column):\n",
    "    lowercase = lambda x: unicode(x, \"latin2\").lower()\n",
    "    dataframe[column] = dataframe[column].apply(lowercase)\n",
    "    return dataframe"
   ]
  },
  {
   "cell_type": "code",
   "execution_count": 23,
   "metadata": {
    "collapsed": false
   },
   "outputs": [],
   "source": [
    "steps_df = Load_GUIDs(\"Math_Steps.csv\")\n",
    "shapes_df = Load_GUIDs(\"Math_Shapes.csv\")\n",
    "numbers_df = Load_GUIDs(\"Math_Number.csv\")\n",
    "units_df = Load_GUIDs(\"Math_Units_Modified.csv\")\n",
    "content_focus_df = Load_GUIDs(\"Math_Content_Foc.csv\")\n",
    "component_df = Load_GUIDs(\"Math_Components.csv\")"
   ]
  },
  {
   "cell_type": "code",
   "execution_count": 20,
   "metadata": {
    "collapsed": false
   },
   "outputs": [],
   "source": [
    "\n",
    "def get_GUID_lite(tag, df): \n",
    "    #get GUID for steps, number, units, shape\n",
    "    tag = unicode(tag, \"latin2\").lower()\n",
    "    print tag\n",
    "    matches = len(df.ix[df['Title'] == tag])\n",
    "    print matches\n",
    "    if matches == 1:\n",
    "        GUID = df.ix[df['Title'] == tag, 'Unique ID'].item()\n",
    "    elif matches ==0:\n",
    "        GUID = \"no matches found\"\n",
    "    else: GUID = \"resolve multiple values\"\n",
    "    return GUID"
   ]
  },
  {
   "cell_type": "code",
   "execution_count": 21,
   "metadata": {
    "collapsed": false
   },
   "outputs": [
    {
     "name": "stdout",
     "output_type": "stream",
     "text": [
      "       Subject       Title                             Unique ID\n",
      "0  Mathematics   multistep  F022E4A0-97E2-11E6-9F49-DB8029C466BA\n",
      "1  Mathematics    two step  F024BB90-97E2-11E6-9F49-DB8029C466BA\n",
      "2  Mathematics  three step  F02594A2-97E2-11E6-9F49-DB8029C466BA\n",
      "3  Mathematics    one step  F0267624-97E2-11E6-9F49-DB8029C466BA\n"
     ]
    }
   ],
   "source": [
    "print steps_df"
   ]
  },
  {
   "cell_type": "code",
   "execution_count": null,
   "metadata": {
    "collapsed": false
   },
   "outputs": [],
   "source": []
  },
  {
   "cell_type": "code",
   "execution_count": null,
   "metadata": {
    "collapsed": false
   },
   "outputs": [],
   "source": [
    "\n",
    "#create version for content focus and component\n",
    "#Play around with passing multiple conditions into first .ix argument\n"
   ]
  },
  {
   "cell_type": "code",
   "execution_count": null,
   "metadata": {
    "collapsed": false
   },
   "outputs": [],
   "source": []
  },
  {
   "cell_type": "code",
   "execution_count": null,
   "metadata": {
    "collapsed": false
   },
   "outputs": [],
   "source": []
  },
  {
   "cell_type": "code",
   "execution_count": null,
   "metadata": {
    "collapsed": false
   },
   "outputs": [],
   "source": []
  },
  {
   "cell_type": "code",
   "execution_count": null,
   "metadata": {
    "collapsed": true
   },
   "outputs": [],
   "source": []
  },
  {
   "cell_type": "code",
   "execution_count": null,
   "metadata": {
    "collapsed": true
   },
   "outputs": [],
   "source": []
  }
 ],
 "metadata": {
  "anaconda-cloud": {},
  "kernelspec": {
   "display_name": "Python [conda root]",
   "language": "python",
   "name": "conda-root-py"
  },
  "language_info": {
   "codemirror_mode": {
    "name": "ipython",
    "version": 2
   },
   "file_extension": ".py",
   "mimetype": "text/x-python",
   "name": "python",
   "nbconvert_exporter": "python",
   "pygments_lexer": "ipython2",
   "version": "2.7.12"
  }
 },
 "nbformat": 4,
 "nbformat_minor": 1
}
