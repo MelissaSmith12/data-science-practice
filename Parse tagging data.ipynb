{
 "cells": [
  {
   "cell_type": "code",
   "execution_count": 88,
   "metadata": {
    "collapsed": false
   },
   "outputs": [],
   "source": [
    "import pandas as pd\n",
    "import numpy\n",
    "import codecs\n",
    "import csv\n",
    "import json\n",
    "import pprint\n",
    "import re\n",
    "\n",
    "\n",
    "\n",
    "steps_df = Load_GUIDs(\"Math_Steps.csv\")\n",
    "shapes_df = Load_GUIDs(\"Math_Shapes.csv\")\n",
    "number_df = Load_GUIDs(\"Math_Number.csv\")\n",
    "units_df = Load_GUIDs(\"Math_Units_Modified.csv\")\n",
    "content_focus_df = Load_GUIDs(\"Math_Content_Foc.csv\")\n",
    "component_df = Load_GUIDs(\"Math_Components.csv\")\n",
    "tagging_dict = {'Steps': steps_df, 'Shape': shapes_df, 'Number': number_df, 'Units': units_df, \\\n",
    "                'Content_Focus': content_focus_df, 'Component': component_df}"
   ]
  },
  {
   "cell_type": "code",
   "execution_count": 119,
   "metadata": {
    "collapsed": true
   },
   "outputs": [],
   "source": [
    "#filename = \"math sample for API testing.csv\"\n",
    "filename = \"Math Tagging Master File 3.4.2017.csv\"\n",
    "#filename = \"Math Test.csv\"\n",
    "#filename = \"0 step test.csv\""
   ]
  },
  {
   "cell_type": "code",
   "execution_count": 120,
   "metadata": {
    "collapsed": false
   },
   "outputs": [
    {
     "name": "stdout",
     "output_type": "stream",
     "text": [
      "500\n",
      "1000\n",
      "1500\n",
      "2000\n",
      "2500\n",
      "3000\n",
      "3500\n",
      "4000\n",
      "4500\n",
      "5000\n",
      "5500\n",
      "6000\n",
      "6500\n",
      "7000\n",
      "7500\n",
      "8000\n",
      "8500\n",
      "9000\n",
      "9500\n",
      "10000\n",
      "10500\n",
      "11000\n",
      "11500\n",
      "12000\n",
      "12500\n",
      "13000\n",
      "13500\n",
      "14000\n",
      "14500\n",
      "15000\n",
      "15500\n",
      "16000\n",
      "16500\n",
      "17000\n",
      "17500\n",
      "18000\n",
      "18500\n",
      "19000\n",
      "19500\n",
      "20000\n",
      "20500\n",
      "21000\n",
      "21500\n",
      "22000\n",
      "22500\n",
      "23000\n",
      "23500\n",
      "24000\n",
      "24500\n",
      "25000\n",
      "25500\n",
      "26000\n",
      "26500\n",
      "27000\n",
      "27500\n",
      "28000\n",
      "28500\n",
      "29000\n",
      "29500\n",
      "30000\n",
      "30500\n",
      "31000\n",
      "31500\n",
      "32000\n",
      "32500\n",
      "33000\n",
      "33500\n",
      "34000\n",
      "34500\n",
      "35000\n",
      "35500\n",
      "36000\n"
     ]
    }
   ],
   "source": [
    "parsed_data, error_data, component_holding, content_focus_component_df = process_file(filename, tagging_dict)\n",
    "#pprint.pprint(parsed_data)"
   ]
  },
  {
   "cell_type": "code",
   "execution_count": 121,
   "metadata": {
    "collapsed": false
   },
   "outputs": [
    {
     "name": "stdout",
     "output_type": "stream",
     "text": [
      "2334\n"
     ]
    }
   ],
   "source": [
    "print len(error_data)"
   ]
  },
  {
   "cell_type": "code",
   "execution_count": 122,
   "metadata": {
    "collapsed": false
   },
   "outputs": [
    {
     "name": "stdout",
     "output_type": "stream",
     "text": [
      "33558\n"
     ]
    }
   ],
   "source": [
    "print len(parsed_data)"
   ]
  },
  {
   "cell_type": "code",
   "execution_count": 123,
   "metadata": {
    "collapsed": false
   },
   "outputs": [
    {
     "name": "stdout",
     "output_type": "stream",
     "text": [
      "533\n"
     ]
    }
   ],
   "source": [
    "print len(component_holding)"
   ]
  },
  {
   "cell_type": "code",
   "execution_count": 125,
   "metadata": {
    "collapsed": false
   },
   "outputs": [],
   "source": [
    "#pprint.pprint(error_data)"
   ]
  },
  {
   "cell_type": "code",
   "execution_count": 103,
   "metadata": {
    "collapsed": false
   },
   "outputs": [],
   "source": [
    "def process_file(filename, tagging_df):\n",
    "    parsed_data = []\n",
    "    error_data = []\n",
    "    component_holding = []\n",
    "    initial_components = True\n",
    "    content_focus_component_df = pd.DataFrame(columns=['Strand', 'Sub-Strand', 'Content Focus', 'Component', 'ComponentGUID'])\n",
    "    with open(filename, \"r\") as f:\n",
    "        reader = csv.DictReader(f)\n",
    "        counter = 0\n",
    "        for line in reader:\n",
    "            counter += 1\n",
    "            if counter % 500 == 0:\n",
    "                print counter\n",
    "            error_test = False\n",
    "            component_list = line['Component'].split(\"; \")\n",
    "            content_focus_list = line['Content Focus'].split(\"; \")\n",
    "            #first pass, only process those items that have one component or only one content focus, build data frame of \n",
    "            #allowable strand/substrand/content focus/component combinations\n",
    "            if len(component_list) == 1 or len(content_focus_list) == 1:\n",
    "                row, error_test, component_holding, content_focus_component_df = parse_line( \\\n",
    "                    line, tagging_df, content_focus_list, component_list, error_test, component_holding, \\\n",
    "                    content_focus_component_df, initial_components)\n",
    "                if error_test == True:\n",
    "                    error_data.append(row)                \n",
    "                else: parsed_data.append(row)\n",
    "                if component_holding == True:\n",
    "                    component_holding.append(line)\n",
    "            else: component_holding.append(line)\n",
    "    initial_components = False\n",
    "    #process items sent to component_holding\n",
    "    return parsed_data, error_data, component_holding, content_focus_component_df"
   ]
  },
  {
   "cell_type": "code",
   "execution_count": null,
   "metadata": {
    "collapsed": false
   },
   "outputs": [],
   "source": []
  },
  {
   "cell_type": "code",
   "execution_count": null,
   "metadata": {
    "collapsed": true
   },
   "outputs": [],
   "source": []
  },
  {
   "cell_type": "code",
   "execution_count": 58,
   "metadata": {
    "collapsed": false
   },
   "outputs": [],
   "source": [
    "def parse_line(line, tagging_df, content_focus_list, component_list, error_test, component_holding, \\\n",
    "               content_focus_component_df, initial_components):\n",
    "    row = {}\n",
    "    strand_dict = {}\n",
    "    strand_list = []\n",
    "    differentiator_list = []\n",
    "    content_focus_component_df = pd.DataFrame(columns=['Strand', 'Sub-Strand', 'Content Focus', 'Component', 'ComponentGUID'])\n",
    "    InternalID = int(line['Internal ID'])\n",
    "    #print InternalID\n",
    "    Strand = line['Strand'].split(\"; \")\n",
    "    for strand in Strand:\n",
    "        strand_sub_dict = {}\n",
    "        content_focus_df = tagging_df['Content_Focus']\n",
    "        GUID, error_test = get_GUID_lite(strand, content_focus_df, error_test)\n",
    "        strand_sub_dict = {'Strand': strand, 'GUID' : GUID, 'Substrand': []}\n",
    "        strand_list.append(strand_sub_dict)\n",
    "    if error_test == False:\n",
    "        substrand_list = line['Sub-Strand'].split(\"; \")\n",
    "        strand_list, error_test = processSubstrands(strand_list, substrand_list, content_focus_df, error_test)\n",
    "        if error_test == False:\n",
    "            strand_list, error_test = processContentFocus(strand_list, substrand_list, content_focus_list, content_focus_df, \\\n",
    "                                                            error_test)\n",
    "            if error_test == False and initial_components == True:\n",
    "                component_hold = False\n",
    "                strand_list, error_test, component_hold, content_focus_component_df = processInitialComponent(\\\n",
    "                    strand_list, substrand_list, content_focus_list, component_list, tagging_df['Component'], error_test, \\\n",
    "                    component_hold, content_focus_component_df)\n",
    "            #add 2nd pass component processing\n",
    "            if error_test == False:\n",
    "                differentiator_keys = ['Shape', 'Units', 'Steps']            \n",
    "                for differentiator in differentiator_keys:\n",
    "                    differentiator_sub_list = []\n",
    "                    differentiator_df = tagging_df[differentiator]\n",
    "                    differentiator_values = line[differentiator].split(\"; \")\n",
    "                    for value in differentiator_values:\n",
    "                        differentiator_sub_dict = {}\n",
    "                        GUID, error_test = get_GUID_lite(value, differentiator_df, error_test)\n",
    "                        differentiator_sub_dict = {differentiator: value, 'GUID': GUID}\n",
    "                        differentiator_sub_list.append(differentiator_sub_dict)\n",
    "                        if error_test == True:\n",
    "                            break\n",
    "                    differentiator_list.append(differentiator_sub_list)\n",
    "    row = {\"Internal_ID\": InternalID, \"Organizers\" : strand_list, \"Differentiators\": differentiator_list}\n",
    "    return row, error_test, component_holding, content_focus_component_df"
   ]
  },
  {
   "cell_type": "code",
   "execution_count": 70,
   "metadata": {
    "collapsed": false
   },
   "outputs": [],
   "source": [
    "def processInitialComponent(strand_list, substrand_list, content_focus_list, component_list, df, error_test, component_hold, \\\n",
    "                            content_focus_component_df):\n",
    "    GUID = None\n",
    "    for component in component_list:\n",
    "        if component == 'N/A':\n",
    "            pass\n",
    "        elif len(df[(df['Title']==lowercase(component))]) == 0:  \n",
    "            error_test = True\n",
    "            error_message = 'Error: Component ' + component + ' not found in master list'\n",
    "            strand_list[0]['Substrand'][0]['Content Focus'][0]['Component'].append({'Component': component, \\\n",
    "                                                                                    'GUID': error_message})\n",
    "            break\n",
    "    if len(content_focus_list) == 1:\n",
    "        for component in component_list:\n",
    "            strand_list, error_test, component_hold, guid, content_focus_component_df = getComponentGUID( \\\n",
    "                strand_list[0]['Strand'], strand_list, substrand_list[0], content_focus_list[0], component, df, error_test, \\\n",
    "                component_hold, content_focus_component_df) \n",
    "            #add to content_focus_component_df\n",
    "    elif len(substrand_list) == len(component_list):\n",
    "        strand_list, error_test, component_hold, content_focus_component_df = matchInitialComponent(strand_list, substrand_list,\\\n",
    "                            content_focus_list, component_list, df, error_test, len(component_list), content_focus_component_df)            \n",
    "    else: \n",
    "        component_hold = True\n",
    "    return strand_list, error_test, component_hold, content_focus_component_df\n",
    "\n",
    "def getComponentGUID(strand, strand_list, substrand, content_focus, component, df, error_test, component_hold, \\\n",
    "                     content_focus_component_df): \n",
    "    ComponentGUID = \"\"\n",
    "    strand_index = next(index for (index, d) in enumerate(strand_list) if d[\"Strand\"] == strand)\n",
    "    substrand_index = next(index for (index, d) in enumerate( \\\n",
    "            strand_list[strand_index]['Substrand']) if d[\"Substrand\"] == substrand)    \n",
    "    content_focus_index = next(index for (index, d) in enumerate( \\\n",
    "            strand_list[strand_index]['Substrand'][substrand_index]['Content Focus']) if d[\"Content Focus\"] == content_focus)\n",
    "    if lowercase(component) == \"n/a\":\n",
    "        strand_list[strand_index]['Substrand'][substrand_index]['Content Focus'][content_focus_index]['Component'].append( \\\n",
    "            {'Component': component, 'GUID': 'N/A'})\n",
    "        content_focus_component_df = checkContentFocusComponent(strand, substrand, content_focus, component, \\\n",
    "                                                             content_focus_component_df, 'N/A')\n",
    "    elif len(df[(df['Strand']==lowercase(strand)) & (df['Sub-Strand']==lowercase(substrand)) & \\\n",
    "              (df['Title']==lowercase(component))]) == 1:\n",
    "        ComponentGUID = df.ix[(df['Strand']==lowercase(strand)) & (df['Sub-Strand']==lowercase(substrand)) & \\\n",
    "                              (df['Title']==lowercase(component)), 'Unique ID'].item()\n",
    "        strand_list[strand_index]['Substrand'][substrand_index]['Content Focus'][content_focus_index]['Component'].append( \\\n",
    "            {'Component': component, 'GUID': ComponentGUID})\n",
    "        content_focus_component_df = checkContentFocusComponent(strand, substrand, content_focus, component, \\\n",
    "                                                             content_focus_component_df, ComponentGUID)\n",
    "    elif len(df[(df['Strand']==lowercase(strand)) & (df['Sub-Strand']==lowercase(substrand)) & \\\n",
    "                (df['Example Content Focus']==lowercase(content_focus)) & (df['Title']==lowercase(component))]) == 1:\n",
    "        ComponentGUID = df.ix[(df['Strand']==lowercase(strand)) & (df['Sub-Strand']==lowercase(substrand)) & \\\n",
    "                              (df['Example Content Focus']==lowercase(content_focus)) & (df['Title']==lowercase(component)),\\\n",
    "                              'Unique ID'].item()\n",
    "        strand_list[strand_index]['Substrand'][substrand_index]['Content Focus'][content_focus_index]['Component'].append( \\\n",
    "            {'Component': component, 'GUID': ComponentGUID})\n",
    "        content_focus_component_df = checkContentFocusComponent(strand, substrand, content_focus, component, \\\n",
    "                                                             content_focus_component_df, ComponentGUID)\n",
    "    elif len(df[(df['Strand']==lowercase(strand)) & (df['Title']==lowercase(component))]) == 1:\n",
    "        ComponentGUID = df.ix[(df['Strand']==lowercase(strand)) & (df['Title']==lowercase(component)), 'Unique ID'].item()\n",
    "        strand_list[strand_index]['Substrand'][substrand_index]['Content Focus'][content_focus_index]['Component'].append( \\\n",
    "            {'Component': component, 'GUID': ComponentGUID})\n",
    "        content_focus_component_df = checkContentFocusComponent(strand, substrand, content_focus, component, \\\n",
    "                                                             content_focus_component_df, ComponentGUID)\n",
    "    elif len(df[(df['Strand']==lowercase(strand)) & (df['Sub-Strand']==lowercase(substrand)) & \n",
    "                (df['Title']==lowercase(component))]) > 1:\n",
    "        strand_list[strand_index]['Substrand'][substrand_index]['Content Focus'][content_focus_index]['Component'].append( \\\n",
    "            {'Component': component, 'GUID': 'Holding'})\n",
    "        component_hold = True\n",
    "        content_focus_component_df = checkContentFocusComponent(strand, substrand, content_focus, component, \\\n",
    "                                                             content_focus_component_df, ComponentGUID)\n",
    "    else: \n",
    "        strand_list[strand_index]['Substrand'][substrand_index]['Content Focus'][content_focus_index]['Component'].append( \\\n",
    "            {'Component': component, 'GUID': 'Error: No Strand/Substrand/Component match found in master list'})\n",
    "        error_test = True\n",
    "    return strand_list, error_test, component_hold, ComponentGUID, content_focus_component_df\n",
    "\n",
    "def matchInitialComponent(strand_list, substrand_list, content_focus_list, component_list, df, error_test, matchlimit, \\\n",
    "                          content_focus_component_df):\n",
    "    component_hold = False\n",
    "    strand_substrand_names =[]\n",
    "    for strand in strand_list:\n",
    "        strand_name = strand['Strand']\n",
    "        for substrand in strand['Substrand']:\n",
    "            strand_substrand_names.append(strand_name + '; ' + substrand['Substrand'])\n",
    "\n",
    "    match_status = pd.DataFrame(False,index=strand_substrand_names,columns=component_list)\n",
    "    strand_substrand_names[0].split('; ')[0]\n",
    "\n",
    "    for strand_substrand in strand_substrand_names:\n",
    "        #Need to use substrand and also pull strand from strand list, might be easier to build from strand, down\n",
    "        for component in component_list:\n",
    "            initial_match_length = len(df[(df['Strand']==lowercase(strand_substrand.split('; ')[0])) & \\\n",
    "                                          (df['Sub-Strand']==lowercase(strand_substrand.split('; ')[1]))& \\\n",
    "                                          (df['Title']==lowercase(component))])\n",
    "            if  initial_match_length == 1:\n",
    "                match_status.ix[strand_substrand, component] = True\n",
    "            elif initial_match_length > 1:\n",
    "                    if len(df[(df['Strand']==lowercase(strand_substrand.split('; ')[0])) & \\\n",
    "                              (df['Sub-Strand']==lowercase(strand_substrand.split('; ')[1])) & \\\n",
    "                              (df['Example Content Focus']==lowercase(content_focus_list[0])) & \\\n",
    "                              (df['Title']==lowercase(component))]) == 1:\n",
    "                        match_status.ix[strand_substrand, component] = True\n",
    "                \n",
    "    if int(match_status.sum().sum()) == matchlimit:\n",
    "    #get the strand,substrand pairs where match_status is true  \n",
    "        true_pairs = list(match_status[match_status == True].stack().index)\n",
    "        #print true_pairs\n",
    "        for pair in true_pairs:\n",
    "            strand_list, error_test, component_hold, GUID, content_focus_component_df = getComponentGUID(\n",
    "                pair[0].split('; ')[0], strand_list, pair[0].split('; ')[1], content_focus_list[0], pair[1], component_df, \\\n",
    "                error_test, component_hold, content_focus_component_df)\n",
    "    else: \n",
    "        #strand_list[0]['Substrand'][0]['Content Focus'][0]['Component'].append({'Component': component, 'GUID': 'Error: Component not found'})\n",
    "        component_hold = True\n",
    "    return strand_list, error_test, component_hold, content_focus_component_df\n",
    "\n",
    "\n",
    "def checkContentFocusComponent(strand, substrand, content_focus, component, content_focus_component_df, GUID):\n",
    "    if len(content_focus_component_df[(content_focus_component_df['ComponentGUID']==GUID)]) == 0:\n",
    "        #add group to content_focus_component_df\n",
    "        df_add = {'Strand': lowercase(strand), 'Sub-Strand': lowercase(substrand), \\\n",
    "                  'Content Focus': lowercase(content_focus), \"Component\": lowercase(component), \\\n",
    "                  \"ComponentGUID\": GUID}\n",
    "        content_focus_component_df = content_focus_component_df.append(df_add, ignore_index = True)\n",
    "    return content_focus_component_df"
   ]
  },
  {
   "cell_type": "code",
   "execution_count": 31,
   "metadata": {
    "collapsed": false
   },
   "outputs": [],
   "source": [
    "def processSubstrands(strand_list, substrand_list, df, error_test):\n",
    "    GUID = None\n",
    "    for substrand in substrand_list:\n",
    "        if len(df[(df['Title']==lowercase(substrand))]) == 0:  \n",
    "            error_test = True\n",
    "            error_message = 'Error: Substrand ' + substrand + ' not found in master list'\n",
    "            strand_list[0]['Substrand'].append({'Substrand': substrand_list[0], 'GUID': error_message})\n",
    "            break\n",
    "    if len(substrand_list) < len(strand_list):\n",
    "        error_test = True\n",
    "        strand_list[0]['Substrand'].append({'Substrand': substrand_list[0], 'GUID': 'Error: more strands than substrands'})\n",
    "    elif len(strand_list) == 1: \n",
    "        for substrand in substrand_list:\n",
    "            strand_list, error_test = getSubstrandGUID(strand_list[0]['Strand'], strand_list, substrand, df, error_test)    \n",
    "    elif len(substrand_list) == 2 and len(strand_list) == 2:\n",
    "        strand_list, error_test = matchStrandsSubstrands(strand_list, substrand_list, df, error_test, 2)\n",
    "    elif len(substrand_list) == 3 and len(strand_list) == 2:\n",
    "        strand_list, error_test = matchStrandsSubstrands(strand_list, substrand_list, df, error_test, 3)\n",
    "    else: \n",
    "        error_test = True\n",
    "        strand_list[0]['Substrand'].append({'Substrand': substrand_list[0], 'GUID': \\\n",
    "                                            'Error: Multiple substrands, cannot parse yet'})\n",
    "    return strand_list, error_test\n",
    "\n",
    "#Build a data frame to track match status to determine whether strand-substrand pairings can be deduced    \n",
    "def matchStrandsSubstrands(strand_list, substrand_list, df, error_test, matchlimit):\n",
    "    strand_names = []\n",
    "    for strand in strand_list:\n",
    "        strand_names.append(strand['Strand'])\n",
    "\n",
    "    match_status = pd.DataFrame(False,index=strand_names,columns=substrand_list)\n",
    "\n",
    "    for strand in strand_names:\n",
    "        for substrand in substrand_list:\n",
    "            if len(df[(df['Strand']==lowercase(strand)) & (df['Title']==lowercase(substrand))]) == 1:\n",
    "                match_status.ix[strand,substrand] = True\n",
    "    \n",
    "    if int(match_status.sum().sum()) == matchlimit:\n",
    "    #get the strand,substrand pairs where match_status is true  \n",
    "        true_pairs = list(match_status[match_status == True].stack().index)\n",
    "        for pair in true_pairs:\n",
    "            strand_list, error_test = getSubstrandGUID(pair[0], strand_list, pair[1], df, error_test)\n",
    "    else: \n",
    "        strand_list[0]['Substrand'].append({'Substrand': substrand_list[0], \\\n",
    "                                            'GUID': 'Error: Ambiguous strand/substrand relationships'})\n",
    "        error_test = True\n",
    "    return strand_list, error_test\n",
    "\n",
    "def getSubstrandGUID(strand, strand_list, substrand, df, error_test): \n",
    "    if len(df[(df['Strand']==lowercase(strand)) & (df['Title']==lowercase(substrand))]) == 1:\n",
    "        SubstrandGUID = df.ix[(df['Strand']==lowercase(strand)) & (df['Title']==lowercase(substrand)), 'Unique ID'].item()\n",
    "        strand_list[next(index for (index, d) in enumerate(strand_list) if d[\"Strand\"] == strand)]['Substrand'].append( \\\n",
    "            {'Substrand': substrand, 'GUID': SubstrandGUID, 'Content Focus': []})\n",
    "    else: \n",
    "        strand_list[next(index for (index, d) in enumerate(strand_list) if d[\"Strand\"] == strand)]['Substrand'].append( \\\n",
    "            {'Substrand': substrand, 'GUID': 'Error: No Strand/Substrand match found in master list'})\n",
    "        error_test = True\n",
    "    return strand_list, error_test"
   ]
  },
  {
   "cell_type": "code",
   "execution_count": 51,
   "metadata": {
    "collapsed": false
   },
   "outputs": [],
   "source": [
    "def processContentFocus(strand_list, substrand_list, content_focus_list, df, error_test):\n",
    "    GUID = None\n",
    "    for content_focus in content_focus_list:\n",
    "        if len(df[(df['Title']==lowercase(content_focus))]) == 0:  \n",
    "            error_test = True\n",
    "            error_message = 'Error: Content Focus ' + content_focus + ' not found in master list'\n",
    "            strand_list[0]['Substrand'][0]['Content Focus'].append({'Content Focus': content_focus, 'GUID': error_message})\n",
    "            break\n",
    "    if len(content_focus_list) < len(substrand_list):\n",
    "        error_test = True\n",
    "        strand_list[0]['Substrand'][0]['Content Focus'].append({'Content Focus': content_focus, 'GUID': \\\n",
    "                                                                'Error: more Substrands than Content Focus terms'})\n",
    "    elif len(substrand_list) == 1: \n",
    "        for content_focus in content_focus_list:\n",
    "            strand_list, error_test = getContentFocusGUID(strand_list[0]['Strand'], strand_list, substrand_list[0], \\\n",
    "                                                          content_focus, df, error_test)    \n",
    "    else:\n",
    "        strand_list, error_test = matchSubstrandsContentFocus(strand_list, content_focus_list, df, error_test, \\\n",
    "                                                              len(content_focus_list))\n",
    "    return strand_list, error_test\n",
    "\n",
    "def matchSubstrandsContentFocus(strand_list, content_focus_list, df, error_test, matchlimit):\n",
    "    strand_substrand_names =[]\n",
    "    for strand in strand_list:\n",
    "        strand_name = strand['Strand']\n",
    "        for substrand in strand['Substrand']:\n",
    "            strand_substrand_names.append(strand_name + '; ' + substrand['Substrand'])\n",
    "\n",
    "    match_status = pd.DataFrame(False,index=strand_substrand_names,columns=content_focus_list)\n",
    "    for strand_substrand in strand_substrand_names:\n",
    "        for content_focus in content_focus_list:\n",
    "            #print strand_substrand\n",
    "            #print content_focus\n",
    "            if len(df[(df['Strand']==lowercase(strand_substrand.split('; ')[0])) & \\\n",
    "                      (df['Sub-Strand']==lowercase(strand_substrand.split('; ')[1]))& \\\n",
    "                      (df['Title']==lowercase(content_focus))]) == 1:\n",
    "                match_status.ix[strand_substrand, content_focus] = True\n",
    "\n",
    "    if int(match_status.sum().sum()) == matchlimit:\n",
    "    #get the strand,substrand pairs where match_status is true  \n",
    "        true_pairs = list(match_status[match_status == True].stack().index)\n",
    "        #print true_pairs\n",
    "        for pair in true_pairs:\n",
    "            strand_list, error_test = getContentFocusGUID(pair[0].split('; ')[0], strand_list, pair[0].split('; ')[1],  \\\n",
    "                                                          pair[1], df, error_test)\n",
    "    elif int(match_status.sum().sum()) < matchlimit:\n",
    "        strand_list[0]['Substrand'][0]['Content Focus'].append({'Content Focus': content_focus, 'GUID': \\\n",
    "                                                                'Error: One or more content focus terms not found'})\n",
    "        error_test = True\n",
    "    else: \n",
    "        strand_list[0]['Substrand'][0]['Content Focus'].append({'Content Focus': content_focus, 'GUID': \\\n",
    "                                                            'Error: Ambiguous strand/substrand/content focus relationships'})\n",
    "        error_test = True\n",
    "    return strand_list, error_test\n",
    "\n",
    "def getContentFocusGUID(strand, strand_list, substrand, content_focus, df, error_test): \n",
    "    strand_index = next(index for (index, d) in enumerate(strand_list) if d[\"Strand\"] == strand)\n",
    "    substrand_index = next(index for (index, d) in enumerate( \\\n",
    "                                                     strand_list[strand_index]['Substrand']) if d[\"Substrand\"] == substrand)    \n",
    "    if len(df[(df['Strand']==lowercase(strand)) & (df['Sub-Strand']==lowercase(substrand)) & \\\n",
    "              (df['Title']==lowercase(content_focus))]) == 1:\n",
    "        ContentFocusGUID = df.ix[(df['Strand']==lowercase(strand)) & (df['Sub-Strand']==lowercase(substrand)) & \\\n",
    "                                 (df['Title']==lowercase(content_focus)), 'Unique ID'].item()\n",
    "        strand_list[strand_index]['Substrand'][substrand_index]['Content Focus'].append( \\\n",
    "                            {'Content Focus': content_focus, 'GUID': ContentFocusGUID, 'Component': []})\n",
    "    else: \n",
    "        strand_list[strand_index]['Substrand'][substrand_index]['Content Focus'].append( \\\n",
    "                            {'Content Focus': content_focus, 'GUID': 'Error: No Strand/Substrand match found in master list'})\n",
    "        error_test = True\n",
    "    return strand_list, error_test"
   ]
  },
  {
   "cell_type": "code",
   "execution_count": 8,
   "metadata": {
    "collapsed": true
   },
   "outputs": [],
   "source": [
    "def lowercase(text):\n",
    "    return unicode(text, \"latin2\").lower()"
   ]
  },
  {
   "cell_type": "code",
   "execution_count": 9,
   "metadata": {
    "collapsed": false
   },
   "outputs": [],
   "source": [
    "def Load_GUIDs(filename):\n",
    "    data = []\n",
    "    fields = {}\n",
    "    with open(filename, \"r\") as f:\n",
    "        reader = csv.DictReader(f)\n",
    "        for line in reader:\n",
    "            data.append(line)\n",
    "    #strip capitalization for matching purposes\n",
    "    data = pd.DataFrame(data)\n",
    "    df_lowercase(data, 'Title')\n",
    "    if len(data.columns) == 6:\n",
    "        df_lowercase(data, 'Strand')\n",
    "        df_lowercase(data, 'Sub-Strand')\n",
    "    if len(data.columns) == 7:\n",
    "        df_lowercase(data, 'Strand')\n",
    "        df_lowercase(data, 'Sub-Strand')\n",
    "        df_lowercase(data, 'Example Content Focus')\n",
    "    return data"
   ]
  },
  {
   "cell_type": "code",
   "execution_count": 10,
   "metadata": {
    "collapsed": false
   },
   "outputs": [],
   "source": [
    "def df_lowercase(dataframe, column):\n",
    "    lowercase = lambda x: unicode(x, \"latin2\").lower()\n",
    "    dataframe[column] = dataframe[column].apply(lowercase)\n",
    "    return dataframe"
   ]
  },
  {
   "cell_type": "code",
   "execution_count": 112,
   "metadata": {
    "collapsed": false
   },
   "outputs": [],
   "source": [
    "def get_GUID_lite(tag, df, error_test): \n",
    "    #get GUID for steps, number, units, shape\n",
    "    tag = unicode(tag, \"latin2\").lower()\n",
    "    matches = len(df.ix[df['Title'] == tag])\n",
    "    if matches == 1:\n",
    "        GUID = df.ix[df['Title'] == tag, 'Unique ID'].item()\n",
    "    elif matches ==0:\n",
    "        if tag == r'n/a':\n",
    "            GUID = r'N/A'\n",
    "        elif tag == '0':\n",
    "            GUID = \"Field not tagged\"\n",
    "        else: \n",
    "            GUID = \"Error: no matches found\"\n",
    "            error_test = True\n",
    "    else: \n",
    "        GUID = \"Error: resolve multiple values\"\n",
    "        error_test = True\n",
    "    return GUID, error_test"
   ]
  },
  {
   "cell_type": "code",
   "execution_count": null,
   "metadata": {
    "collapsed": false
   },
   "outputs": [],
   "source": [
    "'''\n",
    "Data structure\n",
    "\n",
    "{Internal ID: value\n",
    "    {Organizers: [\n",
    "        {Strand: [ {Strand: Strand_value,\n",
    "                   Strand_GUID: GUID,\n",
    "                   Substrand: [{Substrand: Substrand_value,\n",
    "                                Substrand_GUID: GUID,\n",
    "                                Content_Focus: [{Content_Focus: Content_Focus_value,                       \n",
    "                                                Content_Focus_GUID: GUID,\n",
    "                                                Component: [{Component: Component_value,\n",
    "                                                              Component_GUID: GUID}]}]}]}]\n",
    "        {Descriptors: \n",
    "                        {Number: [N1, N2, ...]}\n",
    "                            {Digits: [D1, D2, ...]}\n",
    "                        {Shape: [Shape1, ...]}\n",
    "                        {Units: [Units1, ...]}\n",
    "                        {Steps: Steps}\n",
    "                        {Context: Context}\n",
    "                        {SIG Stem: [Sig Stem1, ...]}\n",
    "                        {SIG Options: [SIG Options1, ...]}\n",
    "                        {Additional Modifiers: [AM1, ...]}\n",
    "}\n",
    "\n",
    "'''"
   ]
  },
  {
   "cell_type": "code",
   "execution_count": null,
   "metadata": {
    "collapsed": false
   },
   "outputs": [],
   "source": []
  },
  {
   "cell_type": "code",
   "execution_count": null,
   "metadata": {
    "collapsed": false
   },
   "outputs": [],
   "source": []
  },
  {
   "cell_type": "markdown",
   "metadata": {
    "collapsed": false
   },
   "source": [
    "Scratch area"
   ]
  },
  {
   "cell_type": "code",
   "execution_count": null,
   "metadata": {
    "collapsed": false
   },
   "outputs": [],
   "source": [
    "df = component_df\n",
    "strand = 'Geometry and Measurement'\n",
    "substrand = 'Coordinate Plane'\n",
    "component = 'First Quadrant'\n",
    "content_focus = 'Graph Points'\n",
    "content_focus_component_df = pd.DataFrame(columns=['Strand', 'Sub-Strand', 'Content Focus', 'Component', 'ComponentGUID'])\n",
    "ComponentGUID = 'test'\n",
    "content_focus_component_df = checkContentFocusComponent(strand, substrand, content_focus, component, \\\n",
    "                                                             content_focus_component_df, ComponentGUID)\n",
    "print content_focus_component_df\n",
    "#print df[(df['Strand']==lowercase(strand)) & (df['Title']==lowercase(component))]"
   ]
  },
  {
   "cell_type": "code",
   "execution_count": null,
   "metadata": {
    "collapsed": true
   },
   "outputs": [],
   "source": [
    "def matchHeldComponent(strand_list, substrand_list, content_focus_list, component_list, error_test, content_focus_component_df):\n",
    "    component_hold = False\n",
    "    strand_substrand_cf_names =[]\n",
    "    for strand in strand_list:\n",
    "        for substrand in strand['Substrand']:\n",
    "            for content_focus in content_focus_list:\n",
    "                strand_substrand_cf_names.append(strand['Strand'] + '; ' + substrand['Substrand'] + '; ' +\\\n",
    "                                                 content_focus)\n",
    "\n",
    "    match_status = pd.DataFrame(False,index=strand_substrand_cf_names,columns=component_list)\n",
    "#    strand_substrand_names[0].split('; ')[0]\n",
    "\n",
    "    for strand_substrand_cf in strand_substrand_cf_names:\n",
    "        #Need to use substrand and also pull strand from strand list, might be easier to build from strand, down\n",
    "        for component in component_list:\n",
    "           \n",
    "            elif initial_match_length > 1:\n",
    "                    if len(content_focus_component_df[\\\n",
    "                            (content_focus_component_df['Strand']==lowercase(strand_substrand.split('; ')[0])) & \\\n",
    "                            (content_focus_component_df['Sub-Strand']==lowercase(strand_substrand.split('; ')[1])) & \\\n",
    "                              (content_focus_component_df['Content Focus']==lowercase(content_focus_list[0])) & \\\n",
    "                              (content_focus_component_df['Component']==lowercase(component))]) == 1:\n",
    "                        match_status.ix[strand_substrand_cf, component] = True\n",
    "                \n",
    "    if int(match_status.sum().sum()) == len(component_list:\n",
    "    #get the strand,substrand pairs where match_status is true  \n",
    "        true_pairs = list(match_status[match_status == True].stack().index)\n",
    "        #print true_pairs\n",
    "        for pair in true_pairs:\n",
    "#            strand_list, error_test, component_hold, GUID, content_focus_component_df = getComponentGUID(\n",
    "#                pair[0].split('; ')[0], strand_list, pair[0].split('; ')[1], content_focus_list[0], pair[1], component_df, \\\n",
    "#                error_test, component_hold, content_focus_component_df)\n",
    "    else: \n",
    "        #strand_list[0]['Substrand'][0]['Content Focus'][0]['Component'].append({'Component': component, 'GUID': 'Error: Component not found'})\n",
    "        component_hold = True\n",
    "    return strand_list, error_test, component_hold, content_focus_component_df\n",
    "\n",
    "def getHeldComponentGUID(strand, substrand, content_focus, component, error_test, content_focus_component_df): \n",
    "    ComponentGUID = \"\"\n",
    "\n",
    "    ******Stopped here***********                                        \n",
    "    if lowercase(component) == \"n/a\":\n",
    "        strand_list[strand_index]['Substrand'][substrand_index]['Content Focus'][content_focus_index]['Component'].append( \\\n",
    "            {'Component': component, 'GUID': 'N/A'})\n",
    "        content_focus_component_df = checkContentFocusComponent(strand, substrand, content_focus, component, \\\n",
    "                                                             content_focus_component_df, 'N/A')\n",
    "    elif len(df[(df['Strand']==lowercase(strand)) & (df['Sub-Strand']==lowercase(substrand)) & \\\n",
    "              (df['Title']==lowercase(component))]) == 1:\n",
    "        ComponentGUID = df.ix[(df['Strand']==lowercase(strand)) & (df['Sub-Strand']==lowercase(substrand)) & \\\n",
    "                              (df['Title']==lowercase(component)), 'Unique ID'].item()\n",
    "        strand_list[strand_index]['Substrand'][substrand_index]['Content Focus'][content_focus_index]['Component'].append( \\\n",
    "            {'Component': component, 'GUID': ComponentGUID})\n",
    "        content_focus_component_df = checkContentFocusComponent(strand, substrand, content_focus, component, \\\n",
    "                                                             content_focus_component_df, ComponentGUID)\n",
    "    elif len(df[(df['Strand']==lowercase(strand)) & (df['Sub-Strand']==lowercase(substrand)) & \\\n",
    "                (df['Example Content Focus']==lowercase(content_focus)) & (df['Title']==lowercase(component))]) == 1:\n",
    "        ComponentGUID = df.ix[(df['Strand']==lowercase(strand)) & (df['Sub-Strand']==lowercase(substrand)) & \\\n",
    "                              (df['Example Content Focus']==lowercase(content_focus)) & (df['Title']==lowercase(component)),\\\n",
    "                              'Unique ID'].item()\n",
    "        strand_list[strand_index]['Substrand'][substrand_index]['Content Focus'][content_focus_index]['Component'].append( \\\n",
    "            {'Component': component, 'GUID': ComponentGUID})\n",
    "        content_focus_component_df = checkContentFocusComponent(strand, substrand, content_focus, component, \\\n",
    "                                                             content_focus_component_df, ComponentGUID)\n",
    "    elif len(df[(df['Strand']==lowercase(strand)) & (df['Title']==lowercase(component))]) == 1:\n",
    "        ComponentGUID = df.ix[(df['Strand']==lowercase(strand)) & (df['Title']==lowercase(component)), 'Unique ID'].item()\n",
    "        strand_list[strand_index]['Substrand'][substrand_index]['Content Focus'][content_focus_index]['Component'].append( \\\n",
    "            {'Component': component, 'GUID': ComponentGUID})\n",
    "        content_focus_component_df = checkContentFocusComponent(strand, substrand, content_focus, component, \\\n",
    "                                                             content_focus_component_df, ComponentGUID)\n",
    "    elif len(df[(df['Strand']==lowercase(strand)) & (df['Sub-Strand']==lowercase(substrand)) & \n",
    "                (df['Title']==lowercase(component))]) > 1:\n",
    "        strand_list[strand_index]['Substrand'][substrand_index]['Content Focus'][content_focus_index]['Component'].append( \\\n",
    "            {'Component': component, 'GUID': 'Holding'})\n",
    "        component_hold = True\n",
    "        content_focus_component_df = checkContentFocusComponent(strand, substrand, content_focus, component, \\\n",
    "                                                             content_focus_component_df, ComponentGUID)\n",
    "    else: \n",
    "        strand_list[strand_index]['Substrand'][substrand_index]['Content Focus'][content_focus_index]['Component'].append( \\\n",
    "            {'Component': component, 'GUID': 'Error: No Strand/Substrand/Component match found in master list'})\n",
    "        error_test = True\n",
    "    return strand_list, error_test, component_hold, ComponentGUID, content_focus_component_df"
   ]
  },
  {
   "cell_type": "code",
   "execution_count": null,
   "metadata": {
    "collapsed": true
   },
   "outputs": [],
   "source": [
    "Note to self: Need to take care of case where fewer Components than Content Focus (Likely N/A)"
   ]
  }
 ],
 "metadata": {
  "anaconda-cloud": {},
  "kernelspec": {
   "display_name": "Python [conda root]",
   "language": "python",
   "name": "conda-root-py"
  },
  "language_info": {
   "codemirror_mode": {
    "name": "ipython",
    "version": 2
   },
   "file_extension": ".py",
   "mimetype": "text/x-python",
   "name": "python",
   "nbconvert_exporter": "python",
   "pygments_lexer": "ipython2",
   "version": "2.7.12"
  }
 },
 "nbformat": 4,
 "nbformat_minor": 1
}
