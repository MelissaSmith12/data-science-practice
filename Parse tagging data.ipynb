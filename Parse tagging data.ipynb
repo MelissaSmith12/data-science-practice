{
 "cells": [
  {
   "cell_type": "code",
   "execution_count": 1,
   "metadata": {
    "collapsed": false
   },
   "outputs": [],
   "source": [
    "import pandas as pd\n",
    "import numpy\n",
    "import codecs\n",
    "import csv\n",
    "import json\n",
    "import pprint\n",
    "import re\n",
    "\n",
    "filename = \"math sample for API testing.csv\"\n",
    "\n",
    "fields ={'Internal_ID': 'Internal_ID',\n",
    "         'Strand': 'Strand',\n",
    "         'Sub-Strand': 'Substrand',\n",
    "         'Content Focus': 'Content_Focus',\n",
    "         'Component': 'Component',\n",
    "         'Number': 'Number',\n",
    "         'Digits': 'Digits',\n",
    "         'Shape': 'Shape',\n",
    "         'Units': 'Units',\n",
    "         'Steps': 'Steps',\n",
    "         'Context': 'Context',\n",
    "         'SIG Stem': 'SIG_Stem',\n",
    "         'SIG Options': 'SIG_Options',\n",
    "         'Additional Modifiers': 'Additional_Modifiers'}"
   ]
  },
  {
   "cell_type": "code",
   "execution_count": 17,
   "metadata": {
    "collapsed": false
   },
   "outputs": [],
   "source": [
    "def process_file(filename, fields, tagging_df):\n",
    "    process_fields = fields.keys()\n",
    "    data = []\n",
    "    holding = []\n",
    "#    data_keys = ['Internal ID', 'Strand','Substrand', 'Content_focus', 'Component', 'Number', 'Digits', 'Shape', 'Units', 'Steps', 'Context', 'SIG Stem', 'SIG Options', 'Additional Modifiers']\n",
    "    with open(filename, \"r\") as f:\n",
    "        reader = csv.DictReader(f)\n",
    "        for i in range(1):\n",
    "            l = reader.next()\n",
    "\n",
    "        for line in reader:\n",
    "            holding_test = 'FALSE'\n",
    "            row = {}\n",
    "            strand_dict = {}\n",
    "            strand_list = []\n",
    "            InternalID = int(line['Internal ID'])\n",
    "            Strand = line['Strand'].split(\"; \")\n",
    "            for strand in Strand:\n",
    "                strand_sub_dict = {}\n",
    "                content_focus_df = tagging_df['Content_Focus']\n",
    "                StrandGUID = get_GUID_lite(strand, content_focus_df)\n",
    "                strand_sub_dict = {'Strand': strand, 'StrandGUID' : StrandGUID}\n",
    "                strand_list.append(strand_sub_dict)\n",
    "            #strand_dict = {\"Strand\": strand_list} \n",
    "                   \n",
    "            #row['Substrand'] = line['Sub-Strand'].split(\"; \")\n",
    "            #Substrand = line['Sub-Strand'].split(\"; \")\n",
    "            #for substrand in Substrand:\n",
    "            #    SubstrandGUID = get_SubstrandGUID(strand_list, substrand, content_focus_df)\n",
    "            #    substrand_sub_dict = {'Sub-strand': substrand, 'Sub-strandGUID': SubstrandGUID}\n",
    "                #Need to place substrand underneath correct dictionary element in strand list\n",
    "                 \n",
    "                \n",
    "            Differentiator_Keys = ['Number', 'Shape', 'Units', 'Steps']            \n",
    "            Differentiator_List = []\n",
    "            for Differentiator in Differentiator_Keys:\n",
    "                Differentiator_values = line[Differentiator].split(\"; \")\n",
    "                Differentiator_sub_dict = {}\n",
    "                Differentiator_df = tagging_df[Differentiator]\n",
    "                DifferentiatorGUID_Name = Differentiator + \"GUID\"\n",
    "                for value in Differentiator_values:\n",
    "                    DifferentiatorGUID = get_GUID_lite(value, Differentiator_df)\n",
    "                    Differentiator_sub_dict = {Differentiator: value, DifferentiatorGUID_Name : DifferentiatorGUID}\n",
    "                Differentiator_List.append(Differentiator_sub_dict)\n",
    "            #Process Differentiators\n",
    "            \n",
    "            \n",
    "#            if SubstrandGUID contains \"Error\":\n",
    "#            holding_test == 'TRUE'        \n",
    "            \n",
    "            row = {\"Internal_ID\": InternalID, \"Organizers\" : strand_list, \"Differentiators\": Differentiator_List}\n",
    "            \n",
    "    #At end, test to determine whether any element in dictionary starts with \"Error\". If so, change holding_value\n",
    "                    \n",
    "#            for key,value in fields.items():\n",
    "#                row[value] = (line[key]).split(\"; \")\n",
    "#                #If strand, substrand, Content Focus or Numbers field in raw data has \";\", then add to holding list\n",
    "#                if (value == \"Strand\" or value == \"Substrand\" or value == \"Content_Focus\" or value == \"Number\") and (re.search(';', line[key])):\n",
    "#                    holding_test = 'TRUE'\n",
    "#            if holding_test == 'TRUE':\n",
    "#                holding.append(row) \n",
    "#            else:  \n",
    "            data.append(row)\n",
    "    #Process holding list\n",
    "    #Do the row have multiple values in strand both and substrand? If yes, then consult table_of_values to figure out what should get \n",
    "    #paired together\n",
    "    #pprint.pprint(holding)\n",
    "    return data"
   ]
  },
  {
   "cell_type": "code",
   "execution_count": 18,
   "metadata": {
    "collapsed": false
   },
   "outputs": [
    {
     "name": "stdout",
     "output_type": "stream",
     "text": [
      "[{'Differentiators': [{'Number': 'Square roots',\n",
      "                       'NumberGUID': '1690A96C-97C3-11E6-88DC-EDD729C466BA'},\n",
      "                      {'Shape': 'Arc',\n",
      "                       'ShapeGUID': '1E3B9636-97C8-11E6-8048-1FDE29C466BA'},\n",
      "                      {'Units': 'N/A', 'UnitsGUID': 'no matches found'},\n",
      "                      {'Steps': 'two Step',\n",
      "                       'StepsGUID': 'F024BB90-97E2-11E6-9F49-DB8029C466BA'}],\n",
      "  'Internal_ID': 333179,\n",
      "  'Organizers': [{'Strand': 'Geometry and Measurement',\n",
      "                  'StrandGUID': 'D66D958E-8BFB-11E6-921B-89CC29C466BA'},\n",
      "                 {'Strand': 'Algebra',\n",
      "                  'StrandGUID': 'D66A43AC-8BFB-11E6-921B-89CC29C466BA'}]},\n",
      " {'Differentiators': [{'Number': 'Square roots',\n",
      "                       'NumberGUID': '1690A96C-97C3-11E6-88DC-EDD729C466BA'},\n",
      "                      {'Shape': 'Arc',\n",
      "                       'ShapeGUID': '1E3B9636-97C8-11E6-8048-1FDE29C466BA'},\n",
      "                      {'Units': 'N/A', 'UnitsGUID': 'no matches found'},\n",
      "                      {'Steps': 'two Step',\n",
      "                       'StepsGUID': 'F024BB90-97E2-11E6-9F49-DB8029C466BA'}],\n",
      "  'Internal_ID': 333010,\n",
      "  'Organizers': [{'Strand': 'Geometry and Measurement',\n",
      "                  'StrandGUID': 'D66D958E-8BFB-11E6-921B-89CC29C466BA'},\n",
      "                 {'Strand': 'Algebra',\n",
      "                  'StrandGUID': 'D66A43AC-8BFB-11E6-921B-89CC29C466BA'}]},\n",
      " {'Differentiators': [{'Number': 'Square roots',\n",
      "                       'NumberGUID': '1690A96C-97C3-11E6-88DC-EDD729C466BA'},\n",
      "                      {'Shape': 'Arc',\n",
      "                       'ShapeGUID': '1E3B9636-97C8-11E6-8048-1FDE29C466BA'},\n",
      "                      {'Units': 'N/A', 'UnitsGUID': 'no matches found'},\n",
      "                      {'Steps': 'two Step',\n",
      "                       'StepsGUID': 'F024BB90-97E2-11E6-9F49-DB8029C466BA'}],\n",
      "  'Internal_ID': 333009,\n",
      "  'Organizers': [{'Strand': 'Geometry and Measurement',\n",
      "                  'StrandGUID': 'D66D958E-8BFB-11E6-921B-89CC29C466BA'},\n",
      "                 {'Strand': 'Algebra',\n",
      "                  'StrandGUID': 'D66A43AC-8BFB-11E6-921B-89CC29C466BA'}]},\n",
      " {'Differentiators': [{'Number': 'Square roots',\n",
      "                       'NumberGUID': '1690A96C-97C3-11E6-88DC-EDD729C466BA'},\n",
      "                      {'Shape': 'Arc',\n",
      "                       'ShapeGUID': '1E3B9636-97C8-11E6-8048-1FDE29C466BA'},\n",
      "                      {'Units': 'Radians',\n",
      "                       'UnitsGUID': '7C0E0CB6-97C4-11E6-B4CA-B3D929C466BA'},\n",
      "                      {'Steps': 'N/A', 'StepsGUID': 'no matches found'}],\n",
      "  'Internal_ID': 331547,\n",
      "  'Organizers': [{'Strand': 'Algebra',\n",
      "                  'StrandGUID': 'D66A43AC-8BFB-11E6-921B-89CC29C466BA'},\n",
      "                 {'Strand': 'Geometry and Measurement',\n",
      "                  'StrandGUID': 'D66D958E-8BFB-11E6-921B-89CC29C466BA'}]},\n",
      " {'Differentiators': [{'Number': 'Square roots',\n",
      "                       'NumberGUID': '1690A96C-97C3-11E6-88DC-EDD729C466BA'},\n",
      "                      {'Shape': 'Arc',\n",
      "                       'ShapeGUID': '1E3B9636-97C8-11E6-8048-1FDE29C466BA'},\n",
      "                      {'Units': 'Radians',\n",
      "                       'UnitsGUID': '7C0E0CB6-97C4-11E6-B4CA-B3D929C466BA'},\n",
      "                      {'Steps': 'N/A', 'StepsGUID': 'no matches found'}],\n",
      "  'Internal_ID': 331545,\n",
      "  'Organizers': [{'Strand': 'Algebra',\n",
      "                  'StrandGUID': 'D66A43AC-8BFB-11E6-921B-89CC29C466BA'},\n",
      "                 {'Strand': 'Geometry and Measurement',\n",
      "                  'StrandGUID': 'D66D958E-8BFB-11E6-921B-89CC29C466BA'}]},\n",
      " {'Differentiators': [{'Number': 'Square roots',\n",
      "                       'NumberGUID': '1690A96C-97C3-11E6-88DC-EDD729C466BA'},\n",
      "                      {'Shape': 'Arc',\n",
      "                       'ShapeGUID': '1E3B9636-97C8-11E6-8048-1FDE29C466BA'},\n",
      "                      {'Units': 'Radians',\n",
      "                       'UnitsGUID': '7C0E0CB6-97C4-11E6-B4CA-B3D929C466BA'},\n",
      "                      {'Steps': 'N/A', 'StepsGUID': 'no matches found'}],\n",
      "  'Internal_ID': 331543,\n",
      "  'Organizers': [{'Strand': 'Algebra',\n",
      "                  'StrandGUID': 'D66A43AC-8BFB-11E6-921B-89CC29C466BA'},\n",
      "                 {'Strand': 'Geometry and Measurement',\n",
      "                  'StrandGUID': 'D66D958E-8BFB-11E6-921B-89CC29C466BA'}]},\n",
      " {'Differentiators': [{'Number': 'Fractions',\n",
      "                       'NumberGUID': '1683D6CE-97C3-11E6-88DC-EDD729C466BA'},\n",
      "                      {'Shape': 'Arc',\n",
      "                       'ShapeGUID': '1E3B9636-97C8-11E6-8048-1FDE29C466BA'},\n",
      "                      {'Units': 'Radians',\n",
      "                       'UnitsGUID': '7C0E0CB6-97C4-11E6-B4CA-B3D929C466BA'},\n",
      "                      {'Steps': 'N/A', 'StepsGUID': 'no matches found'}],\n",
      "  'Internal_ID': 331541,\n",
      "  'Organizers': [{'Strand': 'Algebra',\n",
      "                  'StrandGUID': 'D66A43AC-8BFB-11E6-921B-89CC29C466BA'},\n",
      "                 {'Strand': 'Geometry and Measurement',\n",
      "                  'StrandGUID': 'D66D958E-8BFB-11E6-921B-89CC29C466BA'}]},\n",
      " {'Differentiators': [{'Number': 'Whole numbers',\n",
      "                       'NumberGUID': '16859388-97C3-11E6-88DC-EDD729C466BA'},\n",
      "                      {'Shape': 'Arc',\n",
      "                       'ShapeGUID': '1E3B9636-97C8-11E6-8048-1FDE29C466BA'},\n",
      "                      {'Units': 'Radians',\n",
      "                       'UnitsGUID': '7C0E0CB6-97C4-11E6-B4CA-B3D929C466BA'},\n",
      "                      {'Steps': 'N/A', 'StepsGUID': 'no matches found'}],\n",
      "  'Internal_ID': 331540,\n",
      "  'Organizers': [{'Strand': 'Algebra',\n",
      "                  'StrandGUID': 'D66A43AC-8BFB-11E6-921B-89CC29C466BA'},\n",
      "                 {'Strand': 'Geometry and Measurement',\n",
      "                  'StrandGUID': 'D66D958E-8BFB-11E6-921B-89CC29C466BA'}]},\n",
      " {'Differentiators': [{'Number': 'Square roots',\n",
      "                       'NumberGUID': '1690A96C-97C3-11E6-88DC-EDD729C466BA'},\n",
      "                      {'Shape': 'Arc',\n",
      "                       'ShapeGUID': '1E3B9636-97C8-11E6-8048-1FDE29C466BA'},\n",
      "                      {'Units': 'Radians',\n",
      "                       'UnitsGUID': '7C0E0CB6-97C4-11E6-B4CA-B3D929C466BA'},\n",
      "                      {'Steps': 'N/A', 'StepsGUID': 'no matches found'}],\n",
      "  'Internal_ID': 331539,\n",
      "  'Organizers': [{'Strand': 'Algebra',\n",
      "                  'StrandGUID': 'D66A43AC-8BFB-11E6-921B-89CC29C466BA'},\n",
      "                 {'Strand': 'Geometry and Measurement',\n",
      "                  'StrandGUID': 'D66D958E-8BFB-11E6-921B-89CC29C466BA'}]},\n",
      " {'Differentiators': [{'Number': 'Negative square roots',\n",
      "                       'NumberGUID': '16CE4B14-97C3-11E6-88DC-EDD729C466BA'},\n",
      "                      {'Shape': 'Point',\n",
      "                       'ShapeGUID': '1E24B42A-97C8-11E6-8048-1FDE29C466BA'},\n",
      "                      {'Units': 'Generic',\n",
      "                       'UnitsGUID': '7C0B3838-97C4-11E6-B4CA-B3D929C466BA'},\n",
      "                      {'Steps': 'three Step',\n",
      "                       'StepsGUID': 'F02594A2-97E2-11E6-9F49-DB8029C466BA'}],\n",
      "  'Internal_ID': 331538,\n",
      "  'Organizers': [{'Strand': 'Geometry and Measurement',\n",
      "                  'StrandGUID': 'D66D958E-8BFB-11E6-921B-89CC29C466BA'},\n",
      "                 {'Strand': 'Algebra',\n",
      "                  'StrandGUID': 'D66A43AC-8BFB-11E6-921B-89CC29C466BA'}]},\n",
      " {'Differentiators': [{'Number': 'Integers',\n",
      "                       'NumberGUID': '1689CF34-97C3-11E6-88DC-EDD729C466BA'},\n",
      "                      {'Shape': 'Point',\n",
      "                       'ShapeGUID': '1E24B42A-97C8-11E6-8048-1FDE29C466BA'},\n",
      "                      {'Units': 'Generic',\n",
      "                       'UnitsGUID': '7C0B3838-97C4-11E6-B4CA-B3D929C466BA'},\n",
      "                      {'Steps': 'N/A', 'StepsGUID': 'no matches found'}],\n",
      "  'Internal_ID': 331537,\n",
      "  'Organizers': [{'Strand': 'Geometry and Measurement',\n",
      "                  'StrandGUID': 'D66D958E-8BFB-11E6-921B-89CC29C466BA'},\n",
      "                 {'Strand': 'Algebra',\n",
      "                  'StrandGUID': 'D66A43AC-8BFB-11E6-921B-89CC29C466BA'}]},\n",
      " {'Differentiators': [{'Number': 'Square roots',\n",
      "                       'NumberGUID': '1690A96C-97C3-11E6-88DC-EDD729C466BA'},\n",
      "                      {'Shape': 'Point',\n",
      "                       'ShapeGUID': '1E24B42A-97C8-11E6-8048-1FDE29C466BA'},\n",
      "                      {'Units': 'Generic',\n",
      "                       'UnitsGUID': '7C0B3838-97C4-11E6-B4CA-B3D929C466BA'},\n",
      "                      {'Steps': 'multistep',\n",
      "                       'StepsGUID': 'F022E4A0-97E2-11E6-9F49-DB8029C466BA'}],\n",
      "  'Internal_ID': 331536,\n",
      "  'Organizers': [{'Strand': 'Geometry and Measurement',\n",
      "                  'StrandGUID': 'D66D958E-8BFB-11E6-921B-89CC29C466BA'},\n",
      "                 {'Strand': 'Algebra',\n",
      "                  'StrandGUID': 'D66A43AC-8BFB-11E6-921B-89CC29C466BA'}]},\n",
      " {'Differentiators': [{'Number': 'Fractions',\n",
      "                       'NumberGUID': '1683D6CE-97C3-11E6-88DC-EDD729C466BA'},\n",
      "                      {'Shape': 'Right triangle',\n",
      "                       'ShapeGUID': '1E3C7E3E-97C8-11E6-8048-1FDE29C466BA'},\n",
      "                      {'Units': 'N/A', 'UnitsGUID': 'no matches found'},\n",
      "                      {'Steps': 'N/A', 'StepsGUID': 'no matches found'}],\n",
      "  'Internal_ID': 331526,\n",
      "  'Organizers': [{'Strand': 'Geometry and Measurement',\n",
      "                  'StrandGUID': 'D66D958E-8BFB-11E6-921B-89CC29C466BA'}]}]\n"
     ]
    }
   ],
   "source": [
    "data = process_file(filename, fields, tagging_dict)\n",
    "pprint.pprint(data)"
   ]
  },
  {
   "cell_type": "code",
   "execution_count": null,
   "metadata": {
    "collapsed": false
   },
   "outputs": [],
   "source": [
    "pprint.pprint(data)"
   ]
  },
  {
   "cell_type": "code",
   "execution_count": null,
   "metadata": {
    "collapsed": false
   },
   "outputs": [],
   "source": [
    "def get_SubstrandGUID(strand_list, substrand, df):\n",
    "    \n",
    "    substrand = unicode(substrand, \"latin2\").lower()\n",
    "    if len(substrand) == 1 and len(strand_list) > 1:\n",
    "        SubStrandGUID = \"Error: more strands than substrands\"\n",
    "        break\n",
    "    elif len(substrand) == 1 and len(strand_list) == 1:\n",
    "        strand = unicode(strand_list[0], \"latin2\").lower()\n",
    "        matches = len(df[(df['Strand']==strand) & (df['Title']==substrand)])\n",
    "        if matches == 1:\n",
    "            GUID = df.ix[(df['Strand']==strand) & (df['Title']==substrand), 'Unique ID'].item()\n",
    "        else: \n",
    "            GUID = 'Error: Substrand lives in multiple strands'\n",
    "    return GUID\n",
    "\n",
    "\n",
    "\n",
    "            \n",
    "                    SubstrandGUID = get_SubstrandGUID(strand, substrand, content_focus_df)\n"
   ]
  },
  {
   "cell_type": "code",
   "execution_count": null,
   "metadata": {
    "collapsed": true
   },
   "outputs": [],
   "source": [
    "#Make every internal ID of int data type \"Internal ID\""
   ]
  },
  {
   "cell_type": "code",
   "execution_count": null,
   "metadata": {
    "collapsed": true
   },
   "outputs": [],
   "source": []
  },
  {
   "cell_type": "code",
   "execution_count": null,
   "metadata": {
    "collapsed": true
   },
   "outputs": [],
   "source": [
    "#load GUID file"
   ]
  },
  {
   "cell_type": "code",
   "execution_count": null,
   "metadata": {
    "collapsed": true
   },
   "outputs": [],
   "source": [
    "#problem to solve for looking up GUID: when strand/substrand gives context to component, \n",
    "#if semi-colon separated, then will have to allow for non-matches"
   ]
  },
  {
   "cell_type": "code",
   "execution_count": 3,
   "metadata": {
    "collapsed": false
   },
   "outputs": [],
   "source": [
    "def Load_GUIDs(filename):\n",
    "    data = []\n",
    "    fields = {}\n",
    "    with open(filename, \"r\") as f:\n",
    "        reader = csv.DictReader(f)\n",
    "        for line in reader:\n",
    "            data.append(line)\n",
    "    #strip capitalization for matching purposes\n",
    "    data = pd.DataFrame(data)\n",
    "    df_lowercase(data, 'Title')\n",
    "    if len(data.columns) == 6:\n",
    "        df_lowercase(data, 'Strand')\n",
    "        df_lowercase(data, 'Sub-Strand')\n",
    "    if len(data.columns) == 7:\n",
    "        df_lowercase(data, 'Strand')\n",
    "    return data"
   ]
  },
  {
   "cell_type": "code",
   "execution_count": 4,
   "metadata": {
    "collapsed": false
   },
   "outputs": [],
   "source": [
    "def df_lowercase(dataframe, column):\n",
    "    lowercase = lambda x: unicode(x, \"latin2\").lower()\n",
    "    dataframe[column] = dataframe[column].apply(lowercase)\n",
    "    return dataframe"
   ]
  },
  {
   "cell_type": "code",
   "execution_count": 5,
   "metadata": {
    "collapsed": false
   },
   "outputs": [],
   "source": [
    "steps_df = Load_GUIDs(\"Math_Steps.csv\")\n",
    "shapes_df = Load_GUIDs(\"Math_Shapes.csv\")\n",
    "number_df = Load_GUIDs(\"Math_Number.csv\")\n",
    "units_df = Load_GUIDs(\"Math_Units_Modified.csv\")\n",
    "content_focus_df = Load_GUIDs(\"Math_Content_Foc.csv\")\n",
    "component_df = Load_GUIDs(\"Math_Components.csv\")\n",
    "tagging_dict = {'Steps': steps_df, 'Shape': shapes_df, 'Number': number_df, 'Units': units_df, 'Content_Focus': content_focus_df, 'Component': component_df}"
   ]
  },
  {
   "cell_type": "code",
   "execution_count": 6,
   "metadata": {
    "collapsed": false
   },
   "outputs": [],
   "source": [
    "\n",
    "def get_GUID_lite(tag, df): \n",
    "    #get GUID for steps, number, units, shape\n",
    "    tag = unicode(tag, \"latin2\").lower()\n",
    "    matches = len(df.ix[df['Title'] == tag])\n",
    "    if matches == 1:\n",
    "        GUID = df.ix[df['Title'] == tag, 'Unique ID'].item()\n",
    "    elif matches ==0:\n",
    "        GUID = \"no matches found\"\n",
    "    else: GUID = \"resolve multiple values\"\n",
    "    return GUID"
   ]
  },
  {
   "cell_type": "code",
   "execution_count": 14,
   "metadata": {
    "collapsed": false
   },
   "outputs": [
    {
     "name": "stdout",
     "output_type": "stream",
     "text": [
      "1690A96C-97C3-11E6-88DC-EDD729C466BA\n"
     ]
    }
   ],
   "source": [
    "number_test = \"Square roots\"\n",
    "print get_GUID_lite(number_test, number_df)"
   ]
  },
  {
   "cell_type": "code",
   "execution_count": null,
   "metadata": {
    "collapsed": false
   },
   "outputs": [],
   "source": [
    "\n",
    "#create version for content focus and component\n",
    "#Play around with passing multiple conditions into first .ix argument\n"
   ]
  },
  {
   "cell_type": "code",
   "execution_count": null,
   "metadata": {
    "collapsed": false
   },
   "outputs": [],
   "source": [
    "'''\n",
    "Data structure\n",
    "\n",
    "{Internal ID: value\n",
    "    {Organizers: [\n",
    "        {Strand: [ {Strand: Strand_value,\n",
    "                   Strand_GUID: GUID,\n",
    "                   Substrand: [{Substrand: Substrand_value,\n",
    "                                Substrand_GUID: GUID,\n",
    "                                Content_Focus: [{Content_Focus: Content_Focus_value,                       \n",
    "                                                Content_Focus_GUID: GUID,\n",
    "                                                Component: [{Component: Component_value,\n",
    "                                                              Component_GUID: GUID}]}]}]}]\n",
    "        {Descriptors: {Number: [N1, N2, ...]}\n",
    "            {Digits: [D1, D2, ...]}\n",
    "            {Shape: [Shape1, ...]}\n",
    "        {Units: [Units1, ...]}\n",
    "        {Steps: Steps}\n",
    "        {Context: Context}\n",
    "        {SIG Stem: [Sig Stem1, ...]}\n",
    "        {SIG Options: [SIG Options1, ...]}\n",
    "        {Additional Modifiers: [AM1, ...]}\n",
    "}\n",
    "\n",
    "'''"
   ]
  },
  {
   "cell_type": "code",
   "execution_count": null,
   "metadata": {
    "collapsed": false
   },
   "outputs": [],
   "source": []
  },
  {
   "cell_type": "code",
   "execution_count": null,
   "metadata": {
    "collapsed": false
   },
   "outputs": [],
   "source": []
  },
  {
   "cell_type": "code",
   "execution_count": null,
   "metadata": {
    "collapsed": false
   },
   "outputs": [],
   "source": []
  },
  {
   "cell_type": "code",
   "execution_count": null,
   "metadata": {
    "collapsed": true
   },
   "outputs": [],
   "source": []
  },
  {
   "cell_type": "code",
   "execution_count": null,
   "metadata": {
    "collapsed": true
   },
   "outputs": [],
   "source": []
  }
 ],
 "metadata": {
  "anaconda-cloud": {},
  "kernelspec": {
   "display_name": "Python [conda root]",
   "language": "python",
   "name": "conda-root-py"
  },
  "language_info": {
   "codemirror_mode": {
    "name": "ipython",
    "version": 2
   },
   "file_extension": ".py",
   "mimetype": "text/x-python",
   "name": "python",
   "nbconvert_exporter": "python",
   "pygments_lexer": "ipython2",
   "version": "2.7.12"
  }
 },
 "nbformat": 4,
 "nbformat_minor": 1
}
