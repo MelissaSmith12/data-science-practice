{
 "cells": [
  {
   "cell_type": "code",
   "execution_count": 1,
   "metadata": {
    "collapsed": false
   },
   "outputs": [],
   "source": [
    "import pandas as pd\n",
    "import numpy\n",
    "import codecs\n",
    "import csv\n",
    "import json\n",
    "import pprint\n",
    "import re\n",
    "\n",
    "#filename = \"math sample for API testing.csv\"\n",
    "filename = \"Big Math Subset.csv\""
   ]
  },
  {
   "cell_type": "code",
   "execution_count": 172,
   "metadata": {
    "collapsed": false
   },
   "outputs": [],
   "source": [
    "def process_file(filename, tagging_df):\n",
    "    parsed_data = []\n",
    "    error_data = []\n",
    "    component_holding = []\n",
    "    initial_components = True\n",
    "    content_focus_components_df = pd.DataFrame(columns=['Strand', 'Sub-Strand', 'Content Focus', 'Component', 'ComponentGUID'])\n",
    "    with open(filename, \"r\") as f:\n",
    "        reader = csv.DictReader(f)\n",
    "        for i in range(1):\n",
    "            l = reader.next()    #########See if I can simplify this\n",
    "\n",
    "        for line in reader:\n",
    "            error_test = False\n",
    "            component_list = line['Component'].split(\"; \")\n",
    "            content_focus_list = line['Content Focus'].split(\"; \")\n",
    "            #first pass, only process those items that have one component or only one content focus, build data frame of \n",
    "            #allowable strand/substrand/content focus/component combinations\n",
    "            if len(component_list) == 1 or len(content_focus_list) == 1:\n",
    "                row, error_test, component_holding, content_focus_components_df = parse_line(\n",
    "                    line, tagging_df, content_focus_list, component_list, error_test, component_holding, \n",
    "                    content_focus_components_df, initial components)\n",
    "                if error_test == True:\n",
    "                    error_data.append(row)                \n",
    "                else: parsed_data.append(row)\n",
    "                if component_holding == True:\n",
    "                    component_holding.append(line)\n",
    "            else: component_holding.append(line)\n",
    "    initial_components = False\n",
    "    #process items sent to component_holding\n",
    "    return parsed_data, error_data, component_holding"
   ]
  },
  {
   "cell_type": "code",
   "execution_count": null,
   "metadata": {
    "collapsed": false
   },
   "outputs": [],
   "source": []
  },
  {
   "cell_type": "code",
   "execution_count": 262,
   "metadata": {
    "collapsed": true
   },
   "outputs": [],
   "source": [
    "def parse_line(line, tagging_df, content_focus_list, component_list, error_test, component_holding, content_focus_components_df, initial_components):\n",
    "    row = {}\n",
    "    strand_dict = {}\n",
    "    strand_list = []\n",
    "    differentiator_list = []\n",
    "    content_focus_components_df = pd.DataFrame(index=index, columns=['Strand', 'Sub-Strand', 'Content Focus', 'Component', 'ComponentGUID'])\n",
    "    \n",
    "    \n",
    "    InternalID = int(line['Internal ID'])\n",
    "\n",
    "    Strand = line['Strand'].split(\"; \")\n",
    "    for strand in Strand:\n",
    "        strand_sub_dict = {}\n",
    "        content_focus_df = tagging_df['Content_Focus']\n",
    "        GUID, error_test = get_GUID_lite(strand, content_focus_df, error_test)\n",
    "        strand_sub_dict = {'Strand': strand, 'GUID' : GUID, 'Substrand': []}\n",
    "        strand_list.append(strand_sub_dict)\n",
    "    if error_test == False:\n",
    "        substrand_list = line['Sub-Strand'].split(\"; \")\n",
    "        strand_list, error_test = processSubstrands(strand_list, substrand_list, content_focus_df, error_test)\n",
    "        if error_test == False:\n",
    "            content_focus_list = line['Content Focus'].split(\"; \")\n",
    "            strand_list, error_test = processContentFocus(strand_list, substrand_list, content_focus_list, content_focus_df, error_test)\n",
    "            if error_test == False:\n",
    "                differentiator_keys = ['Shape', 'Units', 'Steps']            \n",
    "                for differentiator in differentiator_keys:\n",
    "                    differentiator_sub_list = []\n",
    "                    differentiator_df = tagging_df[differentiator]\n",
    "                    differentiator_values = line[differentiator].split(\"; \")\n",
    "                    for value in differentiator_values:\n",
    "                        differentiator_sub_dict = {}\n",
    "                        GUID, error_test = get_GUID_lite(value, differentiator_df, error_test)\n",
    "                        differentiator_sub_dict = {differentiator: value, 'GUID': GUID}\n",
    "                        differentiator_sub_list.append(differentiator_sub_dict)\n",
    "                        if error_test == True:\n",
    "                            break\n",
    "                    differentiator_list.append(differentiator_sub_list)\n",
    "    row = {\"Internal_ID\": InternalID, \"Organizers\" : strand_list, \"Differentiators\": differentiator_list}\n",
    "    return row, error_test"
   ]
  },
  {
   "cell_type": "code",
   "execution_count": 196,
   "metadata": {
    "collapsed": true
   },
   "outputs": [],
   "source": [
    "data = []\n",
    "data, error_data, component_holding = process_file(filename, tagging_dict)\n",
    "#pprint.pprint(bad_data)"
   ]
  },
  {
   "cell_type": "code",
   "execution_count": 175,
   "metadata": {
    "collapsed": false
   },
   "outputs": [
    {
     "data": {
      "text/plain": [
       "45"
      ]
     },
     "execution_count": 175,
     "metadata": {},
     "output_type": "execute_result"
    }
   ],
   "source": [
    "len(bad_data)\n",
    "#pprint.pprint(bad_data)"
   ]
  },
  {
   "cell_type": "code",
   "execution_count": 176,
   "metadata": {
    "collapsed": false
   },
   "outputs": [
    {
     "name": "stdout",
     "output_type": "stream",
     "text": [
      "71\n",
      "1338\n"
     ]
    }
   ],
   "source": [
    "#pprint.pprint(bad_data)\n",
    "print len(component_holding)\n",
    "print len(data)"
   ]
  },
  {
   "cell_type": "code",
   "execution_count": 177,
   "metadata": {
    "collapsed": false
   },
   "outputs": [],
   "source": [
    "#pprint.pprint(data)"
   ]
  },
  {
   "cell_type": "code",
   "execution_count": 198,
   "metadata": {
    "collapsed": false
   },
   "outputs": [],
   "source": [
    "def processSubstrands(strand_list, substrand_list, df, error_test):\n",
    "    GUID = None\n",
    "    for substrand in substrand_list:\n",
    "        if len(df[(df['Title']==lowercase(substrand))]) == 0:  \n",
    "            error_test = True\n",
    "            error_message = 'Error: Substrand ' + substrand + ' not found in master list'\n",
    "            strand_list[0]['Substrand'].append({'Substrand': substrand_list[0], 'GUID': error_message})\n",
    "            break\n",
    "    if len(substrand_list) < len(strand_list):\n",
    "        error_test = True\n",
    "        strand_list[0]['Substrand'].append({'Substrand': substrand_list[0], 'GUID': 'Error: more strands than substrands'})\n",
    "    elif len(strand_list) == 1: \n",
    "        for substrand in substrand_list:\n",
    "            strand_list, error_test = getSubstrandGUID(strand_list[0]['Strand'], strand_list, substrand, df, error_test)    \n",
    "    elif len(substrand_list) == 2 and len(strand_list) == 2:\n",
    "        strand_list, error_test = matchStrandsSubstrands(strand_list, substrand_list, df, error_test, 2)\n",
    "    elif len(substrand_list) == 3 and len(strand_list) == 2:\n",
    "        strand_list, error_test = matchStrandsSubstrands(strand_list, substrand_list, df, error_test, 3)\n",
    "    else: \n",
    "        error_test = True\n",
    "        strand_list[0]['Substrand'].append({'Substrand': substrand_list[0], 'GUID': 'Error: Multiple substrands, cannot parse yet'})\n",
    "    return strand_list, error_test\n",
    "\n",
    "#Build a data frame to track match status to determine whether strand-substrand pairings can be deduced    \n",
    "def matchStrandsSubstrands(strand_list, substrand_list, df, error_test, matchlimit):\n",
    "    strand_names = []\n",
    "    for strand in strand_list:\n",
    "        strand_names.append(strand['Strand'])\n",
    "\n",
    "    match_status = pd.DataFrame(False,index=strand_names,columns=substrand_list)\n",
    "\n",
    "    for strand in strand_names:\n",
    "        for substrand in substrand_list:\n",
    "            if len(df[(df['Strand']==lowercase(strand)) & (df['Title']==lowercase(substrand))]) == 1:\n",
    "                match_status.ix[strand,substrand] = True\n",
    "    \n",
    "    if int(match_status.sum().sum()) == matchlimit:\n",
    "    #get the strand,substrand pairs where match_status is true  \n",
    "        true_pairs = list(match_status[match_status == True].stack().index)\n",
    "        for pair in true_pairs:\n",
    "            strand_list, error_test = getSubstrandGUID(pair[0], strand_list, pair[1], df, error_test)\n",
    "    else: \n",
    "        strand_list[0]['Substrand'].append({'Substrand': substrand_list[0], 'GUID': 'Error: Ambiguous strand/substrand relationships'})\n",
    "        error_test = True\n",
    "    return strand_list, error_test\n",
    "\n",
    "def getSubstrandGUID(strand, strand_list, substrand, df, error_test): \n",
    "    if len(df[(df['Strand']==lowercase(strand)) & (df['Title']==lowercase(substrand))]) == 1:\n",
    "        SubstrandGUID = df.ix[(df['Strand']==lowercase(strand)) & (df['Title']==lowercase(substrand)), 'Unique ID'].item()\n",
    "        strand_list[next(index for (index, d) in enumerate(strand_list) if d[\"Strand\"] == strand)]['Substrand'].append({'Substrand': substrand, 'GUID': SubstrandGUID, 'Content Focus': []})\n",
    "    else: \n",
    "        strand_list[next(index for (index, d) in enumerate(strand_list) if d[\"Strand\"] == strand)]['Substrand'].append({'Substrand': substrand, 'GUID': 'Error: No Strand/Substrand match found in master list'})\n",
    "        error_test = True\n",
    "    return strand_list, error_test\n",
    "\n",
    "    "
   ]
  },
  {
   "cell_type": "code",
   "execution_count": 202,
   "metadata": {
    "collapsed": false
   },
   "outputs": [
    {
     "name": "stdout",
     "output_type": "stream",
     "text": [
      "[{'Substrand': [{'Substrand': 'Data', 'GUID': '14D66ABA-8C17-11E6-81DC-467029C466BA', 'Content Focus': [{'GUID': 'C9DB3624-8C1D-11E6-867F-EA7829C466BA', 'Component': [], 'Content Focus': 'Interpret data displays'}]}], 'GUID': 'D66C3DCE-8BFB-11E6-921B-89CC29C466BA', 'Strand': 'Data, Statistics, and Probability'}, {'Substrand': [{'Substrand': 'Operations', 'GUID': '168B2CF6-8C17-11E6-81DC-467029C466BA', 'Content Focus': [{'GUID': 'CBFF09D0-8C1D-11E6-867F-EA7829C466BA', 'Component': [], 'Content Focus': 'Calculate'}]}], 'GUID': 'D66EB2C0-8BFB-11E6-921B-89CC29C466BA', 'Strand': 'Numbers and Operations'}]\n"
     ]
    }
   ],
   "source": [
    "strand_raw = \"Data, Statistics, and Probability; Numbers and Operations\"\n",
    "substrand_raw = \"Data; Operations\"\n",
    "content_focus_raw = \"Interpret data displays; Calculate\"\n",
    "#print strand_raw\n",
    "#print substrand_raw\n",
    "\n",
    "error_test = False\n",
    "strand_dict = {}\n",
    "strand_list = []\n",
    "temp_list = strand_raw.split(\"; \")\n",
    "#print temp_list\n",
    "for strand in temp_list:\n",
    "    strand_sub_dict = {}\n",
    "    #content_focus_df = tagging_df['Content_Focus']\n",
    "    StrandGUID, error_test = get_GUID_lite(strand, content_focus_df, error_test)\n",
    "    strand_sub_dict = {'Strand': strand, 'GUID' : StrandGUID, 'Substrand': []}\n",
    "    strand_list.append(strand_sub_dict)\n",
    "\n",
    "substrand_list = substrand_raw.split(\"; \")\n",
    "strand_list, error_test = processSubstrands(strand_list, substrand_list, content_focus_df, error_test)\n",
    "\n",
    "content_focus_list = content_focus_raw.split('; ')\n",
    "strand_list, error_test = processContentFocus(strand_list, substrand_list, content_focus_list, content_focus_df, error_test)\n",
    "\n",
    "print strand_list\n"
   ]
  },
  {
   "cell_type": "code",
   "execution_count": null,
   "metadata": {
    "collapsed": false
   },
   "outputs": [],
   "source": [
    "\n"
   ]
  },
  {
   "cell_type": "code",
   "execution_count": null,
   "metadata": {
    "collapsed": false
   },
   "outputs": [],
   "source": []
  },
  {
   "cell_type": "code",
   "execution_count": 215,
   "metadata": {
    "collapsed": false
   },
   "outputs": [],
   "source": [
    "def processContentFocus(strand_list, substrand_list, content_focus_list, df, error_test):\n",
    "    GUID = None\n",
    "    print content_focus_list\n",
    "    for content_focus in content_focus_list:\n",
    "        if len(df[(df['Title']==lowercase(content_focus))]) == 0:  \n",
    "            error_test = True\n",
    "            error_message = 'Error: Content Focus ' + content_focus + ' not found in master list'\n",
    "            strand_list[0]['Substrand'][0]['Content Focus'].append({'Content Focus': content_focus, 'GUID': error_message})\n",
    "            break\n",
    "    if len(content_focus_list) < len(substrand_list):\n",
    "        error_test = True\n",
    "        strand_list[0]['Substrand'][0]['Content Focus'].append({'Content Focus': content_focus, 'GUID': 'Error: more Substrands than Content Focus terms'})\n",
    "    elif len(substrand_list) == 1: \n",
    "        print content_focus_list\n",
    "        for content_focus in content_focus_list:\n",
    "            print content_focus\n",
    "            strand_list, error_test = getContentFocusGUID(strand_list[0]['Strand'], strand_list, substrand_list[0], content_focus, df, error_test)    \n",
    "    elif len(substrand_list) == len(content_focus_list):\n",
    "        strand_list, error_test = matchSubstrandsContentFocus(strand_list, content_focus_list, df, error_test, len(content_focus_list))\n",
    "    else: \n",
    "        error_test = True\n",
    "        strand_list[0]['Substrand'][0]['Content Focus'].append({'Content Focus': content_focus, 'GUID': 'Error: Multiple content Focus terms, cannot parse yet'})\n",
    "    return strand_list, error_test\n",
    "\n",
    "def matchSubstrandsContentFocus(strand_list, content_focus_list, df, error_test, matchlimit):\n",
    "    strand_substrand_names =[]\n",
    "    print content_focus_list\n",
    "    for strand in strand_list:\n",
    "        strand_name = strand['Strand']\n",
    "        for substrand in strand['Substrand']:\n",
    "            strand_substrand_names.append(strand_name + '; ' + substrand['Substrand'])\n",
    "\n",
    "    match_status = pd.DataFrame(False,index=strand_substrand_names,columns=content_focus_list)\n",
    "    print match_status\n",
    "    for strand_substrand in strand_substrand_names:\n",
    "        for content_focus in content_focus_list:\n",
    "            #print strand_substrand\n",
    "            #print content_focus\n",
    "            if len(df[(df['Strand']==lowercase(strand_substrand.split('; ')[0])) & (df['Sub-Strand']==lowercase(strand_substrand.split('; ')[1]))& (df['Title']==lowercase(content_focus))]) == 1:\n",
    "                match_status.ix[strand_substrand, content_focus] = True\n",
    "\n",
    "    if int(match_status.sum().sum()) == matchlimit:\n",
    "    #get the strand,substrand pairs where match_status is true  \n",
    "        true_pairs = list(match_status[match_status == True].stack().index)\n",
    "        #print true_pairs\n",
    "        for pair in true_pairs:\n",
    "            strand_list, error_test = getContentFocusGUID(pair[0].split('; ')[0], strand_list, pair[0].split('; ')[1], pair[1], df, error_test)\n",
    "    elif int(match_status.sum().sum()) < matchlimit:\n",
    "        strand_list[0]['Substrand'][0]['Content Focus'].append({'Content Focus': content_focus, 'GUID': 'Error: One or more content focus terms not found'})\n",
    "        error_test = True\n",
    "    else: \n",
    "        strand_list[0]['Substrand'][0]['Content Focus'].append({'Content Focus': content_focus, 'GUID': 'Error: Ambiguous strand/substrand/content focus relationships'})\n",
    "        error_test = True\n",
    "    return strand_list, error_test\n",
    "\n",
    "def getContentFocusGUID(strand, strand_list, substrand, content_focus, df, error_test): \n",
    "    strand_index = next(index for (index, d) in enumerate(strand_list) if d[\"Strand\"] == strand)\n",
    "    substrand_index = next(index for (index, d) in enumerate(strand_list[strand_index]['Substrand']) if d[\"Substrand\"] == substrand)    \n",
    "    if len(df[(df['Strand']==lowercase(strand)) & (df['Sub-Strand']==lowercase(substrand)) & (df['Title']==lowercase(content_focus))]) == 1:\n",
    "        ContentFocusGUID = df.ix[(df['Strand']==lowercase(strand)) & (df['Sub-Strand']==lowercase(substrand)) & (df['Title']==lowercase(content_focus)), 'Unique ID'].item()\n",
    "        strand_list[strand_index]['Substrand'][substrand_index]['Content Focus'].append({'Content Focus': content_focus, 'GUID': ContentFocusGUID, 'Component': []})\n",
    "    else: \n",
    "        strand_list[strand_index]['Substrand'][substrand_index]['Content Focus'].append({'Content Focus': content_focus, 'GUID': 'Error: No Strand/Substrand match found in master list'})\n",
    "        error_test = True\n",
    "    return strand_list, error_test"
   ]
  },
  {
   "cell_type": "code",
   "execution_count": null,
   "metadata": {
    "collapsed": false
   },
   "outputs": [],
   "source": []
  },
  {
   "cell_type": "code",
   "execution_count": null,
   "metadata": {
    "collapsed": false
   },
   "outputs": [],
   "source": []
  },
  {
   "cell_type": "code",
   "execution_count": 204,
   "metadata": {
    "collapsed": false
   },
   "outputs": [],
   "source": [
    "def processInitialComponent(strand_list, substrand_list, content_focus_list, component_list, df, error_test, component_hold):\n",
    "    GUID = None\n",
    "    for component in component_list:\n",
    "        if len(df[(df['Title']==lowercase(component))]) == 0:  \n",
    "            error_test = True\n",
    "            error_message = 'Error: Component ' + component + ' not found in master list'\n",
    "            strand_list[0]['Substrand'][0]['Content Focus'][0]['Component'].append({'Component': component, 'GUID': error_message})\n",
    "            break\n",
    "    if len(content_focus_list) == 1:\n",
    "        for component in component_list:\n",
    "            strand_list, error_test, component_hold, guid = getComponentGUID(strand_list[0]['Strand'], strand_list, substrand_list[0], content_focus_list[0], component, df, error_test, component_hold) \n",
    "    elif len(substrand_list) == len(component_list):\n",
    "        strand_list, error_test, component_hold = matchInitialComponent(strand_list, substrand_list, content_focus_list, component_list, df, error_test, len(component_list))            \n",
    "    \n",
    "    \n",
    "    else: \n",
    "        component_hold = True\n",
    "        strand_list[0]['Substrand'][0]['Content Focus'][0]['Component'].append({'Component': component, 'GUID': 'Component Hold'})\n",
    "    return strand_list, error_test, component_hold"
   ]
  },
  {
   "cell_type": "code",
   "execution_count": 242,
   "metadata": {
    "collapsed": true
   },
   "outputs": [],
   "source": [
    "def getComponentGUID(strand, strand_list, substrand, content_focus, component, df, error_test, component_hold): \n",
    "    ComponentGUID = \"\"\n",
    "    strand_index = next(index for (index, d) in enumerate(strand_list) if d[\"Strand\"] == strand)\n",
    "    substrand_index = next(index for (index, d) in enumerate(strand_list[strand_index]['Substrand']) if d[\"Substrand\"] == substrand)    \n",
    "    content_focus_index = next(index for (index, d) in enumerate(strand_list[strand_index]['Substrand'][substrand_index]['Content Focus']) if d[\"Content Focus\"] == content_focus)\n",
    "    if len(df[(df['Strand']==lowercase(strand)) & (df['Sub-Strand']==lowercase(substrand)) & (df['Title']==lowercase(component))]) == 1:\n",
    "        ComponentGUID = df.ix[(df['Strand']==lowercase(strand)) & (df['Sub-Strand']==lowercase(substrand)) & (df['Title']==lowercase(component)), 'Unique ID'].item()\n",
    "        strand_list[strand_index]['Substrand'][substrand_index]['Content Focus'][content_focus_index]['Component'].append({'Component': Component, 'GUID': ComponentGUID})\n",
    "    elif len(df[(df['Strand']==lowercase(strand)) & (df['Sub-Strand']==lowercase(substrand)) & (df['Example Content Focus']==lowercase(content_focus)) & (df['Title']==lowercase(component))]) == 1:\n",
    "        ComponentGUID = df.ix[(df['Strand']==lowercase(strand)) & (df['Sub-Strand']==lowercase(substrand)) & (df['Title']==lowercase(component)), 'Unique ID'].item()\n",
    "        strand_list[strand_index]['Substrand'][substrand_index]['Content Focus'][content_focus_index]['Component'].append({'Component': Component, 'GUID': ComponentGUID})\n",
    "    elif len(df[(df['Strand']==lowercase(strand)) & (df['Sub-Strand']==lowercase(substrand)) & (df['Title']==lowercase(component))]) > 1:\n",
    "        strand_list[strand_index]['Substrand'][substrand_index]['Content Focus'][content_focus_index]['Component'].append({'Component': component, 'GUID': 'Holding'})\n",
    "        component_hold = True\n",
    "    else: \n",
    "        strand_list[strand_index]['Substrand'][substrand_index]['Content Focus'][content_focus_index]['Component'].append({'Component': component, 'GUID': 'Error: No unique Strand/Substrand/Component match found in master list'})\n",
    "        error_test = True\n",
    "    return strand_list, error_test, component_hold, ComponentGUID"
   ]
  },
  {
   "cell_type": "code",
   "execution_count": 259,
   "metadata": {
    "collapsed": false
   },
   "outputs": [],
   "source": [
    "def matchInitialComponent(strand_list, substrand_list, content_focus_list, component_list, df, error_test, matchlimit, content_focus_components_df):\n",
    "    strand_substrand_names =[]\n",
    "    for strand in strand_list:\n",
    "        strand_name = strand['Strand']\n",
    "        for substrand in strand['Substrand']:\n",
    "            strand_substrand_names.append(strand_name + '; ' + substrand['Substrand'])\n",
    "\n",
    "    match_status = pd.DataFrame(False,index=strand_substrand_names,columns=component_list)\n",
    "    print match_status\n",
    "    strand_substrand_names[0].split('; ')[0]\n",
    "\n",
    "    for strand_substrand in strand_substrand_names:\n",
    "        #Need to use substrand and also pull strand from strand list, might be easier to build from strand, down\n",
    "        for component in component_list:\n",
    "            initial_match_length = len(df[(df['Strand']==lowercase(strand_substrand.split('; ')[0])) & (df['Sub-Strand']==lowercase(strand_substrand.split('; ')[1]))& (df['Title']==lowercase(component))])\n",
    "            if  initial_match_length == 1:\n",
    "                match_status.ix[strand_substrand, component] = True\n",
    "            elif initial_match_length > 1:\n",
    "                    if len(df[(df['Strand']==lowercase(strand_substrand.split('; ')[0])) & (df['Sub-Strand']==lowercase(strand_substrand.split('; ')[1])) & (df['Example Content Focus']==lowercase(content_focus_list[0])) & (df['Title']==lowercase(component))]) == 1:\n",
    "                        match_status.ix[strand_substrand, component] = True\n",
    "                \n",
    "    if int(match_status.sum().sum()) == matchlimit:\n",
    "    #get the strand,substrand pairs where match_status is true  \n",
    "        true_pairs = list(match_status[match_status == True].stack().index)\n",
    "        #print true_pairs\n",
    "        for pair in true_pairs:\n",
    "            strand_list, error_test, GUID = getComponentGUID(pair[0].split('; ')[0], strand_list, pair[0].split('; ')[1], content_focus_list[0], pair[1], df, error_test, component_hold)\n",
    "            if len(content_focus_components_df[(content_focus_components_df['Strand']==lowercase(strand_substrand.split('; ')[0])) & (content_focus_components_df['Sub-Strand']==lowercase(strand_substrand.split('; ')[1])) & (content_focus_components_df['Content Focus']==lowercase(content_focus_list[0])) & (content_focus_components_df['Component']==lowercase(component))]) == 0:\n",
    "                #add group to content_focus_gomponent_df\n",
    "                df_add = {'Strand': lowercase(strand), 'Sub-Strand': lowercase(substrand), 'Content Focus': lowercase(content_focus), \"Component\": lowercase(component), \"ComponentGUID\": \"test\"}\n",
    "                content_focus_components_df = content_focus_components_df.append(df_add, ignore_index = True)\n",
    "\n",
    "    else: \n",
    "        strand_list[0]['Substrand'][0]['Content Focus'][0]['Component'].append({'Component': component, 'GUID': 'Error: Aha!'})\n",
    "        error_test = True\n",
    "    return strand_list, error_test, component_hold"
   ]
  },
  {
   "cell_type": "code",
   "execution_count": 241,
   "metadata": {
    "collapsed": false
   },
   "outputs": [
    {
     "name": "stdout",
     "output_type": "stream",
     "text": [
      "['Calculate']\n",
      "['Calculate']\n",
      "Calculate\n",
      "[{'GUID': 'D66EB2C0-8BFB-11E6-921B-89CC29C466BA',\n",
      "  'Strand': 'Numbers and Operations',\n",
      "  'Substrand': [{'Content Focus': [{'Component': [],\n",
      "                                    'Content Focus': 'Calculate',\n",
      "                                    'GUID': 'CBFF09D0-8C1D-11E6-867F-EA7829C466BA'}],\n",
      "                 'GUID': '168B2CF6-8C17-11E6-81DC-467029C466BA',\n",
      "                 'Substrand': 'Operations'}]}]\n",
      "{'GUID': 'D66EB2C0-8BFB-11E6-921B-89CC29C466BA',\n",
      " 'Strand': 'Numbers and Operations',\n",
      " 'Substrand': [{'Content Focus': [{'Component': [{'Component': 'Addition',\n",
      "                                                  'ComponentGUID': 'Error: No unique Strand/Substrand/Component match found in master list'}],\n",
      "                                   'Content Focus': 'Calculate',\n",
      "                                   'GUID': 'CBFF09D0-8C1D-11E6-867F-EA7829C466BA'}],\n",
      "                'GUID': '168B2CF6-8C17-11E6-81DC-467029C466BA',\n",
      "                'Substrand': 'Operations'}]}\n"
     ]
    }
   ],
   "source": [
    "strands = ['Numbers and Operations']\n",
    "substrand_list = ['Operations']\n",
    "content_focus_list = ['Calculate']\n",
    "component_list = ['Addition']\n",
    "error_test = False\n",
    "component_hold = False\n",
    "#strand_list, error_test = processContentFocus(strand_list, substrand_list, content_focus_list, content_focus_df, error_test)\n",
    "\n",
    "strand_list=[]\n",
    "\n",
    "for strand in strands:\n",
    "    strand_sub_dict = {}\n",
    "    #content_focus_df = tagging_df['Content_Focus']\n",
    "    StrandGUID, error_test = get_GUID_lite(strand, content_focus_df, error_test)\n",
    "    strand_sub_dict = {'Strand': strand, 'GUID' : StrandGUID, 'Substrand': []}\n",
    "    strand_list.append(strand_sub_dict)\n",
    "                        \n",
    "strand_list, error_test = processSubstrands(strand_list, substrand_list, content_focus_df, error_test)\n",
    "\n",
    "strand_list, error_test = processContentFocus(strand_list, substrand_list, content_focus_list, content_focus_df, error_test)\n",
    "pprint.pprint(strand_list)\n",
    "strand_list, error_test, component_hold = processInitialComponent(strand_list, substrand_list, content_focus_list, component_list, component_df, error_test, component_hold)\n",
    "\n",
    "pprint.pprint(strand_list[0])"
   ]
  },
  {
   "cell_type": "code",
   "execution_count": 258,
   "metadata": {
    "collapsed": false
   },
   "outputs": [
    {
     "name": "stdout",
     "output_type": "stream",
     "text": [
      "                   Strand  Sub-Strand Content Focus    Component ComponentGUID\n",
      "0  Numbers and Operations  Operations     Calculate     Addition          test\n",
      "1  Numbers and Operations  Operations     Calculate  Subtraction          test\n"
     ]
    }
   ],
   "source": [
    "content_focus_components_df = pd.DataFrame(columns=['Strand', 'Sub-Strand', 'Content Focus', 'Component', 'ComponentGUID'])\n",
    "strand = 'Numbers and Operations'\n",
    "substrand = 'Operations'\n",
    "content_focus = 'Calculate'\n",
    "component = 'Addition'\n",
    "\n",
    "\n",
    "test = {'Strand': strand, 'Sub-Strand': substrand, 'Content Focus': content_focus, \"Component\": component, \"ComponentGUID\": \"test\"}\n",
    "content_focus_components_df = content_focus_components_df.append(test, ignore_index = True)\n",
    "\n",
    "if len(content_focus_components_df[(content_focus_components_df['Strand']==strand) & (content_focus_components_df['Sub-Strand']==substrand) & (content_focus_components_df['Content Focus']==content_focus) & (content_focus_components_df['Component']==component)]) == 0:\n",
    "    #add group to content_focus_gomponent_df\n",
    "    df_add = {'Strand': strand, 'Sub-Strand': substrand, 'Content Focus': content_focus, \"Component\": component, \"ComponentGUID\": \"test\"}\n",
    "    content_focus_components_df = content_focus_components_df.append(df_add, ignore_index = True)\n",
    "\n",
    "component = 'Subtraction'\n",
    "test = {'Strand': strand, 'Sub-Strand': substrand, 'Content Focus': content_focus, \"Component\": component, \"ComponentGUID\": \"test\"}\n",
    "\n",
    "\n",
    "if len(content_focus_components_df[(content_focus_components_df['Strand']==strand) & (content_focus_components_df['Sub-Strand']==substrand) & (content_focus_components_df['Content Focus']==content_focus) & (content_focus_components_df['Component']==component)]) == 0:\n",
    "    #add group to content_focus_gomponent_df\n",
    "    df_add = {'Strand': strand, 'Sub-Strand': substrand, 'Content Focus': content_focus, \"Component\": component, \"ComponentGUID\": \"test\"}\n",
    "    content_focus_components_df = content_focus_components_df.append(df_add, ignore_index = True)\n",
    "\n",
    "\n",
    "print content_focus_components_df"
   ]
  },
  {
   "cell_type": "code",
   "execution_count": 257,
   "metadata": {
    "collapsed": false
   },
   "outputs": [
    {
     "name": "stdout",
     "output_type": "stream",
     "text": [
      "                   Strand  Sub-Strand Content Focus    Component ComponentGUID\n",
      "0  Numbers and Operations  Operations     Calculate     Addition          test\n",
      "1  Numbers and Operations  Operations     Calculate     Addition          test\n",
      "2  Numbers and Operations  Operations     Calculate  Subtraction          test\n",
      "3  Numbers and Operations  Operations     Calculate  Subtraction          test\n"
     ]
    }
   ],
   "source": [
    "if len(content_focus_components_df[(content_focus_components_df['Strand']==strand) & (content_focus_components_df['Sub-Strand']==substrand) & (content_focus_components_df['Content Focus']==content_focus) & (content_focus_components_df['Component']==component)]) == 0:\n",
    "    #add group to content_focus_gomponent_df\n",
    "    df_add = {'Strand': strand, 'Sub-Strand': substrand, 'Content Focus': content_focus, \"Component\": component, \"ComponentGUID\": \"test\"}\n",
    "    content_focus_components_df = content_focus_components_df.append(df_add, ignore_index = True)\n",
    "\n",
    "\n",
    "print content_focus_components_df"
   ]
  },
  {
   "cell_type": "code",
   "execution_count": 224,
   "metadata": {
    "collapsed": false
   },
   "outputs": [
    {
     "name": "stdout",
     "output_type": "stream",
     "text": [
      "    Asset Subject                              Example Content Focus  \\\n",
      "0     Mathematics                                    Classify angles   \n",
      "1     Mathematics  Identify vertical, adjacent, complementary, su...   \n",
      "2     Mathematics  Identify vertical, adjacent, complementary, su...   \n",
      "3     Mathematics  Identify vertical, adjacent, complementary, su...   \n",
      "4     Mathematics        Identify points, rays, lines, line segments   \n",
      "5     Mathematics  Identify vertical, adjacent, complementary, su...   \n",
      "6     Mathematics  Identify vertical, adjacent, complementary, su...   \n",
      "7     Mathematics  Identify vertical, adjacent, complementary, su...   \n",
      "8     Mathematics  Identify vertical, adjacent, complementary, su...   \n",
      "9     Mathematics                    Know sums of angles in polygons   \n",
      "10    Mathematics                                    Classify angles   \n",
      "11    Mathematics  Identify vertical, adjacent, complementary, su...   \n",
      "12    Mathematics                                    Classify angles   \n",
      "13    Mathematics                                    Classify angles   \n",
      "14    Mathematics                                    Classify angles   \n",
      "15    Mathematics                                    Classify angles   \n",
      "16    Mathematics  Identify vertical, adjacent, complementary, su...   \n",
      "17    Mathematics  Identify vertical, adjacent, complementary, su...   \n",
      "18    Mathematics                     Use sums of angles in polygons   \n",
      "19    Mathematics                              Use angles in circles   \n",
      "20    Mathematics        Identify points, rays, lines, line segments   \n",
      "21    Mathematics                                     Classify lines   \n",
      "22    Mathematics        Identify points, rays, lines, line segments   \n",
      "23    Mathematics                                     Classify lines   \n",
      "24    Mathematics                                     Classify lines   \n",
      "25    Mathematics                                     Classify lines   \n",
      "26    Mathematics                                     Classify lines   \n",
      "27    Mathematics                                     Classify lines   \n",
      "28    Mathematics                                    Classify planes   \n",
      "29    Mathematics                                    Classify planes   \n",
      "..            ...                                                ...   \n",
      "508   Mathematics                                    Create patterns   \n",
      "509   Mathematics                                  Describe patterns   \n",
      "510   Mathematics                                    Create patterns   \n",
      "511   Mathematics                          Identify missing elements   \n",
      "512   Mathematics                                    Extend patterns   \n",
      "513   Mathematics                                  Describe patterns   \n",
      "514   Mathematics                                Find sums of series   \n",
      "515   Mathematics                          Identify missing elements   \n",
      "516   Mathematics                                  Describe patterns   \n",
      "517   Mathematics                                    Extend patterns   \n",
      "518   Mathematics                                    Create patterns   \n",
      "519   Mathematics                          Identify missing elements   \n",
      "520   Mathematics                                  Describe patterns   \n",
      "521   Mathematics                          Identify missing elements   \n",
      "522   Mathematics                                  Describe patterns   \n",
      "523   Mathematics                           Determine rate of change   \n",
      "524   Mathematics                           Determine rate of change   \n",
      "525   Mathematics                         Solve systems of equations   \n",
      "526   Mathematics                         Solve systems of equations   \n",
      "527   Mathematics                         Solve systems of equations   \n",
      "528   Mathematics                         Write systems of equations   \n",
      "529   Mathematics                         Solve systems of equations   \n",
      "530   Mathematics                                                      \n",
      "531   Mathematics                         Solve systems of equations   \n",
      "532   Mathematics                                Transform functions   \n",
      "533   Mathematics                                Transform functions   \n",
      "534   Mathematics                                Transform functions   \n",
      "535   Mathematics                                Transform functions   \n",
      "536   Mathematics        Understand parallel and perpendicular lines   \n",
      "537   Mathematics        Understand parallel and perpendicular lines   \n",
      "\n",
      "                       Strand        Sub-Strand                      Subgroup  \\\n",
      "0    geometry and measurement  Angles and Lines                        Angles   \n",
      "1    geometry and measurement  Angles and Lines                        Angles   \n",
      "2    geometry and measurement  Angles and Lines                        Angles   \n",
      "3    geometry and measurement  Angles and Lines                        Angles   \n",
      "4    geometry and measurement  Angles and Lines                        Angles   \n",
      "5    geometry and measurement  Angles and Lines                        Angles   \n",
      "6    geometry and measurement  Angles and Lines                        Angles   \n",
      "7    geometry and measurement  Angles and Lines                        Angles   \n",
      "8    geometry and measurement  Angles and Lines                        Angles   \n",
      "9    geometry and measurement  Angles and Lines                        Angles   \n",
      "10   geometry and measurement  Angles and Lines                        Angles   \n",
      "11   geometry and measurement  Angles and Lines                        Angles   \n",
      "12   geometry and measurement  Angles and Lines                        Angles   \n",
      "13   geometry and measurement  Angles and Lines                        Angles   \n",
      "14   geometry and measurement  Angles and Lines                        Angles   \n",
      "15   geometry and measurement  Angles and Lines                        Angles   \n",
      "16   geometry and measurement  Angles and Lines                        Angles   \n",
      "17   geometry and measurement  Angles and Lines                        Angles   \n",
      "18   geometry and measurement  Angles and Lines                        Angles   \n",
      "19   geometry and measurement  Angles and Lines                        Angles   \n",
      "20   geometry and measurement  Angles and Lines                         Lines   \n",
      "21   geometry and measurement  Angles and Lines                         Lines   \n",
      "22   geometry and measurement  Angles and Lines                         Lines   \n",
      "23   geometry and measurement  Angles and Lines                         Lines   \n",
      "24   geometry and measurement  Angles and Lines                         Lines   \n",
      "25   geometry and measurement  Angles and Lines                         Lines   \n",
      "26   geometry and measurement  Angles and Lines                         Lines   \n",
      "27   geometry and measurement  Angles and Lines                         Lines   \n",
      "28   geometry and measurement  Angles and Lines                        Planes   \n",
      "29   geometry and measurement  Angles and Lines                        Planes   \n",
      "..                        ...               ...                           ...   \n",
      "508                   algebra          Patterns                      Patterns   \n",
      "509                   algebra          Patterns                      Patterns   \n",
      "510                   algebra          Patterns                      Patterns   \n",
      "511                   algebra          Patterns                      Patterns   \n",
      "512                   algebra          Patterns                      Patterns   \n",
      "513                   algebra          Patterns                      Patterns   \n",
      "514                   algebra          Patterns                      Patterns   \n",
      "515                   algebra          Patterns                      Patterns   \n",
      "516                   algebra          Patterns                      Patterns   \n",
      "517                   algebra          Patterns                      Patterns   \n",
      "518                   algebra          Patterns                      Patterns   \n",
      "519                   algebra          Patterns                      Patterns   \n",
      "520                   algebra          Patterns                      Patterns   \n",
      "521                   algebra          Patterns                      Patterns   \n",
      "522                   algebra          Patterns                      Patterns   \n",
      "523                   algebra         Functions                Rate of Change   \n",
      "524                   algebra         Functions                Rate of Change   \n",
      "525                   algebra         Equations          Systems of equations   \n",
      "526                   algebra         Equations          Systems of equations   \n",
      "527                   algebra         Equations          Systems of equations   \n",
      "528                   algebra         Equations          Systems of equations   \n",
      "529                   algebra         Equations          Systems of equations   \n",
      "530                   algebra         Equations          Systems of equations   \n",
      "531                   algebra         Equations          Systems of equations   \n",
      "532                   algebra         Functions  Transformations of Functions   \n",
      "533                   algebra         Functions  Transformations of Functions   \n",
      "534                   algebra         Functions  Transformations of Functions   \n",
      "535                   algebra         Functions  Transformations of Functions   \n",
      "536                   algebra            Graphs                Types of lines   \n",
      "537                   algebra            Graphs                Types of lines   \n",
      "\n",
      "                                        Title  \\\n",
      "0                                       acute   \n",
      "1                                    adjacent   \n",
      "2                          alternate exterior   \n",
      "3                          alternate interior   \n",
      "4                                       angle   \n",
      "5                               complementary   \n",
      "6                                   congruent   \n",
      "7                               corresponding   \n",
      "8                                    exterior   \n",
      "9                                    interior   \n",
      "10                          larger than right   \n",
      "11                                linear pair   \n",
      "12                                     obtuse   \n",
      "13                                      right   \n",
      "14                         smaller than right   \n",
      "15                                   straight   \n",
      "16                              supplementary   \n",
      "17                                   vertical   \n",
      "18                                   exterior   \n",
      "19                  shape inscribed in circle   \n",
      "20                                  collinear   \n",
      "21                                   coplanar   \n",
      "22                        horizontal/vertical   \n",
      "23                               intersecting   \n",
      "24                                    oblique   \n",
      "25                                   parallel   \n",
      "26                              perpendicular   \n",
      "27                                       skew   \n",
      "28                               intersecting   \n",
      "29                                   parallel   \n",
      "..                                        ...   \n",
      "508              pattern rule: multiplication   \n",
      "509                    pattern rule: nth term   \n",
      "510                   pattern rule: repeating   \n",
      "511                 pattern rule: subtraction   \n",
      "512                pattern type: alphanumeric   \n",
      "513                  pattern type: arithmetic   \n",
      "514           pattern type: arithmetic series   \n",
      "515                       pattern type: color   \n",
      "516          pattern type: fibonacci sequence   \n",
      "517           pattern type: geometric figures   \n",
      "518          pattern type: geometric sequence   \n",
      "519                     pattern type: growing   \n",
      "520                      pattern type: linear   \n",
      "521                   pattern type: quadratic   \n",
      "522  pattern type: triangular number sequence   \n",
      "523                                  constant   \n",
      "524                                   varying   \n",
      "525                               exponential   \n",
      "526                              inequalities   \n",
      "527                                    linear   \n",
      "528                                    matrix   \n",
      "529                                 quadratic   \n",
      "530                       linear inequalities   \n",
      "531                           three variables   \n",
      "532                                  dilation   \n",
      "533                                reflection   \n",
      "534                                  rotation   \n",
      "535                               translation   \n",
      "536                                  parallel   \n",
      "537                             perpendicular   \n",
      "\n",
      "                                Unique ID  \n",
      "0    33BE4F88-9D7E-11E6-BB08-D0B929C466BA  \n",
      "1    33CC7C3E-9D7E-11E6-BB08-D0B929C466BA  \n",
      "2    33CF7C40-9D7E-11E6-BB08-D0B929C466BA  \n",
      "3    33D25DCA-9D7E-11E6-BB08-D0B929C466BA  \n",
      "4    33D4BF3E-9D7E-11E6-BB08-D0B929C466BA  \n",
      "5    33D74632-9D7E-11E6-BB08-D0B929C466BA  \n",
      "6    33D9641C-9D7E-11E6-BB08-D0B929C466BA  \n",
      "7    33DBAAF6-9D7E-11E6-BB08-D0B929C466BA  \n",
      "8    33DE4FB8-9D7E-11E6-BB08-D0B929C466BA  \n",
      "9    33E0895E-9D7E-11E6-BB08-D0B929C466BA  \n",
      "10   33E4B04C-9D7E-11E6-BB08-D0B929C466BA  \n",
      "11   33E6CE22-9D7E-11E6-BB08-D0B929C466BA  \n",
      "12   33E94C74-9D7E-11E6-BB08-D0B929C466BA  \n",
      "13   33EC1A30-9D7E-11E6-BB08-D0B929C466BA  \n",
      "14   33EE3F54-9D7E-11E6-BB08-D0B929C466BA  \n",
      "15   33F0645A-9D7E-11E6-BB08-D0B929C466BA  \n",
      "16   33F28F32-9D7E-11E6-BB08-D0B929C466BA  \n",
      "17   33F4DB7A-9D7E-11E6-BB08-D0B929C466BA  \n",
      "18   33F7477A-9D7E-11E6-BB08-D0B929C466BA  \n",
      "19   33FA62C0-9D7E-11E6-BB08-D0B929C466BA  \n",
      "20   33FCF1DE-9D7E-11E6-BB08-D0B929C466BA  \n",
      "21   34003696-9D7E-11E6-BB08-D0B929C466BA  \n",
      "22   34025DFE-9D7E-11E6-BB08-D0B929C466BA  \n",
      "23   3404E9C0-9D7E-11E6-BB08-D0B929C466BA  \n",
      "24   34077C08-9D7E-11E6-BB08-D0B929C466BA  \n",
      "25   3409B59A-9D7E-11E6-BB08-D0B929C466BA  \n",
      "26   340CE44A-9D7E-11E6-BB08-D0B929C466BA  \n",
      "27   340F1008-9D7E-11E6-BB08-D0B929C466BA  \n",
      "28   34117CB2-9D7E-11E6-BB08-D0B929C466BA  \n",
      "29   34145310-9D7E-11E6-BB08-D0B929C466BA  \n",
      "..                                    ...  \n",
      "508  D48DB2F2-A605-11E6-B883-41B029C466BA  \n",
      "509  D4900C14-A605-11E6-B883-41B029C466BA  \n",
      "510  D4925BE0-A605-11E6-B883-41B029C466BA  \n",
      "511  D4953C0C-A605-11E6-B883-41B029C466BA  \n",
      "512  D498D77C-A605-11E6-B883-41B029C466BA  \n",
      "513  D49B3904-A605-11E6-B883-41B029C466BA  \n",
      "514  D49D63AA-A605-11E6-B883-41B029C466BA  \n",
      "515  D49FC960-A605-11E6-B883-41B029C466BA  \n",
      "516  D4A224DA-A605-11E6-B883-41B029C466BA  \n",
      "517  D4A459BC-A605-11E6-B883-41B029C466BA  \n",
      "518  D4A73722-A605-11E6-B883-41B029C466BA  \n",
      "519  D4A960BA-A605-11E6-B883-41B029C466BA  \n",
      "520  D4AB839A-A605-11E6-B883-41B029C466BA  \n",
      "521  D4ADADDC-A605-11E6-B883-41B029C466BA  \n",
      "522  D4AFE87C-A605-11E6-B883-41B029C466BA  \n",
      "523  D4B2083C-A605-11E6-B883-41B029C466BA  \n",
      "524  D4B49A84-A605-11E6-B883-41B029C466BA  \n",
      "525  D4B6BD00-A605-11E6-B883-41B029C466BA  \n",
      "526  D4B95560-A605-11E6-B883-41B029C466BA  \n",
      "527  D4BBB832-A605-11E6-B883-41B029C466BA  \n",
      "528  D4BDEBB6-A605-11E6-B883-41B029C466BA  \n",
      "529  D4C0AB08-A605-11E6-B883-41B029C466BA  \n",
      "530  D4C2E0A8-A605-11E6-B883-41B029C466BA  \n",
      "531  D4C5B03A-A605-11E6-B883-41B029C466BA  \n",
      "532  D4C7E4EA-A605-11E6-B883-41B029C466BA  \n",
      "533  D4CAD81C-A605-11E6-B883-41B029C466BA  \n",
      "534  D4CD22F2-A605-11E6-B883-41B029C466BA  \n",
      "535  D4D06A8E-A605-11E6-B883-41B029C466BA  \n",
      "536  D4D2E782-A605-11E6-B883-41B029C466BA  \n",
      "537  D4D60BA6-A605-11E6-B883-41B029C466BA  \n",
      "\n",
      "[538 rows x 7 columns]\n"
     ]
    }
   ],
   "source": [
    "print component_df"
   ]
  },
  {
   "cell_type": "code",
   "execution_count": null,
   "metadata": {
    "collapsed": false
   },
   "outputs": [],
   "source": []
  },
  {
   "cell_type": "code",
   "execution_count": 187,
   "metadata": {
    "collapsed": false
   },
   "outputs": [],
   "source": [
    "\n",
    "       "
   ]
  },
  {
   "cell_type": "code",
   "execution_count": null,
   "metadata": {
    "collapsed": false
   },
   "outputs": [],
   "source": []
  },
  {
   "cell_type": "code",
   "execution_count": 188,
   "metadata": {
    "collapsed": true
   },
   "outputs": [],
   "source": [
    "def lowercase(text):\n",
    "    return unicode(text, \"latin2\").lower()"
   ]
  },
  {
   "cell_type": "code",
   "execution_count": 189,
   "metadata": {
    "collapsed": false
   },
   "outputs": [],
   "source": [
    "def Load_GUIDs(filename):\n",
    "    data = []\n",
    "    fields = {}\n",
    "    with open(filename, \"r\") as f:\n",
    "        reader = csv.DictReader(f)\n",
    "        for line in reader:\n",
    "            data.append(line)\n",
    "    #strip capitalization for matching purposes\n",
    "    data = pd.DataFrame(data)\n",
    "    df_lowercase(data, 'Title')\n",
    "    if len(data.columns) == 6:\n",
    "        df_lowercase(data, 'Strand')\n",
    "        df_lowercase(data, 'Sub-Strand')\n",
    "    if len(data.columns) == 7:\n",
    "        df_lowercase(data, 'Strand')\n",
    "    return data"
   ]
  },
  {
   "cell_type": "code",
   "execution_count": 190,
   "metadata": {
    "collapsed": false
   },
   "outputs": [],
   "source": [
    "def df_lowercase(dataframe, column):\n",
    "    lowercase = lambda x: unicode(x, \"latin2\").lower()\n",
    "    dataframe[column] = dataframe[column].apply(lowercase)\n",
    "    return dataframe"
   ]
  },
  {
   "cell_type": "code",
   "execution_count": 191,
   "metadata": {
    "collapsed": false
   },
   "outputs": [],
   "source": [
    "steps_df = Load_GUIDs(\"Math_Steps.csv\")\n",
    "shapes_df = Load_GUIDs(\"Math_Shapes.csv\")\n",
    "number_df = Load_GUIDs(\"Math_Number.csv\")\n",
    "units_df = Load_GUIDs(\"Math_Units_Modified.csv\")\n",
    "content_focus_df = Load_GUIDs(\"Math_Content_Foc.csv\")\n",
    "component_df = Load_GUIDs(\"Math_Components.csv\")\n",
    "tagging_dict = {'Steps': steps_df, 'Shape': shapes_df, 'Number': number_df, 'Units': units_df, 'Content_Focus': content_focus_df, 'Component': component_df}"
   ]
  },
  {
   "cell_type": "code",
   "execution_count": 192,
   "metadata": {
    "collapsed": false
   },
   "outputs": [],
   "source": [
    "\n",
    "def get_GUID_lite(tag, df, error_test): \n",
    "    #get GUID for steps, number, units, shape\n",
    "    tag = unicode(tag, \"latin2\").lower()\n",
    "    matches = len(df.ix[df['Title'] == tag])\n",
    "    if matches == 1:\n",
    "        GUID = df.ix[df['Title'] == tag, 'Unique ID'].item()\n",
    "    elif matches ==0:\n",
    "        if tag == r'n/a':\n",
    "            GUID = r'N/A'\n",
    "        else: \n",
    "            GUID = \"Error: no matches found\"\n",
    "            error_test = True\n",
    "    else: \n",
    "        GUID = \"Error: resolve multiple values\"\n",
    "        error_test = True\n",
    "    return GUID, error_test"
   ]
  },
  {
   "cell_type": "code",
   "execution_count": 193,
   "metadata": {
    "collapsed": false
   },
   "outputs": [
    {
     "name": "stdout",
     "output_type": "stream",
     "text": [
      "('1690A96C-97C3-11E6-88DC-EDD729C466BA', False)\n"
     ]
    }
   ],
   "source": [
    "number_test = \"Square roots\"\n",
    "error_test = False\n",
    "print get_GUID_lite(number_test, number_df, error_test)"
   ]
  },
  {
   "cell_type": "code",
   "execution_count": 194,
   "metadata": {
    "collapsed": false
   },
   "outputs": [
    {
     "name": "stdout",
     "output_type": "stream",
     "text": [
      "N/A\n"
     ]
    }
   ],
   "source": [
    "\n",
    "#create version for content focus and component\n",
    "#Play around with passing multiple conditions into first .ix argument\n",
    "\n",
    "tag = 'N/A'\n",
    "if tag == r'N/A':\n",
    "    print tag\n"
   ]
  },
  {
   "cell_type": "code",
   "execution_count": 195,
   "metadata": {
    "collapsed": false
   },
   "outputs": [
    {
     "data": {
      "text/plain": [
       "'\\nData structure\\n\\n{Internal ID: value\\n    {Organizers: [\\n        {Strand: [ {Strand: Strand_value,\\n                   Strand_GUID: GUID,\\n                   Substrand: [{Substrand: Substrand_value,\\n                                Substrand_GUID: GUID,\\n                                Content_Focus: [{Content_Focus: Content_Focus_value,                       \\n                                                Content_Focus_GUID: GUID,\\n                                                Component: [{Component: Component_value,\\n                                                              Component_GUID: GUID}]}]}]}]\\n        {Descriptors: {Number: [N1, N2, ...]}\\n                        {Digits: [D1, D2, ...]}\\n            {Shape: [Shape1, ...]}\\n            {Units: [Units1, ...]}\\n            {Steps: Steps}\\n            {Context: Context}\\n            {SIG Stem: [Sig Stem1, ...]}\\n            {SIG Options: [SIG Options1, ...]}\\n            {Additional Modifiers: [AM1, ...]}\\n}\\n\\n'"
      ]
     },
     "execution_count": 195,
     "metadata": {},
     "output_type": "execute_result"
    }
   ],
   "source": [
    "'''\n",
    "Data structure\n",
    "\n",
    "{Internal ID: value\n",
    "    {Organizers: [\n",
    "        {Strand: [ {Strand: Strand_value,\n",
    "                   Strand_GUID: GUID,\n",
    "                   Substrand: [{Substrand: Substrand_value,\n",
    "                                Substrand_GUID: GUID,\n",
    "                                Content_Focus: [{Content_Focus: Content_Focus_value,                       \n",
    "                                                Content_Focus_GUID: GUID,\n",
    "                                                Component: [{Component: Component_value,\n",
    "                                                              Component_GUID: GUID}]}]}]}]\n",
    "        {Descriptors: {Number: [N1, N2, ...]}\n",
    "                        {Digits: [D1, D2, ...]}\n",
    "            {Shape: [Shape1, ...]}\n",
    "            {Units: [Units1, ...]}\n",
    "            {Steps: Steps}\n",
    "            {Context: Context}\n",
    "            {SIG Stem: [Sig Stem1, ...]}\n",
    "            {SIG Options: [SIG Options1, ...]}\n",
    "            {Additional Modifiers: [AM1, ...]}\n",
    "}\n",
    "\n",
    "'''"
   ]
  },
  {
   "cell_type": "code",
   "execution_count": null,
   "metadata": {
    "collapsed": false
   },
   "outputs": [],
   "source": []
  },
  {
   "cell_type": "code",
   "execution_count": null,
   "metadata": {
    "collapsed": false
   },
   "outputs": [],
   "source": []
  },
  {
   "cell_type": "code",
   "execution_count": null,
   "metadata": {
    "collapsed": false
   },
   "outputs": [],
   "source": []
  },
  {
   "cell_type": "code",
   "execution_count": null,
   "metadata": {
    "collapsed": true
   },
   "outputs": [],
   "source": []
  },
  {
   "cell_type": "code",
   "execution_count": null,
   "metadata": {
    "collapsed": true
   },
   "outputs": [],
   "source": []
  }
 ],
 "metadata": {
  "anaconda-cloud": {},
  "kernelspec": {
   "display_name": "Python [conda root]",
   "language": "python",
   "name": "conda-root-py"
  },
  "language_info": {
   "codemirror_mode": {
    "name": "ipython",
    "version": 2
   },
   "file_extension": ".py",
   "mimetype": "text/x-python",
   "name": "python",
   "nbconvert_exporter": "python",
   "pygments_lexer": "ipython2",
   "version": "2.7.12"
  }
 },
 "nbformat": 4,
 "nbformat_minor": 1
}
