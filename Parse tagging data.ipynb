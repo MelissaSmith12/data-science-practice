{
 "cells": [
  {
   "cell_type": "code",
   "execution_count": 1,
   "metadata": {
    "collapsed": false
   },
   "outputs": [],
   "source": [
    "import pandas as pd\n",
    "import numpy\n",
    "import codecs\n",
    "import csv\n",
    "import json\n",
    "import pprint\n",
    "import re\n",
    "\n",
    "filename = \"math sample for API testing.csv\"\n",
    "\n",
    "fields ={'Internal ID': 'Internal_ID',\n",
    "         'Strand': 'Strand',\n",
    "         'Sub-Strand': 'Substrand',\n",
    "         'Content Focus': 'Content_Focus',\n",
    "         'Component': 'Component',\n",
    "         'Number': 'Number',\n",
    "         'Digits': 'Digits',\n",
    "         'Shape': 'Shape',\n",
    "         'Units': 'Units',\n",
    "         'Steps': 'Steps',\n",
    "         'Context': 'Context',\n",
    "         'SIG Stem': 'SIG_Stem',\n",
    "         'SIG Options': 'SIG_Options',\n",
    "         'Additional Modifiers': 'Additional_Modifiers'}"
   ]
  },
  {
   "cell_type": "code",
   "execution_count": 2,
   "metadata": {
    "collapsed": false
   },
   "outputs": [
    {
     "data": {
      "text/plain": [
       "'\\nData structure\\n\\n[list of internal IDs]\\n    {Organizers: \\n        {Strand: Strand1}\\n        {Strand_GUID: GUID}\\n            {Substrand: Substrand1}\\n            {Substrand_GUID: GUID}\\n                {Content_Focus: Content_Focus1}\\n                {Content_Focus_GUID: GUID}\\n                    {Component: Component}\\n                    {Component_GUID: GUID}}\\n    {Descriptors:\\n        {Number: [N1, N2, ...]}\\n            {Digits: [D1, D2, ...]}\\n        {Shape: [Shape1, ...]}\\n        {Units: [Units1, ...]}\\n        {Steps: Steps}\\n        {Context: Context}\\n        {SIG Stem: [Sig Stem1, ...]}\\n        {SIG Options: [SIG Options1, ...]}\\n        {Additional Modifiers: [AM1, ...]}\\n'"
      ]
     },
     "execution_count": 2,
     "metadata": {},
     "output_type": "execute_result"
    }
   ],
   "source": [
    "'''\n",
    "Data structure\n",
    "\n",
    "[list of internal IDs]\n",
    "    {Organizers: \n",
    "        {Strand: Strand1}\n",
    "        {Strand_GUID: GUID}\n",
    "            {Substrand: Substrand1}\n",
    "            {Substrand_GUID: GUID}\n",
    "                {Content_Focus: Content_Focus1}\n",
    "                {Content_Focus_GUID: GUID}\n",
    "                    {Component: Component}\n",
    "                    {Component_GUID: GUID}}\n",
    "    {Descriptors:\n",
    "        {Number: [N1, N2, ...]}\n",
    "            {Digits: [D1, D2, ...]}\n",
    "        {Shape: [Shape1, ...]}\n",
    "        {Units: [Units1, ...]}\n",
    "        {Steps: Steps}\n",
    "        {Context: Context}\n",
    "        {SIG Stem: [Sig Stem1, ...]}\n",
    "        {SIG Options: [SIG Options1, ...]}\n",
    "        {Additional Modifiers: [AM1, ...]}\n",
    "'''"
   ]
  },
  {
   "cell_type": "code",
   "execution_count": 3,
   "metadata": {
    "collapsed": false
   },
   "outputs": [],
   "source": [
    "def process_file(filename, fields):\n",
    "    process_fields = fields.keys()\n",
    "    data = []\n",
    "    holding = []\n",
    "    data_keys = ['Internal ID', 'Strand','Substrand', 'Content_focus', 'Component', 'Number', 'Digits', 'Shape', 'Units', 'Steps', 'Context', 'SIG Stem', 'SIG Options', 'Additional Modifiers']\n",
    "    with open(filename, \"r\") as f:\n",
    "        reader = csv.DictReader(f)\n",
    "        for i in range(3):\n",
    "            l = reader.next()\n",
    "\n",
    "        for line in reader:\n",
    "            holding_test = 'FALSE'\n",
    "            row = {}\n",
    "            for key,value in fields.items():\n",
    "                row[value] = (line[key]).split(\"; \")\n",
    "                #If strand, substrand, Content Focus or Numbers field in raw data has \";\", then add to holding list\n",
    "                if (value == \"Strand\" or value == \"Substrand\" or value == \"Content_Focus\" or value == \"Number\") and (re.search(';', line[key])):\n",
    "                    holding_test = 'TRUE'\n",
    "            if holding_test == 'TRUE':\n",
    "                holding.append(row) \n",
    "            else:\n",
    "                data.append(row)\n",
    "    #Process holding list\n",
    "    #Do the row have multiple values in strand both and substrand? If yes, then consult table_of_values to figure out what should get \n",
    "    #paired together\n",
    "    pprint.pprint(holding)\n",
    "    return data"
   ]
  },
  {
   "cell_type": "code",
   "execution_count": 4,
   "metadata": {
    "collapsed": false
   },
   "outputs": [
    {
     "name": "stdout",
     "output_type": "stream",
     "text": [
      "[{'Additional_Modifiers': ['N/A'],\n",
      "  'Component': ['N/A'],\n",
      "  'Content_Focus': ['Use unit circle', 'Know trigonometric ratios'],\n",
      "  'Context': ['No'],\n",
      "  'Digits': ['Denominator: 2', 'Denominator: 3'],\n",
      "  'Internal_ID': ['333009'],\n",
      "  'Number': ['Irrational numbers',\n",
      "             'Negative and positive fractions',\n",
      "             'Square roots'],\n",
      "  'SIG_Options': ['N/A'],\n",
      "  'SIG_Stem': ['N/A'],\n",
      "  'Shape': ['Angles', 'Circle', 'Line', 'Point', 'Right triangle', 'Arc'],\n",
      "  'Steps': ['two Step'],\n",
      "  'Strand': ['Geometry and Measurement', 'Algebra'],\n",
      "  'Substrand': ['Shapes', 'Functions'],\n",
      "  'Units': ['N/A']},\n",
      " {'Additional_Modifiers': ['N/A'],\n",
      "  'Component': ['Arc length'],\n",
      "  'Content_Focus': ['Use unit circle', 'Use proportionality of circles'],\n",
      "  'Context': ['No'],\n",
      "  'Digits': ['Ones',\n",
      "             'Denominator: 2',\n",
      "             'Denominator: 3',\n",
      "             'Denominator: 4',\n",
      "             'Denominator: 6'],\n",
      "  'Internal_ID': ['331547'],\n",
      "  'Number': ['Irrational numbers',\n",
      "             'Integers',\n",
      "             'Negative and positive fractions',\n",
      "             'Square roots'],\n",
      "  'SIG_Options': ['N/A'],\n",
      "  'SIG_Stem': ['Unit circle'],\n",
      "  'Shape': ['Angles', 'Circle', 'Line', 'Point', 'Right triangle', 'Arc'],\n",
      "  'Steps': ['N/A'],\n",
      "  'Strand': ['Algebra', 'Geometry and Measurement'],\n",
      "  'Substrand': ['Functions', 'Shapes'],\n",
      "  'Units': ['Generic', 'Radians']},\n",
      " {'Additional_Modifiers': ['N/A'],\n",
      "  'Component': ['Arc length'],\n",
      "  'Content_Focus': ['Use unit circle', 'Use proportionality of circles'],\n",
      "  'Context': ['No'],\n",
      "  'Digits': ['Ones',\n",
      "             'Denominator: 2',\n",
      "             'Denominator: 3',\n",
      "             'Denominator: 4',\n",
      "             'Denominator: 6'],\n",
      "  'Internal_ID': ['331545'],\n",
      "  'Number': ['Irrational numbers',\n",
      "             'Integers',\n",
      "             'Negative and positive fractions',\n",
      "             'Square roots'],\n",
      "  'SIG_Options': ['N/A'],\n",
      "  'SIG_Stem': ['Unit circle'],\n",
      "  'Shape': ['Angles', 'Circle', 'Line', 'Point', 'Right triangle', 'Arc'],\n",
      "  'Steps': ['N/A'],\n",
      "  'Strand': ['Algebra', 'Geometry and Measurement'],\n",
      "  'Substrand': ['Functions', 'Shapes'],\n",
      "  'Units': ['Generic', 'Radians']},\n",
      " {'Additional_Modifiers': ['N/A'],\n",
      "  'Component': ['Arc length'],\n",
      "  'Content_Focus': ['Use unit circle', 'Use proportionality of circles'],\n",
      "  'Context': ['No'],\n",
      "  'Digits': ['Ones',\n",
      "             'Denominator: 2',\n",
      "             'Denominator: 3',\n",
      "             'Denominator: 4',\n",
      "             'Denominator: 6'],\n",
      "  'Internal_ID': ['331543'],\n",
      "  'Number': ['Irrational numbers', 'Integers', 'Fractions', 'Square roots'],\n",
      "  'SIG_Options': ['N/A'],\n",
      "  'SIG_Stem': ['Unit circle'],\n",
      "  'Shape': ['Angles', 'Circle', 'Line', 'Point', 'Right triangle', 'Arc'],\n",
      "  'Steps': ['N/A'],\n",
      "  'Strand': ['Algebra', 'Geometry and Measurement'],\n",
      "  'Substrand': ['Functions', 'Shapes'],\n",
      "  'Units': ['Generic', 'Radians']},\n",
      " {'Additional_Modifiers': ['N/A'],\n",
      "  'Component': ['Arc length'],\n",
      "  'Content_Focus': ['Use unit circle', 'Use proportionality of circles'],\n",
      "  'Context': ['No'],\n",
      "  'Digits': ['Ones',\n",
      "             'Denominator: 2',\n",
      "             'Denominator: 3',\n",
      "             'Denominator: 4',\n",
      "             'Denominator: 6'],\n",
      "  'Internal_ID': ['331541'],\n",
      "  'Number': ['Irrational numbers', 'Integers', 'Fractions'],\n",
      "  'SIG_Options': ['N/A'],\n",
      "  'SIG_Stem': ['Unit circle'],\n",
      "  'Shape': ['Angles', 'Circle', 'Line', 'Point', 'Right triangle', 'Arc'],\n",
      "  'Steps': ['N/A'],\n",
      "  'Strand': ['Algebra', 'Geometry and Measurement'],\n",
      "  'Substrand': ['Functions', 'Shapes'],\n",
      "  'Units': ['Generic', 'Radians']},\n",
      " {'Additional_Modifiers': ['N/A'],\n",
      "  'Component': ['Central angle'],\n",
      "  'Content_Focus': ['Use unit circle', 'Use proportionality of circles'],\n",
      "  'Context': ['No'],\n",
      "  'Digits': ['Ones', 'Denominator: 3'],\n",
      "  'Internal_ID': ['331540'],\n",
      "  'Number': ['Irrational numbers', 'Fractions', 'Whole numbers'],\n",
      "  'SIG_Options': ['N/A'],\n",
      "  'SIG_Stem': ['N/A'],\n",
      "  'Shape': ['Angles', 'Circle', 'Line', 'Point', 'Right triangle', 'Arc'],\n",
      "  'Steps': ['N/A'],\n",
      "  'Strand': ['Algebra', 'Geometry and Measurement'],\n",
      "  'Substrand': ['Functions', 'Shapes'],\n",
      "  'Units': ['Generic', 'Radians']},\n",
      " {'Additional_Modifiers': ['N/A'],\n",
      "  'Component': ['Arc length'],\n",
      "  'Content_Focus': ['Use unit circle', 'Use proportionality of circles'],\n",
      "  'Context': ['No'],\n",
      "  'Digits': ['Ones',\n",
      "             'Denominator: 2',\n",
      "             'Denominator: 3',\n",
      "             'Denominator: 4',\n",
      "             'Denominator: 6'],\n",
      "  'Internal_ID': ['331539'],\n",
      "  'Number': ['Irrational numbers', 'Integers', 'Fractions', 'Square roots'],\n",
      "  'SIG_Options': ['N/A'],\n",
      "  'SIG_Stem': ['Unit circle'],\n",
      "  'Shape': ['Angles', 'Circle', 'Line', 'Point', 'Right triangle', 'Arc'],\n",
      "  'Steps': ['N/A'],\n",
      "  'Strand': ['Algebra', 'Geometry and Measurement'],\n",
      "  'Substrand': ['Functions', 'Shapes'],\n",
      "  'Units': ['Generic', 'Radians']},\n",
      " {'Additional_Modifiers': ['N/A'],\n",
      "  'Component': ['N/A'],\n",
      "  'Content_Focus': ['Use unit circle', 'Know trigonometric ratios'],\n",
      "  'Context': ['Personalization only'],\n",
      "  'Digits': ['Denominator: 2'],\n",
      "  'Internal_ID': ['331538'],\n",
      "  'Number': ['Irrational numbers',\n",
      "             'Fractions',\n",
      "             'Square roots',\n",
      "             'Negative square roots'],\n",
      "  'SIG_Options': ['N/A'],\n",
      "  'SIG_Stem': ['Equation'],\n",
      "  'Shape': ['Angles', 'Circle', 'Line', 'Point'],\n",
      "  'Steps': ['three Step'],\n",
      "  'Strand': ['Geometry and Measurement', 'Algebra'],\n",
      "  'Substrand': ['Shapes', 'Functions'],\n",
      "  'Units': ['Generic']},\n",
      " {'Additional_Modifiers': ['N/A'],\n",
      "  'Component': ['N/A'],\n",
      "  'Content_Focus': ['Use unit circle', 'Know trigonometric ratios'],\n",
      "  'Context': ['No'],\n",
      "  'Digits': ['Ones', 'Denominator: 1'],\n",
      "  'Internal_ID': ['331537'],\n",
      "  'Number': ['Irrational numbers', 'Integers'],\n",
      "  'SIG_Options': ['N/A'],\n",
      "  'SIG_Stem': ['Unit circle'],\n",
      "  'Shape': ['Angles', 'Circle', 'Line', 'Point'],\n",
      "  'Steps': ['N/A'],\n",
      "  'Strand': ['Geometry and Measurement', 'Algebra'],\n",
      "  'Substrand': ['Shapes', 'Functions'],\n",
      "  'Units': ['Generic']},\n",
      " {'Additional_Modifiers': ['N/A'],\n",
      "  'Component': ['N/A'],\n",
      "  'Content_Focus': ['Use unit circle', 'Know trigonometric ratios'],\n",
      "  'Context': ['Personalization only'],\n",
      "  'Digits': ['Ones', 'Denominator: 2'],\n",
      "  'Internal_ID': ['331536'],\n",
      "  'Number': ['Irrational numbers',\n",
      "             'Integers',\n",
      "             'Negative and positive fractions',\n",
      "             'Square roots'],\n",
      "  'SIG_Options': ['N/A'],\n",
      "  'SIG_Stem': ['Equation'],\n",
      "  'Shape': ['Angles', 'Circle', 'Line', 'Point'],\n",
      "  'Steps': ['multistep'],\n",
      "  'Strand': ['Geometry and Measurement', 'Algebra'],\n",
      "  'Substrand': ['Shapes', 'Functions'],\n",
      "  'Units': ['Generic']}]\n"
     ]
    }
   ],
   "source": [
    "data = process_file(filename, fields)"
   ]
  },
  {
   "cell_type": "code",
   "execution_count": 5,
   "metadata": {
    "collapsed": false
   },
   "outputs": [
    {
     "name": "stdout",
     "output_type": "stream",
     "text": [
      "[{'Additional_Modifiers': ['N/A'],\n",
      "  'Component': ['N/A'],\n",
      "  'Content_Focus': ['Use trigonometric ratios'],\n",
      "  'Context': ['No'],\n",
      "  'Digits': ['Denominator: 5'],\n",
      "  'Internal_ID': ['331526'],\n",
      "  'Number': ['Fractions'],\n",
      "  'SIG_Options': ['N/A'],\n",
      "  'SIG_Stem': ['Diagram'],\n",
      "  'Shape': ['Angles', 'Composite figure', 'Right triangle'],\n",
      "  'Steps': ['N/A'],\n",
      "  'Strand': ['Geometry and Measurement'],\n",
      "  'Substrand': ['Shapes'],\n",
      "  'Units': ['N/A']}]\n"
     ]
    }
   ],
   "source": [
    "pprint.pprint(data)"
   ]
  },
  {
   "cell_type": "code",
   "execution_count": 6,
   "metadata": {
    "collapsed": true
   },
   "outputs": [],
   "source": [
    "#Make every internal ID of int data type \"Internal ID\""
   ]
  },
  {
   "cell_type": "code",
   "execution_count": null,
   "metadata": {
    "collapsed": true
   },
   "outputs": [],
   "source": []
  },
  {
   "cell_type": "code",
   "execution_count": 7,
   "metadata": {
    "collapsed": true
   },
   "outputs": [],
   "source": [
    "#load GUID file"
   ]
  },
  {
   "cell_type": "code",
   "execution_count": 8,
   "metadata": {
    "collapsed": true
   },
   "outputs": [],
   "source": [
    "#problem to solve for looking up GUID: when strand/substrand gives context to component, \n",
    "#if semi-colon separated, then will have to allow for non-matches"
   ]
  },
  {
   "cell_type": "code",
   "execution_count": 46,
   "metadata": {
    "collapsed": false
   },
   "outputs": [],
   "source": [
    "def Load_GUIDs(filename):\n",
    "    data = []\n",
    "    fields = {}\n",
    "    with open(filename, \"r\") as f:\n",
    "        reader = csv.DictReader(f)\n",
    "        for line in reader:\n",
    "            data.append(line)\n",
    "    #strip capitalization for matching purposes\n",
    "    data = pd.DataFrame(data)\n",
    "    lowercase = lambda x: unicode(x, \"latin2\").lower()\n",
    "    data['Title'] = data['Title'].apply(lowercase)\n",
    "    return data"
   ]
  },
  {
   "cell_type": "code",
   "execution_count": 47,
   "metadata": {
    "collapsed": false
   },
   "outputs": [],
   "source": [
    "steps_df = Load_GUIDs(\"Math_Steps.csv\")\n",
    "shapes_df = Load_GUIDs(\"Math_Shapes.csv\")\n",
    "numbers_df = Load_GUIDs(\"Math_Number.csv\")\n",
    "units_df = Load_GUIDs(\"Math_Units_Modified.csv\")"
   ]
  },
  {
   "cell_type": "code",
   "execution_count": 43,
   "metadata": {
    "collapsed": false
   },
   "outputs": [],
   "source": [
    "\n",
    "def get_GUID_lite(tag, df): \n",
    "    #get GUID for steps, number, units, shape\n",
    "    tag = unicode(tag, \"latin2\").lower()\n",
    "    print tag\n",
    "    matches = len(df.ix[df['Title'] == tag])\n",
    "    print matches\n",
    "    if matches == 1:\n",
    "        GUID = df.ix[df['Title'] == tag, 'Unique ID'].item()\n",
    "    elif matches ==0:\n",
    "        GUID = \"no matches found\"\n",
    "    else: GUID = \"resolve multiple values\"\n",
    "    return GUID"
   ]
  },
  {
   "cell_type": "code",
   "execution_count": null,
   "metadata": {
    "collapsed": false
   },
   "outputs": [],
   "source": []
  },
  {
   "cell_type": "code",
   "execution_count": null,
   "metadata": {
    "collapsed": false
   },
   "outputs": [],
   "source": []
  },
  {
   "cell_type": "code",
   "execution_count": 44,
   "metadata": {
    "collapsed": false
   },
   "outputs": [],
   "source": [
    "\n",
    "#create version for content focus and component\n",
    "#Play around with passing multiple conditions into first .ix argument\n"
   ]
  },
  {
   "cell_type": "code",
   "execution_count": 45,
   "metadata": {
    "collapsed": false
   },
   "outputs": [
    {
     "name": "stdout",
     "output_type": "stream",
     "text": [
      "fractions\n",
      "1\n",
      "1683D6CE-97C3-11E6-88DC-EDD729C466BA\n",
      "  Asset Subject      Title                             Unique ID\n",
      "0   Mathematics  fractions  1683D6CE-97C3-11E6-88DC-EDD729C466BA\n"
     ]
    },
    {
     "data": {
      "text/plain": [
       "1"
      ]
     },
     "execution_count": 45,
     "metadata": {},
     "output_type": "execute_result"
    }
   ],
   "source": [
    "test = get_GUID_lite('fractions', numbers_df)\n",
    "print test\n",
    "df = numbers_df\n",
    "tag = 'fractions'\n",
    "print df.ix[df['Title'] == tag]\n",
    "len(df.ix[df['Title'] == tag])"
   ]
  },
  {
   "cell_type": "code",
   "execution_count": 15,
   "metadata": {
    "collapsed": false
   },
   "outputs": [
    {
     "name": "stdout",
     "output_type": "stream",
     "text": [
      "   Asset Subject                                     Title  \\\n",
      "0    Mathematics                                 fractions   \n",
      "1    Mathematics                             whole numbers   \n",
      "2    Mathematics                                  decimals   \n",
      "3    Mathematics             whole number to expanded form   \n",
      "4    Mathematics            fractions, unlike denominators   \n",
      "5    Mathematics  scientific notation (positive exponents)   \n",
      "6    Mathematics                                  integers   \n",
      "7    Mathematics              fractions, like denominators   \n",
      "8    Mathematics                                       n/a   \n",
      "9    Mathematics                             mixed numbers   \n",
      "10   Mathematics                          rational numbers   \n",
      "11   Mathematics        mixed numbers, unlike denominators   \n",
      "12   Mathematics                                cube roots   \n",
      "13   Mathematics                              square roots   \n",
      "14   Mathematics                         negative decimals   \n",
      "15   Mathematics                        irrational numbers   \n",
      "16   Mathematics                                  percents   \n",
      "17   Mathematics                        positive exponents   \n",
      "18   Mathematics                        improper fractions   \n",
      "19   Mathematics                         negative integers   \n",
      "20   Mathematics                      percents to decimals   \n",
      "21   Mathematics          mixed numbers, like denominators   \n",
      "22   Mathematics                                    ratios   \n",
      "23   Mathematics       negative and positive mixed numbers   \n",
      "24   Mathematics            negative and positive decimals   \n",
      "25   Mathematics                           complex numbers   \n",
      "26   Mathematics                     fractions to decimals   \n",
      "27   Mathematics                      equivalent fractions   \n",
      "28   Mathematics                           natural numbers   \n",
      "29   Mathematics                           ordinal numbers   \n",
      "..           ...                                       ...   \n",
      "50   Mathematics                     fractions to percents   \n",
      "51   Mathematics           fractions to repeating decimals   \n",
      "52   Mathematics       mixed numbers to repeating decimals   \n",
      "53   Mathematics                     decimals to fractions   \n",
      "54   Mathematics     mixed numbers to terminating decimals   \n",
      "55   Mathematics       improper fractions to mixed numbers   \n",
      "56   Mathematics       mixed numbers to improper fractions   \n",
      "57   Mathematics  scientific notation (negative exponents)   \n",
      "58   Mathematics             expanded form to number words   \n",
      "59   Mathematics           repeating decimals to fractions   \n",
      "60   Mathematics                     percents to fractions   \n",
      "61   Mathematics           scientific notation to decimals   \n",
      "62   Mathematics                       ratios to fractions   \n",
      "63   Mathematics                whole numbers to fractions   \n",
      "64   Mathematics                 mixed numbers to percents   \n",
      "65   Mathematics              decimals to common fractions   \n",
      "66   Mathematics            improper fractions to percents   \n",
      "67   Mathematics            improper fractions to decimals   \n",
      "68   Mathematics        negative and positive square roots   \n",
      "69   Mathematics            decimals to improper fractions   \n",
      "70   Mathematics                 percents to mixed numbers   \n",
      "71   Mathematics          fractions to scientific notation   \n",
      "72   Mathematics   improper fractions, unlike denominators   \n",
      "73   Mathematics         fractions to terminating decimals   \n",
      "74   Mathematics   negative decimals to improper fractions   \n",
      "75   Mathematics                        decimals to ratios   \n",
      "76   Mathematics          scientific notation to fractions   \n",
      "77   Mathematics                       fractions to ratios   \n",
      "78   Mathematics                              roots: other   \n",
      "79   Mathematics                     negative square roots   \n",
      "\n",
      "                               Unique ID  \n",
      "0   1683D6CE-97C3-11E6-88DC-EDD729C466BA  \n",
      "1   16859388-97C3-11E6-88DC-EDD729C466BA  \n",
      "2   168668E4-97C3-11E6-88DC-EDD729C466BA  \n",
      "3   1687400C-97C3-11E6-88DC-EDD729C466BA  \n",
      "4   16881176-97C3-11E6-88DC-EDD729C466BA  \n",
      "5   1688E9AC-97C3-11E6-88DC-EDD729C466BA  \n",
      "6   1689CF34-97C3-11E6-88DC-EDD729C466BA  \n",
      "7   168A9F40-97C3-11E6-88DC-EDD729C466BA  \n",
      "8   168BC60E-97C3-11E6-88DC-EDD729C466BA  \n",
      "9   168C9804-97C3-11E6-88DC-EDD729C466BA  \n",
      "10  168D7666-97C3-11E6-88DC-EDD729C466BA  \n",
      "11  168EFBF8-97C3-11E6-88DC-EDD729C466BA  \n",
      "12  168FD2EE-97C3-11E6-88DC-EDD729C466BA  \n",
      "13  1690A96C-97C3-11E6-88DC-EDD729C466BA  \n",
      "14  169181DE-97C3-11E6-88DC-EDD729C466BA  \n",
      "15  1693ABF8-97C3-11E6-88DC-EDD729C466BA  \n",
      "16  16948190-97C3-11E6-88DC-EDD729C466BA  \n",
      "17  16954EE0-97C3-11E6-88DC-EDD729C466BA  \n",
      "18  169625D6-97C3-11E6-88DC-EDD729C466BA  \n",
      "19  1696F43E-97C3-11E6-88DC-EDD729C466BA  \n",
      "20  1697E722-97C3-11E6-88DC-EDD729C466BA  \n",
      "21  1698BC92-97C3-11E6-88DC-EDD729C466BA  \n",
      "22  16998CD0-97C3-11E6-88DC-EDD729C466BA  \n",
      "23  169A5CBE-97C3-11E6-88DC-EDD729C466BA  \n",
      "24  169B2E0A-97C3-11E6-88DC-EDD729C466BA  \n",
      "25  169BFBFA-97C3-11E6-88DC-EDD729C466BA  \n",
      "26  169CFD98-97C3-11E6-88DC-EDD729C466BA  \n",
      "27  169DD056-97C3-11E6-88DC-EDD729C466BA  \n",
      "28  169F737A-97C3-11E6-88DC-EDD729C466BA  \n",
      "29  16A0610E-97C3-11E6-88DC-EDD729C466BA  \n",
      "..                                   ...  \n",
      "50  16B45010-97C3-11E6-88DC-EDD729C466BA  \n",
      "51  16B53098-97C3-11E6-88DC-EDD729C466BA  \n",
      "52  16B5FF96-97C3-11E6-88DC-EDD729C466BA  \n",
      "53  16B6CD72-97C3-11E6-88DC-EDD729C466BA  \n",
      "54  16B7A0E4-97C3-11E6-88DC-EDD729C466BA  \n",
      "55  16B874B0-97C3-11E6-88DC-EDD729C466BA  \n",
      "56  16B94836-97C3-11E6-88DC-EDD729C466BA  \n",
      "57  16BA3F2A-97C3-11E6-88DC-EDD729C466BA  \n",
      "58  16BB0EA0-97C3-11E6-88DC-EDD729C466BA  \n",
      "59  16BBDFD8-97C3-11E6-88DC-EDD729C466BA  \n",
      "60  16BCB3EA-97C3-11E6-88DC-EDD729C466BA  \n",
      "61  16BD8856-97C3-11E6-88DC-EDD729C466BA  \n",
      "62  16BE5E98-97C3-11E6-88DC-EDD729C466BA  \n",
      "63  16C047C6-97C3-11E6-88DC-EDD729C466BA  \n",
      "64  16C122E0-97C3-11E6-88DC-EDD729C466BA  \n",
      "65  16C1F922-97C3-11E6-88DC-EDD729C466BA  \n",
      "66  16C39868-97C3-11E6-88DC-EDD729C466BA  \n",
      "67  16C47666-97C3-11E6-88DC-EDD729C466BA  \n",
      "68  16C541B8-97C3-11E6-88DC-EDD729C466BA  \n",
      "69  16C61214-97C3-11E6-88DC-EDD729C466BA  \n",
      "70  16C6E374-97C3-11E6-88DC-EDD729C466BA  \n",
      "71  16C7AFAC-97C3-11E6-88DC-EDD729C466BA  \n",
      "72  16C87D38-97C3-11E6-88DC-EDD729C466BA  \n",
      "73  16C95014-97C3-11E6-88DC-EDD729C466BA  \n",
      "74  16CA27E6-97C3-11E6-88DC-EDD729C466BA  \n",
      "75  16CB01B6-97C3-11E6-88DC-EDD729C466BA  \n",
      "76  16CBCD26-97C3-11E6-88DC-EDD729C466BA  \n",
      "77  16CC999A-97C3-11E6-88DC-EDD729C466BA  \n",
      "78  16CD7338-97C3-11E6-88DC-EDD729C466BA  \n",
      "79  16CE4B14-97C3-11E6-88DC-EDD729C466BA  \n",
      "\n",
      "[80 rows x 3 columns]\n"
     ]
    }
   ],
   "source": [
    "print numbers_df"
   ]
  },
  {
   "cell_type": "code",
   "execution_count": null,
   "metadata": {
    "collapsed": false
   },
   "outputs": [],
   "source": []
  },
  {
   "cell_type": "code",
   "execution_count": null,
   "metadata": {
    "collapsed": true
   },
   "outputs": [],
   "source": []
  },
  {
   "cell_type": "code",
   "execution_count": null,
   "metadata": {
    "collapsed": true
   },
   "outputs": [],
   "source": []
  }
 ],
 "metadata": {
  "anaconda-cloud": {},
  "kernelspec": {
   "display_name": "Python [conda root]",
   "language": "python",
   "name": "conda-root-py"
  },
  "language_info": {
   "codemirror_mode": {
    "name": "ipython",
    "version": 2
   },
   "file_extension": ".py",
   "mimetype": "text/x-python",
   "name": "python",
   "nbconvert_exporter": "python",
   "pygments_lexer": "ipython2",
   "version": "2.7.12"
  }
 },
 "nbformat": 4,
 "nbformat_minor": 1
}
