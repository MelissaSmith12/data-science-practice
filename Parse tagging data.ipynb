{
 "cells": [
  {
   "cell_type": "code",
   "execution_count": 2,
   "metadata": {
    "collapsed": false
   },
   "outputs": [],
   "source": [
    "import pandas as pd\n",
    "import numpy\n",
    "import codecs\n",
    "import csv\n",
    "import json\n",
    "import pprint\n",
    "import re\n",
    "\n",
    "filename = \"math sample for API testing.csv\"\n",
    "\n",
    "fields ={'Internal_ID': 'Internal_ID',\n",
    "         'Strand': 'Strand',\n",
    "         'Sub-Strand': 'Substrand',\n",
    "         'Content Focus': 'Content_Focus',\n",
    "         'Component': 'Component',\n",
    "         'Number': 'Number',\n",
    "         'Digits': 'Digits',\n",
    "         'Shape': 'Shape',\n",
    "         'Units': 'Units',\n",
    "         'Steps': 'Steps',\n",
    "         'Context': 'Context',\n",
    "         'SIG Stem': 'SIG_Stem',\n",
    "         'SIG Options': 'SIG_Options',\n",
    "         'Additional Modifiers': 'Additional_Modifiers'}"
   ]
  },
  {
   "cell_type": "code",
   "execution_count": 88,
   "metadata": {
    "collapsed": false
   },
   "outputs": [],
   "source": [
    "def process_file(filename, fields, tagging_df):\n",
    "    process_fields = fields.keys()\n",
    "    data = []\n",
    "    bad_data = []\n",
    "#    data_keys = ['Internal ID', 'Strand','Substrand', 'Content_focus', 'Component', 'Number', 'Digits', 'Shape', 'Units', 'Steps', 'Context', 'SIG Stem', 'SIG Options', 'Additional Modifiers']\n",
    "    with open(filename, \"r\") as f:\n",
    "        reader = csv.DictReader(f)\n",
    "        for i in range(1):\n",
    "            l = reader.next()\n",
    "\n",
    "        for line in reader:\n",
    "            error_test = False\n",
    "            row = {}\n",
    "            strand_dict = {}\n",
    "            strand_list = []\n",
    "            InternalID = int(line['Internal ID'])\n",
    "            Strand = line['Strand'].split(\"; \")\n",
    "            for strand in Strand:\n",
    "                strand_sub_dict = {}\n",
    "                content_focus_df = tagging_df['Content_Focus']\n",
    "                StrandGUID, error_test = get_GUID_lite(strand, content_focus_df, error_test)\n",
    "                strand_sub_dict = {'Strand': strand, 'StrandGUID' : StrandGUID, 'Substrand': []}\n",
    "                strand_list.append(strand_sub_dict)\n",
    "                         \n",
    "            substrand_list = line['Sub-Strand'].split(\"; \")\n",
    "            strand_list, error_test = processSubstrands(strand_list, substrand_list, content_focus_df, error_test)\n",
    "                                 \n",
    "            Differentiator_Keys = ['Shape', 'Units', 'Steps']            \n",
    "            Differentiator_List = []\n",
    "            for Differentiator in Differentiator_Keys:\n",
    "                Differentiator_values = line[Differentiator].split(\"; \")\n",
    "                Differentiator_sub_list = []\n",
    "                Differentiator_df = tagging_df[Differentiator]\n",
    "                DifferentiatorGUID_Name = Differentiator + \"GUID\"\n",
    "                for value in Differentiator_values:\n",
    "                    Differentiator_sub_dict = {}\n",
    "                    DifferentiatorGUID, error_test = get_GUID_lite(value, Differentiator_df, error_test)\n",
    "                    Differentiator_sub_dict = {Differentiator: value, DifferentiatorGUID_Name : DifferentiatorGUID}\n",
    "                    Differentiator_sub_list.append(Differentiator_sub_dict)\n",
    "                Differentiator_List.append(Differentiator_sub_list)\n",
    "            #Process Differentiators\n",
    "            \n",
    "            \n",
    "            row = {\"Internal_ID\": InternalID, \"Organizers\" : strand_list, \"Differentiators\": Differentiator_List}\n",
    "            if error_test == True:\n",
    "                bad_data.append(row)\n",
    "            else: data.append(row)\n",
    "            \n",
    "            \n",
    "    return data, bad_data"
   ]
  },
  {
   "cell_type": "code",
   "execution_count": 148,
   "metadata": {
    "collapsed": false
   },
   "outputs": [
    {
     "name": "stdout",
     "output_type": "stream",
     "text": [
      "[]\n"
     ]
    }
   ],
   "source": [
    "data, bad_data = process_file(filename, fields, tagging_dict)\n",
    "pprint.pprint(bad_data)"
   ]
  },
  {
   "cell_type": "code",
   "execution_count": 155,
   "metadata": {
    "collapsed": false
   },
   "outputs": [],
   "source": [
    "len(bad_data)\n",
    "data= []"
   ]
  },
  {
   "cell_type": "code",
   "execution_count": 156,
   "metadata": {
    "collapsed": false
   },
   "outputs": [
    {
     "name": "stdout",
     "output_type": "stream",
     "text": [
      "[]\n"
     ]
    }
   ],
   "source": [
    "pprint.pprint(data)"
   ]
  },
  {
   "cell_type": "code",
   "execution_count": 153,
   "metadata": {
    "collapsed": false
   },
   "outputs": [],
   "source": [
    "def processSubstrands(strand_list, substrand_list, df, error_test):\n",
    "    GUID = None\n",
    "    substrand_sublist = []\n",
    "    if len(df[(df['Title']==lowercase(substrand_list[0]))]) == 0:  ####BUG: THIS JUST TESTS THE FIRST SUBSTRAND FOR EXISTENCE\n",
    "        error_test = True\n",
    "        strand_list[0]['Substrand'].append({'Substrand': substrand_list[0], 'SubstrandGUID': 'Error: Substrand not found in master list'})\n",
    "    elif len(substrand_list) < len(strand_list):\n",
    "        error_test = True\n",
    "        strand_list[0]['Substrand'].append({'Substrand': substrand_list[0], 'SubstrandGUID': 'Error: more strands than substrands'})\n",
    "    elif len(strand_list) == 1: \n",
    "        for substrand in substrand_list:\n",
    "            strand_list, error_test = getSubstrandGUID(strand_list[0]['Strand'], strand_list, substrand, df, error_test)    \n",
    "    elif len(substrand_list) == 2 and len(strand_list) == 2:\n",
    "        strand_list, error_test = matchStrandsSubstrands(strand_list, substrand_list, df, error_test, 2)\n",
    "    elif len(substrand_list) == 3 and len(strand_list) == 2:\n",
    "        strand_list, error_test = matchStrandsSubstrands(strand_list, substrand_list, df, error_test, 3)\n",
    "    else: \n",
    "        error_test = True\n",
    "        strand_list[0]['Substrand'].append({'Substrand': substrand_list[0], 'SubstrandGUID': 'Error: Multiple substrands, cannot parse yet'})\n",
    "    return strand_list, error_test\n",
    "\n",
    "def getSubstrandGUID(strand, strand_list, substrand, df, error_test): \n",
    "    if len(df[(df['Strand']==lowercase(strand)) & (df['Title']==lowercase(substrand))]) == 1:\n",
    "        SubstrandGUID = df.ix[(df['Strand']==lowercase(strand)) & (df['Title']==lowercase(substrand)), 'Unique ID'].item()\n",
    "        strand_list[next(index for (index, d) in enumerate(strand_list) if d[\"Strand\"] == strand)]['Substrand'].append({'Substrand': substrand, 'SubstrandGUID': SubstrandGUID, 'Content Focus': []})\n",
    "    else: \n",
    "        strand_list[next(index for (index, d) in enumerate(strand_list) if d[\"Strand\"] == strand)]['Substrand'].append({'Substrand': substrand, 'SubstrandGUID': 'Error: No Strand/Substrand match found in master list'})\n",
    "        error_test = True\n",
    "    return strand_list, error_test\n",
    "\n",
    "    "
   ]
  },
  {
   "cell_type": "code",
   "execution_count": 154,
   "metadata": {
    "collapsed": false
   },
   "outputs": [
    {
     "name": "stdout",
     "output_type": "stream",
     "text": [
      "[{'Substrand': [{'SubstrandGUID': '15D1079A-8C17-11E6-81DC-467029C466BA', 'Substrand': 'Shapes', 'Content Focus': []}], 'StrandGUID': 'D66D958E-8BFB-11E6-921B-89CC29C466BA', 'Strand': 'Geometry and Measurement'}, {'Substrand': [{'SubstrandGUID': '1466B3D2-8C17-11E6-81DC-467029C466BA', 'Substrand': 'Functions', 'Content Focus': []}, {'SubstrandGUID': '14224210-8C17-11E6-81DC-467029C466BA', 'Substrand': 'Equations', 'Content Focus': []}], 'StrandGUID': 'D66A43AC-8BFB-11E6-921B-89CC29C466BA', 'Strand': 'Algebra'}]\n"
     ]
    }
   ],
   "source": [
    "strand_raw = \"Geometry and Measurement; Algebra\"\n",
    "substrand_raw = \"Shapes; Functions; Equations\"\n",
    "#print strand_raw\n",
    "#print substrand_raw\n",
    "\n",
    "error_test = False\n",
    "strand_dict = {}\n",
    "strand_list = []\n",
    "temp_list = strand_raw.split(\"; \")\n",
    "#print temp_list\n",
    "for strand in temp_list:\n",
    "    strand_sub_dict = {}\n",
    "    #content_focus_df = tagging_df['Content_Focus']\n",
    "    StrandGUID, error_test = get_GUID_lite(strand, content_focus_df, error_test)\n",
    "    strand_sub_dict = {'Strand': strand, 'StrandGUID' : StrandGUID, 'Substrand': []}\n",
    "    strand_list.append(strand_sub_dict)\n",
    "\n",
    "#print strand_list\n",
    "substrand_list = substrand_raw.split(\"; \")\n",
    "#print substrand_list\n",
    "strand_list, error_test = processSubstrands(strand_list, substrand_list, content_focus_df, error_test)\n",
    "\n",
    "print strand_list\n"
   ]
  },
  {
   "cell_type": "code",
   "execution_count": null,
   "metadata": {
    "collapsed": false
   },
   "outputs": [],
   "source": []
  },
  {
   "cell_type": "code",
   "execution_count": 102,
   "metadata": {
    "collapsed": false
   },
   "outputs": [],
   "source": [
    "#Case strand len = 1, substrand = 1\n",
    "\n"
   ]
  },
  {
   "cell_type": "code",
   "execution_count": 151,
   "metadata": {
    "collapsed": false
   },
   "outputs": [],
   "source": [
    "#Build a data frame to track match status to determine whether strand-substrand pairings can be deduced    \n",
    "def matchStrandsSubstrands(strand_list, substrand_list, df, error_test, matchlimit):\n",
    "    strand_names = []\n",
    "    for strand in strand_list:\n",
    "        strand_names.append(strand['Strand'])\n",
    "\n",
    "    match_status = pd.DataFrame(False,index=strand_names,columns=substrand_list)\n",
    "\n",
    "    for strand in strand_names:\n",
    "        for substrand in substrand_list:\n",
    "            if len(df[(df['Strand']==lowercase(strand)) & (df['Title']==lowercase(substrand))]) == 1:\n",
    "                match_status.ix[strand,substrand] = True\n",
    "    \n",
    "    if int(match_status.sum().sum()) == matchlimit:\n",
    "    #get the strand,substrand pairs where match_status is true  \n",
    "        true_pairs = list(match_status[match_status == True].stack().index)\n",
    "        for pair in true_pairs:\n",
    "            strand_list, error_test = getSubstrandGUID(pair[0], strand_list, pair[1], df, error_test)\n",
    "    else: \n",
    "        strand_list[0]['Substrand'].append({'Substrand': substrand_list[0], 'SubstrandGUID': 'Error: Ambiguous strand/substrand relationships'})\n",
    "        error_test = True\n",
    "    return strand_list, error_test\n",
    "       \n"
   ]
  },
  {
   "cell_type": "code",
   "execution_count": 117,
   "metadata": {
    "collapsed": false
   },
   "outputs": [
    {
     "ename": "IndentationError",
     "evalue": "expected an indented block (<ipython-input-117-8d412881bef4>, line 4)",
     "output_type": "error",
     "traceback": [
      "\u001b[0;36m  File \u001b[0;32m\"<ipython-input-117-8d412881bef4>\"\u001b[0;36m, line \u001b[0;32m4\u001b[0m\n\u001b[0;31m    true_pairs = list(match_status[match_status == True].stack().index)\u001b[0m\n\u001b[0m             ^\u001b[0m\n\u001b[0;31mIndentationError\u001b[0m\u001b[0;31m:\u001b[0m expected an indented block\n"
     ]
    }
   ],
   "source": [
    "    #If there are 2 x 2 strand-substrand possibilities with 2 matches, then nothing need be deduced\n",
    "\n",
    "    \n",
    "#elif match_status.sum().sum() == 3:\n",
    "    #figure out what matches\n",
    "    \n",
    "    #Output the substrand underneath the appropriate strand."
   ]
  },
  {
   "cell_type": "code",
   "execution_count": 5,
   "metadata": {
    "collapsed": true
   },
   "outputs": [],
   "source": [
    "def lowercase(text):\n",
    "    return unicode(text, \"latin2\").lower()"
   ]
  },
  {
   "cell_type": "code",
   "execution_count": 8,
   "metadata": {
    "collapsed": false
   },
   "outputs": [],
   "source": [
    "def Load_GUIDs(filename):\n",
    "    data = []\n",
    "    fields = {}\n",
    "    with open(filename, \"r\") as f:\n",
    "        reader = csv.DictReader(f)\n",
    "        for line in reader:\n",
    "            data.append(line)\n",
    "    #strip capitalization for matching purposes\n",
    "    data = pd.DataFrame(data)\n",
    "    df_lowercase(data, 'Title')\n",
    "    if len(data.columns) == 6:\n",
    "        df_lowercase(data, 'Strand')\n",
    "        df_lowercase(data, 'Sub-Strand')\n",
    "    if len(data.columns) == 7:\n",
    "        df_lowercase(data, 'Strand')\n",
    "    return data"
   ]
  },
  {
   "cell_type": "code",
   "execution_count": 9,
   "metadata": {
    "collapsed": false
   },
   "outputs": [],
   "source": [
    "def df_lowercase(dataframe, column):\n",
    "    lowercase = lambda x: unicode(x, \"latin2\").lower()\n",
    "    dataframe[column] = dataframe[column].apply(lowercase)\n",
    "    return dataframe"
   ]
  },
  {
   "cell_type": "code",
   "execution_count": 10,
   "metadata": {
    "collapsed": false
   },
   "outputs": [],
   "source": [
    "steps_df = Load_GUIDs(\"Math_Steps.csv\")\n",
    "shapes_df = Load_GUIDs(\"Math_Shapes.csv\")\n",
    "number_df = Load_GUIDs(\"Math_Number.csv\")\n",
    "units_df = Load_GUIDs(\"Math_Units_Modified.csv\")\n",
    "content_focus_df = Load_GUIDs(\"Math_Content_Foc.csv\")\n",
    "component_df = Load_GUIDs(\"Math_Components.csv\")\n",
    "tagging_dict = {'Steps': steps_df, 'Shape': shapes_df, 'Number': number_df, 'Units': units_df, 'Content_Focus': content_focus_df, 'Component': component_df}"
   ]
  },
  {
   "cell_type": "code",
   "execution_count": 11,
   "metadata": {
    "collapsed": false
   },
   "outputs": [],
   "source": [
    "\n",
    "def get_GUID_lite(tag, df, error_test): \n",
    "    #get GUID for steps, number, units, shape\n",
    "    tag = unicode(tag, \"latin2\").lower()\n",
    "    matches = len(df.ix[df['Title'] == tag])\n",
    "    if matches == 1:\n",
    "        GUID = df.ix[df['Title'] == tag, 'Unique ID'].item()\n",
    "    elif matches ==0:\n",
    "        if tag == r'n/a':\n",
    "            GUID = r'N/A'\n",
    "        else: \n",
    "            GUID = \"Error: no matches found\"\n",
    "            error_test = True\n",
    "    else: \n",
    "        GUID = \"Error: resolve multiple values\"\n",
    "        error_test = True\n",
    "    return GUID, error_test"
   ]
  },
  {
   "cell_type": "code",
   "execution_count": null,
   "metadata": {
    "collapsed": false
   },
   "outputs": [],
   "source": [
    "number_test = \"Square roots\"\n",
    "error_test = False\n",
    "print get_GUID_lite(number_test, number_df, error_test)"
   ]
  },
  {
   "cell_type": "code",
   "execution_count": null,
   "metadata": {
    "collapsed": false
   },
   "outputs": [],
   "source": [
    "\n",
    "#create version for content focus and component\n",
    "#Play around with passing multiple conditions into first .ix argument\n",
    "\n",
    "tag = 'N/A'\n",
    "if tag == r'N/A':\n",
    "    print tag\n"
   ]
  },
  {
   "cell_type": "code",
   "execution_count": null,
   "metadata": {
    "collapsed": false
   },
   "outputs": [],
   "source": [
    "'''\n",
    "Data structure\n",
    "\n",
    "{Internal ID: value\n",
    "    {Organizers: [\n",
    "        {Strand: [ {Strand: Strand_value,\n",
    "                   Strand_GUID: GUID,\n",
    "                   Substrand: [{Substrand: Substrand_value,\n",
    "                                Substrand_GUID: GUID,\n",
    "                                Content_Focus: [{Content_Focus: Content_Focus_value,                       \n",
    "                                                Content_Focus_GUID: GUID,\n",
    "                                                Component: [{Component: Component_value,\n",
    "                                                              Component_GUID: GUID}]}]}]}]\n",
    "        {Descriptors: {Number: [N1, N2, ...]}\n",
    "                        {Digits: [D1, D2, ...]}\n",
    "            {Shape: [Shape1, ...]}\n",
    "            {Units: [Units1, ...]}\n",
    "            {Steps: Steps}\n",
    "            {Context: Context}\n",
    "            {SIG Stem: [Sig Stem1, ...]}\n",
    "            {SIG Options: [SIG Options1, ...]}\n",
    "            {Additional Modifiers: [AM1, ...]}\n",
    "}\n",
    "\n",
    "'''"
   ]
  },
  {
   "cell_type": "code",
   "execution_count": null,
   "metadata": {
    "collapsed": false
   },
   "outputs": [],
   "source": []
  },
  {
   "cell_type": "code",
   "execution_count": null,
   "metadata": {
    "collapsed": false
   },
   "outputs": [],
   "source": []
  },
  {
   "cell_type": "code",
   "execution_count": null,
   "metadata": {
    "collapsed": false
   },
   "outputs": [],
   "source": []
  },
  {
   "cell_type": "code",
   "execution_count": null,
   "metadata": {
    "collapsed": true
   },
   "outputs": [],
   "source": []
  },
  {
   "cell_type": "code",
   "execution_count": null,
   "metadata": {
    "collapsed": true
   },
   "outputs": [],
   "source": []
  }
 ],
 "metadata": {
  "anaconda-cloud": {},
  "kernelspec": {
   "display_name": "Python [conda root]",
   "language": "python",
   "name": "conda-root-py"
  },
  "language_info": {
   "codemirror_mode": {
    "name": "ipython",
    "version": 2
   },
   "file_extension": ".py",
   "mimetype": "text/x-python",
   "name": "python",
   "nbconvert_exporter": "python",
   "pygments_lexer": "ipython2",
   "version": "2.7.12"
  }
 },
 "nbformat": 4,
 "nbformat_minor": 1
}
