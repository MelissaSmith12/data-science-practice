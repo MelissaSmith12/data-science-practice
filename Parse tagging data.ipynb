{
 "cells": [
  {
   "cell_type": "code",
   "execution_count": 2,
   "metadata": {
    "collapsed": false
   },
   "outputs": [],
   "source": [
    "import pandas as pd\n",
    "import numpy\n",
    "import codecs\n",
    "import csv\n",
    "import json\n",
    "import pprint\n",
    "import re\n",
    "\n",
    "filename = \"math sample for API testing.csv\"\n",
    "\n",
    "fields ={'Internal_ID': 'Internal_ID',\n",
    "         'Strand': 'Strand',\n",
    "         'Sub-Strand': 'Substrand',\n",
    "         'Content Focus': 'Content_Focus',\n",
    "         'Component': 'Component',\n",
    "         'Number': 'Number',\n",
    "         'Digits': 'Digits',\n",
    "         'Shape': 'Shape',\n",
    "         'Units': 'Units',\n",
    "         'Steps': 'Steps',\n",
    "         'Context': 'Context',\n",
    "         'SIG Stem': 'SIG_Stem',\n",
    "         'SIG Options': 'SIG_Options',\n",
    "         'Additional Modifiers': 'Additional_Modifiers'}"
   ]
  },
  {
   "cell_type": "code",
   "execution_count": 3,
   "metadata": {
    "collapsed": false
   },
   "outputs": [],
   "source": [
    "def process_file(filename, fields, tagging_df):\n",
    "    process_fields = fields.keys()\n",
    "    data = []\n",
    "    bad_data = []\n",
    "#    data_keys = ['Internal ID', 'Strand','Substrand', 'Content_focus', 'Component', 'Number', 'Digits', 'Shape', 'Units', 'Steps', 'Context', 'SIG Stem', 'SIG Options', 'Additional Modifiers']\n",
    "    with open(filename, \"r\") as f:\n",
    "        reader = csv.DictReader(f)\n",
    "        for i in range(1):\n",
    "            l = reader.next()\n",
    "\n",
    "        for line in reader:\n",
    "            error_test = 'FALSE'\n",
    "            row = {}\n",
    "            strand_dict = {}\n",
    "            strand_list = []\n",
    "            InternalID = int(line['Internal ID'])\n",
    "            Strand = line['Strand'].split(\"; \")\n",
    "            for strand in Strand:\n",
    "                strand_sub_dict = {}\n",
    "                content_focus_df = tagging_df['Content_Focus']\n",
    "                StrandGUID, error_test = get_GUID_lite(strand, content_focus_df, error_test)\n",
    "                strand_sub_dict = {'Strand': strand, 'StrandGUID' : StrandGUID}\n",
    "                strand_list.append(strand_sub_dict)\n",
    "                         \n",
    "            substrand_list = line['Sub-Strand'].split(\"; \")\n",
    "            strand_list, error_test = get_SubstrandGUID(strand_list, substrand_list, content_focus_df, error_test)\n",
    "                                 \n",
    "            Differentiator_Keys = ['Shape', 'Units', 'Steps']            \n",
    "            Differentiator_List = []\n",
    "            for Differentiator in Differentiator_Keys:\n",
    "                Differentiator_values = line[Differentiator].split(\"; \")\n",
    "                Differentiator_sub_list = []\n",
    "                Differentiator_df = tagging_df[Differentiator]\n",
    "                DifferentiatorGUID_Name = Differentiator + \"GUID\"\n",
    "                for value in Differentiator_values:\n",
    "                    Differentiator_sub_dict = {}\n",
    "                    DifferentiatorGUID, error_test = get_GUID_lite(value, Differentiator_df, error_test)\n",
    "                    Differentiator_sub_dict = {Differentiator: value, DifferentiatorGUID_Name : DifferentiatorGUID}\n",
    "                    Differentiator_sub_list.append(Differentiator_sub_dict)\n",
    "                Differentiator_List.append(Differentiator_sub_list)\n",
    "            #Process Differentiators\n",
    "            \n",
    "            \n",
    "            row = {\"Internal_ID\": InternalID, \"Organizers\" : strand_list, \"Differentiators\": Differentiator_List}\n",
    "            if error_test == 'TRUE':\n",
    "                bad_data.append(row)\n",
    "            else: data.append(row)\n",
    "            \n",
    "            \n",
    "    return data, bad_data"
   ]
  },
  {
   "cell_type": "code",
   "execution_count": 13,
   "metadata": {
    "collapsed": false
   },
   "outputs": [
    {
     "name": "stdout",
     "output_type": "stream",
     "text": [
      "[{'Differentiators': [[{'Shape': 'Angles',\n",
      "                        'ShapeGUID': '1E2EB858-97C8-11E6-8048-1FDE29C466BA'},\n",
      "                       {'Shape': 'Circle',\n",
      "                        'ShapeGUID': '1E31B990-97C8-11E6-8048-1FDE29C466BA'},\n",
      "                       {'Shape': 'Line',\n",
      "                        'ShapeGUID': '1E22E424-97C8-11E6-8048-1FDE29C466BA'},\n",
      "                       {'Shape': 'Point',\n",
      "                        'ShapeGUID': '1E24B42A-97C8-11E6-8048-1FDE29C466BA'},\n",
      "                       {'Shape': 'Right triangle',\n",
      "                        'ShapeGUID': '1E3C7E3E-97C8-11E6-8048-1FDE29C466BA'},\n",
      "                       {'Shape': 'Arc',\n",
      "                        'ShapeGUID': '1E3B9636-97C8-11E6-8048-1FDE29C466BA'}],\n",
      "                      [{'Units': 'N/A', 'UnitsGUID': 'N/A'}],\n",
      "                      [{'Steps': 'two Step',\n",
      "                        'StepsGUID': 'F024BB90-97E2-11E6-9F49-DB8029C466BA'}]],\n",
      "  'Internal_ID': 333179,\n",
      "  'Organizers': [{'Strand': 'Geometry and Measurement',\n",
      "                  'StrandGUID': 'D66D958E-8BFB-11E6-921B-89CC29C466BA',\n",
      "                  'Substrand': [{'Substrand': 'Shapes',\n",
      "                                 'SubstrandGUID': 'Error: Multiple substrands, cannot parse yet'}]},\n",
      "                 {'Strand': 'Algebra',\n",
      "                  'StrandGUID': 'D66A43AC-8BFB-11E6-921B-89CC29C466BA'}]},\n",
      " {'Differentiators': [[{'Shape': 'Angles',\n",
      "                        'ShapeGUID': '1E2EB858-97C8-11E6-8048-1FDE29C466BA'},\n",
      "                       {'Shape': 'Circle',\n",
      "                        'ShapeGUID': '1E31B990-97C8-11E6-8048-1FDE29C466BA'},\n",
      "                       {'Shape': 'Line',\n",
      "                        'ShapeGUID': '1E22E424-97C8-11E6-8048-1FDE29C466BA'},\n",
      "                       {'Shape': 'Point',\n",
      "                        'ShapeGUID': '1E24B42A-97C8-11E6-8048-1FDE29C466BA'},\n",
      "                       {'Shape': 'Right triangle',\n",
      "                        'ShapeGUID': '1E3C7E3E-97C8-11E6-8048-1FDE29C466BA'},\n",
      "                       {'Shape': 'Arc',\n",
      "                        'ShapeGUID': '1E3B9636-97C8-11E6-8048-1FDE29C466BA'}],\n",
      "                      [{'Units': 'N/A', 'UnitsGUID': 'N/A'}],\n",
      "                      [{'Steps': 'two Step',\n",
      "                        'StepsGUID': 'F024BB90-97E2-11E6-9F49-DB8029C466BA'}]],\n",
      "  'Internal_ID': 333010,\n",
      "  'Organizers': [{'Strand': 'Geometry and Measurement',\n",
      "                  'StrandGUID': 'D66D958E-8BFB-11E6-921B-89CC29C466BA',\n",
      "                  'Substrand': [{'Substrand': 'Shapes',\n",
      "                                 'SubstrandGUID': 'Error: Multiple substrands, cannot parse yet'}]},\n",
      "                 {'Strand': 'Algebra',\n",
      "                  'StrandGUID': 'D66A43AC-8BFB-11E6-921B-89CC29C466BA'}]},\n",
      " {'Differentiators': [[{'Shape': 'Angles',\n",
      "                        'ShapeGUID': '1E2EB858-97C8-11E6-8048-1FDE29C466BA'},\n",
      "                       {'Shape': 'Circle',\n",
      "                        'ShapeGUID': '1E31B990-97C8-11E6-8048-1FDE29C466BA'},\n",
      "                       {'Shape': 'Line',\n",
      "                        'ShapeGUID': '1E22E424-97C8-11E6-8048-1FDE29C466BA'},\n",
      "                       {'Shape': 'Point',\n",
      "                        'ShapeGUID': '1E24B42A-97C8-11E6-8048-1FDE29C466BA'},\n",
      "                       {'Shape': 'Right triangle',\n",
      "                        'ShapeGUID': '1E3C7E3E-97C8-11E6-8048-1FDE29C466BA'},\n",
      "                       {'Shape': 'Arc',\n",
      "                        'ShapeGUID': '1E3B9636-97C8-11E6-8048-1FDE29C466BA'}],\n",
      "                      [{'Units': 'N/A', 'UnitsGUID': 'N/A'}],\n",
      "                      [{'Steps': 'two Step',\n",
      "                        'StepsGUID': 'F024BB90-97E2-11E6-9F49-DB8029C466BA'}]],\n",
      "  'Internal_ID': 333009,\n",
      "  'Organizers': [{'Strand': 'Geometry and Measurement',\n",
      "                  'StrandGUID': 'D66D958E-8BFB-11E6-921B-89CC29C466BA',\n",
      "                  'Substrand': [{'Substrand': 'Shapes',\n",
      "                                 'SubstrandGUID': 'Error: Multiple substrands, cannot parse yet'}]},\n",
      "                 {'Strand': 'Algebra',\n",
      "                  'StrandGUID': 'D66A43AC-8BFB-11E6-921B-89CC29C466BA'}]},\n",
      " {'Differentiators': [[{'Shape': 'Angles',\n",
      "                        'ShapeGUID': '1E2EB858-97C8-11E6-8048-1FDE29C466BA'},\n",
      "                       {'Shape': 'Circle',\n",
      "                        'ShapeGUID': '1E31B990-97C8-11E6-8048-1FDE29C466BA'},\n",
      "                       {'Shape': 'Line',\n",
      "                        'ShapeGUID': '1E22E424-97C8-11E6-8048-1FDE29C466BA'},\n",
      "                       {'Shape': 'Point',\n",
      "                        'ShapeGUID': '1E24B42A-97C8-11E6-8048-1FDE29C466BA'},\n",
      "                       {'Shape': 'Right triangle',\n",
      "                        'ShapeGUID': '1E3C7E3E-97C8-11E6-8048-1FDE29C466BA'},\n",
      "                       {'Shape': 'Arc',\n",
      "                        'ShapeGUID': '1E3B9636-97C8-11E6-8048-1FDE29C466BA'}],\n",
      "                      [{'Units': 'Generic',\n",
      "                        'UnitsGUID': '7C0B3838-97C4-11E6-B4CA-B3D929C466BA'},\n",
      "                       {'Units': 'Radians',\n",
      "                        'UnitsGUID': '7C0E0CB6-97C4-11E6-B4CA-B3D929C466BA'}],\n",
      "                      [{'Steps': 'N/A', 'StepsGUID': 'N/A'}]],\n",
      "  'Internal_ID': 331547,\n",
      "  'Organizers': [{'Strand': 'Algebra',\n",
      "                  'StrandGUID': 'D66A43AC-8BFB-11E6-921B-89CC29C466BA',\n",
      "                  'Substrand': [{'Substrand': 'Functions',\n",
      "                                 'SubstrandGUID': 'Error: Multiple substrands, cannot parse yet'}]},\n",
      "                 {'Strand': 'Geometry and Measurement',\n",
      "                  'StrandGUID': 'D66D958E-8BFB-11E6-921B-89CC29C466BA'}]},\n",
      " {'Differentiators': [[{'Shape': 'Angles',\n",
      "                        'ShapeGUID': '1E2EB858-97C8-11E6-8048-1FDE29C466BA'},\n",
      "                       {'Shape': 'Circle',\n",
      "                        'ShapeGUID': '1E31B990-97C8-11E6-8048-1FDE29C466BA'},\n",
      "                       {'Shape': 'Line',\n",
      "                        'ShapeGUID': '1E22E424-97C8-11E6-8048-1FDE29C466BA'},\n",
      "                       {'Shape': 'Point',\n",
      "                        'ShapeGUID': '1E24B42A-97C8-11E6-8048-1FDE29C466BA'},\n",
      "                       {'Shape': 'Right triangle',\n",
      "                        'ShapeGUID': '1E3C7E3E-97C8-11E6-8048-1FDE29C466BA'},\n",
      "                       {'Shape': 'Arc',\n",
      "                        'ShapeGUID': '1E3B9636-97C8-11E6-8048-1FDE29C466BA'}],\n",
      "                      [{'Units': 'Generic',\n",
      "                        'UnitsGUID': '7C0B3838-97C4-11E6-B4CA-B3D929C466BA'},\n",
      "                       {'Units': 'Radians',\n",
      "                        'UnitsGUID': '7C0E0CB6-97C4-11E6-B4CA-B3D929C466BA'}],\n",
      "                      [{'Steps': 'N/A', 'StepsGUID': 'N/A'}]],\n",
      "  'Internal_ID': 331545,\n",
      "  'Organizers': [{'Strand': 'Algebra',\n",
      "                  'StrandGUID': 'D66A43AC-8BFB-11E6-921B-89CC29C466BA',\n",
      "                  'Substrand': [{'Substrand': 'Functions',\n",
      "                                 'SubstrandGUID': 'Error: Multiple substrands, cannot parse yet'}]},\n",
      "                 {'Strand': 'Geometry and Measurement',\n",
      "                  'StrandGUID': 'D66D958E-8BFB-11E6-921B-89CC29C466BA'}]},\n",
      " {'Differentiators': [[{'Shape': 'Angles',\n",
      "                        'ShapeGUID': '1E2EB858-97C8-11E6-8048-1FDE29C466BA'},\n",
      "                       {'Shape': 'Circle',\n",
      "                        'ShapeGUID': '1E31B990-97C8-11E6-8048-1FDE29C466BA'},\n",
      "                       {'Shape': 'Line',\n",
      "                        'ShapeGUID': '1E22E424-97C8-11E6-8048-1FDE29C466BA'},\n",
      "                       {'Shape': 'Point',\n",
      "                        'ShapeGUID': '1E24B42A-97C8-11E6-8048-1FDE29C466BA'},\n",
      "                       {'Shape': 'Right triangle',\n",
      "                        'ShapeGUID': '1E3C7E3E-97C8-11E6-8048-1FDE29C466BA'},\n",
      "                       {'Shape': 'Arc',\n",
      "                        'ShapeGUID': '1E3B9636-97C8-11E6-8048-1FDE29C466BA'}],\n",
      "                      [{'Units': 'Generic',\n",
      "                        'UnitsGUID': '7C0B3838-97C4-11E6-B4CA-B3D929C466BA'},\n",
      "                       {'Units': 'Radians',\n",
      "                        'UnitsGUID': '7C0E0CB6-97C4-11E6-B4CA-B3D929C466BA'}],\n",
      "                      [{'Steps': 'N/A', 'StepsGUID': 'N/A'}]],\n",
      "  'Internal_ID': 331543,\n",
      "  'Organizers': [{'Strand': 'Algebra',\n",
      "                  'StrandGUID': 'D66A43AC-8BFB-11E6-921B-89CC29C466BA',\n",
      "                  'Substrand': [{'Substrand': 'Functions',\n",
      "                                 'SubstrandGUID': 'Error: Multiple substrands, cannot parse yet'}]},\n",
      "                 {'Strand': 'Geometry and Measurement',\n",
      "                  'StrandGUID': 'D66D958E-8BFB-11E6-921B-89CC29C466BA'}]},\n",
      " {'Differentiators': [[{'Shape': 'Angles',\n",
      "                        'ShapeGUID': '1E2EB858-97C8-11E6-8048-1FDE29C466BA'},\n",
      "                       {'Shape': 'Circle',\n",
      "                        'ShapeGUID': '1E31B990-97C8-11E6-8048-1FDE29C466BA'},\n",
      "                       {'Shape': 'Line',\n",
      "                        'ShapeGUID': '1E22E424-97C8-11E6-8048-1FDE29C466BA'},\n",
      "                       {'Shape': 'Point',\n",
      "                        'ShapeGUID': '1E24B42A-97C8-11E6-8048-1FDE29C466BA'},\n",
      "                       {'Shape': 'Right triangle',\n",
      "                        'ShapeGUID': '1E3C7E3E-97C8-11E6-8048-1FDE29C466BA'},\n",
      "                       {'Shape': 'Arc',\n",
      "                        'ShapeGUID': '1E3B9636-97C8-11E6-8048-1FDE29C466BA'}],\n",
      "                      [{'Units': 'Generic',\n",
      "                        'UnitsGUID': '7C0B3838-97C4-11E6-B4CA-B3D929C466BA'},\n",
      "                       {'Units': 'Radians',\n",
      "                        'UnitsGUID': '7C0E0CB6-97C4-11E6-B4CA-B3D929C466BA'}],\n",
      "                      [{'Steps': 'N/A', 'StepsGUID': 'N/A'}]],\n",
      "  'Internal_ID': 331541,\n",
      "  'Organizers': [{'Strand': 'Algebra',\n",
      "                  'StrandGUID': 'D66A43AC-8BFB-11E6-921B-89CC29C466BA',\n",
      "                  'Substrand': [{'Substrand': 'Functions',\n",
      "                                 'SubstrandGUID': 'Error: Multiple substrands, cannot parse yet'}]},\n",
      "                 {'Strand': 'Geometry and Measurement',\n",
      "                  'StrandGUID': 'D66D958E-8BFB-11E6-921B-89CC29C466BA'}]},\n",
      " {'Differentiators': [[{'Shape': 'Angles',\n",
      "                        'ShapeGUID': '1E2EB858-97C8-11E6-8048-1FDE29C466BA'},\n",
      "                       {'Shape': 'Circle',\n",
      "                        'ShapeGUID': '1E31B990-97C8-11E6-8048-1FDE29C466BA'},\n",
      "                       {'Shape': 'Line',\n",
      "                        'ShapeGUID': '1E22E424-97C8-11E6-8048-1FDE29C466BA'},\n",
      "                       {'Shape': 'Point',\n",
      "                        'ShapeGUID': '1E24B42A-97C8-11E6-8048-1FDE29C466BA'},\n",
      "                       {'Shape': 'Right triangle',\n",
      "                        'ShapeGUID': '1E3C7E3E-97C8-11E6-8048-1FDE29C466BA'},\n",
      "                       {'Shape': 'Arc',\n",
      "                        'ShapeGUID': '1E3B9636-97C8-11E6-8048-1FDE29C466BA'}],\n",
      "                      [{'Units': 'Generic',\n",
      "                        'UnitsGUID': '7C0B3838-97C4-11E6-B4CA-B3D929C466BA'},\n",
      "                       {'Units': 'Radians',\n",
      "                        'UnitsGUID': '7C0E0CB6-97C4-11E6-B4CA-B3D929C466BA'}],\n",
      "                      [{'Steps': 'N/A', 'StepsGUID': 'N/A'}]],\n",
      "  'Internal_ID': 331540,\n",
      "  'Organizers': [{'Strand': 'Algebra',\n",
      "                  'StrandGUID': 'D66A43AC-8BFB-11E6-921B-89CC29C466BA',\n",
      "                  'Substrand': [{'Substrand': 'Functions',\n",
      "                                 'SubstrandGUID': 'Error: Multiple substrands, cannot parse yet'}]},\n",
      "                 {'Strand': 'Geometry and Measurement',\n",
      "                  'StrandGUID': 'D66D958E-8BFB-11E6-921B-89CC29C466BA'}]},\n",
      " {'Differentiators': [[{'Shape': 'Angles',\n",
      "                        'ShapeGUID': '1E2EB858-97C8-11E6-8048-1FDE29C466BA'},\n",
      "                       {'Shape': 'Circle',\n",
      "                        'ShapeGUID': '1E31B990-97C8-11E6-8048-1FDE29C466BA'},\n",
      "                       {'Shape': 'Line',\n",
      "                        'ShapeGUID': '1E22E424-97C8-11E6-8048-1FDE29C466BA'},\n",
      "                       {'Shape': 'Point',\n",
      "                        'ShapeGUID': '1E24B42A-97C8-11E6-8048-1FDE29C466BA'},\n",
      "                       {'Shape': 'Right triangle',\n",
      "                        'ShapeGUID': '1E3C7E3E-97C8-11E6-8048-1FDE29C466BA'},\n",
      "                       {'Shape': 'Arc',\n",
      "                        'ShapeGUID': '1E3B9636-97C8-11E6-8048-1FDE29C466BA'}],\n",
      "                      [{'Units': 'Generic',\n",
      "                        'UnitsGUID': '7C0B3838-97C4-11E6-B4CA-B3D929C466BA'},\n",
      "                       {'Units': 'Radians',\n",
      "                        'UnitsGUID': '7C0E0CB6-97C4-11E6-B4CA-B3D929C466BA'}],\n",
      "                      [{'Steps': 'N/A', 'StepsGUID': 'N/A'}]],\n",
      "  'Internal_ID': 331539,\n",
      "  'Organizers': [{'Strand': 'Algebra',\n",
      "                  'StrandGUID': 'D66A43AC-8BFB-11E6-921B-89CC29C466BA',\n",
      "                  'Substrand': [{'Substrand': 'Functions',\n",
      "                                 'SubstrandGUID': 'Error: Multiple substrands, cannot parse yet'}]},\n",
      "                 {'Strand': 'Geometry and Measurement',\n",
      "                  'StrandGUID': 'D66D958E-8BFB-11E6-921B-89CC29C466BA'}]},\n",
      " {'Differentiators': [[{'Shape': 'Angles',\n",
      "                        'ShapeGUID': '1E2EB858-97C8-11E6-8048-1FDE29C466BA'},\n",
      "                       {'Shape': 'Circle',\n",
      "                        'ShapeGUID': '1E31B990-97C8-11E6-8048-1FDE29C466BA'},\n",
      "                       {'Shape': 'Line',\n",
      "                        'ShapeGUID': '1E22E424-97C8-11E6-8048-1FDE29C466BA'},\n",
      "                       {'Shape': 'Point',\n",
      "                        'ShapeGUID': '1E24B42A-97C8-11E6-8048-1FDE29C466BA'}],\n",
      "                      [{'Units': 'Generic',\n",
      "                        'UnitsGUID': '7C0B3838-97C4-11E6-B4CA-B3D929C466BA'}],\n",
      "                      [{'Steps': 'three Step',\n",
      "                        'StepsGUID': 'F02594A2-97E2-11E6-9F49-DB8029C466BA'}]],\n",
      "  'Internal_ID': 331538,\n",
      "  'Organizers': [{'Strand': 'Geometry and Measurement',\n",
      "                  'StrandGUID': 'D66D958E-8BFB-11E6-921B-89CC29C466BA',\n",
      "                  'Substrand': [{'Substrand': 'Shapes',\n",
      "                                 'SubstrandGUID': 'Error: Multiple substrands, cannot parse yet'}]},\n",
      "                 {'Strand': 'Algebra',\n",
      "                  'StrandGUID': 'D66A43AC-8BFB-11E6-921B-89CC29C466BA'}]},\n",
      " {'Differentiators': [[{'Shape': 'Angles',\n",
      "                        'ShapeGUID': '1E2EB858-97C8-11E6-8048-1FDE29C466BA'},\n",
      "                       {'Shape': 'Circle',\n",
      "                        'ShapeGUID': '1E31B990-97C8-11E6-8048-1FDE29C466BA'},\n",
      "                       {'Shape': 'Line',\n",
      "                        'ShapeGUID': '1E22E424-97C8-11E6-8048-1FDE29C466BA'},\n",
      "                       {'Shape': 'Point',\n",
      "                        'ShapeGUID': '1E24B42A-97C8-11E6-8048-1FDE29C466BA'}],\n",
      "                      [{'Units': 'Generic',\n",
      "                        'UnitsGUID': '7C0B3838-97C4-11E6-B4CA-B3D929C466BA'}],\n",
      "                      [{'Steps': 'N/A', 'StepsGUID': 'N/A'}]],\n",
      "  'Internal_ID': 331537,\n",
      "  'Organizers': [{'Strand': 'Geometry and Measurement',\n",
      "                  'StrandGUID': 'D66D958E-8BFB-11E6-921B-89CC29C466BA',\n",
      "                  'Substrand': [{'Substrand': 'Shapes',\n",
      "                                 'SubstrandGUID': 'Error: Multiple substrands, cannot parse yet'}]},\n",
      "                 {'Strand': 'Algebra',\n",
      "                  'StrandGUID': 'D66A43AC-8BFB-11E6-921B-89CC29C466BA'}]},\n",
      " {'Differentiators': [[{'Shape': 'Angles',\n",
      "                        'ShapeGUID': '1E2EB858-97C8-11E6-8048-1FDE29C466BA'},\n",
      "                       {'Shape': 'Circle',\n",
      "                        'ShapeGUID': '1E31B990-97C8-11E6-8048-1FDE29C466BA'},\n",
      "                       {'Shape': 'Line',\n",
      "                        'ShapeGUID': '1E22E424-97C8-11E6-8048-1FDE29C466BA'},\n",
      "                       {'Shape': 'Point',\n",
      "                        'ShapeGUID': '1E24B42A-97C8-11E6-8048-1FDE29C466BA'}],\n",
      "                      [{'Units': 'Generic',\n",
      "                        'UnitsGUID': '7C0B3838-97C4-11E6-B4CA-B3D929C466BA'}],\n",
      "                      [{'Steps': 'multistep',\n",
      "                        'StepsGUID': 'F022E4A0-97E2-11E6-9F49-DB8029C466BA'}]],\n",
      "  'Internal_ID': 331536,\n",
      "  'Organizers': [{'Strand': 'Geometry and Measurement',\n",
      "                  'StrandGUID': 'D66D958E-8BFB-11E6-921B-89CC29C466BA',\n",
      "                  'Substrand': [{'Substrand': 'Shapes',\n",
      "                                 'SubstrandGUID': 'Error: Multiple substrands, cannot parse yet'}]},\n",
      "                 {'Strand': 'Algebra',\n",
      "                  'StrandGUID': 'D66A43AC-8BFB-11E6-921B-89CC29C466BA'}]}]\n"
     ]
    }
   ],
   "source": [
    "data, bad_data = process_file(filename, fields, tagging_dict)\n",
    "pprint.pprint(bad_data)"
   ]
  },
  {
   "cell_type": "code",
   "execution_count": 14,
   "metadata": {
    "collapsed": false
   },
   "outputs": [
    {
     "data": {
      "text/plain": [
       "12"
      ]
     },
     "execution_count": 14,
     "metadata": {},
     "output_type": "execute_result"
    }
   ],
   "source": [
    "len(bad_data)"
   ]
  },
  {
   "cell_type": "code",
   "execution_count": 15,
   "metadata": {
    "collapsed": false
   },
   "outputs": [
    {
     "name": "stdout",
     "output_type": "stream",
     "text": [
      "[{'Differentiators': [[{'Shape': 'Angles',\n",
      "                        'ShapeGUID': '1E2EB858-97C8-11E6-8048-1FDE29C466BA'},\n",
      "                       {'Shape': 'Composite figure',\n",
      "                        'ShapeGUID': '1E30CF44-97C8-11E6-8048-1FDE29C466BA'},\n",
      "                       {'Shape': 'Right triangle',\n",
      "                        'ShapeGUID': '1E3C7E3E-97C8-11E6-8048-1FDE29C466BA'}],\n",
      "                      [{'Units': 'N/A', 'UnitsGUID': 'N/A'}],\n",
      "                      [{'Steps': 'N/A', 'StepsGUID': 'N/A'}]],\n",
      "  'Internal_ID': 331526,\n",
      "  'Organizers': [{'Strand': 'Geometry and Measurement',\n",
      "                  'StrandGUID': 'D66D958E-8BFB-11E6-921B-89CC29C466BA',\n",
      "                  'Substrand': [{'Substrand': 'Shapes',\n",
      "                                 'SubstrandGUID': '15D1079A-8C17-11E6-81DC-467029C466BA'}]}]}]\n"
     ]
    }
   ],
   "source": [
    "pprint.pprint(data)"
   ]
  },
  {
   "cell_type": "code",
   "execution_count": 4,
   "metadata": {
    "collapsed": false
   },
   "outputs": [],
   "source": [
    "def get_SubstrandGUID(strand_list, substrand_list, df, error_test):\n",
    "    GUID = None\n",
    "    substrand_sublist = []\n",
    "    if len(df[(df['Title']==lowercase(substrand_list[0]))]) == 0:  ####THIS JUST TESTS THE FIRST SUBSTRAND FOR EXISTENCE\n",
    "        substrand_sublist.append({'Substrand': substrand_list[0], 'SubstrandGUID': 'Error: Substrand not found in master list'})\n",
    "        error_test = 'TRUE'\n",
    "        strand_list[0]['Substrand'] = substrand_sublist\n",
    "    elif len(substrand_list) < len(strand_list):\n",
    "        substrand_sublist.append({'Substrand': substrand_list[0], 'SubstrandGUID': \"Error: more strands than substrands\"})\n",
    "        error_test = 'TRUE'\n",
    "        strand_list[0]['Substrand'] = substrand_sublist\n",
    "    elif len(substrand_list) == 1 and len(strand_list) == 1:\n",
    "        if len(df[(df['Strand']==lowercase(strand_list[0]['Strand'])) & (df['Title']==lowercase(substrand_list[0]))]) == 1:\n",
    "            SubstrandGUID = df.ix[(df['Strand']==lowercase(strand_list[0]['Strand'])) & (df['Title']==lowercase(substrand_list[0])), 'Unique ID'].item()\n",
    "            substrand_sublist.append({'Substrand': substrand_list[0], 'SubstrandGUID': SubstrandGUID})\n",
    "            strand_list[0]['Substrand'] = substrand_sublist\n",
    "        else: \n",
    "            strand_list[0]['Substrand']= {'Substrand': substrand_list[0], 'SubstrandGUID': 'Error: No Strand/Substrand match found in master list'}\n",
    "            error_test = 'TRUE'\n",
    "            strand_list[0]['Substrand'] = substrand_sublist\n",
    "    elif len(substrand_list) > 1 and len(strand_list) == 1: \n",
    "        for substrand in substrand_list:\n",
    "            \n",
    "            if len(df[(df['Strand']==lowercase(strand_list[0]['Strand'])) & (df['Title']==lowercase(substrand))]) == 1:\n",
    "                SubstrandGUID = df.ix[(df['Strand']==lowercase(strand_list[0]['Strand'])) & (df['Title']==lowercase(substrand)), 'Unique ID'].item()\n",
    "                substrand_sublist.append({'Substrand': substrand, 'SubstrandGUID': SubstrandGUID})\n",
    "                strand_list[0]['Substrand'] = substrand_sublist\n",
    "            else: \n",
    "                substrand_sublist.append({'Substrand': substrand, 'SubstrandGUID': 'Error: No Strand/Substrand match found in master list'})\n",
    "                error_test = 'TRUE'\n",
    "                strand_list[0]['Substrand'] = substrand_sublist\n",
    "    elif len(substrand_list) == 2 and len(strand_list) == 2:\n",
    "        \n",
    "    \n",
    "    \n",
    "    \n",
    "    \n",
    "    else: \n",
    "        substrand_sublist.append({'Substrand': substrand_list[0], 'SubstrandGUID': \"Error: Multiple substrands, cannot parse yet\"})\n",
    "        error_test = 'TRUE'\n",
    "        strand_list[0]['Substrand'] = substrand_sublist\n",
    "    return strand_list, error_test\n"
   ]
  },
  {
   "cell_type": "code",
   "execution_count": 12,
   "metadata": {
    "collapsed": false
   },
   "outputs": [
    {
     "name": "stdout",
     "output_type": "stream",
     "text": [
      "([{'Strand': 'Geometry and Measurement',\n",
      "   'StrandGUID': 'testGUID1',\n",
      "   'Substrand': [{'Substrand': 'Perimeter, Area, Volume',\n",
      "                  'SubstrandGUID': '15A8ED1E-8C17-11E6-81DC-467029C466BA'},\n",
      "                 {'Substrand': 'Measurement',\n",
      "                  'SubstrandGUID': '1586CBB2-8C17-11E6-81DC-467029C466BA'}]}],\n",
      " 'FALSE')\n"
     ]
    }
   ],
   "source": [
    "#Case strand len = 1, substrand = 1\n",
    "strand_list = [{\"Strand\": 'Geometry and Measurement', \"StrandGUID\": \"testGUID1\"}]\n",
    "error_test = 'FALSE'\n",
    "substrand = [\"Perimeter, Area, Volume\", \"Measurement\"]\n",
    "data = get_SubstrandGUID(strand_list, substrand, tagging_dict['Content_Focus'], error_test)\n",
    "pprint.pprint(data)"
   ]
  },
  {
   "cell_type": "code",
   "execution_count": 46,
   "metadata": {
    "collapsed": false
   },
   "outputs": [
    {
     "name": "stdout",
     "output_type": "stream",
     "text": [
      "                         Time and Money Equations\n",
      "Algebra                           False      True\n",
      "Geometry and Measurement           True     False\n",
      "[('Algebra', 'Equations'), ('Geometry and Measurement', 'Time and Money')]\n"
     ]
    }
   ],
   "source": [
    "strand_list = [{\"Strand\": \"Algebra\"}, {\"Strand\": \"Geometry and Measurement\"}]\n",
    "substrand_list = [\"Time and Money\", \"Equations\"]\n",
    "strand_names = []\n",
    "for strand in strand_list:\n",
    "    strand_names.append(strand['Strand'])\n",
    "match_status = pd.DataFrame(False,index=strand_names,columns=substrand_list)\n",
    "df = content_focus_df\n",
    "\n",
    "for strand in strand_names:\n",
    "    for substrand in substrand_list:\n",
    "        if len(df[(df['Strand']==lowercase(strand)) & (df['Title']==lowercase(substrand))]) == 1:\n",
    "            match_status.ix[strand,substrand] = True\n",
    "            \n",
    "print match_status\n",
    "test = match_status.sum().sum()\n",
    "\n",
    "if match_status.sum().sum() == 2:\n",
    "    #get the strand,substrand pairs where match_status is true  \n",
    "    true_pairs = list(match_status[match_status == True].stack().index)\n",
    "    #Cycle through pairs and grab GUID\n",
    "    for pair in true_pairs:\n",
    "        #strand = pair[0], substrand = pair[1]\n",
    "        \n",
    "    #Output the substrand underneath the appropriate strand.\n",
    "    \n",
    "    \n",
    "    \n",
    "#elif match_status.sum().sum() == 3:\n",
    "    #figure out what matches\n",
    "    \n",
    "    #Output the substrand underneath the appropriate strand.\n",
    "    \n"
   ]
  },
  {
   "cell_type": "code",
   "execution_count": 5,
   "metadata": {
    "collapsed": true
   },
   "outputs": [],
   "source": [
    "def lowercase(text):\n",
    "    return unicode(text, \"latin2\").lower()"
   ]
  },
  {
   "cell_type": "code",
   "execution_count": 6,
   "metadata": {
    "collapsed": true
   },
   "outputs": [],
   "source": [
    "#load GUID file"
   ]
  },
  {
   "cell_type": "code",
   "execution_count": 7,
   "metadata": {
    "collapsed": true
   },
   "outputs": [],
   "source": [
    "#problem to solve for looking up GUID: when strand/substrand gives context to component, \n",
    "#if semi-colon separated, then will have to allow for non-matches"
   ]
  },
  {
   "cell_type": "code",
   "execution_count": 8,
   "metadata": {
    "collapsed": false
   },
   "outputs": [],
   "source": [
    "def Load_GUIDs(filename):\n",
    "    data = []\n",
    "    fields = {}\n",
    "    with open(filename, \"r\") as f:\n",
    "        reader = csv.DictReader(f)\n",
    "        for line in reader:\n",
    "            data.append(line)\n",
    "    #strip capitalization for matching purposes\n",
    "    data = pd.DataFrame(data)\n",
    "    df_lowercase(data, 'Title')\n",
    "    if len(data.columns) == 6:\n",
    "        df_lowercase(data, 'Strand')\n",
    "        df_lowercase(data, 'Sub-Strand')\n",
    "    if len(data.columns) == 7:\n",
    "        df_lowercase(data, 'Strand')\n",
    "    return data"
   ]
  },
  {
   "cell_type": "code",
   "execution_count": 9,
   "metadata": {
    "collapsed": false
   },
   "outputs": [],
   "source": [
    "def df_lowercase(dataframe, column):\n",
    "    lowercase = lambda x: unicode(x, \"latin2\").lower()\n",
    "    dataframe[column] = dataframe[column].apply(lowercase)\n",
    "    return dataframe"
   ]
  },
  {
   "cell_type": "code",
   "execution_count": 10,
   "metadata": {
    "collapsed": false
   },
   "outputs": [],
   "source": [
    "steps_df = Load_GUIDs(\"Math_Steps.csv\")\n",
    "shapes_df = Load_GUIDs(\"Math_Shapes.csv\")\n",
    "number_df = Load_GUIDs(\"Math_Number.csv\")\n",
    "units_df = Load_GUIDs(\"Math_Units_Modified.csv\")\n",
    "content_focus_df = Load_GUIDs(\"Math_Content_Foc.csv\")\n",
    "component_df = Load_GUIDs(\"Math_Components.csv\")\n",
    "tagging_dict = {'Steps': steps_df, 'Shape': shapes_df, 'Number': number_df, 'Units': units_df, 'Content_Focus': content_focus_df, 'Component': component_df}"
   ]
  },
  {
   "cell_type": "code",
   "execution_count": 11,
   "metadata": {
    "collapsed": false
   },
   "outputs": [],
   "source": [
    "\n",
    "def get_GUID_lite(tag, df, error_test): \n",
    "    #get GUID for steps, number, units, shape\n",
    "    tag = unicode(tag, \"latin2\").lower()\n",
    "    matches = len(df.ix[df['Title'] == tag])\n",
    "    if matches == 1:\n",
    "        GUID = df.ix[df['Title'] == tag, 'Unique ID'].item()\n",
    "    elif matches ==0:\n",
    "        if tag == r'n/a':\n",
    "            GUID = r'N/A'\n",
    "        else: \n",
    "            GUID = \"Error: no matches found\"\n",
    "            error_test = 'TRUE'\n",
    "    else: \n",
    "        GUID = \"Error: resolve multiple values\"\n",
    "        error_test = 'TRUE'\n",
    "    return GUID, error_test"
   ]
  },
  {
   "cell_type": "code",
   "execution_count": null,
   "metadata": {
    "collapsed": false
   },
   "outputs": [],
   "source": [
    "number_test = \"Square roots\"\n",
    "error_test = \"FALSE\"\n",
    "print get_GUID_lite(number_test, number_df, error_test)"
   ]
  },
  {
   "cell_type": "code",
   "execution_count": null,
   "metadata": {
    "collapsed": false
   },
   "outputs": [],
   "source": [
    "\n",
    "#create version for content focus and component\n",
    "#Play around with passing multiple conditions into first .ix argument\n",
    "\n",
    "tag = 'N/A'\n",
    "if tag == r'N/A':\n",
    "    print tag\n"
   ]
  },
  {
   "cell_type": "code",
   "execution_count": null,
   "metadata": {
    "collapsed": false
   },
   "outputs": [],
   "source": [
    "'''\n",
    "Data structure\n",
    "\n",
    "{Internal ID: value\n",
    "    {Organizers: [\n",
    "        {Strand: [ {Strand: Strand_value,\n",
    "                   Strand_GUID: GUID,\n",
    "                   Substrand: [{Substrand: Substrand_value,\n",
    "                                Substrand_GUID: GUID,\n",
    "                                Content_Focus: [{Content_Focus: Content_Focus_value,                       \n",
    "                                                Content_Focus_GUID: GUID,\n",
    "                                                Component: [{Component: Component_value,\n",
    "                                                              Component_GUID: GUID}]}]}]}]\n",
    "        {Descriptors: {Number: [N1, N2, ...]}\n",
    "                        {Digits: [D1, D2, ...]}\n",
    "            {Shape: [Shape1, ...]}\n",
    "            {Units: [Units1, ...]}\n",
    "            {Steps: Steps}\n",
    "            {Context: Context}\n",
    "            {SIG Stem: [Sig Stem1, ...]}\n",
    "            {SIG Options: [SIG Options1, ...]}\n",
    "            {Additional Modifiers: [AM1, ...]}\n",
    "}\n",
    "\n",
    "'''"
   ]
  },
  {
   "cell_type": "code",
   "execution_count": null,
   "metadata": {
    "collapsed": false
   },
   "outputs": [],
   "source": []
  },
  {
   "cell_type": "code",
   "execution_count": null,
   "metadata": {
    "collapsed": false
   },
   "outputs": [],
   "source": []
  },
  {
   "cell_type": "code",
   "execution_count": null,
   "metadata": {
    "collapsed": false
   },
   "outputs": [],
   "source": []
  },
  {
   "cell_type": "code",
   "execution_count": null,
   "metadata": {
    "collapsed": true
   },
   "outputs": [],
   "source": []
  },
  {
   "cell_type": "code",
   "execution_count": null,
   "metadata": {
    "collapsed": true
   },
   "outputs": [],
   "source": []
  }
 ],
 "metadata": {
  "anaconda-cloud": {},
  "kernelspec": {
   "display_name": "Python [conda root]",
   "language": "python",
   "name": "conda-root-py"
  },
  "language_info": {
   "codemirror_mode": {
    "name": "ipython",
    "version": 2
   },
   "file_extension": ".py",
   "mimetype": "text/x-python",
   "name": "python",
   "nbconvert_exporter": "python",
   "pygments_lexer": "ipython2",
   "version": "2.7.12"
  }
 },
 "nbformat": 4,
 "nbformat_minor": 1
}
