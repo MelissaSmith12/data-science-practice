{
 "cells": [
  {
   "cell_type": "code",
   "execution_count": 1,
   "metadata": {
    "collapsed": false
   },
   "outputs": [],
   "source": [
    "import pandas as pd\n",
    "import numpy\n",
    "import codecs\n",
    "import csv\n",
    "import json\n",
    "import pprint\n",
    "import re\n",
    "\n",
    "filename = \"math sample for API testing.csv\"\n",
    "\n",
    "fields ={'Internal ID': 'Internal_ID',\n",
    "         'Strand': 'Strand',\n",
    "         'Sub-Strand': 'Substrand',\n",
    "         'Content Focus': 'Content_Focus',\n",
    "         'Component': 'Component',\n",
    "         'Number': 'Number',\n",
    "         'Digits': 'Digits',\n",
    "         'Shape': 'Shape',\n",
    "         'Units': 'Units',\n",
    "         'Steps': 'Steps',\n",
    "         'Context': 'Context',\n",
    "         'SIG Stem': 'SIG_Stem',\n",
    "         'SIG Options': 'SIG_Options',\n",
    "         'Additional Modifiers': 'Additional_Modifiers'}"
   ]
  },
  {
   "cell_type": "code",
   "execution_count": 2,
   "metadata": {
    "collapsed": false
   },
   "outputs": [
    {
     "data": {
      "text/plain": [
       "'\\nData structure\\n\\n[list of internal IDs]\\n    {Organizers: \\n        {Strand: Strand1}\\n        {Strand_GUID: GUID}\\n            {Substrand: Substrand1}\\n            {Substrand_GUID: GUID}\\n                {Content_Focus: Content_Focus1}\\n                {Content_Focus_GUID: GUID}\\n                    {Component: Component}\\n                    {Component_GUID: GUID}}\\n    {Descriptors:\\n        {Number: [N1, N2, ...]}\\n            {Digits: [D1, D2, ...]}\\n        {Shape: [Shape1, ...]}\\n        {Units: [Units1, ...]}\\n        {Steps: Steps}\\n        {Context: Context}\\n        {SIG Stem: [Sig Stem1, ...]}\\n        {SIG Options: [SIG Options1, ...]}\\n        {Additional Modifiers: [AM1, ...]}\\n'"
      ]
     },
     "execution_count": 2,
     "metadata": {},
     "output_type": "execute_result"
    }
   ],
   "source": [
    "'''\n",
    "Data structure\n",
    "\n",
    "[list of internal IDs]\n",
    "    {Organizers: \n",
    "        {Strand: Strand1}\n",
    "        {Strand_GUID: GUID}\n",
    "            {Substrand: Substrand1}\n",
    "            {Substrand_GUID: GUID}\n",
    "                {Content_Focus: Content_Focus1}\n",
    "                {Content_Focus_GUID: GUID}\n",
    "                    {Component: Component}\n",
    "                    {Component_GUID: GUID}}\n",
    "    {Descriptors:\n",
    "        {Number: [N1, N2, ...]}\n",
    "            {Digits: [D1, D2, ...]}\n",
    "        {Shape: [Shape1, ...]}\n",
    "        {Units: [Units1, ...]}\n",
    "        {Steps: Steps}\n",
    "        {Context: Context}\n",
    "        {SIG Stem: [Sig Stem1, ...]}\n",
    "        {SIG Options: [SIG Options1, ...]}\n",
    "        {Additional Modifiers: [AM1, ...]}\n",
    "'''"
   ]
  },
  {
   "cell_type": "code",
   "execution_count": 3,
   "metadata": {
    "collapsed": false
   },
   "outputs": [],
   "source": [
    "def process_file(filename, fields):\n",
    "    process_fields = fields.keys()\n",
    "    data = []\n",
    "    holding = []\n",
    "    data_keys = ['Internal ID', 'Strand','Substrand', 'Content_focus', 'Component', 'Number', 'Digits', 'Shape', 'Units', 'Steps', 'Context', 'SIG Stem', 'SIG Options', 'Additional Modifiers']\n",
    "    with open(filename, \"r\") as f:\n",
    "        reader = csv.DictReader(f)\n",
    "        for i in range(3):\n",
    "            l = reader.next()\n",
    "\n",
    "        for line in reader:\n",
    "            holding_test = 'FALSE'\n",
    "            row = {}\n",
    "            for key,value in fields.items():\n",
    "                row[value] = (line[key]).split(\"; \")\n",
    "                #If strand, substrand, Content Focus or Numbers field in raw data has \";\", then add to holding list\n",
    "                if (value == \"Strand\" or value == \"Substrand\" or value == \"Content_Focus\" or value == \"Number\") and (re.search(';', line[key])):\n",
    "                    holding_test = 'TRUE'\n",
    "            if holding_test == 'TRUE':\n",
    "                holding.append(row) \n",
    "            else:\n",
    "                data.append(row)\n",
    "    #Process holding list\n",
    "    #Do the row have multiple values in strand both and substrand? If yes, then consult table_of_values to figure out what should get \n",
    "    #paired together\n",
    "    pprint.pprint(holding)\n",
    "    return data"
   ]
  },
  {
   "cell_type": "code",
   "execution_count": 4,
   "metadata": {
    "collapsed": false
   },
   "outputs": [
    {
     "name": "stdout",
     "output_type": "stream",
     "text": [
      "[{'Additional_Modifiers': ['N/A'],\n",
      "  'Component': ['N/A'],\n",
      "  'Content_Focus': ['Use unit circle', 'Know trigonometric ratios'],\n",
      "  'Context': ['No'],\n",
      "  'Digits': ['Denominator: 2', 'Denominator: 3'],\n",
      "  'Internal_ID': ['333009'],\n",
      "  'Number': ['Irrational numbers',\n",
      "             'Negative and positive fractions',\n",
      "             'Square roots'],\n",
      "  'SIG_Options': ['N/A'],\n",
      "  'SIG_Stem': ['N/A'],\n",
      "  'Shape': ['Angles', 'Circle', 'Line', 'Point', 'Right triangle', 'Arc'],\n",
      "  'Steps': ['two Step'],\n",
      "  'Strand': ['Geometry and Measurement', 'Algebra'],\n",
      "  'Substrand': ['Shapes', 'Functions'],\n",
      "  'Units': ['N/A']},\n",
      " {'Additional_Modifiers': ['N/A'],\n",
      "  'Component': ['Arc length'],\n",
      "  'Content_Focus': ['Use unit circle', 'Use proportionality of circles'],\n",
      "  'Context': ['No'],\n",
      "  'Digits': ['Ones',\n",
      "             'Denominator: 2',\n",
      "             'Denominator: 3',\n",
      "             'Denominator: 4',\n",
      "             'Denominator: 6'],\n",
      "  'Internal_ID': ['331547'],\n",
      "  'Number': ['Irrational numbers',\n",
      "             'Integers',\n",
      "             'Negative and positive fractions',\n",
      "             'Square roots'],\n",
      "  'SIG_Options': ['N/A'],\n",
      "  'SIG_Stem': ['Unit circle'],\n",
      "  'Shape': ['Angles', 'Circle', 'Line', 'Point', 'Right triangle', 'Arc'],\n",
      "  'Steps': ['N/A'],\n",
      "  'Strand': ['Algebra', 'Geometry and Measurement'],\n",
      "  'Substrand': ['Functions', 'Shapes'],\n",
      "  'Units': ['Generic', 'Radians']},\n",
      " {'Additional_Modifiers': ['N/A'],\n",
      "  'Component': ['Arc length'],\n",
      "  'Content_Focus': ['Use unit circle', 'Use proportionality of circles'],\n",
      "  'Context': ['No'],\n",
      "  'Digits': ['Ones',\n",
      "             'Denominator: 2',\n",
      "             'Denominator: 3',\n",
      "             'Denominator: 4',\n",
      "             'Denominator: 6'],\n",
      "  'Internal_ID': ['331545'],\n",
      "  'Number': ['Irrational numbers',\n",
      "             'Integers',\n",
      "             'Negative and positive fractions',\n",
      "             'Square roots'],\n",
      "  'SIG_Options': ['N/A'],\n",
      "  'SIG_Stem': ['Unit circle'],\n",
      "  'Shape': ['Angles', 'Circle', 'Line', 'Point', 'Right triangle', 'Arc'],\n",
      "  'Steps': ['N/A'],\n",
      "  'Strand': ['Algebra', 'Geometry and Measurement'],\n",
      "  'Substrand': ['Functions', 'Shapes'],\n",
      "  'Units': ['Generic', 'Radians']},\n",
      " {'Additional_Modifiers': ['N/A'],\n",
      "  'Component': ['Arc length'],\n",
      "  'Content_Focus': ['Use unit circle', 'Use proportionality of circles'],\n",
      "  'Context': ['No'],\n",
      "  'Digits': ['Ones',\n",
      "             'Denominator: 2',\n",
      "             'Denominator: 3',\n",
      "             'Denominator: 4',\n",
      "             'Denominator: 6'],\n",
      "  'Internal_ID': ['331543'],\n",
      "  'Number': ['Irrational numbers', 'Integers', 'Fractions', 'Square roots'],\n",
      "  'SIG_Options': ['N/A'],\n",
      "  'SIG_Stem': ['Unit circle'],\n",
      "  'Shape': ['Angles', 'Circle', 'Line', 'Point', 'Right triangle', 'Arc'],\n",
      "  'Steps': ['N/A'],\n",
      "  'Strand': ['Algebra', 'Geometry and Measurement'],\n",
      "  'Substrand': ['Functions', 'Shapes'],\n",
      "  'Units': ['Generic', 'Radians']},\n",
      " {'Additional_Modifiers': ['N/A'],\n",
      "  'Component': ['Arc length'],\n",
      "  'Content_Focus': ['Use unit circle', 'Use proportionality of circles'],\n",
      "  'Context': ['No'],\n",
      "  'Digits': ['Ones',\n",
      "             'Denominator: 2',\n",
      "             'Denominator: 3',\n",
      "             'Denominator: 4',\n",
      "             'Denominator: 6'],\n",
      "  'Internal_ID': ['331541'],\n",
      "  'Number': ['Irrational numbers', 'Integers', 'Fractions'],\n",
      "  'SIG_Options': ['N/A'],\n",
      "  'SIG_Stem': ['Unit circle'],\n",
      "  'Shape': ['Angles', 'Circle', 'Line', 'Point', 'Right triangle', 'Arc'],\n",
      "  'Steps': ['N/A'],\n",
      "  'Strand': ['Algebra', 'Geometry and Measurement'],\n",
      "  'Substrand': ['Functions', 'Shapes'],\n",
      "  'Units': ['Generic', 'Radians']},\n",
      " {'Additional_Modifiers': ['N/A'],\n",
      "  'Component': ['Central angle'],\n",
      "  'Content_Focus': ['Use unit circle', 'Use proportionality of circles'],\n",
      "  'Context': ['No'],\n",
      "  'Digits': ['Ones', 'Denominator: 3'],\n",
      "  'Internal_ID': ['331540'],\n",
      "  'Number': ['Irrational numbers', 'Fractions', 'Whole numbers'],\n",
      "  'SIG_Options': ['N/A'],\n",
      "  'SIG_Stem': ['N/A'],\n",
      "  'Shape': ['Angles', 'Circle', 'Line', 'Point', 'Right triangle', 'Arc'],\n",
      "  'Steps': ['N/A'],\n",
      "  'Strand': ['Algebra', 'Geometry and Measurement'],\n",
      "  'Substrand': ['Functions', 'Shapes'],\n",
      "  'Units': ['Generic', 'Radians']},\n",
      " {'Additional_Modifiers': ['N/A'],\n",
      "  'Component': ['Arc length'],\n",
      "  'Content_Focus': ['Use unit circle', 'Use proportionality of circles'],\n",
      "  'Context': ['No'],\n",
      "  'Digits': ['Ones',\n",
      "             'Denominator: 2',\n",
      "             'Denominator: 3',\n",
      "             'Denominator: 4',\n",
      "             'Denominator: 6'],\n",
      "  'Internal_ID': ['331539'],\n",
      "  'Number': ['Irrational numbers', 'Integers', 'Fractions', 'Square roots'],\n",
      "  'SIG_Options': ['N/A'],\n",
      "  'SIG_Stem': ['Unit circle'],\n",
      "  'Shape': ['Angles', 'Circle', 'Line', 'Point', 'Right triangle', 'Arc'],\n",
      "  'Steps': ['N/A'],\n",
      "  'Strand': ['Algebra', 'Geometry and Measurement'],\n",
      "  'Substrand': ['Functions', 'Shapes'],\n",
      "  'Units': ['Generic', 'Radians']},\n",
      " {'Additional_Modifiers': ['N/A'],\n",
      "  'Component': ['N/A'],\n",
      "  'Content_Focus': ['Use unit circle', 'Know trigonometric ratios'],\n",
      "  'Context': ['Personalization only'],\n",
      "  'Digits': ['Denominator: 2'],\n",
      "  'Internal_ID': ['331538'],\n",
      "  'Number': ['Irrational numbers',\n",
      "             'Fractions',\n",
      "             'Square roots',\n",
      "             'Negative square roots'],\n",
      "  'SIG_Options': ['N/A'],\n",
      "  'SIG_Stem': ['Equation'],\n",
      "  'Shape': ['Angles', 'Circle', 'Line', 'Point'],\n",
      "  'Steps': ['three Step'],\n",
      "  'Strand': ['Geometry and Measurement', 'Algebra'],\n",
      "  'Substrand': ['Shapes', 'Functions'],\n",
      "  'Units': ['Generic']},\n",
      " {'Additional_Modifiers': ['N/A'],\n",
      "  'Component': ['N/A'],\n",
      "  'Content_Focus': ['Use unit circle', 'Know trigonometric ratios'],\n",
      "  'Context': ['No'],\n",
      "  'Digits': ['Ones', 'Denominator: 1'],\n",
      "  'Internal_ID': ['331537'],\n",
      "  'Number': ['Irrational numbers', 'Integers'],\n",
      "  'SIG_Options': ['N/A'],\n",
      "  'SIG_Stem': ['Unit circle'],\n",
      "  'Shape': ['Angles', 'Circle', 'Line', 'Point'],\n",
      "  'Steps': ['N/A'],\n",
      "  'Strand': ['Geometry and Measurement', 'Algebra'],\n",
      "  'Substrand': ['Shapes', 'Functions'],\n",
      "  'Units': ['Generic']},\n",
      " {'Additional_Modifiers': ['N/A'],\n",
      "  'Component': ['N/A'],\n",
      "  'Content_Focus': ['Use unit circle', 'Know trigonometric ratios'],\n",
      "  'Context': ['Personalization only'],\n",
      "  'Digits': ['Ones', 'Denominator: 2'],\n",
      "  'Internal_ID': ['331536'],\n",
      "  'Number': ['Irrational numbers',\n",
      "             'Integers',\n",
      "             'Negative and positive fractions',\n",
      "             'Square roots'],\n",
      "  'SIG_Options': ['N/A'],\n",
      "  'SIG_Stem': ['Equation'],\n",
      "  'Shape': ['Angles', 'Circle', 'Line', 'Point'],\n",
      "  'Steps': ['multistep'],\n",
      "  'Strand': ['Geometry and Measurement', 'Algebra'],\n",
      "  'Substrand': ['Shapes', 'Functions'],\n",
      "  'Units': ['Generic']}]\n"
     ]
    }
   ],
   "source": [
    "data = process_file(filename, fields)"
   ]
  },
  {
   "cell_type": "code",
   "execution_count": 5,
   "metadata": {
    "collapsed": false
   },
   "outputs": [
    {
     "name": "stdout",
     "output_type": "stream",
     "text": [
      "[{'Additional_Modifiers': ['N/A'],\n",
      "  'Component': ['N/A'],\n",
      "  'Content_Focus': ['Use trigonometric ratios'],\n",
      "  'Context': ['No'],\n",
      "  'Digits': ['Denominator: 5'],\n",
      "  'Internal_ID': ['331526'],\n",
      "  'Number': ['Fractions'],\n",
      "  'SIG_Options': ['N/A'],\n",
      "  'SIG_Stem': ['Diagram'],\n",
      "  'Shape': ['Angles', 'Composite figure', 'Right triangle'],\n",
      "  'Steps': ['N/A'],\n",
      "  'Strand': ['Geometry and Measurement'],\n",
      "  'Substrand': ['Shapes'],\n",
      "  'Units': ['N/A']}]\n"
     ]
    }
   ],
   "source": [
    "pprint.pprint(data)"
   ]
  },
  {
   "cell_type": "code",
   "execution_count": 6,
   "metadata": {
    "collapsed": true
   },
   "outputs": [],
   "source": [
    "#Make every internal ID of int data type \"Internal ID\""
   ]
  },
  {
   "cell_type": "code",
   "execution_count": null,
   "metadata": {
    "collapsed": true
   },
   "outputs": [],
   "source": []
  },
  {
   "cell_type": "code",
   "execution_count": 7,
   "metadata": {
    "collapsed": true
   },
   "outputs": [],
   "source": [
    "#load GUID file"
   ]
  },
  {
   "cell_type": "code",
   "execution_count": 8,
   "metadata": {
    "collapsed": true
   },
   "outputs": [],
   "source": [
    "#problem to solve for looking up GUID: when strand/substrand gives context to component, \n",
    "#if semi-colon separated, then will have to allow for non-matches"
   ]
  },
  {
   "cell_type": "code",
   "execution_count": 9,
   "metadata": {
    "collapsed": false
   },
   "outputs": [],
   "source": [
    "def Load_GUIDs(filename):\n",
    "    data = []\n",
    "    fields = {}\n",
    "    with open(filename, \"r\") as f:\n",
    "        reader = csv.DictReader(f)\n",
    "        for line in reader:\n",
    "            data.append(line)\n",
    "    #strip capitalization for matching purposes\n",
    "    data = pd.DataFrame(data)\n",
    "    lowercase = lambda x: x.lower()\n",
    "    data['Title'] = data['Title'].apply(lowercase)\n",
    "    return data"
   ]
  },
  {
   "cell_type": "code",
   "execution_count": 10,
   "metadata": {
    "collapsed": false
   },
   "outputs": [],
   "source": [
    "steps_df = Load_GUIDs(\"Math_Steps.csv\")\n",
    "shapes_df = Load_GUIDs(\"Math_Shapes.csv\")\n",
    "numbers_df = Load_GUIDs(\"Math_Number.csv\")\n",
    "units_df = Load_GUIDs(\"Math_Units_Modified.csv\")"
   ]
  },
  {
   "cell_type": "code",
   "execution_count": 11,
   "metadata": {
    "collapsed": false
   },
   "outputs": [
    {
     "name": "stdout",
     "output_type": "stream",
     "text": [
      "        Subject         Title                             Unique ID\n",
      "0   Mathematics         money  7C0657E6-97C4-11E6-B4CA-B3D929C466BA\n",
      "1   Mathematics       degrees  7C076EC4-97C4-11E6-B4CA-B3D929C466BA\n",
      "2   Mathematics       derived  7C085C9E-97C4-11E6-B4CA-B3D929C466BA\n",
      "3   Mathematics          time  7C09437A-97C4-11E6-B4CA-B3D929C466BA\n",
      "4   Mathematics        metric  7C0A2DBC-97C4-11E6-B4CA-B3D929C466BA\n",
      "5   Mathematics       generic  7C0B3838-97C4-11E6-B4CA-B3D929C466BA\n",
      "6   Mathematics     customary  7C0C3152-97C4-11E6-B4CA-B3D929C466BA\n",
      "7   Mathematics  non-standard  7C0D22C4-97C4-11E6-B4CA-B3D929C466BA\n",
      "8   Mathematics       radians  7C0E0CB6-97C4-11E6-B4CA-B3D929C466BA\n",
      "9   Mathematics    fahrenheit  F1A8F300-A606-11E6-967A-7DB129C466BA\n",
      "10  Mathematics       celsius  F1AA027C-A606-11E6-967A-7DB129C466BA\n"
     ]
    }
   ],
   "source": [
    "print units_df"
   ]
  },
  {
   "cell_type": "code",
   "execution_count": null,
   "metadata": {
    "collapsed": false
   },
   "outputs": [],
   "source": []
  },
  {
   "cell_type": "code",
   "execution_count": 12,
   "metadata": {
    "collapsed": false
   },
   "outputs": [],
   "source": [
    "def get_GUID_lite(tag, df): \n",
    "    #get GUID for steps, number, units, shape\n",
    "    tag = tag.lower\n",
    "    matches = len(df.ix[df['Title'] == tag])\n",
    "    if matches == 1:\n",
    "        GUID = df.ix[df['Title'] == tag, 'Unique ID'].item()\n",
    "    elif matches ==0:\n",
    "        GUID = \"no matches found\"\n",
    "    else: GUID = \"resolve multiple values\"\n",
    "\n",
    "    return GUID"
   ]
  },
  {
   "cell_type": "code",
   "execution_count": null,
   "metadata": {
    "collapsed": false
   },
   "outputs": [],
   "source": [
    "\n",
    "#create version for content focus and component\n",
    "#Play around with passing multiple conditions into first .ix argument\n"
   ]
  },
  {
   "cell_type": "code",
   "execution_count": null,
   "metadata": {
    "collapsed": false
   },
   "outputs": [],
   "source": [
    "test = get_GUID_lite('Decimals to fractions', numbers_df)\n",
    "print test"
   ]
  },
  {
   "cell_type": "code",
   "execution_count": null,
   "metadata": {
    "collapsed": true
   },
   "outputs": [],
   "source": [
    "def lowercase(text):\n",
    "    return text.lower()\n",
    "\n",
    "#Adjusted to just apply lowercase function since special characters not used and using Python 2.7 not 3.0"
   ]
  },
  {
   "cell_type": "code",
   "execution_count": null,
   "metadata": {
    "collapsed": false
   },
   "outputs": [],
   "source": [
    "import unicodedata\n",
    "test = \"BuTt\"\n",
    "print test.lower()"
   ]
  },
  {
   "cell_type": "code",
   "execution_count": null,
   "metadata": {
    "collapsed": true
   },
   "outputs": [],
   "source": []
  },
  {
   "cell_type": "code",
   "execution_count": null,
   "metadata": {
    "collapsed": true
   },
   "outputs": [],
   "source": []
  }
 ],
 "metadata": {
  "anaconda-cloud": {},
  "kernelspec": {
   "display_name": "Python [conda root]",
   "language": "python",
   "name": "conda-root-py"
  },
  "language_info": {
   "codemirror_mode": {
    "name": "ipython",
    "version": 2
   },
   "file_extension": ".py",
   "mimetype": "text/x-python",
   "name": "python",
   "nbconvert_exporter": "python",
   "pygments_lexer": "ipython2",
   "version": "2.7.12"
  }
 },
 "nbformat": 4,
 "nbformat_minor": 1
}
