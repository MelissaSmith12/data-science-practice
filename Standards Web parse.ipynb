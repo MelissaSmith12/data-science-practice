{
 "cells": [
  {
   "cell_type": "code",
   "execution_count": 14,
   "metadata": {
    "collapsed": false
   },
   "outputs": [],
   "source": [
    "#from lxml import html\n",
    "#import requests\n",
    "#import string\n",
    "#import BeautifulSoup\n",
    "#import pandas as pd\n",
    "#import urlopen\n",
    "\n",
    "from urllib import urlopen\n",
    "from bs4 import BeautifulSoup\n",
    "import pandas as pd\n",
    "\n",
    "filename = r'file:///Users\\Melissa\\Documents\\Udacity\\Untitled Folder\\High School Economics.htm'\n",
    "html = urlopen(filename)\n",
    "#with open(filename, \"r\") as f:\n",
    "#    page = f.read()\n",
    "#tree = html.fromstring(page)\n",
    "\n",
    "soup = BeautifulSoup(html, \"lxml\")"
   ]
  },
  {
   "cell_type": "code",
   "execution_count": 16,
   "metadata": {
    "collapsed": false
   },
   "outputs": [
    {
     "data": {
      "text/plain": [
       "bs4.BeautifulSoup"
      ]
     },
     "execution_count": 16,
     "metadata": {},
     "output_type": "execute_result"
    }
   ],
   "source": [
    "type(soup)"
   ]
  },
  {
   "cell_type": "code",
   "execution_count": 22,
   "metadata": {
    "collapsed": false
   },
   "outputs": [],
   "source": [
    "strand = soup.findAll(class_='taxonomy')"
   ]
  },
  {
   "cell_type": "code",
   "execution_count": 20,
   "metadata": {
    "collapsed": false
   },
   "outputs": [
    {
     "name": "stdout",
     "output_type": "stream",
     "text": [
      "[]\n"
     ]
    }
   ],
   "source": [
    "print strand"
   ]
  },
  {
   "cell_type": "code",
   "execution_count": 28,
   "metadata": {
    "collapsed": false
   },
   "outputs": [],
   "source": [
    "standards = soup.ul"
   ]
  },
  {
   "cell_type": "code",
   "execution_count": 56,
   "metadata": {
    "collapsed": false
   },
   "outputs": [
    {
     "name": "stdout",
     "output_type": "stream",
     "text": [
      "[u'Economic Components']\n"
     ]
    }
   ],
   "source": [
    "first_parent_text = standards.li.a.contents\n",
    "print first_parent"
   ]
  },
  {
   "cell_type": "code",
   "execution_count": 57,
   "metadata": {
    "collapsed": false
   },
   "outputs": [
    {
     "name": "stdout",
     "output_type": "stream",
     "text": [
      "<li><a class=\"tree\" href=\"/edit.epl?standard_id=35063&amp;topic_id=3938544\">Economic Components</a><ul><li><a class=\"tree\" href=\"/edit.epl?standard_id=35063&amp;topic_id=4128511\">Agriculture</a></li><li><a class=\"tree\" href=\"/edit.epl?standard_id=35063&amp;topic_id=2703845\">Economic Institutions</a></li><li><a class=\"tree\" href=\"/edit.epl?standard_id=35063&amp;topic_id=2703827\">Economic Systems</a></li><li><a class=\"tree\" href=\"/edit.epl?standard_id=35063&amp;topic_id=2703828\">Factors of Production</a></li><li><a class=\"tree\" href=\"/edit.epl?standard_id=35063&amp;topic_id=2703844\">Financial Institutions</a></li><li><a class=\"tree\" href=\"/edit.epl?standard_id=35063&amp;topic_id=2703826\">Free Market</a></li><li><a class=\"tree\" href=\"/edit.epl?standard_id=35063&amp;topic_id=4128512\">Labor</a></li><li><a class=\"tree\" href=\"/edit.epl?standard_id=35063&amp;topic_id=2703843\">Medium of Exchange</a></li><li><a class=\"tree\" href=\"/edit.epl?standard_id=35063&amp;topic_id=2703841\">Taxes</a></li><li><a class=\"tree\" href=\"/edit.epl?standard_id=35063&amp;topic_id=2703835\">Technology</a></li></ul></li>\n"
     ]
    }
   ],
   "source": [
    "first_parent = standards.li\n",
    "print first_parent"
   ]
  },
  {
   "cell_type": "code",
   "execution_count": 59,
   "metadata": {
    "collapsed": false
   },
   "outputs": [
    {
     "name": "stdout",
     "output_type": "stream",
     "text": [
      "<li><a class=\"tree\" href=\"/edit.epl?standard_id=35063&amp;topic_id=3938542\">Economic Concepts</a><ul><li><a class=\"tree\" href=\"/edit.epl?standard_id=35063&amp;topic_id=2703846\">Business Cycle</a></li><li><a class=\"tree\" href=\"/edit.epl?standard_id=35063&amp;topic_id=2703830\">Choice</a></li><li><a class=\"tree\" href=\"/edit.epl?standard_id=35063&amp;topic_id=4128513\">Competition</a></li><li><a class=\"tree\" href=\"/edit.epl?standard_id=35063&amp;topic_id=2703823\">Economic Development</a></li><li><a class=\"tree\" href=\"/edit.epl?standard_id=35063&amp;topic_id=2703840\">Economic Indicators</a></li><li><a class=\"tree\" href=\"/edit.epl?standard_id=35063&amp;topic_id=2703833\">Economic Policy / Government Services</a></li><li><a class=\"tree\" href=\"/edit.epl?standard_id=35063&amp;topic_id=2703847\">Entrepreneurship</a></li><li><a class=\"tree\" href=\"/edit.epl?standard_id=35063&amp;topic_id=2703842\">Fiscal and Monetary Policy</a></li><li><a class=\"tree\" href=\"/edit.epl?standard_id=35063&amp;topic_id=2703839\">Incentives</a></li><li><a class=\"tree\" href=\"/edit.epl?standard_id=35063&amp;topic_id=2703836\">Interdependence</a></li><li><a class=\"tree\" href=\"/edit.epl?standard_id=35063&amp;topic_id=2703831\">Opportunity Costs</a></li><li><a class=\"tree\" href=\"/edit.epl?standard_id=35063&amp;topic_id=2703829\">Personal Finance</a></li><li><a class=\"tree\" href=\"/edit.epl?standard_id=35063&amp;topic_id=2703822\">Philosophies</a></li><li><a class=\"tree\" href=\"/edit.epl?standard_id=35063&amp;topic_id=2703825\">Price</a></li><li><a class=\"tree\" href=\"/edit.epl?standard_id=35063&amp;topic_id=2703834\">Production, Distribution, Consumption</a></li><li><a class=\"tree\" href=\"/edit.epl?standard_id=35063&amp;topic_id=2703832\">Scarcity</a></li><li><a class=\"tree\" href=\"/edit.epl?standard_id=35063&amp;topic_id=4128514\">Specialization</a></li><li><a class=\"tree\" href=\"/edit.epl?standard_id=35063&amp;topic_id=2703824\">Supply and Demand</a></li><li><a class=\"tree\" href=\"/edit.epl?standard_id=35063&amp;topic_id=2703838\">Trade</a></li></ul></li>\n"
     ]
    }
   ],
   "source": [
    "second_parent = first_parent.next_sibling\n",
    "print second_parent"
   ]
  },
  {
   "cell_type": "code",
   "execution_count": 66,
   "metadata": {
    "collapsed": false
   },
   "outputs": [
    {
     "name": "stdout",
     "output_type": "stream",
     "text": [
      "[<a class=\"tree\" href=\"/edit.epl?standard_id=35063&amp;topic_id=2703846\">Business Cycle</a>, <a class=\"tree\" href=\"/edit.epl?standard_id=35063&amp;topic_id=2703830\">Choice</a>, <a class=\"tree\" href=\"/edit.epl?standard_id=35063&amp;topic_id=4128513\">Competition</a>, <a class=\"tree\" href=\"/edit.epl?standard_id=35063&amp;topic_id=2703823\">Economic Development</a>, <a class=\"tree\" href=\"/edit.epl?standard_id=35063&amp;topic_id=2703840\">Economic Indicators</a>, <a class=\"tree\" href=\"/edit.epl?standard_id=35063&amp;topic_id=2703833\">Economic Policy / Government Services</a>, <a class=\"tree\" href=\"/edit.epl?standard_id=35063&amp;topic_id=2703847\">Entrepreneurship</a>, <a class=\"tree\" href=\"/edit.epl?standard_id=35063&amp;topic_id=2703842\">Fiscal and Monetary Policy</a>, <a class=\"tree\" href=\"/edit.epl?standard_id=35063&amp;topic_id=2703839\">Incentives</a>, <a class=\"tree\" href=\"/edit.epl?standard_id=35063&amp;topic_id=2703836\">Interdependence</a>, <a class=\"tree\" href=\"/edit.epl?standard_id=35063&amp;topic_id=2703831\">Opportunity Costs</a>, <a class=\"tree\" href=\"/edit.epl?standard_id=35063&amp;topic_id=2703829\">Personal Finance</a>, <a class=\"tree\" href=\"/edit.epl?standard_id=35063&amp;topic_id=2703822\">Philosophies</a>, <a class=\"tree\" href=\"/edit.epl?standard_id=35063&amp;topic_id=2703825\">Price</a>, <a class=\"tree\" href=\"/edit.epl?standard_id=35063&amp;topic_id=2703834\">Production, Distribution, Consumption</a>, <a class=\"tree\" href=\"/edit.epl?standard_id=35063&amp;topic_id=2703832\">Scarcity</a>, <a class=\"tree\" href=\"/edit.epl?standard_id=35063&amp;topic_id=4128514\">Specialization</a>, <a class=\"tree\" href=\"/edit.epl?standard_id=35063&amp;topic_id=2703824\">Supply and Demand</a>, <a class=\"tree\" href=\"/edit.epl?standard_id=35063&amp;topic_id=2703838\">Trade</a>]\n"
     ]
    }
   ],
   "source": [
    "second_parent_children = second_parent.ul.findAll(\"a\")\n",
    "print second_parent_children"
   ]
  },
  {
   "cell_type": "code",
   "execution_count": 68,
   "metadata": {
    "collapsed": false
   },
   "outputs": [
    {
     "data": {
      "text/plain": [
       "[u'Choice']"
      ]
     },
     "execution_count": 68,
     "metadata": {},
     "output_type": "execute_result"
    }
   ],
   "source": [
    "second_parent_children[1].contents"
   ]
  },
  {
   "cell_type": "code",
   "execution_count": 69,
   "metadata": {
    "collapsed": false
   },
   "outputs": [
    {
     "data": {
      "text/plain": [
       "19"
      ]
     },
     "execution_count": 69,
     "metadata": {},
     "output_type": "execute_result"
    }
   ],
   "source": [
    "len(second_parent_children)"
   ]
  },
  {
   "cell_type": "code",
   "execution_count": 70,
   "metadata": {
    "collapsed": false
   },
   "outputs": [
    {
     "name": "stdout",
     "output_type": "stream",
     "text": [
      "[u'Business Cycle']\n",
      "[u'Choice']\n",
      "[u'Competition']\n",
      "[u'Economic Development']\n",
      "[u'Economic Indicators']\n",
      "[u'Economic Policy / Government Services']\n",
      "[u'Entrepreneurship']\n",
      "[u'Fiscal and Monetary Policy']\n",
      "[u'Incentives']\n",
      "[u'Interdependence']\n",
      "[u'Opportunity Costs']\n",
      "[u'Personal Finance']\n",
      "[u'Philosophies']\n",
      "[u'Price']\n",
      "[u'Production, Distribution, Consumption']\n",
      "[u'Scarcity']\n",
      "[u'Specialization']\n",
      "[u'Supply and Demand']\n",
      "[u'Trade']\n"
     ]
    }
   ],
   "source": [
    "for child in second_parent_children:\n",
    "    print child.contents"
   ]
  },
  {
   "cell_type": "code",
   "execution_count": 76,
   "metadata": {
    "collapsed": false
   },
   "outputs": [
    {
     "name": "stdout",
     "output_type": "stream",
     "text": [
      "2703846\n",
      "2703830\n",
      "4128513\n",
      "2703823\n",
      "2703840\n",
      "2703833\n",
      "2703847\n",
      "2703842\n",
      "2703839\n",
      "2703836\n",
      "2703831\n",
      "2703829\n",
      "2703822\n",
      "2703825\n",
      "2703834\n",
      "2703832\n",
      "4128514\n",
      "2703824\n",
      "2703838\n"
     ]
    }
   ],
   "source": [
    "for child in second_parent_children:\n",
    "    print child['href'][-7:]"
   ]
  },
  {
   "cell_type": "code",
   "execution_count": null,
   "metadata": {
    "collapsed": true
   },
   "outputs": [],
   "source": []
  },
  {
   "cell_type": "code",
   "execution_count": null,
   "metadata": {
    "collapsed": false
   },
   "outputs": [],
   "source": [
    "<UL><LI>\n",
    "<A CLASS='tree' \n",
    "HREF='/edit.epl?standard_id=35063&topic_id=3938544'>\n",
    "Economic Components</A>"
   ]
  }
 ],
 "metadata": {
  "kernelspec": {
   "display_name": "Python [conda root]",
   "language": "python",
   "name": "conda-root-py"
  },
  "language_info": {
   "codemirror_mode": {
    "name": "ipython",
    "version": 2
   },
   "file_extension": ".py",
   "mimetype": "text/x-python",
   "name": "python",
   "nbconvert_exporter": "python",
   "pygments_lexer": "ipython2",
   "version": "2.7.12"
  }
 },
 "nbformat": 4,
 "nbformat_minor": 1
}
