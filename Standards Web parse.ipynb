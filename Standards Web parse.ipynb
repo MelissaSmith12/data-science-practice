{
 "cells": [
  {
   "cell_type": "code",
   "execution_count": 63,
   "metadata": {
    "collapsed": false
   },
   "outputs": [
    {
     "name": "stdout",
     "output_type": "stream",
     "text": [
      "                 Subject Subject Code\n",
      "0              Economics            E\n",
      "1              Geography          GEO\n",
      "2             Government          GOV\n",
      "3  Social Studies Skills          SSS\n",
      "4             US History           US\n",
      "5          World History           WH\n"
     ]
    }
   ],
   "source": [
    "from urllib import urlopen\n",
    "from bs4 import BeautifulSoup\n",
    "import pandas as pd\n",
    "import requests\n",
    "import string\n",
    "from lxml import html\n",
    "\n",
    "#Subject, Subject Code\n",
    "file_list = pd.DataFrame(\n",
    "    data=[['Economics', 'E'], \n",
    "          ['Geography', 'GEO'], \n",
    "          ['Government', 'GOV'], \n",
    "          ['Social Studies Skills', 'SSS'], \n",
    "          ['US History', 'US'], \n",
    "          ['World History', 'WH']],\n",
    "          columns=['Subject', 'Subject Code'])\n",
    "print file_list\n",
    "subject = file_list.iloc[0,0]\n",
    "subject_code = file_list.iloc[0,1]\n",
    "standards_list = []\n",
    "keys = ['Subject','Parent Text', 'Parent TID', 'Child Text', 'Child TID', 'Standard Code']"
   ]
  },
  {
   "cell_type": "code",
   "execution_count": 64,
   "metadata": {
    "collapsed": false
   },
   "outputs": [],
   "source": [
    "filename = r'file:///Users\\Melissa\\Documents\\Udacity\\Untitled Folder\\High School ' + subject + '.htm'\n",
    "file = urlopen(filename)\n",
    "\n",
    "soup = BeautifulSoup(file, \"lxml\")\n",
    "standards = soup.ul"
   ]
  },
  {
   "cell_type": "code",
   "execution_count": 65,
   "metadata": {
    "collapsed": false
   },
   "outputs": [],
   "source": [
    "#print standards"
   ]
  },
  {
   "cell_type": "code",
   "execution_count": 66,
   "metadata": {
    "collapsed": false
   },
   "outputs": [
    {
     "name": "stdout",
     "output_type": "stream",
     "text": [
      "[u'Economic Components']\n"
     ]
    }
   ],
   "source": [
    "first_parent_text = standards.li.a.contents\n",
    "print first_parent_text"
   ]
  },
  {
   "cell_type": "code",
   "execution_count": 67,
   "metadata": {
    "collapsed": false
   },
   "outputs": [
    {
     "name": "stdout",
     "output_type": "stream",
     "text": [
      "<li><a class=\"tree\" href=\"/edit.epl?standard_id=35063&amp;topic_id=3938544\">Economic Components</a><ul><li><a class=\"tree\" href=\"/edit.epl?standard_id=35063&amp;topic_id=4128511\">Agriculture</a></li><li><a class=\"tree\" href=\"/edit.epl?standard_id=35063&amp;topic_id=2703845\">Economic Institutions</a></li><li><a class=\"tree\" href=\"/edit.epl?standard_id=35063&amp;topic_id=2703827\">Economic Systems</a></li><li><a class=\"tree\" href=\"/edit.epl?standard_id=35063&amp;topic_id=2703828\">Factors of Production</a></li><li><a class=\"tree\" href=\"/edit.epl?standard_id=35063&amp;topic_id=2703844\">Financial Institutions</a></li><li><a class=\"tree\" href=\"/edit.epl?standard_id=35063&amp;topic_id=2703826\">Free Market</a></li><li><a class=\"tree\" href=\"/edit.epl?standard_id=35063&amp;topic_id=4128512\">Labor</a></li><li><a class=\"tree\" href=\"/edit.epl?standard_id=35063&amp;topic_id=2703843\">Medium of Exchange</a></li><li><a class=\"tree\" href=\"/edit.epl?standard_id=35063&amp;topic_id=2703841\">Taxes</a></li><li><a class=\"tree\" href=\"/edit.epl?standard_id=35063&amp;topic_id=2703835\">Technology</a></li></ul></li>\n"
     ]
    }
   ],
   "source": [
    "first_parent = standards.li\n",
    "print first_parent"
   ]
  },
  {
   "cell_type": "code",
   "execution_count": 68,
   "metadata": {
    "collapsed": false
   },
   "outputs": [
    {
     "name": "stdout",
     "output_type": "stream",
     "text": [
      "[u'Economic Systems']\n",
      "[<li><a class=\"tree\" href=\"/edit.epl?standard_id=35063&amp;topic_id=4128511\">Agriculture</a></li>, <li><a class=\"tree\" href=\"/edit.epl?standard_id=35063&amp;topic_id=2703845\">Economic Institutions</a></li>, <li><a class=\"tree\" href=\"/edit.epl?standard_id=35063&amp;topic_id=2703827\">Economic Systems</a></li>, <li><a class=\"tree\" href=\"/edit.epl?standard_id=35063&amp;topic_id=2703828\">Factors of Production</a></li>, <li><a class=\"tree\" href=\"/edit.epl?standard_id=35063&amp;topic_id=2703844\">Financial Institutions</a></li>, <li><a class=\"tree\" href=\"/edit.epl?standard_id=35063&amp;topic_id=2703826\">Free Market</a></li>, <li><a class=\"tree\" href=\"/edit.epl?standard_id=35063&amp;topic_id=4128512\">Labor</a></li>, <li><a class=\"tree\" href=\"/edit.epl?standard_id=35063&amp;topic_id=2703843\">Medium of Exchange</a></li>, <li><a class=\"tree\" href=\"/edit.epl?standard_id=35063&amp;topic_id=2703841\">Taxes</a></li>, <li><a class=\"tree\" href=\"/edit.epl?standard_id=35063&amp;topic_id=2703835\">Technology</a></li>]\n"
     ]
    }
   ],
   "source": [
    "#second_parent = first_parent.next_sibling\n",
    "#second_parent_text = first_parent.a.contents\n",
    "#print second_parent_text\n",
    "#print second_parent\n",
    "parent = standards.li\n",
    "parent_code = 1\n",
    "children = parent.ul.findChildren(recursive=False)\n",
    "#children = children.next_sibling\n",
    "#print children[0].a.contents\n",
    "print children[2].a.contents\n",
    "#for child in children:\n",
    "#    print child.contents\n",
    "#children = children.next_sibling\n",
    "print children"
   ]
  },
  {
   "cell_type": "code",
   "execution_count": 70,
   "metadata": {
    "collapsed": false
   },
   "outputs": [
    {
     "name": "stdout",
     "output_type": "stream",
     "text": [
      "[{'Parent Text': [u'Economic Components'], 'Child TID': '', 'Parent TID': '3938544', 'Standard Code': 'E.1', 'Child Text': '', 'Subject': 'Economics'}, {'Parent Text': [u'Economic Components'], 'Child TID': '4128511', 'Parent TID': '3938544', 'Standard Code': 'E.1.1', 'Child Text': [u'Agriculture'], 'Subject': 'Economics'}, {'Parent Text': [u'Economic Components'], 'Child TID': '2703845', 'Parent TID': '3938544', 'Standard Code': 'E.1.2', 'Child Text': [u'Economic Institutions'], 'Subject': 'Economics'}, {'Parent Text': [u'Economic Components'], 'Child TID': '2703827', 'Parent TID': '3938544', 'Standard Code': 'E.1.3', 'Child Text': [u'Economic Systems'], 'Subject': 'Economics'}, {'Parent Text': [u'Economic Components'], 'Child TID': '2703828', 'Parent TID': '3938544', 'Standard Code': 'E.1.4', 'Child Text': [u'Factors of Production'], 'Subject': 'Economics'}, {'Parent Text': [u'Economic Components'], 'Child TID': '2703844', 'Parent TID': '3938544', 'Standard Code': 'E.1.5', 'Child Text': [u'Financial Institutions'], 'Subject': 'Economics'}, {'Parent Text': [u'Economic Components'], 'Child TID': '2703826', 'Parent TID': '3938544', 'Standard Code': 'E.1.6', 'Child Text': [u'Free Market'], 'Subject': 'Economics'}, {'Parent Text': [u'Economic Components'], 'Child TID': '4128512', 'Parent TID': '3938544', 'Standard Code': 'E.1.7', 'Child Text': [u'Labor'], 'Subject': 'Economics'}, {'Parent Text': [u'Economic Components'], 'Child TID': '2703843', 'Parent TID': '3938544', 'Standard Code': 'E.1.8', 'Child Text': [u'Medium of Exchange'], 'Subject': 'Economics'}, {'Parent Text': [u'Economic Components'], 'Child TID': '2703841', 'Parent TID': '3938544', 'Standard Code': 'E.1.9', 'Child Text': [u'Taxes'], 'Subject': 'Economics'}, {'Parent Text': [u'Economic Components'], 'Child TID': '2703835', 'Parent TID': '3938544', 'Standard Code': 'E.1.10', 'Child Text': [u'Technology'], 'Subject': 'Economics'}, {'Parent Text': [u'Economic Concepts'], 'Child TID': '', 'Parent TID': '3938542', 'Standard Code': 'E.2', 'Child Text': '', 'Subject': 'Economics'}, {'Parent Text': [u'Economic Concepts'], 'Child TID': '2703846', 'Parent TID': '3938542', 'Standard Code': 'E.2.1', 'Child Text': [u'Business Cycle'], 'Subject': 'Economics'}, {'Parent Text': [u'Economic Concepts'], 'Child TID': '2703830', 'Parent TID': '3938542', 'Standard Code': 'E.2.2', 'Child Text': [u'Choice'], 'Subject': 'Economics'}, {'Parent Text': [u'Economic Concepts'], 'Child TID': '4128513', 'Parent TID': '3938542', 'Standard Code': 'E.2.3', 'Child Text': [u'Competition'], 'Subject': 'Economics'}, {'Parent Text': [u'Economic Concepts'], 'Child TID': '2703823', 'Parent TID': '3938542', 'Standard Code': 'E.2.4', 'Child Text': [u'Economic Development'], 'Subject': 'Economics'}, {'Parent Text': [u'Economic Concepts'], 'Child TID': '2703840', 'Parent TID': '3938542', 'Standard Code': 'E.2.5', 'Child Text': [u'Economic Indicators'], 'Subject': 'Economics'}, {'Parent Text': [u'Economic Concepts'], 'Child TID': '2703833', 'Parent TID': '3938542', 'Standard Code': 'E.2.6', 'Child Text': [u'Economic Policy / Government Services'], 'Subject': 'Economics'}, {'Parent Text': [u'Economic Concepts'], 'Child TID': '2703847', 'Parent TID': '3938542', 'Standard Code': 'E.2.7', 'Child Text': [u'Entrepreneurship'], 'Subject': 'Economics'}, {'Parent Text': [u'Economic Concepts'], 'Child TID': '2703842', 'Parent TID': '3938542', 'Standard Code': 'E.2.8', 'Child Text': [u'Fiscal and Monetary Policy'], 'Subject': 'Economics'}, {'Parent Text': [u'Economic Concepts'], 'Child TID': '2703839', 'Parent TID': '3938542', 'Standard Code': 'E.2.9', 'Child Text': [u'Incentives'], 'Subject': 'Economics'}, {'Parent Text': [u'Economic Concepts'], 'Child TID': '2703836', 'Parent TID': '3938542', 'Standard Code': 'E.2.10', 'Child Text': [u'Interdependence'], 'Subject': 'Economics'}, {'Parent Text': [u'Economic Concepts'], 'Child TID': '2703831', 'Parent TID': '3938542', 'Standard Code': 'E.2.11', 'Child Text': [u'Opportunity Costs'], 'Subject': 'Economics'}, {'Parent Text': [u'Economic Concepts'], 'Child TID': '2703829', 'Parent TID': '3938542', 'Standard Code': 'E.2.12', 'Child Text': [u'Personal Finance'], 'Subject': 'Economics'}, {'Parent Text': [u'Economic Concepts'], 'Child TID': '2703822', 'Parent TID': '3938542', 'Standard Code': 'E.2.13', 'Child Text': [u'Philosophies'], 'Subject': 'Economics'}, {'Parent Text': [u'Economic Concepts'], 'Child TID': '2703825', 'Parent TID': '3938542', 'Standard Code': 'E.2.14', 'Child Text': [u'Price'], 'Subject': 'Economics'}, {'Parent Text': [u'Economic Concepts'], 'Child TID': '2703834', 'Parent TID': '3938542', 'Standard Code': 'E.2.15', 'Child Text': [u'Production, Distribution, Consumption'], 'Subject': 'Economics'}, {'Parent Text': [u'Economic Concepts'], 'Child TID': '2703832', 'Parent TID': '3938542', 'Standard Code': 'E.2.16', 'Child Text': [u'Scarcity'], 'Subject': 'Economics'}, {'Parent Text': [u'Economic Concepts'], 'Child TID': '4128514', 'Parent TID': '3938542', 'Standard Code': 'E.2.17', 'Child Text': [u'Specialization'], 'Subject': 'Economics'}, {'Parent Text': [u'Economic Concepts'], 'Child TID': '2703824', 'Parent TID': '3938542', 'Standard Code': 'E.2.18', 'Child Text': [u'Supply and Demand'], 'Subject': 'Economics'}, {'Parent Text': [u'Economic Concepts'], 'Child TID': '2703838', 'Parent TID': '3938542', 'Standard Code': 'E.2.19', 'Child Text': [u'Trade'], 'Subject': 'Economics'}]\n"
     ]
    }
   ],
   "source": [
    "#second_parent_children = second_parent.ul.findAll(\"a\")\n",
    "#print second_parent_children\n",
    "\n",
    "parent = standards.li\n",
    "parent_code = 1\n",
    "\n",
    "while parent != None:\n",
    "    parent_text = parent.a.contents\n",
    "    parent_tid = parent.a['href'][-7:]\n",
    "    #print parent\n",
    "    children = parent.ul.findChildren(recursive=False)\n",
    "    standard_code = subject_code + '.' + str(parent_code)\n",
    "    child_code = 1\n",
    "    standards_list.append(dict(zip(keys, [subject, parent_text, parent_tid, '', '', standard_code])))    \n",
    "    #loop through children\n",
    "    for child in children:\n",
    "        child_text = child.a.contents\n",
    "        child_tid = child.a['href'][-7:]\n",
    "        standard_code = subject_code + '.' + str(parent_code) + '.' + str(child_code)\n",
    "        standards_list.append(dict(zip(keys, [subject, parent_text, parent_tid, child_text, child_tid, standard_code])))    \n",
    "        child_code += 1\n",
    "    parent = parent.next_sibling\n",
    "    parent_code += 1\n",
    "print standards_list"
   ]
  },
  {
   "cell_type": "code",
   "execution_count": null,
   "metadata": {
    "collapsed": false
   },
   "outputs": [],
   "source": []
  },
  {
   "cell_type": "code",
   "execution_count": 71,
   "metadata": {
    "collapsed": false
   },
   "outputs": [
    {
     "name": "stdout",
     "output_type": "stream",
     "text": [
      "   Child TID                               Child Text Parent TID  \\\n",
      "0                                                        3938544   \n",
      "1    4128511                            [Agriculture]    3938544   \n",
      "2    2703845                  [Economic Institutions]    3938544   \n",
      "3    2703827                       [Economic Systems]    3938544   \n",
      "4    2703828                  [Factors of Production]    3938544   \n",
      "5    2703844                 [Financial Institutions]    3938544   \n",
      "6    2703826                            [Free Market]    3938544   \n",
      "7    4128512                                  [Labor]    3938544   \n",
      "8    2703843                     [Medium of Exchange]    3938544   \n",
      "9    2703841                                  [Taxes]    3938544   \n",
      "10   2703835                             [Technology]    3938544   \n",
      "11                                                       3938542   \n",
      "12   2703846                         [Business Cycle]    3938542   \n",
      "13   2703830                                 [Choice]    3938542   \n",
      "14   4128513                            [Competition]    3938542   \n",
      "15   2703823                   [Economic Development]    3938542   \n",
      "16   2703840                    [Economic Indicators]    3938542   \n",
      "17   2703833  [Economic Policy / Government Services]    3938542   \n",
      "18   2703847                       [Entrepreneurship]    3938542   \n",
      "19   2703842             [Fiscal and Monetary Policy]    3938542   \n",
      "20   2703839                             [Incentives]    3938542   \n",
      "21   2703836                        [Interdependence]    3938542   \n",
      "22   2703831                      [Opportunity Costs]    3938542   \n",
      "23   2703829                       [Personal Finance]    3938542   \n",
      "24   2703822                           [Philosophies]    3938542   \n",
      "25   2703825                                  [Price]    3938542   \n",
      "26   2703834  [Production, Distribution, Consumption]    3938542   \n",
      "27   2703832                               [Scarcity]    3938542   \n",
      "28   4128514                         [Specialization]    3938542   \n",
      "29   2703824                      [Supply and Demand]    3938542   \n",
      "30   2703838                                  [Trade]    3938542   \n",
      "\n",
      "              Parent Text Standard Code    Subject  \n",
      "0   [Economic Components]           E.1  Economics  \n",
      "1   [Economic Components]         E.1.1  Economics  \n",
      "2   [Economic Components]         E.1.2  Economics  \n",
      "3   [Economic Components]         E.1.3  Economics  \n",
      "4   [Economic Components]         E.1.4  Economics  \n",
      "5   [Economic Components]         E.1.5  Economics  \n",
      "6   [Economic Components]         E.1.6  Economics  \n",
      "7   [Economic Components]         E.1.7  Economics  \n",
      "8   [Economic Components]         E.1.8  Economics  \n",
      "9   [Economic Components]         E.1.9  Economics  \n",
      "10  [Economic Components]        E.1.10  Economics  \n",
      "11    [Economic Concepts]           E.2  Economics  \n",
      "12    [Economic Concepts]         E.2.1  Economics  \n",
      "13    [Economic Concepts]         E.2.2  Economics  \n",
      "14    [Economic Concepts]         E.2.3  Economics  \n",
      "15    [Economic Concepts]         E.2.4  Economics  \n",
      "16    [Economic Concepts]         E.2.5  Economics  \n",
      "17    [Economic Concepts]         E.2.6  Economics  \n",
      "18    [Economic Concepts]         E.2.7  Economics  \n",
      "19    [Economic Concepts]         E.2.8  Economics  \n",
      "20    [Economic Concepts]         E.2.9  Economics  \n",
      "21    [Economic Concepts]        E.2.10  Economics  \n",
      "22    [Economic Concepts]        E.2.11  Economics  \n",
      "23    [Economic Concepts]        E.2.12  Economics  \n",
      "24    [Economic Concepts]        E.2.13  Economics  \n",
      "25    [Economic Concepts]        E.2.14  Economics  \n",
      "26    [Economic Concepts]        E.2.15  Economics  \n",
      "27    [Economic Concepts]        E.2.16  Economics  \n",
      "28    [Economic Concepts]        E.2.17  Economics  \n",
      "29    [Economic Concepts]        E.2.18  Economics  \n",
      "30    [Economic Concepts]        E.2.19  Economics  \n"
     ]
    }
   ],
   "source": [
    "standards_list_df = pd.DataFrame(standards_list)\n",
    "print standards_list_df"
   ]
  },
  {
   "cell_type": "code",
   "execution_count": 72,
   "metadata": {
    "collapsed": false
   },
   "outputs": [],
   "source": [
    "#output to Excel\n",
    "output = subject + \"Export.xlsx\"\n",
    "\n",
    "writer = pd.ExcelWriter(output)\n",
    "standards_list_df.to_excel(writer, sheet_name='Sheet1')\n",
    "writer.save()"
   ]
  },
  {
   "cell_type": "code",
   "execution_count": null,
   "metadata": {
    "collapsed": true
   },
   "outputs": [],
   "source": []
  }
 ],
 "metadata": {
  "anaconda-cloud": {},
  "kernelspec": {
   "display_name": "Python [conda root]",
   "language": "python",
   "name": "conda-root-py"
  },
  "language_info": {
   "codemirror_mode": {
    "name": "ipython",
    "version": 2
   },
   "file_extension": ".py",
   "mimetype": "text/x-python",
   "name": "python",
   "nbconvert_exporter": "python",
   "pygments_lexer": "ipython2",
   "version": "2.7.12"
  }
 },
 "nbformat": 4,
 "nbformat_minor": 1
}
