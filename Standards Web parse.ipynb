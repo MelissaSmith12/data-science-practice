{
 "cells": [
  {
   "cell_type": "code",
   "execution_count": null,
   "metadata": {
    "collapsed": false
   },
   "outputs": [],
   "source": [
    "from urllib import urlopen\n",
    "from bs4 import BeautifulSoup\n",
    "import pandas as pd\n",
    "import requests\n",
    "import string\n",
    "from lxml import html"
   ]
  },
  {
   "cell_type": "code",
   "execution_count": null,
   "metadata": {
    "collapsed": false
   },
   "outputs": [],
   "source": [
    "#Subject, Subject Code\n",
    "file_list = pd.Series(['E','GEO','GOV','SSS','US','WH'], index=['Economics','Geography','Government','Social Studies Skills','US History', 'World History'])\n",
    "keys = ['Subject','Parent Text', 'Parent TID', 'Child Text', 'Child TID', 'Standard Code']\n",
    "\n",
    "filelist_2= pd.DataFrame(data=[['Economics', 'E'], \n",
    "          ['Geography', 'GEO'], \n",
    "          ['Government', 'GOV'], \n",
    "          ['Social Studies Skills', 'SSS'], \n",
    "          ['US History', 'US'], \n",
    "          ['World History', 'WH']],\n",
    "          columns=['Subject', 'Subject_Code'])"
   ]
  },
  {
   "cell_type": "code",
   "execution_count": null,
   "metadata": {
    "collapsed": false
   },
   "outputs": [],
   "source": [
    "def scrape_standards(standards_list, Subject, Subject_Code):\n",
    "    filename = r'file:///Users\\Melissa\\Documents\\Udacity\\Untitled Folder\\High School ' + subject + '.htm'\n",
    "    file = urlopen(filename)\n",
    "    soup = BeautifulSoup(file, \"lxml\")\n",
    "    standards = soup.ul\n",
    "    parent = standards.li\n",
    "    parent_code = 1\n",
    "    \n",
    "    while parent != None:\n",
    "        parent_text = parent.a.contents\n",
    "        print parent_text\n",
    "        parent_tid = parent.a['href'][-7:]\n",
    "        #print parent\n",
    "        children = parent.ul.findChildren(recursive=False)\n",
    "        standard_code = subject_code + '.' + str(parent_code)\n",
    "        child_code = 1\n",
    "        standards_list.append(dict(zip(keys, [subject, parent_text, parent_tid, '', '', standard_code])))    \n",
    "        #loop through children\n",
    "        for child in children:\n",
    "            child_text = child.a.contents\n",
    "            child_tid = child.a['href'][-7:]\n",
    "            standard_code = subject_code + '.' + str(parent_code) + '.' + str(child_code)\n",
    "            standards_list.append(dict(zip(keys, [subject, parent_text, parent_tid, child_text, child_tid, standard_code])))    \n",
    "            child_code += 1\n",
    "        parent = parent.next_sibling\n",
    "        print parent\n",
    "        parent_code += 1\n",
    "    return(standards_list)"
   ]
  },
  {
   "cell_type": "code",
   "execution_count": null,
   "metadata": {
    "collapsed": false
   },
   "outputs": [],
   "source": [
    "row = 0\n",
    "standards_list=[]\n",
    "while row < 6:\n",
    "    subject = filelist_2.iloc[row,0]\n",
    "    subject_code = filelist_2.iloc[row,1]\n",
    "    scrape_standards(standards_list, subject, subject_code)\n",
    "    row += 1"
   ]
  },
  {
   "cell_type": "code",
   "execution_count": null,
   "metadata": {
    "collapsed": false
   },
   "outputs": [],
   "source": [
    "standards_list_df = pd.DataFrame(standards_list)\n",
    "print standards_list_df"
   ]
  },
  {
   "cell_type": "code",
   "execution_count": null,
   "metadata": {
    "collapsed": false
   },
   "outputs": [],
   "source": [
    "#output to Excel\n",
    "output = \"Social Studies Taxonomy Export.xlsx\"\n",
    "\n",
    "writer = pd.ExcelWriter(output)\n",
    "standards_list_df.to_excel(writer, sheet_name='Sheet1')\n",
    "writer.save()"
   ]
  }
 ],
 "metadata": {
  "anaconda-cloud": {},
  "kernelspec": {
   "display_name": "Python [conda root]",
   "language": "python",
   "name": "conda-root-py"
  },
  "language_info": {
   "codemirror_mode": {
    "name": "ipython",
    "version": 2
   },
   "file_extension": ".py",
   "mimetype": "text/x-python",
   "name": "python",
   "nbconvert_exporter": "python",
   "pygments_lexer": "ipython2",
   "version": "2.7.13"
  }
 },
 "nbformat": 4,
 "nbformat_minor": 1
}
