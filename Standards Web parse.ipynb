{
 "cells": [
  {
   "cell_type": "code",
   "execution_count": 2,
   "metadata": {
    "collapsed": false
   },
   "outputs": [],
   "source": [
    "from urllib import urlopen\n",
    "from bs4 import BeautifulSoup\n",
    "import pandas as pd\n",
    "import requests\n",
    "import string\n",
    "from lxml import html\n",
    "\n"
   ]
  },
  {
   "cell_type": "code",
   "execution_count": null,
   "metadata": {
    "collapsed": false
   },
   "outputs": [],
   "source": []
  },
  {
   "cell_type": "code",
   "execution_count": 3,
   "metadata": {
    "collapsed": false
   },
   "outputs": [],
   "source": [
    "#Subject, Subject Code\n",
    "file_list = pd.Series(['E','GEO','GOV','SSS','US','WH'], index=['Economics','Geography','Government','Social Studies Skills','US History', 'World History'])\n",
    "#    data=[['Economics', 'E'], \n",
    "#          ['Geography', 'GEO'], \n",
    "#          ['Government', 'GOV'], \n",
    "#          ['Social Studies Skills', 'SSS'], \n",
    "#          ['US History', 'US'], \n",
    "#          ['World History', 'WH']],\n",
    "#          columns=['Subject', 'Subject_Code'])\n",
    "#print file_list\n",
    "#subject = file_list.iloc[0,0]\n",
    "#subject_code = file_list.iloc[0,1]\n",
    "#standards_list = []\n",
    "keys = ['Subject','Parent Text', 'Parent TID', 'Child Text', 'Child TID', 'Standard Code']\n",
    "\n",
    "filelist_2= pd.DataFrame(data=[['Economics', 'E'], \n",
    "          ['Geography', 'GEO'], \n",
    "          ['Government', 'GOV'], \n",
    "          ['Social Studies Skills', 'SSS'], \n",
    "          ['US History', 'US'], \n",
    "          ['World History', 'WH']],\n",
    "          columns=['Subject', 'Subject_Code'])"
   ]
  },
  {
   "cell_type": "code",
   "execution_count": 8,
   "metadata": {
    "collapsed": false
   },
   "outputs": [],
   "source": [
    "#second_parent_children = second_parent.ul.findAll(\"a\")\n",
    "#print second_parent_children\n",
    "\n",
    "def scrape_standards(standards_list, Subject, Subject_Code):\n",
    "    filename = r'file:///Users\\Melissa\\Documents\\Udacity\\Untitled Folder\\High School ' + subject + '.htm'\n",
    "    file = urlopen(filename)\n",
    "    soup = BeautifulSoup(file, \"lxml\")\n",
    "    standards = soup.ul\n",
    "    parent = standards.li\n",
    "    parent_code = 1\n",
    "    \n",
    "    while parent != None:\n",
    "        parent_text = parent.a.contents\n",
    "        print parent_text\n",
    "        parent_tid = parent.a['href'][-7:]\n",
    "        #print parent\n",
    "        children = parent.ul.findChildren(recursive=False)\n",
    "        standard_code = subject_code + '.' + str(parent_code)\n",
    "        child_code = 1\n",
    "        standards_list.append(dict(zip(keys, [subject, parent_text, parent_tid, '', '', standard_code])))    \n",
    "        #loop through children\n",
    "        for child in children:\n",
    "            child_text = child.a.contents\n",
    "            child_tid = child.a['href'][-7:]\n",
    "            standard_code = subject_code + '.' + str(parent_code) + '.' + str(child_code)\n",
    "            standards_list.append(dict(zip(keys, [subject, parent_text, parent_tid, child_text, child_tid, standard_code])))    \n",
    "            child_code += 1\n",
    "        parent = parent.next_sibling\n",
    "        print parent\n",
    "        parent_code += 1\n",
    "    return(standards_list)"
   ]
  },
  {
   "cell_type": "code",
   "execution_count": 5,
   "metadata": {
    "collapsed": false
   },
   "outputs": [],
   "source": [
    "#temp = filelist_2.apply(scrape_standards, axis = 1, args=())  --- doesn't work"
   ]
  },
  {
   "cell_type": "code",
   "execution_count": null,
   "metadata": {
    "collapsed": false
   },
   "outputs": [],
   "source": []
  },
  {
   "cell_type": "code",
   "execution_count": 9,
   "metadata": {
    "collapsed": false
   },
   "outputs": [
    {
     "name": "stdout",
     "output_type": "stream",
     "text": [
      "[u'Economic Components']\n",
      "<li><a class=\"tree\" href=\"/edit.epl?standard_id=35063&amp;topic_id=3938542\">Economic Concepts</a><ul><li><a class=\"tree\" href=\"/edit.epl?standard_id=35063&amp;topic_id=2703846\">Business Cycle</a></li><li><a class=\"tree\" href=\"/edit.epl?standard_id=35063&amp;topic_id=2703830\">Choice</a></li><li><a class=\"tree\" href=\"/edit.epl?standard_id=35063&amp;topic_id=4128513\">Competition</a></li><li><a class=\"tree\" href=\"/edit.epl?standard_id=35063&amp;topic_id=2703823\">Economic Development</a></li><li><a class=\"tree\" href=\"/edit.epl?standard_id=35063&amp;topic_id=2703840\">Economic Indicators</a></li><li><a class=\"tree\" href=\"/edit.epl?standard_id=35063&amp;topic_id=2703833\">Economic Policy / Government Services</a></li><li><a class=\"tree\" href=\"/edit.epl?standard_id=35063&amp;topic_id=2703847\">Entrepreneurship</a></li><li><a class=\"tree\" href=\"/edit.epl?standard_id=35063&amp;topic_id=2703842\">Fiscal and Monetary Policy</a></li><li><a class=\"tree\" href=\"/edit.epl?standard_id=35063&amp;topic_id=2703839\">Incentives</a></li><li><a class=\"tree\" href=\"/edit.epl?standard_id=35063&amp;topic_id=2703836\">Interdependence</a></li><li><a class=\"tree\" href=\"/edit.epl?standard_id=35063&amp;topic_id=2703831\">Opportunity Costs</a></li><li><a class=\"tree\" href=\"/edit.epl?standard_id=35063&amp;topic_id=2703829\">Personal Finance</a></li><li><a class=\"tree\" href=\"/edit.epl?standard_id=35063&amp;topic_id=2703822\">Philosophies</a></li><li><a class=\"tree\" href=\"/edit.epl?standard_id=35063&amp;topic_id=2703825\">Price</a></li><li><a class=\"tree\" href=\"/edit.epl?standard_id=35063&amp;topic_id=2703834\">Production, Distribution, Consumption</a></li><li><a class=\"tree\" href=\"/edit.epl?standard_id=35063&amp;topic_id=2703832\">Scarcity</a></li><li><a class=\"tree\" href=\"/edit.epl?standard_id=35063&amp;topic_id=4128514\">Specialization</a></li><li><a class=\"tree\" href=\"/edit.epl?standard_id=35063&amp;topic_id=2703824\">Supply and Demand</a></li><li><a class=\"tree\" href=\"/edit.epl?standard_id=35063&amp;topic_id=2703838\">Trade</a></li></ul></li>\n",
      "[u'Economic Concepts']\n",
      "None\n",
      "[u'Environment and Society']\n",
      "<li><a class=\"tree\" href=\"/edit.epl?standard_id=35062&amp;topic_id=3938534\">Places and Regions</a><ul><li><a class=\"tree\" href=\"/edit.epl?standard_id=35062&amp;topic_id=4128506\">Human Systems</a></li><li><a class=\"tree\" href=\"/edit.epl?standard_id=35062&amp;topic_id=2703851\">Physical Systems</a></li><li><a class=\"tree\" href=\"/edit.epl?standard_id=35062&amp;topic_id=2703854\">Physical and Human Features - General</a></li><li><a class=\"tree\" href=\"/edit.epl?standard_id=35062&amp;topic_id=2703856\">Physical and Human Features - Americas</a></li><li><a class=\"tree\" href=\"/edit.epl?standard_id=35062&amp;topic_id=2703855\">Physical and Human Features - Europe, Asia, Australia, Africa</a></li><li><a class=\"tree\" href=\"/edit.epl?standard_id=35062&amp;topic_id=2703989\">Cultural Regions</a></li><li><a class=\"tree\" href=\"/edit.epl?standard_id=35062&amp;topic_id=2703852\">Political Regions</a></li></ul></li>\n",
      "[u'Places and Regions']\n",
      "<li><a class=\"tree\" href=\"/edit.epl?standard_id=35062&amp;topic_id=3938535\">Uses of Geography</a><ul><li><a class=\"tree\" href=\"/edit.epl?standard_id=35062&amp;topic_id=2703862\">Tools</a></li><li><a class=\"tree\" href=\"/edit.epl?standard_id=35062&amp;topic_id=2703861\">Relationship with Other Fields</a></li><li><a class=\"tree\" href=\"/edit.epl?standard_id=35062&amp;topic_id=2703857\">Influence on Historical and Current Events</a></li><li><a class=\"tree\" href=\"/edit.epl?standard_id=35062&amp;topic_id=2703849\">Global Interdependence</a></li><li><a class=\"tree\" href=\"/edit.epl?standard_id=35062&amp;topic_id=2703853\">Spatial Classification</a></li><li><a class=\"tree\" href=\"/edit.epl?standard_id=35062&amp;topic_id=3938536\">Technology</a></li></ul></li>\n",
      "[u'Uses of Geography']\n",
      "<li><a class=\"tree\" href=\"/edit.epl?standard_id=35062&amp;topic_id=2703850\">Cultural Systems</a><ul><li><a class=\"tree\" href=\"/edit.epl?standard_id=35062&amp;topic_id=2703984\">Cultural Change</a></li><li><a class=\"tree\" href=\"/edit.epl?standard_id=35062&amp;topic_id=2703986\">Cultural Diffusion</a></li><li><a class=\"tree\" href=\"/edit.epl?standard_id=35062&amp;topic_id=2703977\">Cultures and Sub-cultures</a></li><li><a class=\"tree\" href=\"/edit.epl?standard_id=35062&amp;topic_id=2703979\">Cultural Groups</a></li><li><a class=\"tree\" href=\"/edit.epl?standard_id=35062&amp;topic_id=2703990\">Interaction</a></li><li><a class=\"tree\" href=\"/edit.epl?standard_id=35062&amp;topic_id=2703988\">Social Institutions</a></li><li><a class=\"tree\" href=\"/edit.epl?standard_id=35062&amp;topic_id=2703987\">Social Organization</a></li><li><a class=\"tree\" href=\"/edit.epl?standard_id=35062&amp;topic_id=2703985\">Family and Roles</a></li><li><a class=\"tree\" href=\"/edit.epl?standard_id=35062&amp;topic_id=2703863\">Demographics</a></li><li><a class=\"tree\" href=\"/edit.epl?standard_id=35062&amp;topic_id=2703859\">Spatial Diffusion</a></li><li><a class=\"tree\" href=\"/edit.epl?standard_id=35062&amp;topic_id=2703858\">Migration</a></li></ul></li>\n",
      "[u'Cultural Systems']\n",
      "<li><a class=\"tree\" href=\"/edit.epl?standard_id=35062&amp;topic_id=4128504\">Cultural Elements</a><ul><li><a class=\"tree\" href=\"/edit.epl?standard_id=35062&amp;topic_id=2703983\">Diversity</a></li><li><a class=\"tree\" href=\"/edit.epl?standard_id=35062&amp;topic_id=2703981\">Art and Architecture</a></li><li><a class=\"tree\" href=\"/edit.epl?standard_id=35062&amp;topic_id=3938537\">Language</a></li><li><a class=\"tree\" href=\"/edit.epl?standard_id=35062&amp;topic_id=3938538\">Literature</a></li><li><a class=\"tree\" href=\"/edit.epl?standard_id=35062&amp;topic_id=3938539\">Media</a></li><li><a class=\"tree\" href=\"/edit.epl?standard_id=35062&amp;topic_id=3938540\">Music</a></li><li><a class=\"tree\" href=\"/edit.epl?standard_id=35062&amp;topic_id=3938541\">Customs and Traditions</a></li><li><a class=\"tree\" href=\"/edit.epl?standard_id=35062&amp;topic_id=2703978\">Landmarks</a></li><li><a class=\"tree\" href=\"/edit.epl?standard_id=35062&amp;topic_id=2703980\">Religion and Beliefs</a></li><li><a class=\"tree\" href=\"/edit.epl?standard_id=35062&amp;topic_id=4128507\">Communication</a></li><li><a class=\"tree\" href=\"/edit.epl?standard_id=35062&amp;topic_id=4128508\">Transportation</a></li></ul></li>\n",
      "[u'Cultural Elements']\n",
      "None\n",
      "[u'Civics']\n",
      "<li><a class=\"tree\" href=\"/edit.epl?standard_id=35061&amp;topic_id=2703774\">Citizenship</a><ul><li><a class=\"tree\" href=\"/edit.epl?standard_id=35061&amp;topic_id=4128509\">Naturalization</a></li><li><a class=\"tree\" href=\"/edit.epl?standard_id=35061&amp;topic_id=2703799\">Conflict Resolution</a></li><li><a class=\"tree\" href=\"/edit.epl?standard_id=35061&amp;topic_id=2703800\">Decision Making</a></li><li><a class=\"tree\" href=\"/edit.epl?standard_id=35061&amp;topic_id=2703801\">Rights</a></li><li><a class=\"tree\" href=\"/edit.epl?standard_id=35061&amp;topic_id=2703802\">Responsibilities</a></li><li><a class=\"tree\" href=\"/edit.epl?standard_id=35061&amp;topic_id=2703803\">Roles</a></li></ul></li>\n",
      "[u'Citizenship']\n",
      "<li><a class=\"tree\" href=\"/edit.epl?standard_id=35061&amp;topic_id=2703775\">Government Foundations</a><ul><li><a class=\"tree\" href=\"/edit.epl?standard_id=35061&amp;topic_id=2703807\">Forms of Government</a></li><li><a class=\"tree\" href=\"/edit.epl?standard_id=35061&amp;topic_id=2703808\">Federalism</a></li><li><a class=\"tree\" href=\"/edit.epl?standard_id=35061&amp;topic_id=2703804\">Limited and Unlimited Government</a></li><li><a class=\"tree\" href=\"/edit.epl?standard_id=35061&amp;topic_id=2703809\">Authority</a></li><li><a class=\"tree\" href=\"/edit.epl?standard_id=35061&amp;topic_id=2703806\">International Organizations</a></li><li><a class=\"tree\" href=\"/edit.epl?standard_id=35061&amp;topic_id=2703805\">Political Thinkers and Documents</a></li></ul></li>\n",
      "[u'Government Foundations']\n",
      "<li><a class=\"tree\" href=\"/edit.epl?standard_id=35061&amp;topic_id=2703776\">American Government</a><ul><li><a class=\"tree\" href=\"/edit.epl?standard_id=35061&amp;topic_id=2703814\">Foundations</a></li><li><a class=\"tree\" href=\"/edit.epl?standard_id=35061&amp;topic_id=2703813\">Democratic Ideas</a></li><li><a class=\"tree\" href=\"/edit.epl?standard_id=35061&amp;topic_id=2703810\">Checks and Balances</a></li><li><a class=\"tree\" href=\"/edit.epl?standard_id=35061&amp;topic_id=2703818\">Executive Branch</a></li><li><a class=\"tree\" href=\"/edit.epl?standard_id=35061&amp;topic_id=2703819\">Judicial Branch</a></li><li><a class=\"tree\" href=\"/edit.epl?standard_id=35061&amp;topic_id=2703820\">Legislative Branch</a></li><li><a class=\"tree\" href=\"/edit.epl?standard_id=35061&amp;topic_id=2703821\">Local and State Governments</a></li><li><a class=\"tree\" href=\"/edit.epl?standard_id=35061&amp;topic_id=2703816\">State Constitutions</a></li><li><a class=\"tree\" href=\"/edit.epl?standard_id=35061&amp;topic_id=2703811\">Powers</a></li><li><a class=\"tree\" href=\"/edit.epl?standard_id=35061&amp;topic_id=2703812\">Separation of Powers</a></li><li><a class=\"tree\" href=\"/edit.epl?standard_id=35061&amp;topic_id=2703817\">Foreign Policy</a></li><li><a class=\"tree\" href=\"/edit.epl?standard_id=35061&amp;topic_id=4128510\">Domestic Policy</a></li></ul></li>\n",
      "[u'American Government']\n",
      "None\n",
      "[u'Tools']\n",
      "<li><a class=\"tree\" href=\"/edit.epl?standard_id=36899&amp;topic_id=3938555\">Skills</a><ul><li><a class=\"tree\" href=\"/edit.epl?standard_id=36899&amp;topic_id=2703964\">Critical Thinking Skills</a></li><li><a class=\"tree\" href=\"/edit.epl?standard_id=36899&amp;topic_id=2703966\">Research</a></li><li><a class=\"tree\" href=\"/edit.epl?standard_id=36899&amp;topic_id=4128484\">Cause and Effect</a></li><li><a class=\"tree\" href=\"/edit.epl?standard_id=36899&amp;topic_id=4128485\">Locate Places</a></li><li><a class=\"tree\" href=\"/edit.epl?standard_id=36899&amp;topic_id=2703932\">Analysis and Interpretation</a></li><li><a class=\"tree\" href=\"/edit.epl?standard_id=36899&amp;topic_id=2703935\">Create Product</a></li><li><a class=\"tree\" href=\"/edit.epl?standard_id=36899&amp;topic_id=2703992\">Current Events</a></li></ul></li>\n",
      "[u'Skills']\n",
      "None\n",
      "[u'General']\n",
      "<li><a class=\"tree\" href=\"/edit.epl?standard_id=35060&amp;topic_id=3938530\">Nineteenth Century</a><ul><li><a class=\"tree\" href=\"/edit.epl?standard_id=35060&amp;topic_id=2703938\">Second Great Awakening</a></li><li><a class=\"tree\" href=\"/edit.epl?standard_id=35060&amp;topic_id=2703887\">Louisiana Purchase</a></li><li><a class=\"tree\" href=\"/edit.epl?standard_id=35060&amp;topic_id=2703883\">War of 1812</a></li><li><a class=\"tree\" href=\"/edit.epl?standard_id=35060&amp;topic_id=2703882\">Monroe Doctrine</a></li><li><a class=\"tree\" href=\"/edit.epl?standard_id=35060&amp;topic_id=4128497\">Jacksonian Democracy</a></li><li><a class=\"tree\" href=\"/edit.epl?standard_id=35060&amp;topic_id=2703886\">Westward Expansion</a></li><li><a class=\"tree\" href=\"/edit.epl?standard_id=35060&amp;topic_id=4128498\">Mexican American War</a></li><li><a class=\"tree\" href=\"/edit.epl?standard_id=35060&amp;topic_id=2703888\">Native Americans</a></li><li><a class=\"tree\" href=\"/edit.epl?standard_id=35060&amp;topic_id=2703889\">Territorial Acquisitions</a></li><li><a class=\"tree\" href=\"/edit.epl?standard_id=35060&amp;topic_id=2703940\">Industrial Revolution</a></li><li><a class=\"tree\" href=\"/edit.epl?standard_id=35060&amp;topic_id=2703939\">Spanish American War</a></li><li><a class=\"tree\" href=\"/edit.epl?standard_id=35060&amp;topic_id=4128499\">Immigration</a></li></ul></li>\n",
      "[u'Nineteenth Century']\n",
      "<li><a class=\"tree\" href=\"/edit.epl?standard_id=35060&amp;topic_id=2703781\">Colonial America</a><ul><li><a class=\"tree\" href=\"/edit.epl?standard_id=35060&amp;topic_id=2703881\">Events and Individuals in Colonial America</a></li><li><a class=\"tree\" href=\"/edit.epl?standard_id=35060&amp;topic_id=2703879\">Colonial Settlements</a></li><li><a class=\"tree\" href=\"/edit.epl?standard_id=35060&amp;topic_id=2703877\">Government and Political Systems</a></li><li><a class=\"tree\" href=\"/edit.epl?standard_id=35060&amp;topic_id=4128500\">Slavery in the Americas</a></li><li><a class=\"tree\" href=\"/edit.epl?standard_id=35060&amp;topic_id=4128501\">Native Americans</a></li></ul></li>\n",
      "[u'Colonial America']\n",
      "<li><a class=\"tree\" href=\"/edit.epl?standard_id=35060&amp;topic_id=2703782\">American Revolution</a><ul><li><a class=\"tree\" href=\"/edit.epl?standard_id=35060&amp;topic_id=2862751\">Causes of the America Revolution</a></li><li><a class=\"tree\" href=\"/edit.epl?standard_id=35060&amp;topic_id=2703885\">Course of the America Revolution</a></li><li><a class=\"tree\" href=\"/edit.epl?standard_id=35060&amp;topic_id=2703884\">Consequences of the America Revolution</a></li><li><a class=\"tree\" href=\"/edit.epl?standard_id=35060&amp;topic_id=2703878\">Declaration of Independence</a></li><li><a class=\"tree\" href=\"/edit.epl?standard_id=35060&amp;topic_id=2703880\">Articles of Confederation</a></li></ul></li>\n",
      "[u'American Revolution']\n",
      "<li><a class=\"tree\" href=\"/edit.epl?standard_id=35060&amp;topic_id=2703785\">Constitution</a><ul><li><a class=\"tree\" href=\"/edit.epl?standard_id=35060&amp;topic_id=4128502\">Constitution of the United States</a></li><li><a class=\"tree\" href=\"/edit.epl?standard_id=35060&amp;topic_id=2703903\">Articles</a></li><li><a class=\"tree\" href=\"/edit.epl?standard_id=35060&amp;topic_id=2703900\">Bill of Rights</a></li><li><a class=\"tree\" href=\"/edit.epl?standard_id=35060&amp;topic_id=2703901\">Amendments / Rights</a></li><li><a class=\"tree\" href=\"/edit.epl?standard_id=35060&amp;topic_id=2703902\">Interpretations</a></li></ul></li>\n",
      "[u'Constitution']\n",
      "<li><a class=\"tree\" href=\"/edit.epl?standard_id=35060&amp;topic_id=2703798\">States</a><ul><li><a class=\"tree\" href=\"/edit.epl?standard_id=35060&amp;topic_id=2703991\">State History</a></li></ul></li>\n",
      "[u'States']\n",
      "<li><a class=\"tree\" href=\"/edit.epl?standard_id=35060&amp;topic_id=2703784\">Civil War and Reconstruction</a><ul><li><a class=\"tree\" href=\"/edit.epl?standard_id=35060&amp;topic_id=2703890\">Causes of the Civil War</a></li><li><a class=\"tree\" href=\"/edit.epl?standard_id=35060&amp;topic_id=2703894\">Northern States</a></li><li><a class=\"tree\" href=\"/edit.epl?standard_id=35060&amp;topic_id=2703895\">Southern States</a></li><li><a class=\"tree\" href=\"/edit.epl?standard_id=35060&amp;topic_id=2703892\">Slavery</a></li><li><a class=\"tree\" href=\"/edit.epl?standard_id=35060&amp;topic_id=2703893\">Abolition Movement</a></li><li><a class=\"tree\" href=\"/edit.epl?standard_id=35060&amp;topic_id=2703899\">Course of the Civil War</a></li><li><a class=\"tree\" href=\"/edit.epl?standard_id=35060&amp;topic_id=2703891\">Consequences of the Civil War</a></li><li><a class=\"tree\" href=\"/edit.epl?standard_id=35060&amp;topic_id=2703896\">Reconstruction Amendments</a></li><li><a class=\"tree\" href=\"/edit.epl?standard_id=35060&amp;topic_id=2703897\">End of Reconstruction</a></li></ul></li>\n",
      "[u'Civil War and Reconstruction']\n",
      "<li><a class=\"tree\" href=\"/edit.epl?standard_id=35060&amp;topic_id=2703793\">Modern America</a><ul><li><a class=\"tree\" href=\"/edit.epl?standard_id=35060&amp;topic_id=2703942\">United States as World Power</a></li><li><a class=\"tree\" href=\"/edit.epl?standard_id=35060&amp;topic_id=2703941\">Women's Suffrage Movement</a></li><li><a class=\"tree\" href=\"/edit.epl?standard_id=35060&amp;topic_id=2703943\">Progressive Era</a></li><li><a class=\"tree\" href=\"/edit.epl?standard_id=35060&amp;topic_id=2703947\">World War I</a></li><li><a class=\"tree\" href=\"/edit.epl?standard_id=35060&amp;topic_id=2703948\">1920s</a></li><li><a class=\"tree\" href=\"/edit.epl?standard_id=35060&amp;topic_id=2703946\">New Deal</a></li><li><a class=\"tree\" href=\"/edit.epl?standard_id=35060&amp;topic_id=2703949\">Great Depression Era</a></li><li><a class=\"tree\" href=\"/edit.epl?standard_id=35060&amp;topic_id=4128503\">World War II</a></li><li><a class=\"tree\" href=\"/edit.epl?standard_id=35060&amp;topic_id=2703952\">Post World War II Era</a></li><li><a class=\"tree\" href=\"/edit.epl?standard_id=35060&amp;topic_id=2703953\">Civil Rights Movement</a></li><li><a class=\"tree\" href=\"/edit.epl?standard_id=35060&amp;topic_id=2703954\">1960s</a></li><li><a class=\"tree\" href=\"/edit.epl?standard_id=35060&amp;topic_id=2703950\">1970s and 1980s</a></li><li><a class=\"tree\" href=\"/edit.epl?standard_id=35060&amp;topic_id=2703951\">1990s</a></li><li><a class=\"tree\" href=\"/edit.epl?standard_id=35060&amp;topic_id=2703958\">Globalization</a></li><li><a class=\"tree\" href=\"/edit.epl?standard_id=35060&amp;topic_id=2703945\">Middle Eastern Conflicts</a></li></ul></li>\n",
      "[u'Modern America']\n",
      "None\n",
      "[u'General']\n",
      "<li><a class=\"tree\" href=\"/edit.epl?standard_id=35059&amp;topic_id=2703789\">Ancient Civilizations</a><ul><li><a class=\"tree\" href=\"/edit.epl?standard_id=35059&amp;topic_id=2703922\">Prehistoric Era</a></li><li><a class=\"tree\" href=\"/edit.epl?standard_id=35059&amp;topic_id=2703917\">Prehistoric Americas</a></li><li><a class=\"tree\" href=\"/edit.epl?standard_id=35059&amp;topic_id=2703918\">River Valley Civilizations</a></li><li><a class=\"tree\" href=\"/edit.epl?standard_id=35059&amp;topic_id=2703921\">Greek and Roman Civilizations</a></li><li><a class=\"tree\" href=\"/edit.epl?standard_id=35059&amp;topic_id=2703919\">Classical Asian Civilizations</a></li><li><a class=\"tree\" href=\"/edit.epl?standard_id=35059&amp;topic_id=2703920\">Classical European, African, Middle Eastern Civilizations</a></li></ul></li>\n",
      "[u'Ancient Civilizations']\n",
      "<li><a class=\"tree\" href=\"/edit.epl?standard_id=35059&amp;topic_id=2703795\">Middle Ages</a><ul><li><a class=\"tree\" href=\"/edit.epl?standard_id=35059&amp;topic_id=2703970\">Americas</a></li><li><a class=\"tree\" href=\"/edit.epl?standard_id=35059&amp;topic_id=2703971\">Asian Civilizations</a></li><li><a class=\"tree\" href=\"/edit.epl?standard_id=35059&amp;topic_id=2703972\">European Civilizations</a></li><li><a class=\"tree\" href=\"/edit.epl?standard_id=35059&amp;topic_id=2703973\">Middle Eastern Civilizations</a></li><li><a class=\"tree\" href=\"/edit.epl?standard_id=35059&amp;topic_id=2703976\">Exploration and Colonization</a></li><li><a class=\"tree\" href=\"/edit.epl?standard_id=35059&amp;topic_id=2703974\">Reformation</a></li><li><a class=\"tree\" href=\"/edit.epl?standard_id=35059&amp;topic_id=2703975\">Renaissance</a></li></ul></li>\n",
      "[u'Middle Ages']\n",
      "<li><a class=\"tree\" href=\"/edit.epl?standard_id=35059&amp;topic_id=2703792\">Eighteenth and Nineteenth Centuries</a><ul><li><a class=\"tree\" href=\"/edit.epl?standard_id=35059&amp;topic_id=2703937\">Industrial Revolution - Worldwide</a></li><li><a class=\"tree\" href=\"/edit.epl?standard_id=35059&amp;topic_id=2703944\">Revolutions</a></li><li><a class=\"tree\" href=\"/edit.epl?standard_id=35059&amp;topic_id=4128488\">Imperialism</a></li><li><a class=\"tree\" href=\"/edit.epl?standard_id=35059&amp;topic_id=4128489\">Enlightenment</a></li></ul></li>\n",
      "[u'Eighteenth and Nineteenth Centuries']\n",
      "<li><a class=\"tree\" href=\"/edit.epl?standard_id=35059&amp;topic_id=2703786\">World War I</a><ul><li><a class=\"tree\" href=\"/edit.epl?standard_id=35059&amp;topic_id=2703904\">Causes of World War I</a></li><li><a class=\"tree\" href=\"/edit.epl?standard_id=35059&amp;topic_id=2703905\">Course of World War I</a></li><li><a class=\"tree\" href=\"/edit.epl?standard_id=35059&amp;topic_id=2703906\">Consequences of World War I</a></li><li><a class=\"tree\" href=\"/edit.epl?standard_id=35059&amp;topic_id=4128490\">Homefront during World War I</a></li></ul></li>\n",
      "[u'World War I']\n",
      "<li><a class=\"tree\" href=\"/edit.epl?standard_id=35059&amp;topic_id=2703787\">World War II</a><ul><li><a class=\"tree\" href=\"/edit.epl?standard_id=35059&amp;topic_id=2703907\">Causes of World War II</a></li><li><a class=\"tree\" href=\"/edit.epl?standard_id=35059&amp;topic_id=2703908\">Course of World War II</a></li><li><a class=\"tree\" href=\"/edit.epl?standard_id=35059&amp;topic_id=2703909\">Consequences of World War II</a></li><li><a class=\"tree\" href=\"/edit.epl?standard_id=35059&amp;topic_id=2703910\">Homefront during World War II</a></li></ul></li>\n",
      "[u'World War II']\n",
      "<li><a class=\"tree\" href=\"/edit.epl?standard_id=35059&amp;topic_id=2703788\">Cold War</a><ul><li><a class=\"tree\" href=\"/edit.epl?standard_id=35059&amp;topic_id=2703913\">Causes of the Cold War</a></li><li><a class=\"tree\" href=\"/edit.epl?standard_id=35059&amp;topic_id=2703914\">Course and Consequences of the Cold War</a></li><li><a class=\"tree\" href=\"/edit.epl?standard_id=35059&amp;topic_id=2703916\">Foreign Policy</a></li><li><a class=\"tree\" href=\"/edit.epl?standard_id=35059&amp;topic_id=2703912\">Korean War</a></li><li><a class=\"tree\" href=\"/edit.epl?standard_id=35059&amp;topic_id=2703911\">Vietnam War</a></li><li><a class=\"tree\" href=\"/edit.epl?standard_id=35059&amp;topic_id=2703915\">Soviet Union and Eastern Europe</a></li><li><a class=\"tree\" href=\"/edit.epl?standard_id=35059&amp;topic_id=4128491\">China</a></li><li><a class=\"tree\" href=\"/edit.epl?standard_id=35059&amp;topic_id=4128492\">Post Cold War Conflicts</a></li></ul></li>\n",
      "[u'Cold War']\n",
      "None\n"
     ]
    }
   ],
   "source": [
    "row = 0\n",
    "standards_list=[]\n",
    "while row < 6:\n",
    "    subject = filelist_2.iloc[row,0]\n",
    "    subject_code = filelist_2.iloc[row,1]\n",
    "    scrape_standards(standards_list, subject, subject_code)\n",
    "    row += 1"
   ]
  },
  {
   "cell_type": "code",
   "execution_count": 11,
   "metadata": {
    "collapsed": false
   },
   "outputs": [
    {
     "name": "stdout",
     "output_type": "stream",
     "text": [
      "    Child TID                                 Child Text Parent TID  \\\n",
      "0                                                           3938544   \n",
      "1     4128511                              [Agriculture]    3938544   \n",
      "2     2703845                    [Economic Institutions]    3938544   \n",
      "3     2703827                         [Economic Systems]    3938544   \n",
      "4     2703828                    [Factors of Production]    3938544   \n",
      "5     2703844                   [Financial Institutions]    3938544   \n",
      "6     2703826                              [Free Market]    3938544   \n",
      "7     4128512                                    [Labor]    3938544   \n",
      "8     2703843                       [Medium of Exchange]    3938544   \n",
      "9     2703841                                    [Taxes]    3938544   \n",
      "10    2703835                               [Technology]    3938544   \n",
      "11                                                          3938542   \n",
      "12    2703846                           [Business Cycle]    3938542   \n",
      "13    2703830                                   [Choice]    3938542   \n",
      "14    4128513                              [Competition]    3938542   \n",
      "15    2703823                     [Economic Development]    3938542   \n",
      "16    2703840                      [Economic Indicators]    3938542   \n",
      "17    2703833    [Economic Policy / Government Services]    3938542   \n",
      "18    2703847                         [Entrepreneurship]    3938542   \n",
      "19    2703842               [Fiscal and Monetary Policy]    3938542   \n",
      "20    2703839                               [Incentives]    3938542   \n",
      "21    2703836                          [Interdependence]    3938542   \n",
      "22    2703831                        [Opportunity Costs]    3938542   \n",
      "23    2703829                         [Personal Finance]    3938542   \n",
      "24    2703822                             [Philosophies]    3938542   \n",
      "25    2703825                                    [Price]    3938542   \n",
      "26    2703834    [Production, Distribution, Consumption]    3938542   \n",
      "27    2703832                                 [Scarcity]    3938542   \n",
      "28    4128514                           [Specialization]    3938542   \n",
      "29    2703824                        [Supply and Demand]    3938542   \n",
      "..        ...                                        ...        ...   \n",
      "211   2703971                      [Asian Civilizations]    2703795   \n",
      "212   2703972                   [European Civilizations]    2703795   \n",
      "213   2703973             [Middle Eastern Civilizations]    2703795   \n",
      "214   2703976             [Exploration and Colonization]    2703795   \n",
      "215   2703974                              [Reformation]    2703795   \n",
      "216   2703975                              [Renaissance]    2703795   \n",
      "217                                                         2703792   \n",
      "218   2703937        [Industrial Revolution - Worldwide]    2703792   \n",
      "219   2703944                              [Revolutions]    2703792   \n",
      "220   4128488                              [Imperialism]    2703792   \n",
      "221   4128489                            [Enlightenment]    2703792   \n",
      "222                                                         2703786   \n",
      "223   2703904                    [Causes of World War I]    2703786   \n",
      "224   2703905                    [Course of World War I]    2703786   \n",
      "225   2703906              [Consequences of World War I]    2703786   \n",
      "226   4128490             [Homefront during World War I]    2703786   \n",
      "227                                                         2703787   \n",
      "228   2703907                   [Causes of World War II]    2703787   \n",
      "229   2703908                   [Course of World War II]    2703787   \n",
      "230   2703909             [Consequences of World War II]    2703787   \n",
      "231   2703910            [Homefront during World War II]    2703787   \n",
      "232                                                         2703788   \n",
      "233   2703913                   [Causes of the Cold War]    2703788   \n",
      "234   2703914  [Course and Consequences of the Cold War]    2703788   \n",
      "235   2703916                           [Foreign Policy]    2703788   \n",
      "236   2703912                               [Korean War]    2703788   \n",
      "237   2703911                              [Vietnam War]    2703788   \n",
      "238   2703915          [Soviet Union and Eastern Europe]    2703788   \n",
      "239   4128491                                    [China]    2703788   \n",
      "240   4128492                  [Post Cold War Conflicts]    2703788   \n",
      "\n",
      "                               Parent Text Standard Code        Subject  \n",
      "0                    [Economic Components]           E.1      Economics  \n",
      "1                    [Economic Components]         E.1.1      Economics  \n",
      "2                    [Economic Components]         E.1.2      Economics  \n",
      "3                    [Economic Components]         E.1.3      Economics  \n",
      "4                    [Economic Components]         E.1.4      Economics  \n",
      "5                    [Economic Components]         E.1.5      Economics  \n",
      "6                    [Economic Components]         E.1.6      Economics  \n",
      "7                    [Economic Components]         E.1.7      Economics  \n",
      "8                    [Economic Components]         E.1.8      Economics  \n",
      "9                    [Economic Components]         E.1.9      Economics  \n",
      "10                   [Economic Components]        E.1.10      Economics  \n",
      "11                     [Economic Concepts]           E.2      Economics  \n",
      "12                     [Economic Concepts]         E.2.1      Economics  \n",
      "13                     [Economic Concepts]         E.2.2      Economics  \n",
      "14                     [Economic Concepts]         E.2.3      Economics  \n",
      "15                     [Economic Concepts]         E.2.4      Economics  \n",
      "16                     [Economic Concepts]         E.2.5      Economics  \n",
      "17                     [Economic Concepts]         E.2.6      Economics  \n",
      "18                     [Economic Concepts]         E.2.7      Economics  \n",
      "19                     [Economic Concepts]         E.2.8      Economics  \n",
      "20                     [Economic Concepts]         E.2.9      Economics  \n",
      "21                     [Economic Concepts]        E.2.10      Economics  \n",
      "22                     [Economic Concepts]        E.2.11      Economics  \n",
      "23                     [Economic Concepts]        E.2.12      Economics  \n",
      "24                     [Economic Concepts]        E.2.13      Economics  \n",
      "25                     [Economic Concepts]        E.2.14      Economics  \n",
      "26                     [Economic Concepts]        E.2.15      Economics  \n",
      "27                     [Economic Concepts]        E.2.16      Economics  \n",
      "28                     [Economic Concepts]        E.2.17      Economics  \n",
      "29                     [Economic Concepts]        E.2.18      Economics  \n",
      "..                                     ...           ...            ...  \n",
      "211                          [Middle Ages]        WH.3.2  World History  \n",
      "212                          [Middle Ages]        WH.3.3  World History  \n",
      "213                          [Middle Ages]        WH.3.4  World History  \n",
      "214                          [Middle Ages]        WH.3.5  World History  \n",
      "215                          [Middle Ages]        WH.3.6  World History  \n",
      "216                          [Middle Ages]        WH.3.7  World History  \n",
      "217  [Eighteenth and Nineteenth Centuries]          WH.4  World History  \n",
      "218  [Eighteenth and Nineteenth Centuries]        WH.4.1  World History  \n",
      "219  [Eighteenth and Nineteenth Centuries]        WH.4.2  World History  \n",
      "220  [Eighteenth and Nineteenth Centuries]        WH.4.3  World History  \n",
      "221  [Eighteenth and Nineteenth Centuries]        WH.4.4  World History  \n",
      "222                          [World War I]          WH.5  World History  \n",
      "223                          [World War I]        WH.5.1  World History  \n",
      "224                          [World War I]        WH.5.2  World History  \n",
      "225                          [World War I]        WH.5.3  World History  \n",
      "226                          [World War I]        WH.5.4  World History  \n",
      "227                         [World War II]          WH.6  World History  \n",
      "228                         [World War II]        WH.6.1  World History  \n",
      "229                         [World War II]        WH.6.2  World History  \n",
      "230                         [World War II]        WH.6.3  World History  \n",
      "231                         [World War II]        WH.6.4  World History  \n",
      "232                             [Cold War]          WH.7  World History  \n",
      "233                             [Cold War]        WH.7.1  World History  \n",
      "234                             [Cold War]        WH.7.2  World History  \n",
      "235                             [Cold War]        WH.7.3  World History  \n",
      "236                             [Cold War]        WH.7.4  World History  \n",
      "237                             [Cold War]        WH.7.5  World History  \n",
      "238                             [Cold War]        WH.7.6  World History  \n",
      "239                             [Cold War]        WH.7.7  World History  \n",
      "240                             [Cold War]        WH.7.8  World History  \n",
      "\n",
      "[241 rows x 6 columns]\n"
     ]
    }
   ],
   "source": [
    "standards_list_df = pd.DataFrame(standards_list)\n",
    "print standards_list_df"
   ]
  },
  {
   "cell_type": "code",
   "execution_count": 12,
   "metadata": {
    "collapsed": false
   },
   "outputs": [],
   "source": [
    "#output to Excel\n",
    "output = \"Social Studies Taxonomy Export.xlsx\"\n",
    "\n",
    "writer = pd.ExcelWriter(output)\n",
    "standards_list_df.to_excel(writer, sheet_name='Sheet1')\n",
    "writer.save()"
   ]
  },
  {
   "cell_type": "code",
   "execution_count": null,
   "metadata": {
    "collapsed": true
   },
   "outputs": [],
   "source": []
  }
 ],
 "metadata": {
  "anaconda-cloud": {},
  "kernelspec": {
   "display_name": "Python [conda root]",
   "language": "python",
   "name": "conda-root-py"
  },
  "language_info": {
   "codemirror_mode": {
    "name": "ipython",
    "version": 2
   },
   "file_extension": ".py",
   "mimetype": "text/x-python",
   "name": "python",
   "nbconvert_exporter": "python",
   "pygments_lexer": "ipython2",
   "version": "2.7.12"
  }
 },
 "nbformat": 4,
 "nbformat_minor": 1
}
