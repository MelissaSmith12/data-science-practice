{
 "cells": [
  {
   "cell_type": "code",
   "execution_count": 20,
   "metadata": {
    "collapsed": false
   },
   "outputs": [],
   "source": [
    "#from lxml import html\n",
    "#import requests\n",
    "#import string\n",
    "#import BeautifulSoup\n",
    "#import pandas as pd\n",
    "#import urlopen\n",
    "\n",
    "from urllib import urlopen\n",
    "from bs4 import BeautifulSoup\n",
    "import pandas as pd\n",
    "import requests\n",
    "import string\n",
    "from lxml import html\n",
    "\n",
    "filename = r'file:///Users\\Melissa\\Documents\\Udacity\\Untitled Folder\\High School Economics.htm'\n",
    "file = urlopen(filename)\n",
    "\n",
    "soup = BeautifulSoup(file, \"lxml\")\n",
    "standards = soup.ul\n",
    "\n",
    "subject = 'Economics'\n",
    "standards_list = []\n",
    "keys = ['Subject','Parent Text', 'Parent TID', 'Child Text', 'Child TID']"
   ]
  },
  {
   "cell_type": "code",
   "execution_count": null,
   "metadata": {
    "collapsed": false
   },
   "outputs": [],
   "source": []
  },
  {
   "cell_type": "code",
   "execution_count": 11,
   "metadata": {
    "collapsed": false
   },
   "outputs": [],
   "source": [
    "#print standards"
   ]
  },
  {
   "cell_type": "code",
   "execution_count": 12,
   "metadata": {
    "collapsed": false
   },
   "outputs": [
    {
     "name": "stdout",
     "output_type": "stream",
     "text": [
      "[u'Economic Components']\n"
     ]
    }
   ],
   "source": [
    "first_parent_text = standards.li.a.contents\n",
    "print first_parent_text"
   ]
  },
  {
   "cell_type": "code",
   "execution_count": 13,
   "metadata": {
    "collapsed": false
   },
   "outputs": [],
   "source": [
    "first_parent = standards.li\n",
    "#print first_parent"
   ]
  },
  {
   "cell_type": "code",
   "execution_count": 14,
   "metadata": {
    "collapsed": false
   },
   "outputs": [],
   "source": [
    "#second_parent = first_parent.next_sibling\n",
    "#second_parent_text = first_parent.a.contents\n",
    "#print second_parent_text\n",
    "#print second_parent"
   ]
  },
  {
   "cell_type": "code",
   "execution_count": 21,
   "metadata": {
    "collapsed": false
   },
   "outputs": [
    {
     "name": "stdout",
     "output_type": "stream",
     "text": [
      "[{'Parent TID': '3938544', 'Child TID': '4128511', 'Child Text': [u'Agriculture'], 'Parent Text': [u'Economic Components'], 'Subject': 'Economics'}, {'Parent TID': '3938544', 'Child TID': '2703845', 'Child Text': [u'Economic Institutions'], 'Parent Text': [u'Economic Components'], 'Subject': 'Economics'}, {'Parent TID': '3938544', 'Child TID': '2703827', 'Child Text': [u'Economic Systems'], 'Parent Text': [u'Economic Components'], 'Subject': 'Economics'}, {'Parent TID': '3938544', 'Child TID': '2703828', 'Child Text': [u'Factors of Production'], 'Parent Text': [u'Economic Components'], 'Subject': 'Economics'}, {'Parent TID': '3938544', 'Child TID': '2703844', 'Child Text': [u'Financial Institutions'], 'Parent Text': [u'Economic Components'], 'Subject': 'Economics'}, {'Parent TID': '3938544', 'Child TID': '2703826', 'Child Text': [u'Free Market'], 'Parent Text': [u'Economic Components'], 'Subject': 'Economics'}, {'Parent TID': '3938544', 'Child TID': '4128512', 'Child Text': [u'Labor'], 'Parent Text': [u'Economic Components'], 'Subject': 'Economics'}, {'Parent TID': '3938544', 'Child TID': '2703843', 'Child Text': [u'Medium of Exchange'], 'Parent Text': [u'Economic Components'], 'Subject': 'Economics'}, {'Parent TID': '3938544', 'Child TID': '2703841', 'Child Text': [u'Taxes'], 'Parent Text': [u'Economic Components'], 'Subject': 'Economics'}, {'Parent TID': '3938544', 'Child TID': '2703835', 'Child Text': [u'Technology'], 'Parent Text': [u'Economic Components'], 'Subject': 'Economics'}, {'Parent TID': '3938542', 'Child TID': '2703846', 'Child Text': [u'Business Cycle'], 'Parent Text': [u'Economic Concepts'], 'Subject': 'Economics'}, {'Parent TID': '3938542', 'Child TID': '2703830', 'Child Text': [u'Choice'], 'Parent Text': [u'Economic Concepts'], 'Subject': 'Economics'}, {'Parent TID': '3938542', 'Child TID': '4128513', 'Child Text': [u'Competition'], 'Parent Text': [u'Economic Concepts'], 'Subject': 'Economics'}, {'Parent TID': '3938542', 'Child TID': '2703823', 'Child Text': [u'Economic Development'], 'Parent Text': [u'Economic Concepts'], 'Subject': 'Economics'}, {'Parent TID': '3938542', 'Child TID': '2703840', 'Child Text': [u'Economic Indicators'], 'Parent Text': [u'Economic Concepts'], 'Subject': 'Economics'}, {'Parent TID': '3938542', 'Child TID': '2703833', 'Child Text': [u'Economic Policy / Government Services'], 'Parent Text': [u'Economic Concepts'], 'Subject': 'Economics'}, {'Parent TID': '3938542', 'Child TID': '2703847', 'Child Text': [u'Entrepreneurship'], 'Parent Text': [u'Economic Concepts'], 'Subject': 'Economics'}, {'Parent TID': '3938542', 'Child TID': '2703842', 'Child Text': [u'Fiscal and Monetary Policy'], 'Parent Text': [u'Economic Concepts'], 'Subject': 'Economics'}, {'Parent TID': '3938542', 'Child TID': '2703839', 'Child Text': [u'Incentives'], 'Parent Text': [u'Economic Concepts'], 'Subject': 'Economics'}, {'Parent TID': '3938542', 'Child TID': '2703836', 'Child Text': [u'Interdependence'], 'Parent Text': [u'Economic Concepts'], 'Subject': 'Economics'}, {'Parent TID': '3938542', 'Child TID': '2703831', 'Child Text': [u'Opportunity Costs'], 'Parent Text': [u'Economic Concepts'], 'Subject': 'Economics'}, {'Parent TID': '3938542', 'Child TID': '2703829', 'Child Text': [u'Personal Finance'], 'Parent Text': [u'Economic Concepts'], 'Subject': 'Economics'}, {'Parent TID': '3938542', 'Child TID': '2703822', 'Child Text': [u'Philosophies'], 'Parent Text': [u'Economic Concepts'], 'Subject': 'Economics'}, {'Parent TID': '3938542', 'Child TID': '2703825', 'Child Text': [u'Price'], 'Parent Text': [u'Economic Concepts'], 'Subject': 'Economics'}, {'Parent TID': '3938542', 'Child TID': '2703834', 'Child Text': [u'Production, Distribution, Consumption'], 'Parent Text': [u'Economic Concepts'], 'Subject': 'Economics'}, {'Parent TID': '3938542', 'Child TID': '2703832', 'Child Text': [u'Scarcity'], 'Parent Text': [u'Economic Concepts'], 'Subject': 'Economics'}, {'Parent TID': '3938542', 'Child TID': '4128514', 'Child Text': [u'Specialization'], 'Parent Text': [u'Economic Concepts'], 'Subject': 'Economics'}, {'Parent TID': '3938542', 'Child TID': '2703824', 'Child Text': [u'Supply and Demand'], 'Parent Text': [u'Economic Concepts'], 'Subject': 'Economics'}, {'Parent TID': '3938542', 'Child TID': '2703838', 'Child Text': [u'Trade'], 'Parent Text': [u'Economic Concepts'], 'Subject': 'Economics'}]\n"
     ]
    }
   ],
   "source": [
    "#second_parent_children = second_parent.ul.findAll(\"a\")\n",
    "#print second_parent_children\n",
    "\n",
    "parent = standards.li\n",
    "\n",
    "while parent != None:\n",
    "    parent_text = parent.a.contents\n",
    "    parent_tid = parent.a['href'][-7:]\n",
    "    #print parent\n",
    "    children = parent.ul.findAll(\"a\")\n",
    "    #print children\n",
    "    #loop through children\n",
    "    for child in children:\n",
    "        child_text = child.contents\n",
    "        child_tid = child['href'][-7:]\n",
    "        standards_list.append(dict(zip(keys, [subject, parent_text, parent_tid, child_text, child_tid])))    \n",
    "    parent = parent.next_sibling\n",
    "print standards_list"
   ]
  },
  {
   "cell_type": "code",
   "execution_count": null,
   "metadata": {
    "collapsed": false
   },
   "outputs": [],
   "source": []
  },
  {
   "cell_type": "code",
   "execution_count": 23,
   "metadata": {
    "collapsed": false
   },
   "outputs": [
    {
     "name": "stdout",
     "output_type": "stream",
     "text": [
      "   Child TID                               Child Text Parent TID  \\\n",
      "0    4128511                            [Agriculture]    3938544   \n",
      "1    2703845                  [Economic Institutions]    3938544   \n",
      "2    2703827                       [Economic Systems]    3938544   \n",
      "3    2703828                  [Factors of Production]    3938544   \n",
      "4    2703844                 [Financial Institutions]    3938544   \n",
      "5    2703826                            [Free Market]    3938544   \n",
      "6    4128512                                  [Labor]    3938544   \n",
      "7    2703843                     [Medium of Exchange]    3938544   \n",
      "8    2703841                                  [Taxes]    3938544   \n",
      "9    2703835                             [Technology]    3938544   \n",
      "10   2703846                         [Business Cycle]    3938542   \n",
      "11   2703830                                 [Choice]    3938542   \n",
      "12   4128513                            [Competition]    3938542   \n",
      "13   2703823                   [Economic Development]    3938542   \n",
      "14   2703840                    [Economic Indicators]    3938542   \n",
      "15   2703833  [Economic Policy / Government Services]    3938542   \n",
      "16   2703847                       [Entrepreneurship]    3938542   \n",
      "17   2703842             [Fiscal and Monetary Policy]    3938542   \n",
      "18   2703839                             [Incentives]    3938542   \n",
      "19   2703836                        [Interdependence]    3938542   \n",
      "20   2703831                      [Opportunity Costs]    3938542   \n",
      "21   2703829                       [Personal Finance]    3938542   \n",
      "22   2703822                           [Philosophies]    3938542   \n",
      "23   2703825                                  [Price]    3938542   \n",
      "24   2703834  [Production, Distribution, Consumption]    3938542   \n",
      "25   2703832                               [Scarcity]    3938542   \n",
      "26   4128514                         [Specialization]    3938542   \n",
      "27   2703824                      [Supply and Demand]    3938542   \n",
      "28   2703838                                  [Trade]    3938542   \n",
      "\n",
      "              Parent Text    Subject  \n",
      "0   [Economic Components]  Economics  \n",
      "1   [Economic Components]  Economics  \n",
      "2   [Economic Components]  Economics  \n",
      "3   [Economic Components]  Economics  \n",
      "4   [Economic Components]  Economics  \n",
      "5   [Economic Components]  Economics  \n",
      "6   [Economic Components]  Economics  \n",
      "7   [Economic Components]  Economics  \n",
      "8   [Economic Components]  Economics  \n",
      "9   [Economic Components]  Economics  \n",
      "10    [Economic Concepts]  Economics  \n",
      "11    [Economic Concepts]  Economics  \n",
      "12    [Economic Concepts]  Economics  \n",
      "13    [Economic Concepts]  Economics  \n",
      "14    [Economic Concepts]  Economics  \n",
      "15    [Economic Concepts]  Economics  \n",
      "16    [Economic Concepts]  Economics  \n",
      "17    [Economic Concepts]  Economics  \n",
      "18    [Economic Concepts]  Economics  \n",
      "19    [Economic Concepts]  Economics  \n",
      "20    [Economic Concepts]  Economics  \n",
      "21    [Economic Concepts]  Economics  \n",
      "22    [Economic Concepts]  Economics  \n",
      "23    [Economic Concepts]  Economics  \n",
      "24    [Economic Concepts]  Economics  \n",
      "25    [Economic Concepts]  Economics  \n",
      "26    [Economic Concepts]  Economics  \n",
      "27    [Economic Concepts]  Economics  \n",
      "28    [Economic Concepts]  Economics  \n"
     ]
    }
   ],
   "source": [
    "standards_list_df = pd.DataFrame(standards_list)\n",
    "print standards_list_df"
   ]
  },
  {
   "cell_type": "code",
   "execution_count": 25,
   "metadata": {
    "collapsed": false
   },
   "outputs": [],
   "source": [
    "#output to Excel\n",
    "output = subject + \"Export.xlsx\"\n",
    "\n",
    "writer = pd.ExcelWriter(output)\n",
    "standards_list_df.to_excel(writer, sheet_name='Sheet1')\n",
    "writer.save()"
   ]
  },
  {
   "cell_type": "code",
   "execution_count": null,
   "metadata": {
    "collapsed": true
   },
   "outputs": [],
   "source": []
  }
 ],
 "metadata": {
  "anaconda-cloud": {},
  "kernelspec": {
   "display_name": "Python [conda root]",
   "language": "python",
   "name": "conda-root-py"
  },
  "language_info": {
   "codemirror_mode": {
    "name": "ipython",
    "version": 2
   },
   "file_extension": ".py",
   "mimetype": "text/x-python",
   "name": "python",
   "nbconvert_exporter": "python",
   "pygments_lexer": "ipython2",
   "version": "2.7.12"
  }
 },
 "nbformat": 4,
 "nbformat_minor": 1
}
